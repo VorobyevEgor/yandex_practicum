{
 "cells": [
  {
   "cell_type": "markdown",
   "metadata": {},
   "source": [
    "# Выбор локации для скважины"
   ]
  },
  {
   "cell_type": "markdown",
   "metadata": {},
   "source": [
    "Допустим, вы работаете в добывающей компании «ГлавРосГосНефть». Нужно решить, где бурить новую скважину.\n",
    "\n",
    "Вам предоставлены пробы нефти в трёх регионах: в каждом 10 000 месторождений, где измерили качество нефти и объём её запасов. Постройте модель машинного обучения, которая поможет определить регион, где добыча принесёт наибольшую прибыль. Проанализируйте возможную прибыль и риски техникой *Bootstrap.*\n",
    "\n",
    "Шаги для выбора локации:\n",
    "\n",
    "- В избранном регионе ищут месторождения, для каждого определяют значения признаков;\n",
    "- Строят модель и оценивают объём запасов;\n",
    "- Выбирают месторождения с самым высокими оценками значений. Количество месторождений зависит от бюджета компании и стоимости разработки одной скважины;\n",
    "- Прибыль равна суммарной прибыли отобранных месторождений."
   ]
  },
  {
   "cell_type": "markdown",
   "metadata": {},
   "source": [
    "# Описание данных\n",
    "\n",
    "\n",
    "Данные геологоразведки трёх регионов находятся в файлах: \n",
    "- `/datasets/geo_data_0.csv.`\n",
    "- `/datasets/geo_data_1.csv.`\n",
    "- `/datasets/geo_data_2.csv.`\n",
    "\n",
    "- **id** — уникальный идентификатор скважины;\n",
    "- **f0, f1, f2** — три признака точек;\n",
    "- **product** — объём запасов в скважине (тыс. баррелей).\n",
    "\n",
    "\n",
    "***Условия задачи:***\n",
    "- Для обучения модели подходит только линейная регрессия.\n",
    "- При разведке региона исследуют 500 точек, из которых с помощью машинного обучения выбирают 200 лучших для разработки.\n",
    "- Бюджет на разработку скважин в регионе — 10 млрд рублей.\n",
    "- При нынешних ценах один баррель сырья приносит 450 рублей дохода. Доход с каждой единицы продукта составляет 450 тыс. рублей, поскольку объём указан в тысячах баррелей.\n",
    "- После оценки рисков нужно оставить лишь те регионы, в которых вероятность убытков меньше 2.5%. Среди них выбирают регион с наибольшей средней прибылью.\n",
    "- Данные синтетические: детали контрактов и характеристики месторождений не разглашаются."
   ]
  },
  {
   "cell_type": "markdown",
   "metadata": {},
   "source": [
    "## Загрузка и подготовка данных"
   ]
  },
  {
   "cell_type": "code",
   "execution_count": 1,
   "metadata": {},
   "outputs": [],
   "source": [
    "# Импортируем базы данных, которые пригодятся в нашем исследование\n",
    "import pandas as pd\n",
    "import numpy as np\n",
    "import matplotlib.pyplot as plt\n",
    "import seaborn as sns\n",
    "import plotly.express as px\n",
    "from copy import deepcopy\n",
    "from scipy import stats as st\n",
    "from sklearn.model_selection import train_test_split\n",
    "from sklearn.linear_model import LinearRegression\n",
    "from sklearn.metrics import mean_squared_error, r2_score, mean_absolute_error\n",
    "from sklearn.preprocessing import MinMaxScaler, StandardScaler\n",
    "from sklearn.utils import shuffle\n",
    "from numpy.random import RandomState"
   ]
  },
  {
   "cell_type": "code",
   "execution_count": 2,
   "metadata": {},
   "outputs": [
    {
     "data": {
      "text/html": [
       "<style>.container { width:90% !important; }</style>"
      ],
      "text/plain": [
       "<IPython.core.display.HTML object>"
      ]
     },
     "metadata": {},
     "output_type": "display_data"
    }
   ],
   "source": [
    "from IPython.core.display import display, HTML\n",
    "display(HTML(\"<style>.container { width:90% !important; }</style>\"))"
   ]
  },
  {
   "cell_type": "markdown",
   "metadata": {},
   "source": [
    "**CSV-файлы с данными**\n",
    "\n",
    " - Данные по первому региону — geo_data_0.csv\n",
    " - по второму региону — geo_data_1.csv\n",
    " - по третьему — geo_data_2.csv"
   ]
  },
  {
   "cell_type": "code",
   "execution_count": 2,
   "metadata": {},
   "outputs": [],
   "source": [
    "# Прочитаем файлы и сохраним в датафреймы\n",
    "first_data = pd.read_csv('/datasets/geo_data_0.csv')\n",
    "second_data = pd.read_csv('/datasets/geo_data_1.csv')\n",
    "third_data = pd.read_csv('/datasets/geo_data_2.csv')"
   ]
  },
  {
   "cell_type": "code",
   "execution_count": 4,
   "metadata": {
    "scrolled": false
   },
   "outputs": [],
   "source": [
    "# Сделаем функцию для знакомства с данными геологоразведки\n",
    "def information(data):\n",
    "\n",
    "# Посмотрим основную информацию датафрейма\n",
    "    display(data.info(), data.describe(include='all').T.round(2), data.head())\n",
    "\n",
    "# Посмотрим кол-во дубликатов\n",
    "    print('Кол-во дубликатов', data.duplicated().sum())\n",
    "\n",
    "# Проверим кол-во пропусков в столбцах датафрейма\n",
    "    print('Кол-во пропусков в столбцах', '\\n', data.isna().sum())\n",
    "    \n",
    "# Построим общую гистограмму для всех столбцов таблицы\n",
    "    data.hist(figsize=(10, 6))\n",
    "    plt.show()    "
   ]
  },
  {
   "cell_type": "code",
   "execution_count": 5,
   "metadata": {
    "scrolled": false
   },
   "outputs": [
    {
     "name": "stdout",
     "output_type": "stream",
     "text": [
      "<class 'pandas.core.frame.DataFrame'>\n",
      "RangeIndex: 100000 entries, 0 to 99999\n",
      "Data columns (total 5 columns):\n",
      " #   Column   Non-Null Count   Dtype  \n",
      "---  ------   --------------   -----  \n",
      " 0   id       100000 non-null  object \n",
      " 1   f0       100000 non-null  float64\n",
      " 2   f1       100000 non-null  float64\n",
      " 3   f2       100000 non-null  float64\n",
      " 4   product  100000 non-null  float64\n",
      "dtypes: float64(4), object(1)\n",
      "memory usage: 3.8+ MB\n"
     ]
    },
    {
     "data": {
      "text/plain": [
       "None"
      ]
     },
     "metadata": {},
     "output_type": "display_data"
    },
    {
     "data": {
      "text/html": [
       "<div>\n",
       "<style scoped>\n",
       "    .dataframe tbody tr th:only-of-type {\n",
       "        vertical-align: middle;\n",
       "    }\n",
       "\n",
       "    .dataframe tbody tr th {\n",
       "        vertical-align: top;\n",
       "    }\n",
       "\n",
       "    .dataframe thead th {\n",
       "        text-align: right;\n",
       "    }\n",
       "</style>\n",
       "<table border=\"1\" class=\"dataframe\">\n",
       "  <thead>\n",
       "    <tr style=\"text-align: right;\">\n",
       "      <th></th>\n",
       "      <th>count</th>\n",
       "      <th>unique</th>\n",
       "      <th>top</th>\n",
       "      <th>freq</th>\n",
       "      <th>mean</th>\n",
       "      <th>std</th>\n",
       "      <th>min</th>\n",
       "      <th>25%</th>\n",
       "      <th>50%</th>\n",
       "      <th>75%</th>\n",
       "      <th>max</th>\n",
       "    </tr>\n",
       "  </thead>\n",
       "  <tbody>\n",
       "    <tr>\n",
       "      <th>id</th>\n",
       "      <td>100000</td>\n",
       "      <td>99990</td>\n",
       "      <td>A5aEY</td>\n",
       "      <td>2</td>\n",
       "      <td>NaN</td>\n",
       "      <td>NaN</td>\n",
       "      <td>NaN</td>\n",
       "      <td>NaN</td>\n",
       "      <td>NaN</td>\n",
       "      <td>NaN</td>\n",
       "      <td>NaN</td>\n",
       "    </tr>\n",
       "    <tr>\n",
       "      <th>f0</th>\n",
       "      <td>100000.0</td>\n",
       "      <td>NaN</td>\n",
       "      <td>NaN</td>\n",
       "      <td>NaN</td>\n",
       "      <td>0.500419</td>\n",
       "      <td>0.871832</td>\n",
       "      <td>-1.408605</td>\n",
       "      <td>-0.07258</td>\n",
       "      <td>0.50236</td>\n",
       "      <td>1.073581</td>\n",
       "      <td>2.362331</td>\n",
       "    </tr>\n",
       "    <tr>\n",
       "      <th>f1</th>\n",
       "      <td>100000.0</td>\n",
       "      <td>NaN</td>\n",
       "      <td>NaN</td>\n",
       "      <td>NaN</td>\n",
       "      <td>0.250143</td>\n",
       "      <td>0.504433</td>\n",
       "      <td>-0.848218</td>\n",
       "      <td>-0.200881</td>\n",
       "      <td>0.250252</td>\n",
       "      <td>0.700646</td>\n",
       "      <td>1.343769</td>\n",
       "    </tr>\n",
       "    <tr>\n",
       "      <th>f2</th>\n",
       "      <td>100000.0</td>\n",
       "      <td>NaN</td>\n",
       "      <td>NaN</td>\n",
       "      <td>NaN</td>\n",
       "      <td>2.502647</td>\n",
       "      <td>3.248248</td>\n",
       "      <td>-12.088328</td>\n",
       "      <td>0.287748</td>\n",
       "      <td>2.515969</td>\n",
       "      <td>4.715088</td>\n",
       "      <td>16.00379</td>\n",
       "    </tr>\n",
       "    <tr>\n",
       "      <th>product</th>\n",
       "      <td>100000.0</td>\n",
       "      <td>NaN</td>\n",
       "      <td>NaN</td>\n",
       "      <td>NaN</td>\n",
       "      <td>92.5</td>\n",
       "      <td>44.288691</td>\n",
       "      <td>0.0</td>\n",
       "      <td>56.497507</td>\n",
       "      <td>91.849972</td>\n",
       "      <td>128.564089</td>\n",
       "      <td>185.364347</td>\n",
       "    </tr>\n",
       "  </tbody>\n",
       "</table>\n",
       "</div>"
      ],
      "text/plain": [
       "            count unique    top freq      mean        std        min  \\\n",
       "id         100000  99990  A5aEY    2       NaN        NaN        NaN   \n",
       "f0       100000.0    NaN    NaN  NaN  0.500419   0.871832  -1.408605   \n",
       "f1       100000.0    NaN    NaN  NaN  0.250143   0.504433  -0.848218   \n",
       "f2       100000.0    NaN    NaN  NaN  2.502647   3.248248 -12.088328   \n",
       "product  100000.0    NaN    NaN  NaN      92.5  44.288691        0.0   \n",
       "\n",
       "               25%        50%         75%         max  \n",
       "id             NaN        NaN         NaN         NaN  \n",
       "f0        -0.07258    0.50236    1.073581    2.362331  \n",
       "f1       -0.200881   0.250252    0.700646    1.343769  \n",
       "f2        0.287748   2.515969    4.715088    16.00379  \n",
       "product  56.497507  91.849972  128.564089  185.364347  "
      ]
     },
     "metadata": {},
     "output_type": "display_data"
    },
    {
     "data": {
      "text/html": [
       "<div>\n",
       "<style scoped>\n",
       "    .dataframe tbody tr th:only-of-type {\n",
       "        vertical-align: middle;\n",
       "    }\n",
       "\n",
       "    .dataframe tbody tr th {\n",
       "        vertical-align: top;\n",
       "    }\n",
       "\n",
       "    .dataframe thead th {\n",
       "        text-align: right;\n",
       "    }\n",
       "</style>\n",
       "<table border=\"1\" class=\"dataframe\">\n",
       "  <thead>\n",
       "    <tr style=\"text-align: right;\">\n",
       "      <th></th>\n",
       "      <th>id</th>\n",
       "      <th>f0</th>\n",
       "      <th>f1</th>\n",
       "      <th>f2</th>\n",
       "      <th>product</th>\n",
       "    </tr>\n",
       "  </thead>\n",
       "  <tbody>\n",
       "    <tr>\n",
       "      <th>0</th>\n",
       "      <td>txEyH</td>\n",
       "      <td>0.705745</td>\n",
       "      <td>-0.497823</td>\n",
       "      <td>1.221170</td>\n",
       "      <td>105.280062</td>\n",
       "    </tr>\n",
       "    <tr>\n",
       "      <th>1</th>\n",
       "      <td>2acmU</td>\n",
       "      <td>1.334711</td>\n",
       "      <td>-0.340164</td>\n",
       "      <td>4.365080</td>\n",
       "      <td>73.037750</td>\n",
       "    </tr>\n",
       "    <tr>\n",
       "      <th>2</th>\n",
       "      <td>409Wp</td>\n",
       "      <td>1.022732</td>\n",
       "      <td>0.151990</td>\n",
       "      <td>1.419926</td>\n",
       "      <td>85.265647</td>\n",
       "    </tr>\n",
       "    <tr>\n",
       "      <th>3</th>\n",
       "      <td>iJLyR</td>\n",
       "      <td>-0.032172</td>\n",
       "      <td>0.139033</td>\n",
       "      <td>2.978566</td>\n",
       "      <td>168.620776</td>\n",
       "    </tr>\n",
       "    <tr>\n",
       "      <th>4</th>\n",
       "      <td>Xdl7t</td>\n",
       "      <td>1.988431</td>\n",
       "      <td>0.155413</td>\n",
       "      <td>4.751769</td>\n",
       "      <td>154.036647</td>\n",
       "    </tr>\n",
       "  </tbody>\n",
       "</table>\n",
       "</div>"
      ],
      "text/plain": [
       "      id        f0        f1        f2     product\n",
       "0  txEyH  0.705745 -0.497823  1.221170  105.280062\n",
       "1  2acmU  1.334711 -0.340164  4.365080   73.037750\n",
       "2  409Wp  1.022732  0.151990  1.419926   85.265647\n",
       "3  iJLyR -0.032172  0.139033  2.978566  168.620776\n",
       "4  Xdl7t  1.988431  0.155413  4.751769  154.036647"
      ]
     },
     "metadata": {},
     "output_type": "display_data"
    },
    {
     "name": "stdout",
     "output_type": "stream",
     "text": [
      "Кол-во дубликатов 0\n",
      "Кол-во пропусков в столбцах \n",
      " id         0\n",
      "f0         0\n",
      "f1         0\n",
      "f2         0\n",
      "product    0\n",
      "dtype: int64\n"
     ]
    },
    {
     "data": {
      "image/png": "[encoded data removed]",
      "text/plain": [
       "<Figure size 720x432 with 4 Axes>"
      ]
     },
     "metadata": {
      "needs_background": "light"
     },
     "output_type": "display_data"
    }
   ],
   "source": [
    "# Информация по первому региону\n",
    "information(first_data)"
   ]
  },
  {
   "cell_type": "markdown",
   "metadata": {},
   "source": [
    "В датафрейме по первому региону сто тысяч строк. Столбцы названы в нижнем регистре. Пропуски в столбцах отсутсвуют, явных дубликатов нет. Формат столбцов - десятичный (числа с плавающей точкой), кроме 'id' - строковый тип, т.к. уникальный индификатор скважины. При этом есть дублирование уникального индификатора - посмотрим подробнее.\n",
    "\n",
    "Относительно распределения:\n",
    "- первый признак точки (f0) - значение среднего и медианы приблизительно равны. Большая часть признаков распределена от -1 до -0,7; от -0,2 до 1,1 и от 1,6 до 2.\n",
    "- второй признак точки (f1) - значение среднего и медианы так же приблизительно равны. Распределение относительно первой точки более равномерное, есть небольшие просадки в диапазоне от -0,25 до 0 и от 0,49 до 0,7.\n",
    "- третий признак точки (f2) - так же значение среднего и медианы приблизительно равны. Распределение нормальное. Пик приходится на значения от 2,5 до 4,9. Значения меньше -9 и больше 13 похожи на выбросы.\n",
    "- объём запасов в скважине - Нормальное распределение. Основная часть объема запаса находится в диапазоне от 20 тыс. баррелей до 165 тыс. баррелей."
   ]
  },
  {
   "cell_type": "code",
   "execution_count": 6,
   "metadata": {
    "scrolled": false
   },
   "outputs": [
    {
     "data": {
      "text/html": [
       "<div>\n",
       "<style scoped>\n",
       "    .dataframe tbody tr th:only-of-type {\n",
       "        vertical-align: middle;\n",
       "    }\n",
       "\n",
       "    .dataframe tbody tr th {\n",
       "        vertical-align: top;\n",
       "    }\n",
       "\n",
       "    .dataframe thead th {\n",
       "        text-align: right;\n",
       "    }\n",
       "</style>\n",
       "<table border=\"1\" class=\"dataframe\">\n",
       "  <thead>\n",
       "    <tr style=\"text-align: right;\">\n",
       "      <th></th>\n",
       "      <th>id</th>\n",
       "      <th>f0</th>\n",
       "      <th>f1</th>\n",
       "      <th>f2</th>\n",
       "      <th>product</th>\n",
       "    </tr>\n",
       "  </thead>\n",
       "  <tbody>\n",
       "    <tr>\n",
       "      <th>66136</th>\n",
       "      <td>74z30</td>\n",
       "      <td>1.084962</td>\n",
       "      <td>-0.312358</td>\n",
       "      <td>6.990771</td>\n",
       "      <td>127.643327</td>\n",
       "    </tr>\n",
       "    <tr>\n",
       "      <th>64022</th>\n",
       "      <td>74z30</td>\n",
       "      <td>0.741456</td>\n",
       "      <td>0.459229</td>\n",
       "      <td>5.153109</td>\n",
       "      <td>140.771492</td>\n",
       "    </tr>\n",
       "    <tr>\n",
       "      <th>51970</th>\n",
       "      <td>A5aEY</td>\n",
       "      <td>-0.180335</td>\n",
       "      <td>0.935548</td>\n",
       "      <td>-2.094773</td>\n",
       "      <td>33.020205</td>\n",
       "    </tr>\n",
       "    <tr>\n",
       "      <th>3389</th>\n",
       "      <td>A5aEY</td>\n",
       "      <td>-0.039949</td>\n",
       "      <td>0.156872</td>\n",
       "      <td>0.209861</td>\n",
       "      <td>89.249364</td>\n",
       "    </tr>\n",
       "    <tr>\n",
       "      <th>69163</th>\n",
       "      <td>AGS9W</td>\n",
       "      <td>-0.933795</td>\n",
       "      <td>0.116194</td>\n",
       "      <td>-3.655896</td>\n",
       "      <td>19.230453</td>\n",
       "    </tr>\n",
       "    <tr>\n",
       "      <th>42529</th>\n",
       "      <td>AGS9W</td>\n",
       "      <td>1.454747</td>\n",
       "      <td>-0.479651</td>\n",
       "      <td>0.683380</td>\n",
       "      <td>126.370504</td>\n",
       "    </tr>\n",
       "    <tr>\n",
       "      <th>931</th>\n",
       "      <td>HZww2</td>\n",
       "      <td>0.755284</td>\n",
       "      <td>0.368511</td>\n",
       "      <td>1.863211</td>\n",
       "      <td>30.681774</td>\n",
       "    </tr>\n",
       "    <tr>\n",
       "      <th>7530</th>\n",
       "      <td>HZww2</td>\n",
       "      <td>1.061194</td>\n",
       "      <td>-0.373969</td>\n",
       "      <td>10.430210</td>\n",
       "      <td>158.828695</td>\n",
       "    </tr>\n",
       "    <tr>\n",
       "      <th>63593</th>\n",
       "      <td>QcMuo</td>\n",
       "      <td>0.635635</td>\n",
       "      <td>-0.473422</td>\n",
       "      <td>0.862670</td>\n",
       "      <td>64.578675</td>\n",
       "    </tr>\n",
       "    <tr>\n",
       "      <th>1949</th>\n",
       "      <td>QcMuo</td>\n",
       "      <td>0.506563</td>\n",
       "      <td>-0.323775</td>\n",
       "      <td>-2.215583</td>\n",
       "      <td>75.496502</td>\n",
       "    </tr>\n",
       "    <tr>\n",
       "      <th>75715</th>\n",
       "      <td>Tdehs</td>\n",
       "      <td>0.112079</td>\n",
       "      <td>0.430296</td>\n",
       "      <td>3.218993</td>\n",
       "      <td>60.964018</td>\n",
       "    </tr>\n",
       "    <tr>\n",
       "      <th>21426</th>\n",
       "      <td>Tdehs</td>\n",
       "      <td>0.829407</td>\n",
       "      <td>0.298807</td>\n",
       "      <td>-0.049563</td>\n",
       "      <td>96.035308</td>\n",
       "    </tr>\n",
       "    <tr>\n",
       "      <th>92341</th>\n",
       "      <td>TtcGQ</td>\n",
       "      <td>0.110711</td>\n",
       "      <td>1.022689</td>\n",
       "      <td>0.911381</td>\n",
       "      <td>101.318008</td>\n",
       "    </tr>\n",
       "    <tr>\n",
       "      <th>60140</th>\n",
       "      <td>TtcGQ</td>\n",
       "      <td>0.569276</td>\n",
       "      <td>-0.104876</td>\n",
       "      <td>6.440215</td>\n",
       "      <td>85.350186</td>\n",
       "    </tr>\n",
       "    <tr>\n",
       "      <th>89582</th>\n",
       "      <td>bsk9y</td>\n",
       "      <td>0.398908</td>\n",
       "      <td>-0.400253</td>\n",
       "      <td>10.122376</td>\n",
       "      <td>163.433078</td>\n",
       "    </tr>\n",
       "    <tr>\n",
       "      <th>97785</th>\n",
       "      <td>bsk9y</td>\n",
       "      <td>0.378429</td>\n",
       "      <td>0.005837</td>\n",
       "      <td>0.160827</td>\n",
       "      <td>160.637302</td>\n",
       "    </tr>\n",
       "    <tr>\n",
       "      <th>41724</th>\n",
       "      <td>bxg6G</td>\n",
       "      <td>-0.823752</td>\n",
       "      <td>0.546319</td>\n",
       "      <td>3.630479</td>\n",
       "      <td>93.007798</td>\n",
       "    </tr>\n",
       "    <tr>\n",
       "      <th>1364</th>\n",
       "      <td>bxg6G</td>\n",
       "      <td>0.411645</td>\n",
       "      <td>0.856830</td>\n",
       "      <td>-3.653440</td>\n",
       "      <td>73.604260</td>\n",
       "    </tr>\n",
       "    <tr>\n",
       "      <th>16633</th>\n",
       "      <td>fiKDv</td>\n",
       "      <td>0.157341</td>\n",
       "      <td>1.028359</td>\n",
       "      <td>5.585586</td>\n",
       "      <td>95.817889</td>\n",
       "    </tr>\n",
       "    <tr>\n",
       "      <th>90815</th>\n",
       "      <td>fiKDv</td>\n",
       "      <td>0.049883</td>\n",
       "      <td>0.841313</td>\n",
       "      <td>6.394613</td>\n",
       "      <td>137.346586</td>\n",
       "    </tr>\n",
       "  </tbody>\n",
       "</table>\n",
       "</div>"
      ],
      "text/plain": [
       "          id        f0        f1         f2     product\n",
       "66136  74z30  1.084962 -0.312358   6.990771  127.643327\n",
       "64022  74z30  0.741456  0.459229   5.153109  140.771492\n",
       "51970  A5aEY -0.180335  0.935548  -2.094773   33.020205\n",
       "3389   A5aEY -0.039949  0.156872   0.209861   89.249364\n",
       "69163  AGS9W -0.933795  0.116194  -3.655896   19.230453\n",
       "42529  AGS9W  1.454747 -0.479651   0.683380  126.370504\n",
       "931    HZww2  0.755284  0.368511   1.863211   30.681774\n",
       "7530   HZww2  1.061194 -0.373969  10.430210  158.828695\n",
       "63593  QcMuo  0.635635 -0.473422   0.862670   64.578675\n",
       "1949   QcMuo  0.506563 -0.323775  -2.215583   75.496502\n",
       "75715  Tdehs  0.112079  0.430296   3.218993   60.964018\n",
       "21426  Tdehs  0.829407  0.298807  -0.049563   96.035308\n",
       "92341  TtcGQ  0.110711  1.022689   0.911381  101.318008\n",
       "60140  TtcGQ  0.569276 -0.104876   6.440215   85.350186\n",
       "89582  bsk9y  0.398908 -0.400253  10.122376  163.433078\n",
       "97785  bsk9y  0.378429  0.005837   0.160827  160.637302\n",
       "41724  bxg6G -0.823752  0.546319   3.630479   93.007798\n",
       "1364   bxg6G  0.411645  0.856830  -3.653440   73.604260\n",
       "16633  fiKDv  0.157341  1.028359   5.585586   95.817889\n",
       "90815  fiKDv  0.049883  0.841313   6.394613  137.346586"
      ]
     },
     "execution_count": 6,
     "metadata": {},
     "output_type": "execute_result"
    }
   ],
   "source": [
    "# Посмотрим детальнее на дублированные уникальыне индификаторы\n",
    "first_data[first_data.duplicated(['id'], keep=False)].sort_values('id')"
   ]
  },
  {
   "cell_type": "markdown",
   "metadata": {},
   "source": [
    "Так как данные столбцов f0, f1, f2 и product не повторяются для дублированных значений id, то \"задвоенные\" строки мы удалять не будем, потмоу что не знаем ошибочные это данные или с корректной информацией. Будем использовать в обучение модели."
   ]
  },
  {
   "cell_type": "code",
   "execution_count": 7,
   "metadata": {},
   "outputs": [
    {
     "name": "stdout",
     "output_type": "stream",
     "text": [
      "<class 'pandas.core.frame.DataFrame'>\n",
      "RangeIndex: 100000 entries, 0 to 99999\n",
      "Data columns (total 5 columns):\n",
      " #   Column   Non-Null Count   Dtype  \n",
      "---  ------   --------------   -----  \n",
      " 0   id       100000 non-null  object \n",
      " 1   f0       100000 non-null  float64\n",
      " 2   f1       100000 non-null  float64\n",
      " 3   f2       100000 non-null  float64\n",
      " 4   product  100000 non-null  float64\n",
      "dtypes: float64(4), object(1)\n",
      "memory usage: 3.8+ MB\n"
     ]
    },
    {
     "data": {
      "text/plain": [
       "None"
      ]
     },
     "metadata": {},
     "output_type": "display_data"
    },
    {
     "data": {
      "text/html": [
       "<div>\n",
       "<style scoped>\n",
       "    .dataframe tbody tr th:only-of-type {\n",
       "        vertical-align: middle;\n",
       "    }\n",
       "\n",
       "    .dataframe tbody tr th {\n",
       "        vertical-align: top;\n",
       "    }\n",
       "\n",
       "    .dataframe thead th {\n",
       "        text-align: right;\n",
       "    }\n",
       "</style>\n",
       "<table border=\"1\" class=\"dataframe\">\n",
       "  <thead>\n",
       "    <tr style=\"text-align: right;\">\n",
       "      <th></th>\n",
       "      <th>count</th>\n",
       "      <th>unique</th>\n",
       "      <th>top</th>\n",
       "      <th>freq</th>\n",
       "      <th>mean</th>\n",
       "      <th>std</th>\n",
       "      <th>min</th>\n",
       "      <th>25%</th>\n",
       "      <th>50%</th>\n",
       "      <th>75%</th>\n",
       "      <th>max</th>\n",
       "    </tr>\n",
       "  </thead>\n",
       "  <tbody>\n",
       "    <tr>\n",
       "      <th>id</th>\n",
       "      <td>100000</td>\n",
       "      <td>99996</td>\n",
       "      <td>wt4Uk</td>\n",
       "      <td>2</td>\n",
       "      <td>NaN</td>\n",
       "      <td>NaN</td>\n",
       "      <td>NaN</td>\n",
       "      <td>NaN</td>\n",
       "      <td>NaN</td>\n",
       "      <td>NaN</td>\n",
       "      <td>NaN</td>\n",
       "    </tr>\n",
       "    <tr>\n",
       "      <th>f0</th>\n",
       "      <td>100000.0</td>\n",
       "      <td>NaN</td>\n",
       "      <td>NaN</td>\n",
       "      <td>NaN</td>\n",
       "      <td>1.141296</td>\n",
       "      <td>8.965932</td>\n",
       "      <td>-31.609576</td>\n",
       "      <td>-6.298551</td>\n",
       "      <td>1.153055</td>\n",
       "      <td>8.621015</td>\n",
       "      <td>29.421755</td>\n",
       "    </tr>\n",
       "    <tr>\n",
       "      <th>f1</th>\n",
       "      <td>100000.0</td>\n",
       "      <td>NaN</td>\n",
       "      <td>NaN</td>\n",
       "      <td>NaN</td>\n",
       "      <td>-4.796579</td>\n",
       "      <td>5.119872</td>\n",
       "      <td>-26.358598</td>\n",
       "      <td>-8.267985</td>\n",
       "      <td>-4.813172</td>\n",
       "      <td>-1.332816</td>\n",
       "      <td>18.734063</td>\n",
       "    </tr>\n",
       "    <tr>\n",
       "      <th>f2</th>\n",
       "      <td>100000.0</td>\n",
       "      <td>NaN</td>\n",
       "      <td>NaN</td>\n",
       "      <td>NaN</td>\n",
       "      <td>2.494541</td>\n",
       "      <td>1.703572</td>\n",
       "      <td>-0.018144</td>\n",
       "      <td>1.000021</td>\n",
       "      <td>2.011479</td>\n",
       "      <td>3.999904</td>\n",
       "      <td>5.019721</td>\n",
       "    </tr>\n",
       "    <tr>\n",
       "      <th>product</th>\n",
       "      <td>100000.0</td>\n",
       "      <td>NaN</td>\n",
       "      <td>NaN</td>\n",
       "      <td>NaN</td>\n",
       "      <td>68.825</td>\n",
       "      <td>45.944423</td>\n",
       "      <td>0.0</td>\n",
       "      <td>26.953261</td>\n",
       "      <td>57.085625</td>\n",
       "      <td>107.813044</td>\n",
       "      <td>137.945408</td>\n",
       "    </tr>\n",
       "  </tbody>\n",
       "</table>\n",
       "</div>"
      ],
      "text/plain": [
       "            count unique    top freq      mean        std        min  \\\n",
       "id         100000  99996  wt4Uk    2       NaN        NaN        NaN   \n",
       "f0       100000.0    NaN    NaN  NaN  1.141296   8.965932 -31.609576   \n",
       "f1       100000.0    NaN    NaN  NaN -4.796579   5.119872 -26.358598   \n",
       "f2       100000.0    NaN    NaN  NaN  2.494541   1.703572  -0.018144   \n",
       "product  100000.0    NaN    NaN  NaN    68.825  45.944423        0.0   \n",
       "\n",
       "               25%        50%         75%         max  \n",
       "id             NaN        NaN         NaN         NaN  \n",
       "f0       -6.298551   1.153055    8.621015   29.421755  \n",
       "f1       -8.267985  -4.813172   -1.332816   18.734063  \n",
       "f2        1.000021   2.011479    3.999904    5.019721  \n",
       "product  26.953261  57.085625  107.813044  137.945408  "
      ]
     },
     "metadata": {},
     "output_type": "display_data"
    },
    {
     "data": {
      "text/html": [
       "<div>\n",
       "<style scoped>\n",
       "    .dataframe tbody tr th:only-of-type {\n",
       "        vertical-align: middle;\n",
       "    }\n",
       "\n",
       "    .dataframe tbody tr th {\n",
       "        vertical-align: top;\n",
       "    }\n",
       "\n",
       "    .dataframe thead th {\n",
       "        text-align: right;\n",
       "    }\n",
       "</style>\n",
       "<table border=\"1\" class=\"dataframe\">\n",
       "  <thead>\n",
       "    <tr style=\"text-align: right;\">\n",
       "      <th></th>\n",
       "      <th>id</th>\n",
       "      <th>f0</th>\n",
       "      <th>f1</th>\n",
       "      <th>f2</th>\n",
       "      <th>product</th>\n",
       "    </tr>\n",
       "  </thead>\n",
       "  <tbody>\n",
       "    <tr>\n",
       "      <th>0</th>\n",
       "      <td>kBEdx</td>\n",
       "      <td>-15.001348</td>\n",
       "      <td>-8.276000</td>\n",
       "      <td>-0.005876</td>\n",
       "      <td>3.179103</td>\n",
       "    </tr>\n",
       "    <tr>\n",
       "      <th>1</th>\n",
       "      <td>62mP7</td>\n",
       "      <td>14.272088</td>\n",
       "      <td>-3.475083</td>\n",
       "      <td>0.999183</td>\n",
       "      <td>26.953261</td>\n",
       "    </tr>\n",
       "    <tr>\n",
       "      <th>2</th>\n",
       "      <td>vyE1P</td>\n",
       "      <td>6.263187</td>\n",
       "      <td>-5.948386</td>\n",
       "      <td>5.001160</td>\n",
       "      <td>134.766305</td>\n",
       "    </tr>\n",
       "    <tr>\n",
       "      <th>3</th>\n",
       "      <td>KcrkZ</td>\n",
       "      <td>-13.081196</td>\n",
       "      <td>-11.506057</td>\n",
       "      <td>4.999415</td>\n",
       "      <td>137.945408</td>\n",
       "    </tr>\n",
       "    <tr>\n",
       "      <th>4</th>\n",
       "      <td>AHL4O</td>\n",
       "      <td>12.702195</td>\n",
       "      <td>-8.147433</td>\n",
       "      <td>5.004363</td>\n",
       "      <td>134.766305</td>\n",
       "    </tr>\n",
       "  </tbody>\n",
       "</table>\n",
       "</div>"
      ],
      "text/plain": [
       "      id         f0         f1        f2     product\n",
       "0  kBEdx -15.001348  -8.276000 -0.005876    3.179103\n",
       "1  62mP7  14.272088  -3.475083  0.999183   26.953261\n",
       "2  vyE1P   6.263187  -5.948386  5.001160  134.766305\n",
       "3  KcrkZ -13.081196 -11.506057  4.999415  137.945408\n",
       "4  AHL4O  12.702195  -8.147433  5.004363  134.766305"
      ]
     },
     "metadata": {},
     "output_type": "display_data"
    },
    {
     "name": "stdout",
     "output_type": "stream",
     "text": [
      "Кол-во дубликатов 0\n",
      "Кол-во пропусков в столбцах \n",
      " id         0\n",
      "f0         0\n",
      "f1         0\n",
      "f2         0\n",
      "product    0\n",
      "dtype: int64\n"
     ]
    },
    {
     "data": {
      "image/png": "[encoded data removed]",
      "text/plain": [
       "<Figure size 720x432 with 4 Axes>"
      ]
     },
     "metadata": {
      "needs_background": "light"
     },
     "output_type": "display_data"
    }
   ],
   "source": [
    "# Информация по второму региону\n",
    "information(second_data)"
   ]
  },
  {
   "cell_type": "markdown",
   "metadata": {},
   "source": [
    "Как и в первом датафрейме во втором регионе сто тысяч строк. Основная информация аналогичная: название столбцов такое же, пропуски отсутсвуют, явных дубликатов нет, формат столбцов такой же. Присутсвует дублирование уникального индификатора.\n",
    "\n",
    "Относительно распределения:\n",
    "- первый признак точки (f0) - значение среднего и медианы приблизительно равны, различие в одну сотую. Большая часть признаков распределена от -12 до 18; Два пика: от -6 до -1 и в диапазоне от 6 до 10. Значения меньше -26 и больше 22 похожи на выбросы.\n",
    "- второй признак точки (f1) - значение среднего и медианы так же приблизительно равны. Распределение нормальное. Максимальная часть признаков приходится на значения от -9 до -5. Основная часть распределена от -12 до 5. Значения меньше -21 и больше 10 похожи на выбросы.\n",
    "- третий признак точки (f2) - значение среднего и медианы различаются ~ 0,5. Распределение равномерное между значениями 0-0.5, 1-1.5, 3.5-4, 4.5-5. Значения в отрезке от 2 до 3 чуть просидает по кол-ву признаков, но он более плотный.\n",
    "- объём запасов в скважине - Сильное различик медианного и среднего значений. Диапазон от 16 тыс. баррелей до 124 тыс. баррелей распределен равномерно. Пики значений приходтся на запасы до 16 тыс. баррелей и от 124 тыс. до 138 тыс. баррелей."
   ]
  },
  {
   "cell_type": "code",
   "execution_count": 8,
   "metadata": {},
   "outputs": [
    {
     "data": {
      "text/html": [
       "<div>\n",
       "<style scoped>\n",
       "    .dataframe tbody tr th:only-of-type {\n",
       "        vertical-align: middle;\n",
       "    }\n",
       "\n",
       "    .dataframe tbody tr th {\n",
       "        vertical-align: top;\n",
       "    }\n",
       "\n",
       "    .dataframe thead th {\n",
       "        text-align: right;\n",
       "    }\n",
       "</style>\n",
       "<table border=\"1\" class=\"dataframe\">\n",
       "  <thead>\n",
       "    <tr style=\"text-align: right;\">\n",
       "      <th></th>\n",
       "      <th>id</th>\n",
       "      <th>f0</th>\n",
       "      <th>f1</th>\n",
       "      <th>f2</th>\n",
       "      <th>product</th>\n",
       "    </tr>\n",
       "  </thead>\n",
       "  <tbody>\n",
       "    <tr>\n",
       "      <th>5849</th>\n",
       "      <td>5ltQ6</td>\n",
       "      <td>-3.435401</td>\n",
       "      <td>-12.296043</td>\n",
       "      <td>1.999796</td>\n",
       "      <td>57.085625</td>\n",
       "    </tr>\n",
       "    <tr>\n",
       "      <th>84461</th>\n",
       "      <td>5ltQ6</td>\n",
       "      <td>18.213839</td>\n",
       "      <td>2.191999</td>\n",
       "      <td>3.993869</td>\n",
       "      <td>107.813044</td>\n",
       "    </tr>\n",
       "    <tr>\n",
       "      <th>1305</th>\n",
       "      <td>LHZR0</td>\n",
       "      <td>11.170835</td>\n",
       "      <td>-1.945066</td>\n",
       "      <td>3.002872</td>\n",
       "      <td>80.859783</td>\n",
       "    </tr>\n",
       "    <tr>\n",
       "      <th>41906</th>\n",
       "      <td>LHZR0</td>\n",
       "      <td>-8.989672</td>\n",
       "      <td>-4.286607</td>\n",
       "      <td>2.009139</td>\n",
       "      <td>57.085625</td>\n",
       "    </tr>\n",
       "    <tr>\n",
       "      <th>2721</th>\n",
       "      <td>bfPNe</td>\n",
       "      <td>-9.494442</td>\n",
       "      <td>-5.463692</td>\n",
       "      <td>4.006042</td>\n",
       "      <td>110.992147</td>\n",
       "    </tr>\n",
       "    <tr>\n",
       "      <th>82178</th>\n",
       "      <td>bfPNe</td>\n",
       "      <td>-6.202799</td>\n",
       "      <td>-4.820045</td>\n",
       "      <td>2.995107</td>\n",
       "      <td>84.038886</td>\n",
       "    </tr>\n",
       "    <tr>\n",
       "      <th>47591</th>\n",
       "      <td>wt4Uk</td>\n",
       "      <td>-9.091098</td>\n",
       "      <td>-8.109279</td>\n",
       "      <td>-0.002314</td>\n",
       "      <td>3.179103</td>\n",
       "    </tr>\n",
       "    <tr>\n",
       "      <th>82873</th>\n",
       "      <td>wt4Uk</td>\n",
       "      <td>10.259972</td>\n",
       "      <td>-9.376355</td>\n",
       "      <td>4.994297</td>\n",
       "      <td>134.766305</td>\n",
       "    </tr>\n",
       "  </tbody>\n",
       "</table>\n",
       "</div>"
      ],
      "text/plain": [
       "          id         f0         f1        f2     product\n",
       "5849   5ltQ6  -3.435401 -12.296043  1.999796   57.085625\n",
       "84461  5ltQ6  18.213839   2.191999  3.993869  107.813044\n",
       "1305   LHZR0  11.170835  -1.945066  3.002872   80.859783\n",
       "41906  LHZR0  -8.989672  -4.286607  2.009139   57.085625\n",
       "2721   bfPNe  -9.494442  -5.463692  4.006042  110.992147\n",
       "82178  bfPNe  -6.202799  -4.820045  2.995107   84.038886\n",
       "47591  wt4Uk  -9.091098  -8.109279 -0.002314    3.179103\n",
       "82873  wt4Uk  10.259972  -9.376355  4.994297  134.766305"
      ]
     },
     "execution_count": 8,
     "metadata": {},
     "output_type": "execute_result"
    }
   ],
   "source": [
    "# Посмотрим детальнее на дублированные уникальыне индификаторы\n",
    "second_data[second_data.duplicated(['id'], keep=False)].sort_values('id')"
   ]
  },
  {
   "cell_type": "markdown",
   "metadata": {},
   "source": [
    "Аналогичная ситуация как в первом регионе. Данные оставляем."
   ]
  },
  {
   "cell_type": "code",
   "execution_count": 9,
   "metadata": {},
   "outputs": [
    {
     "name": "stdout",
     "output_type": "stream",
     "text": [
      "<class 'pandas.core.frame.DataFrame'>\n",
      "RangeIndex: 100000 entries, 0 to 99999\n",
      "Data columns (total 5 columns):\n",
      " #   Column   Non-Null Count   Dtype  \n",
      "---  ------   --------------   -----  \n",
      " 0   id       100000 non-null  object \n",
      " 1   f0       100000 non-null  float64\n",
      " 2   f1       100000 non-null  float64\n",
      " 3   f2       100000 non-null  float64\n",
      " 4   product  100000 non-null  float64\n",
      "dtypes: float64(4), object(1)\n",
      "memory usage: 3.8+ MB\n"
     ]
    },
    {
     "data": {
      "text/plain": [
       "None"
      ]
     },
     "metadata": {},
     "output_type": "display_data"
    },
    {
     "data": {
      "text/html": [
       "<div>\n",
       "<style scoped>\n",
       "    .dataframe tbody tr th:only-of-type {\n",
       "        vertical-align: middle;\n",
       "    }\n",
       "\n",
       "    .dataframe tbody tr th {\n",
       "        vertical-align: top;\n",
       "    }\n",
       "\n",
       "    .dataframe thead th {\n",
       "        text-align: right;\n",
       "    }\n",
       "</style>\n",
       "<table border=\"1\" class=\"dataframe\">\n",
       "  <thead>\n",
       "    <tr style=\"text-align: right;\">\n",
       "      <th></th>\n",
       "      <th>count</th>\n",
       "      <th>unique</th>\n",
       "      <th>top</th>\n",
       "      <th>freq</th>\n",
       "      <th>mean</th>\n",
       "      <th>std</th>\n",
       "      <th>min</th>\n",
       "      <th>25%</th>\n",
       "      <th>50%</th>\n",
       "      <th>75%</th>\n",
       "      <th>max</th>\n",
       "    </tr>\n",
       "  </thead>\n",
       "  <tbody>\n",
       "    <tr>\n",
       "      <th>id</th>\n",
       "      <td>100000</td>\n",
       "      <td>99996</td>\n",
       "      <td>xCHr8</td>\n",
       "      <td>2</td>\n",
       "      <td>NaN</td>\n",
       "      <td>NaN</td>\n",
       "      <td>NaN</td>\n",
       "      <td>NaN</td>\n",
       "      <td>NaN</td>\n",
       "      <td>NaN</td>\n",
       "      <td>NaN</td>\n",
       "    </tr>\n",
       "    <tr>\n",
       "      <th>f0</th>\n",
       "      <td>100000.0</td>\n",
       "      <td>NaN</td>\n",
       "      <td>NaN</td>\n",
       "      <td>NaN</td>\n",
       "      <td>0.002023</td>\n",
       "      <td>1.732045</td>\n",
       "      <td>-8.760004</td>\n",
       "      <td>-1.162288</td>\n",
       "      <td>0.009424</td>\n",
       "      <td>1.158535</td>\n",
       "      <td>7.238262</td>\n",
       "    </tr>\n",
       "    <tr>\n",
       "      <th>f1</th>\n",
       "      <td>100000.0</td>\n",
       "      <td>NaN</td>\n",
       "      <td>NaN</td>\n",
       "      <td>NaN</td>\n",
       "      <td>-0.002081</td>\n",
       "      <td>1.730417</td>\n",
       "      <td>-7.08402</td>\n",
       "      <td>-1.17482</td>\n",
       "      <td>-0.009482</td>\n",
       "      <td>1.163678</td>\n",
       "      <td>7.844801</td>\n",
       "    </tr>\n",
       "    <tr>\n",
       "      <th>f2</th>\n",
       "      <td>100000.0</td>\n",
       "      <td>NaN</td>\n",
       "      <td>NaN</td>\n",
       "      <td>NaN</td>\n",
       "      <td>2.495128</td>\n",
       "      <td>3.473445</td>\n",
       "      <td>-11.970335</td>\n",
       "      <td>0.130359</td>\n",
       "      <td>2.484236</td>\n",
       "      <td>4.858794</td>\n",
       "      <td>16.739402</td>\n",
       "    </tr>\n",
       "    <tr>\n",
       "      <th>product</th>\n",
       "      <td>100000.0</td>\n",
       "      <td>NaN</td>\n",
       "      <td>NaN</td>\n",
       "      <td>NaN</td>\n",
       "      <td>95.0</td>\n",
       "      <td>44.749921</td>\n",
       "      <td>0.0</td>\n",
       "      <td>59.450441</td>\n",
       "      <td>94.925613</td>\n",
       "      <td>130.595027</td>\n",
       "      <td>190.029838</td>\n",
       "    </tr>\n",
       "  </tbody>\n",
       "</table>\n",
       "</div>"
      ],
      "text/plain": [
       "            count unique    top freq      mean        std        min  \\\n",
       "id         100000  99996  xCHr8    2       NaN        NaN        NaN   \n",
       "f0       100000.0    NaN    NaN  NaN  0.002023   1.732045  -8.760004   \n",
       "f1       100000.0    NaN    NaN  NaN -0.002081   1.730417   -7.08402   \n",
       "f2       100000.0    NaN    NaN  NaN  2.495128   3.473445 -11.970335   \n",
       "product  100000.0    NaN    NaN  NaN      95.0  44.749921        0.0   \n",
       "\n",
       "               25%        50%         75%         max  \n",
       "id             NaN        NaN         NaN         NaN  \n",
       "f0       -1.162288   0.009424    1.158535    7.238262  \n",
       "f1        -1.17482  -0.009482    1.163678    7.844801  \n",
       "f2        0.130359   2.484236    4.858794   16.739402  \n",
       "product  59.450441  94.925613  130.595027  190.029838  "
      ]
     },
     "metadata": {},
     "output_type": "display_data"
    },
    {
     "data": {
      "text/html": [
       "<div>\n",
       "<style scoped>\n",
       "    .dataframe tbody tr th:only-of-type {\n",
       "        vertical-align: middle;\n",
       "    }\n",
       "\n",
       "    .dataframe tbody tr th {\n",
       "        vertical-align: top;\n",
       "    }\n",
       "\n",
       "    .dataframe thead th {\n",
       "        text-align: right;\n",
       "    }\n",
       "</style>\n",
       "<table border=\"1\" class=\"dataframe\">\n",
       "  <thead>\n",
       "    <tr style=\"text-align: right;\">\n",
       "      <th></th>\n",
       "      <th>id</th>\n",
       "      <th>f0</th>\n",
       "      <th>f1</th>\n",
       "      <th>f2</th>\n",
       "      <th>product</th>\n",
       "    </tr>\n",
       "  </thead>\n",
       "  <tbody>\n",
       "    <tr>\n",
       "      <th>0</th>\n",
       "      <td>fwXo0</td>\n",
       "      <td>-1.146987</td>\n",
       "      <td>0.963328</td>\n",
       "      <td>-0.828965</td>\n",
       "      <td>27.758673</td>\n",
       "    </tr>\n",
       "    <tr>\n",
       "      <th>1</th>\n",
       "      <td>WJtFt</td>\n",
       "      <td>0.262778</td>\n",
       "      <td>0.269839</td>\n",
       "      <td>-2.530187</td>\n",
       "      <td>56.069697</td>\n",
       "    </tr>\n",
       "    <tr>\n",
       "      <th>2</th>\n",
       "      <td>ovLUW</td>\n",
       "      <td>0.194587</td>\n",
       "      <td>0.289035</td>\n",
       "      <td>-5.586433</td>\n",
       "      <td>62.871910</td>\n",
       "    </tr>\n",
       "    <tr>\n",
       "      <th>3</th>\n",
       "      <td>q6cA6</td>\n",
       "      <td>2.236060</td>\n",
       "      <td>-0.553760</td>\n",
       "      <td>0.930038</td>\n",
       "      <td>114.572842</td>\n",
       "    </tr>\n",
       "    <tr>\n",
       "      <th>4</th>\n",
       "      <td>WPMUX</td>\n",
       "      <td>-0.515993</td>\n",
       "      <td>1.716266</td>\n",
       "      <td>5.899011</td>\n",
       "      <td>149.600746</td>\n",
       "    </tr>\n",
       "  </tbody>\n",
       "</table>\n",
       "</div>"
      ],
      "text/plain": [
       "      id        f0        f1        f2     product\n",
       "0  fwXo0 -1.146987  0.963328 -0.828965   27.758673\n",
       "1  WJtFt  0.262778  0.269839 -2.530187   56.069697\n",
       "2  ovLUW  0.194587  0.289035 -5.586433   62.871910\n",
       "3  q6cA6  2.236060 -0.553760  0.930038  114.572842\n",
       "4  WPMUX -0.515993  1.716266  5.899011  149.600746"
      ]
     },
     "metadata": {},
     "output_type": "display_data"
    },
    {
     "name": "stdout",
     "output_type": "stream",
     "text": [
      "Кол-во дубликатов 0\n",
      "Кол-во пропусков в столбцах \n",
      " id         0\n",
      "f0         0\n",
      "f1         0\n",
      "f2         0\n",
      "product    0\n",
      "dtype: int64\n"
     ]
    },
    {
     "data": {
      "image/png": "[encoded data removed]",
      "text/plain": [
       "<Figure size 720x432 with 4 Axes>"
      ]
     },
     "metadata": {
      "needs_background": "light"
     },
     "output_type": "display_data"
    }
   ],
   "source": [
    "# Информация по третьему региону\n",
    "information(third_data)"
   ]
  },
  {
   "cell_type": "markdown",
   "metadata": {},
   "source": [
    "Как и в предыдущих датафреймах: сто тысяч строк, основная информация аналогичная. Присутсвует дублирование уникального индификатора.\n",
    "\n",
    "По графику распределения:\n",
    "- Каждое распределение нормальное. Значение среднего и медианы весьма близки.\n",
    "- первый признак точки (f0) - Основаня часть признаков распределена от -2,5 до 2,5. Пик от -0,5 до 0,5. Значения меньше -5,5 и больше 5,5 похожи на выбросы.\n",
    "- второй признак точки (f1) - График и значения похожи на распределение f0. Основаня часть признаков распределена от -2,5 до 2,7. Пик от -1 до 0. Значения меньше -5,5 и больше 5,5 похожи на выбросы.\n",
    "- третий признак точки (f2) - Основаня часть признаков распределена от -4 до 7. Пик от 0 до 5. Значения меньше -9 и больше 14 похожи на выбросы.\n",
    "- объём запасов в скважине - Симметричное распределение с пиком в 95 тыс. баррелей."
   ]
  },
  {
   "cell_type": "code",
   "execution_count": 10,
   "metadata": {},
   "outputs": [
    {
     "data": {
      "text/html": [
       "<div>\n",
       "<style scoped>\n",
       "    .dataframe tbody tr th:only-of-type {\n",
       "        vertical-align: middle;\n",
       "    }\n",
       "\n",
       "    .dataframe tbody tr th {\n",
       "        vertical-align: top;\n",
       "    }\n",
       "\n",
       "    .dataframe thead th {\n",
       "        text-align: right;\n",
       "    }\n",
       "</style>\n",
       "<table border=\"1\" class=\"dataframe\">\n",
       "  <thead>\n",
       "    <tr style=\"text-align: right;\">\n",
       "      <th></th>\n",
       "      <th>id</th>\n",
       "      <th>f0</th>\n",
       "      <th>f1</th>\n",
       "      <th>f2</th>\n",
       "      <th>product</th>\n",
       "    </tr>\n",
       "  </thead>\n",
       "  <tbody>\n",
       "    <tr>\n",
       "      <th>45404</th>\n",
       "      <td>KUPhW</td>\n",
       "      <td>0.231846</td>\n",
       "      <td>-1.698941</td>\n",
       "      <td>4.990775</td>\n",
       "      <td>11.716299</td>\n",
       "    </tr>\n",
       "    <tr>\n",
       "      <th>55967</th>\n",
       "      <td>KUPhW</td>\n",
       "      <td>1.211150</td>\n",
       "      <td>3.176408</td>\n",
       "      <td>5.543540</td>\n",
       "      <td>132.831802</td>\n",
       "    </tr>\n",
       "    <tr>\n",
       "      <th>11449</th>\n",
       "      <td>VF7Jo</td>\n",
       "      <td>2.122656</td>\n",
       "      <td>-0.858275</td>\n",
       "      <td>5.746001</td>\n",
       "      <td>181.716817</td>\n",
       "    </tr>\n",
       "    <tr>\n",
       "      <th>49564</th>\n",
       "      <td>VF7Jo</td>\n",
       "      <td>-0.883115</td>\n",
       "      <td>0.560537</td>\n",
       "      <td>0.723601</td>\n",
       "      <td>136.233420</td>\n",
       "    </tr>\n",
       "    <tr>\n",
       "      <th>44378</th>\n",
       "      <td>Vcm5J</td>\n",
       "      <td>-1.229484</td>\n",
       "      <td>-2.439204</td>\n",
       "      <td>1.222909</td>\n",
       "      <td>137.968290</td>\n",
       "    </tr>\n",
       "    <tr>\n",
       "      <th>95090</th>\n",
       "      <td>Vcm5J</td>\n",
       "      <td>2.587702</td>\n",
       "      <td>1.986875</td>\n",
       "      <td>2.482245</td>\n",
       "      <td>92.327572</td>\n",
       "    </tr>\n",
       "    <tr>\n",
       "      <th>28039</th>\n",
       "      <td>xCHr8</td>\n",
       "      <td>1.633027</td>\n",
       "      <td>0.368135</td>\n",
       "      <td>-2.378367</td>\n",
       "      <td>6.120525</td>\n",
       "    </tr>\n",
       "    <tr>\n",
       "      <th>43233</th>\n",
       "      <td>xCHr8</td>\n",
       "      <td>-0.847066</td>\n",
       "      <td>2.101796</td>\n",
       "      <td>5.597130</td>\n",
       "      <td>184.388641</td>\n",
       "    </tr>\n",
       "  </tbody>\n",
       "</table>\n",
       "</div>"
      ],
      "text/plain": [
       "          id        f0        f1        f2     product\n",
       "45404  KUPhW  0.231846 -1.698941  4.990775   11.716299\n",
       "55967  KUPhW  1.211150  3.176408  5.543540  132.831802\n",
       "11449  VF7Jo  2.122656 -0.858275  5.746001  181.716817\n",
       "49564  VF7Jo -0.883115  0.560537  0.723601  136.233420\n",
       "44378  Vcm5J -1.229484 -2.439204  1.222909  137.968290\n",
       "95090  Vcm5J  2.587702  1.986875  2.482245   92.327572\n",
       "28039  xCHr8  1.633027  0.368135 -2.378367    6.120525\n",
       "43233  xCHr8 -0.847066  2.101796  5.597130  184.388641"
      ]
     },
     "execution_count": 10,
     "metadata": {},
     "output_type": "execute_result"
    }
   ],
   "source": [
    "# Посмотрим детальнее на дублированные уникальыне индификаторы\n",
    "third_data[third_data.duplicated(['id'], keep=False)].sort_values('id')"
   ]
  },
  {
   "cell_type": "markdown",
   "metadata": {},
   "source": [
    "Как и в предыдущих датафреймах данные оставляем."
   ]
  },
  {
   "cell_type": "code",
   "execution_count": 3,
   "metadata": {},
   "outputs": [
    {
     "data": {
      "text/html": [
       "<div>\n",
       "<style scoped>\n",
       "    .dataframe tbody tr th:only-of-type {\n",
       "        vertical-align: middle;\n",
       "    }\n",
       "\n",
       "    .dataframe tbody tr th {\n",
       "        vertical-align: top;\n",
       "    }\n",
       "\n",
       "    .dataframe thead th {\n",
       "        text-align: right;\n",
       "    }\n",
       "</style>\n",
       "<table border=\"1\" class=\"dataframe\">\n",
       "  <thead>\n",
       "    <tr style=\"text-align: right;\">\n",
       "      <th></th>\n",
       "      <th>id</th>\n",
       "      <th>f0</th>\n",
       "      <th>f1</th>\n",
       "      <th>f2</th>\n",
       "      <th>product</th>\n",
       "      <th>region</th>\n",
       "    </tr>\n",
       "  </thead>\n",
       "  <tbody>\n",
       "    <tr>\n",
       "      <th>41734</th>\n",
       "      <td>D1zxu</td>\n",
       "      <td>-10.520201</td>\n",
       "      <td>1.370967</td>\n",
       "      <td>0.996366</td>\n",
       "      <td>30.132364</td>\n",
       "      <td>second_region</td>\n",
       "    </tr>\n",
       "    <tr>\n",
       "      <th>63233</th>\n",
       "      <td>7CCPD</td>\n",
       "      <td>3.157702</td>\n",
       "      <td>-1.108061</td>\n",
       "      <td>5.333322</td>\n",
       "      <td>153.436988</td>\n",
       "      <td>third_region</td>\n",
       "    </tr>\n",
       "    <tr>\n",
       "      <th>94603</th>\n",
       "      <td>dFvJv</td>\n",
       "      <td>-0.044691</td>\n",
       "      <td>0.926226</td>\n",
       "      <td>-2.154591</td>\n",
       "      <td>110.654738</td>\n",
       "      <td>first_region</td>\n",
       "    </tr>\n",
       "    <tr>\n",
       "      <th>42214</th>\n",
       "      <td>LLABN</td>\n",
       "      <td>-1.741422</td>\n",
       "      <td>-1.395620</td>\n",
       "      <td>2.988250</td>\n",
       "      <td>135.787645</td>\n",
       "      <td>third_region</td>\n",
       "    </tr>\n",
       "    <tr>\n",
       "      <th>7515</th>\n",
       "      <td>K4lR2</td>\n",
       "      <td>0.972583</td>\n",
       "      <td>1.815598</td>\n",
       "      <td>3.002321</td>\n",
       "      <td>80.859783</td>\n",
       "      <td>second_region</td>\n",
       "    </tr>\n",
       "    <tr>\n",
       "      <th>28802</th>\n",
       "      <td>uLWnb</td>\n",
       "      <td>-5.737346</td>\n",
       "      <td>-8.401158</td>\n",
       "      <td>4.000846</td>\n",
       "      <td>110.992147</td>\n",
       "      <td>second_region</td>\n",
       "    </tr>\n",
       "  </tbody>\n",
       "</table>\n",
       "</div>"
      ],
      "text/plain": [
       "          id         f0        f1        f2     product         region\n",
       "41734  D1zxu -10.520201  1.370967  0.996366   30.132364  second_region\n",
       "63233  7CCPD   3.157702 -1.108061  5.333322  153.436988   third_region\n",
       "94603  dFvJv  -0.044691  0.926226 -2.154591  110.654738   first_region\n",
       "42214  LLABN  -1.741422 -1.395620  2.988250  135.787645   third_region\n",
       "7515   K4lR2   0.972583  1.815598  3.002321   80.859783  second_region\n",
       "28802  uLWnb  -5.737346 -8.401158  4.000846  110.992147  second_region"
      ]
     },
     "metadata": {},
     "output_type": "display_data"
    }
   ],
   "source": [
    "# Посмотрим на график размаха разные регионов по целевому признаку \"product\"\n",
    "\n",
    "# Создадим копии датафреймов с добавлением столбца с название региона \n",
    "first_data_copy = first_data.copy()\n",
    "first_data_copy[\"region\"] = \"first_region\"\n",
    "\n",
    "second_data_copy = second_data.copy()\n",
    "second_data_copy[\"region\"] = \"second_region\"\n",
    "\n",
    "third_data_copy = third_data.copy()\n",
    "third_data_copy[\"region\"] = \"third_region\"\n",
    "\n",
    "# Объединим датафреймы для отображения на графике с помощью метода pd.concat\n",
    "region_data = pd.concat([first_data_copy, second_data_copy, third_data_copy])\n",
    "\n",
    "# Посмотрим на состыковку\n",
    "display(region_data.sample(6))"
   ]
  },
  {
   "cell_type": "code",
   "execution_count": 12,
   "metadata": {},
   "outputs": [
    {
     "data": {
      "image/png": "[encoded data removed]",
      "text/plain": [
       "<Figure size 720x576 with 1 Axes>"
      ]
     },
     "metadata": {},
     "output_type": "display_data"
    }
   ],
   "source": [
    "# Посмотрим на график размаха разные регионов по целевому признаку \"product\"\n",
    "\n",
    "# В библиотеке pandas есть встроенная функция \"melt\", которая \"переворачивает\" (unpivots) датафрей\n",
    "# из широкого формата (wide format) в длинный (long format) (позволяет сделать названия столбцов самим столбцом)\n",
    "melt_region_data = pd.melt(region_data[['product', 'region']], id_vars=['region'], var_name=['product'], value_name=\"value\")\n",
    "\n",
    "# Отображаем на графике\n",
    "\n",
    "sns.set(rc={'figure.figsize':(10,8)})\n",
    "colors = sns.color_palette(\"Set2\")\n",
    "ax = sns.boxplot(x='product', y='value', hue='region', data=melt_region_data, palette = colors)\n",
    "plt.title('Дипазан размаха объёма запасов в скважине (тыс. баррелей)')\n",
    "plt.ylabel('Объем')\n",
    "plt.xlabel('Регионы')\n",
    "plt.yticks(ticks=np.arange(0,221,10))\n",
    "plt.xticks([])\n",
    "legend = plt.legend(title = \"Регион\", title_fontsize = 15, bbox_to_anchor=(1, 1.02), loc='upper left')\n",
    "plt.show()"
   ]
  },
  {
   "cell_type": "markdown",
   "metadata": {},
   "source": [
    "Как мы можем заметить по графикам размаха распределение объёмов запасов в скважинах (тыс. баррелей) первого итретьего региона близки: медианы равны 91 и 95 тыс. соответсвенно, диапазон ящиков так же похожи, в третьем регионе идет небольшое смещение в положительную сторону, так же в этом регионе верхний \"ус\" уходит на 5 тыс. дальше. Во втором регионе медиана  и размах \"усов\" примерно в 1,5 раза меньше."
   ]
  },
  {
   "cell_type": "code",
   "execution_count": 13,
   "metadata": {},
   "outputs": [
    {
     "data": {
      "image/png": "[encoded data removed]",
      "text/plain": [
       "<Figure size 720x576 with 1 Axes>"
      ]
     },
     "metadata": {},
     "output_type": "display_data"
    }
   ],
   "source": [
    "# Посмотрим на график размаха разные регионов по трем признакам точек\n",
    "\n",
    "# \"переварачиваем\" датафрейм для признаков\n",
    "melt_region_data = pd.melt(region_data[['f0', 'f1', 'f2', 'region']], id_vars=['region'], var_name=['f_value'],\n",
    "                           value_name=\"value\")\n",
    "\n",
    "# Отображаем на графике\n",
    "\n",
    "sns.set(rc={'figure.figsize':(10,8)})\n",
    "colors = sns.color_palette(\"Set2\")\n",
    "ax = sns.boxplot(x='f_value', y='value', hue='region', data=melt_region_data, palette = colors,\n",
    "                flierprops={\"marker\": \"o\"})\n",
    "plt.title('Дипазан размаха по трем признакам точек')\n",
    "plt.ylabel('Значение размаха')\n",
    "plt.xlabel('Признаки')\n",
    "plt.yticks(ticks=np.arange(-32,30,2))\n",
    "legend = plt.legend(title = \"Регион\", title_fontsize = 15, bbox_to_anchor=(1, 1.02), loc='upper left')\n",
    "plt.show()"
   ]
  },
  {
   "cell_type": "markdown",
   "metadata": {},
   "source": [
    "Из-за различий масштаба данные трудно читаемы. В целом можем сказать, что у параметров f0 и f1 второго региона самые большие размахи. Параметр f2 хоть как-то сбалансирован между регионами. Мы видим большое количество выбросов у половины признаков. Но удалять мы их не будем, так как данные у нас заполнены полностью, пропуски отсутсвуют. В дальнейшем обучать модель будет по всем имеющимся данным. \n",
    "\n",
    "По проведенным исследованиям заметны дисбалансы значений f0, f1, f2, как между собой, так и между регионами. Возможно необходимо отмасштабировать данные, проверим это далее на одном из датафреймов. "
   ]
  },
  {
   "cell_type": "code",
   "execution_count": 14,
   "metadata": {},
   "outputs": [],
   "source": [
    "# Воспользуемся методом корреляции и хитмепом для наблюдения зависимостей\n",
    "\n",
    "def corr_data(data):\n",
    "# смотрим матрицу корреляции\n",
    "    display(data.corr())\n",
    "\n",
    "# Визуализируем\n",
    "    plt.figure(figsize = (16, 8))\n",
    "    sns.heatmap(data.corr(), vmin=-1, vmax=1, cmap='coolwarm', annot=True)\n",
    "    plt.title('Матрица корреляции')\n",
    "    plt.show()   "
   ]
  },
  {
   "cell_type": "code",
   "execution_count": 15,
   "metadata": {},
   "outputs": [
    {
     "data": {
      "text/html": [
       "<div>\n",
       "<style scoped>\n",
       "    .dataframe tbody tr th:only-of-type {\n",
       "        vertical-align: middle;\n",
       "    }\n",
       "\n",
       "    .dataframe tbody tr th {\n",
       "        vertical-align: top;\n",
       "    }\n",
       "\n",
       "    .dataframe thead th {\n",
       "        text-align: right;\n",
       "    }\n",
       "</style>\n",
       "<table border=\"1\" class=\"dataframe\">\n",
       "  <thead>\n",
       "    <tr style=\"text-align: right;\">\n",
       "      <th></th>\n",
       "      <th>f0</th>\n",
       "      <th>f1</th>\n",
       "      <th>f2</th>\n",
       "      <th>product</th>\n",
       "    </tr>\n",
       "  </thead>\n",
       "  <tbody>\n",
       "    <tr>\n",
       "      <th>f0</th>\n",
       "      <td>1.000000</td>\n",
       "      <td>-0.440723</td>\n",
       "      <td>-0.003153</td>\n",
       "      <td>0.143536</td>\n",
       "    </tr>\n",
       "    <tr>\n",
       "      <th>f1</th>\n",
       "      <td>-0.440723</td>\n",
       "      <td>1.000000</td>\n",
       "      <td>0.001724</td>\n",
       "      <td>-0.192356</td>\n",
       "    </tr>\n",
       "    <tr>\n",
       "      <th>f2</th>\n",
       "      <td>-0.003153</td>\n",
       "      <td>0.001724</td>\n",
       "      <td>1.000000</td>\n",
       "      <td>0.483663</td>\n",
       "    </tr>\n",
       "    <tr>\n",
       "      <th>product</th>\n",
       "      <td>0.143536</td>\n",
       "      <td>-0.192356</td>\n",
       "      <td>0.483663</td>\n",
       "      <td>1.000000</td>\n",
       "    </tr>\n",
       "  </tbody>\n",
       "</table>\n",
       "</div>"
      ],
      "text/plain": [
       "               f0        f1        f2   product\n",
       "f0       1.000000 -0.440723 -0.003153  0.143536\n",
       "f1      -0.440723  1.000000  0.001724 -0.192356\n",
       "f2      -0.003153  0.001724  1.000000  0.483663\n",
       "product  0.143536 -0.192356  0.483663  1.000000"
      ]
     },
     "metadata": {},
     "output_type": "display_data"
    },
    {
     "data": {
      "image/png": "[encoded data removed]",
      "text/plain": [
       "<Figure size 1152x576 with 2 Axes>"
      ]
     },
     "metadata": {},
     "output_type": "display_data"
    }
   ],
   "source": [
    "# Корреляция в первом регионе\n",
    "corr_data(first_data)"
   ]
  },
  {
   "cell_type": "markdown",
   "metadata": {},
   "source": [
    "По первому региону видим: среднуюю прямопропорциональную линейную положительную зависимость между значениями f2 и объемом запасов в скважине (0,48), незначитеную пололожительную зависимость между f0 и product (0,14) и отрицательную между f1 и product(-0,19), а так же среднюю отрицательную зависимость между параметрами f0 И f1."
   ]
  },
  {
   "cell_type": "code",
   "execution_count": 16,
   "metadata": {},
   "outputs": [
    {
     "data": {
      "text/html": [
       "<div>\n",
       "<style scoped>\n",
       "    .dataframe tbody tr th:only-of-type {\n",
       "        vertical-align: middle;\n",
       "    }\n",
       "\n",
       "    .dataframe tbody tr th {\n",
       "        vertical-align: top;\n",
       "    }\n",
       "\n",
       "    .dataframe thead th {\n",
       "        text-align: right;\n",
       "    }\n",
       "</style>\n",
       "<table border=\"1\" class=\"dataframe\">\n",
       "  <thead>\n",
       "    <tr style=\"text-align: right;\">\n",
       "      <th></th>\n",
       "      <th>f0</th>\n",
       "      <th>f1</th>\n",
       "      <th>f2</th>\n",
       "      <th>product</th>\n",
       "    </tr>\n",
       "  </thead>\n",
       "  <tbody>\n",
       "    <tr>\n",
       "      <th>f0</th>\n",
       "      <td>1.000000</td>\n",
       "      <td>0.182287</td>\n",
       "      <td>-0.001777</td>\n",
       "      <td>-0.030491</td>\n",
       "    </tr>\n",
       "    <tr>\n",
       "      <th>f1</th>\n",
       "      <td>0.182287</td>\n",
       "      <td>1.000000</td>\n",
       "      <td>-0.002595</td>\n",
       "      <td>-0.010155</td>\n",
       "    </tr>\n",
       "    <tr>\n",
       "      <th>f2</th>\n",
       "      <td>-0.001777</td>\n",
       "      <td>-0.002595</td>\n",
       "      <td>1.000000</td>\n",
       "      <td>0.999397</td>\n",
       "    </tr>\n",
       "    <tr>\n",
       "      <th>product</th>\n",
       "      <td>-0.030491</td>\n",
       "      <td>-0.010155</td>\n",
       "      <td>0.999397</td>\n",
       "      <td>1.000000</td>\n",
       "    </tr>\n",
       "  </tbody>\n",
       "</table>\n",
       "</div>"
      ],
      "text/plain": [
       "               f0        f1        f2   product\n",
       "f0       1.000000  0.182287 -0.001777 -0.030491\n",
       "f1       0.182287  1.000000 -0.002595 -0.010155\n",
       "f2      -0.001777 -0.002595  1.000000  0.999397\n",
       "product -0.030491 -0.010155  0.999397  1.000000"
      ]
     },
     "metadata": {},
     "output_type": "display_data"
    },
    {
     "data": {
      "image/png": "[encoded data removed]",
      "text/plain": [
       "<Figure size 1152x576 with 2 Axes>"
      ]
     },
     "metadata": {},
     "output_type": "display_data"
    }
   ],
   "source": [
    "# Корреляция во втором регионе\n",
    "corr_data(second_data)"
   ]
  },
  {
   "cell_type": "markdown",
   "metadata": {},
   "source": [
    "По второму региону видим мультиколлинеарность для f2 и product, а для признаков f0 и f1 незначительную положительную зависимость. Полная коллинеарность приводит к неопределенности параметров в линейной регрессиионной модели независимо от методов оценки."
   ]
  },
  {
   "cell_type": "code",
   "execution_count": 17,
   "metadata": {},
   "outputs": [
    {
     "data": {
      "text/html": [
       "<div>\n",
       "<style scoped>\n",
       "    .dataframe tbody tr th:only-of-type {\n",
       "        vertical-align: middle;\n",
       "    }\n",
       "\n",
       "    .dataframe tbody tr th {\n",
       "        vertical-align: top;\n",
       "    }\n",
       "\n",
       "    .dataframe thead th {\n",
       "        text-align: right;\n",
       "    }\n",
       "</style>\n",
       "<table border=\"1\" class=\"dataframe\">\n",
       "  <thead>\n",
       "    <tr style=\"text-align: right;\">\n",
       "      <th></th>\n",
       "      <th>f0</th>\n",
       "      <th>f1</th>\n",
       "      <th>f2</th>\n",
       "      <th>product</th>\n",
       "    </tr>\n",
       "  </thead>\n",
       "  <tbody>\n",
       "    <tr>\n",
       "      <th>f0</th>\n",
       "      <td>1.000000</td>\n",
       "      <td>0.000528</td>\n",
       "      <td>-0.000448</td>\n",
       "      <td>-0.001987</td>\n",
       "    </tr>\n",
       "    <tr>\n",
       "      <th>f1</th>\n",
       "      <td>0.000528</td>\n",
       "      <td>1.000000</td>\n",
       "      <td>0.000779</td>\n",
       "      <td>-0.001012</td>\n",
       "    </tr>\n",
       "    <tr>\n",
       "      <th>f2</th>\n",
       "      <td>-0.000448</td>\n",
       "      <td>0.000779</td>\n",
       "      <td>1.000000</td>\n",
       "      <td>0.445871</td>\n",
       "    </tr>\n",
       "    <tr>\n",
       "      <th>product</th>\n",
       "      <td>-0.001987</td>\n",
       "      <td>-0.001012</td>\n",
       "      <td>0.445871</td>\n",
       "      <td>1.000000</td>\n",
       "    </tr>\n",
       "  </tbody>\n",
       "</table>\n",
       "</div>"
      ],
      "text/plain": [
       "               f0        f1        f2   product\n",
       "f0       1.000000  0.000528 -0.000448 -0.001987\n",
       "f1       0.000528  1.000000  0.000779 -0.001012\n",
       "f2      -0.000448  0.000779  1.000000  0.445871\n",
       "product -0.001987 -0.001012  0.445871  1.000000"
      ]
     },
     "metadata": {},
     "output_type": "display_data"
    },
    {
     "data": {
      "image/png": "[encoded data removed]",
      "text/plain": [
       "<Figure size 1152x576 with 2 Axes>"
      ]
     },
     "metadata": {},
     "output_type": "display_data"
    }
   ],
   "source": [
    "# Корреляция в третьем регионе\n",
    "corr_data(third_data)"
   ]
  },
  {
   "cell_type": "markdown",
   "metadata": {},
   "source": [
    "Между product и f2 средняя положительная зависимость (0,45)."
   ]
  },
  {
   "cell_type": "code",
   "execution_count": null,
   "metadata": {},
   "outputs": [],
   "source": [
    "sns.pairplot(region_data, diag_kind='kde', hue='region', plot_kws={'alpha': 0.3})\n",
    "plt.show()"
   ]
  },
  {
   "cell_type": "markdown",
   "metadata": {},
   "source": [
    "Графики наглядно показывают нам сильные разбросы значений, преобладание одних параметров над другими."
   ]
  },
  {
   "cell_type": "markdown",
   "metadata": {},
   "source": [
    "## Обучение и проверка модели"
   ]
  },
  {
   "cell_type": "markdown",
   "metadata": {},
   "source": [
    "*Проверим на примере первого датафрейма обучение модели (в виду проверки на необходимость масштабирования, гиперпараметры подбирать не будем, оставим в стандартном состоянии). Анализировать будем по значению MSE (средняя квадратичная ошибка); коэффициенту детерминации (метрика R2) (вычисляет долю средней квадратичной ошибки модели от MSE среднего, а затем вычитает эту величину из единицы.) и MAE (среднее абсолютное отклонение)*\n",
    "\n",
    "\n",
    "Масштабируем с помощью:\n",
    "- `Min-Max масштабирования`. Техника, при которой значения масштабируются таким образом, что становятся в диапазоне от 0 до 1. Сохраняет форму исходного распределения. Не снижает важность выбросов.\n",
    "- `Стандартизации`. Изменение характеристик таким образом, чтобы среднее стало равно 0, а стандартное отклонение 1.\n",
    "\n",
    "Масштабируем следующим образом: разделям выборку на обучающую и валидационную, затем настраиваем на обучающих данных, потом трансформируем (преобразуем) все выборки и обучающую и валидационную."
   ]
  },
  {
   "cell_type": "code",
   "execution_count": 4,
   "metadata": {},
   "outputs": [
    {
     "data": {
      "text/html": [
       "<div>\n",
       "<style scoped>\n",
       "    .dataframe tbody tr th:only-of-type {\n",
       "        vertical-align: middle;\n",
       "    }\n",
       "\n",
       "    .dataframe tbody tr th {\n",
       "        vertical-align: top;\n",
       "    }\n",
       "\n",
       "    .dataframe thead th {\n",
       "        text-align: right;\n",
       "    }\n",
       "</style>\n",
       "<table border=\"1\" class=\"dataframe\">\n",
       "  <thead>\n",
       "    <tr style=\"text-align: right;\">\n",
       "      <th></th>\n",
       "      <th>f0</th>\n",
       "      <th>f1</th>\n",
       "      <th>f2</th>\n",
       "    </tr>\n",
       "  </thead>\n",
       "  <tbody>\n",
       "    <tr>\n",
       "      <th>0</th>\n",
       "      <td>0.705745</td>\n",
       "      <td>-0.497823</td>\n",
       "      <td>1.22117</td>\n",
       "    </tr>\n",
       "    <tr>\n",
       "      <th>1</th>\n",
       "      <td>1.334711</td>\n",
       "      <td>-0.340164</td>\n",
       "      <td>4.36508</td>\n",
       "    </tr>\n",
       "  </tbody>\n",
       "</table>\n",
       "</div>"
      ],
      "text/plain": [
       "         f0        f1       f2\n",
       "0  0.705745 -0.497823  1.22117\n",
       "1  1.334711 -0.340164  4.36508"
      ]
     },
     "metadata": {},
     "output_type": "display_data"
    }
   ],
   "source": [
    "# Объявим переменные признака и цели\n",
    "\n",
    "# Удалим из датафрейма столбец id, т.к. влияния на обучение модели он не даст из-за того, что это уникальный индификатор\n",
    "check_features = first_data.drop(['id', 'product'], axis=1) #  признаки для обучающей модели\n",
    "check_target = first_data['product'] # записываем цель (задача классификации)\n",
    "\n",
    "display(check_features.head(2))"
   ]
  },
  {
   "cell_type": "code",
   "execution_count": null,
   "metadata": {
    "scrolled": false
   },
   "outputs": [],
   "source": [
    "# Посмотри на распределение целевого признака, что бы в дальнейшем понимать допустили ли мы ощибку и насколько она критична\n",
    "sns.kdeplot(check_target)\n",
    "plt.show()"
   ]
  },
  {
   "cell_type": "code",
   "execution_count": 5,
   "metadata": {},
   "outputs": [
    {
     "name": "stdout",
     "output_type": "stream",
     "text": [
      "Размер обучающей выборки:\n",
      " (75000, 3) \n",
      " (75000,)\n",
      "\n",
      "Размер валидационной  выборки:\n",
      " (25000, 3) \n",
      " (25000,)\n"
     ]
    }
   ],
   "source": [
    "# С помощью функции train_test_split разобьем датасет на обучающую и валидационную в соотношении 75:25.\n",
    "# Размер выборки (test_size) = 0,25 (выражается в долях — от 0 до 1), на валидационную выборку отправляем 25% исходных данных\n",
    "\n",
    "features_train, features_valid, target_train, target_valid = train_test_split(\n",
    "    check_features, check_target, test_size=0.25, random_state=12345)\n",
    "\n",
    "# Смотрим размер выборки \n",
    "print('Размер обучающей выборки:\\n', features_train.shape, '\\n', target_train.shape)\n",
    "print('')\n",
    "print('Размер валидационной  выборки:\\n', features_valid.shape, '\\n', target_valid.shape)"
   ]
  },
  {
   "cell_type": "markdown",
   "metadata": {},
   "source": [
    "Используем для построения модели **Линейную регрессия (Linear Regression)**\n",
    "\n",
    "Линейная регрессия применяется для прогнозирования вероятности возникновения некоторого события по значениям множества признаков.\n",
    "Модель LinearRegression лежит в модуле sklearn.linear_model (от англ. «линейная модель») библиотеки sklearn. Импортируем его:\n",
    "`from sklearn.linear_model import LinearRegression`"
   ]
  },
  {
   "cell_type": "code",
   "execution_count": 6,
   "metadata": {},
   "outputs": [
    {
     "data": {
      "text/html": [
       "<div>\n",
       "<style scoped>\n",
       "    .dataframe tbody tr th:only-of-type {\n",
       "        vertical-align: middle;\n",
       "    }\n",
       "\n",
       "    .dataframe tbody tr th {\n",
       "        vertical-align: top;\n",
       "    }\n",
       "\n",
       "    .dataframe thead th {\n",
       "        text-align: right;\n",
       "    }\n",
       "</style>\n",
       "<table border=\"1\" class=\"dataframe\">\n",
       "  <thead>\n",
       "    <tr style=\"text-align: right;\">\n",
       "      <th></th>\n",
       "      <th>mean_squared_error_train</th>\n",
       "      <th>mean_squared_error_test</th>\n",
       "      <th>r2_score_train</th>\n",
       "      <th>r2_score_test</th>\n",
       "      <th>mean_absolute_error_train</th>\n",
       "      <th>mean_absolute_error_test</th>\n",
       "    </tr>\n",
       "  </thead>\n",
       "  <tbody>\n",
       "    <tr>\n",
       "      <th>raw_data</th>\n",
       "      <td>NaN</td>\n",
       "      <td>NaN</td>\n",
       "      <td>NaN</td>\n",
       "      <td>NaN</td>\n",
       "      <td>NaN</td>\n",
       "      <td>NaN</td>\n",
       "    </tr>\n",
       "    <tr>\n",
       "      <th>MinMaxScaler</th>\n",
       "      <td>NaN</td>\n",
       "      <td>NaN</td>\n",
       "      <td>NaN</td>\n",
       "      <td>NaN</td>\n",
       "      <td>NaN</td>\n",
       "      <td>NaN</td>\n",
       "    </tr>\n",
       "    <tr>\n",
       "      <th>StandardScaler</th>\n",
       "      <td>NaN</td>\n",
       "      <td>NaN</td>\n",
       "      <td>NaN</td>\n",
       "      <td>NaN</td>\n",
       "      <td>NaN</td>\n",
       "      <td>NaN</td>\n",
       "    </tr>\n",
       "  </tbody>\n",
       "</table>\n",
       "</div>"
      ],
      "text/plain": [
       "               mean_squared_error_train mean_squared_error_test  \\\n",
       "raw_data                            NaN                     NaN   \n",
       "MinMaxScaler                        NaN                     NaN   \n",
       "StandardScaler                      NaN                     NaN   \n",
       "\n",
       "               r2_score_train r2_score_test mean_absolute_error_train  \\\n",
       "raw_data                  NaN           NaN                       NaN   \n",
       "MinMaxScaler              NaN           NaN                       NaN   \n",
       "StandardScaler            NaN           NaN                       NaN   \n",
       "\n",
       "               mean_absolute_error_test  \n",
       "raw_data                            NaN  \n",
       "MinMaxScaler                        NaN  \n",
       "StandardScaler                      NaN  "
      ]
     },
     "execution_count": 6,
     "metadata": {},
     "output_type": "execute_result"
    }
   ],
   "source": [
    "# Создадим таблицу результатов \n",
    "\n",
    "result_table = pd.DataFrame(index = ['raw_data', 'MinMaxScaler', 'StandardScaler'],\n",
    "                columns = ['mean_squared_error_train', 'mean_squared_error_test',\n",
    "                           'r2_score_train', 'r2_score_test',\n",
    "                           'mean_absolute_error_train', 'mean_absolute_error_test'])\n",
    "\n",
    "result_table"
   ]
  },
  {
   "cell_type": "code",
   "execution_count": 7,
   "metadata": {},
   "outputs": [],
   "source": [
    "# Обучим\n",
    "\n",
    "# создадим функцию для обучения модели\n",
    "def model_train(x_train, y_train, x_valid, y_valid, method, metric_name, metric):\n",
    "    model = LinearRegression() # инициализируем модель LinearRegression\n",
    "    model.fit(x_train, y_train) # обучим модель на тренировочной выборке\n",
    "    predicted_train = model.predict(x_train) # получим предсказания модели на обучающей выборке\n",
    "    predicted_valid = model.predict(x_valid) # получим предсказания модели на валидационной выборке\n",
    "    \n",
    "    print(metric_name, 'модели линейной регрессии на обучающей выборке:', \n",
    "          metric(y_train, predicted_train)) # посчитаем значение метрики на обучающей выборке\n",
    "    print(metric_name, 'модели линейной регрессии на валидационной выборке:', \n",
    "          metric(y_valid, predicted_valid)) # посчитаем значение метрики на валидационной выборке\n",
    "    \n",
    "    result_table.loc[method, metric_name+'_train'] = round(metric(y_train, predicted_train), 3)\n",
    "    result_table.loc[method, metric_name+'_test'] = round(metric(y_valid, predicted_valid), 3)\n",
    "    "
   ]
  },
  {
   "cell_type": "code",
   "execution_count": 8,
   "metadata": {},
   "outputs": [
    {
     "name": "stdout",
     "output_type": "stream",
     "text": [
      "mean_squared_error модели линейной регрессии на обучающей выборке: 1423.5523113396391\n",
      "mean_squared_error модели линейной регрессии на валидационной выборке: 1412.2129364399243\n",
      "r2_score модели линейной регрессии на обучающей выборке: 0.27423906493940775\n",
      "r2_score модели линейной регрессии на валидационной выборке: 0.27994321524487786\n",
      "mean_absolute_error модели линейной регрессии на обучающей выборке: 31.079961075786297\n",
      "mean_absolute_error модели линейной регрессии на валидационной выборке: 30.919600777151313\n"
     ]
    },
    {
     "data": {
      "text/html": [
       "<div>\n",
       "<style scoped>\n",
       "    .dataframe tbody tr th:only-of-type {\n",
       "        vertical-align: middle;\n",
       "    }\n",
       "\n",
       "    .dataframe tbody tr th {\n",
       "        vertical-align: top;\n",
       "    }\n",
       "\n",
       "    .dataframe thead th {\n",
       "        text-align: right;\n",
       "    }\n",
       "</style>\n",
       "<table border=\"1\" class=\"dataframe\">\n",
       "  <thead>\n",
       "    <tr style=\"text-align: right;\">\n",
       "      <th></th>\n",
       "      <th>mean_squared_error_train</th>\n",
       "      <th>mean_squared_error_test</th>\n",
       "      <th>r2_score_train</th>\n",
       "      <th>r2_score_test</th>\n",
       "      <th>mean_absolute_error_train</th>\n",
       "      <th>mean_absolute_error_test</th>\n",
       "    </tr>\n",
       "  </thead>\n",
       "  <tbody>\n",
       "    <tr>\n",
       "      <th>raw_data</th>\n",
       "      <td>1423.552</td>\n",
       "      <td>1412.213</td>\n",
       "      <td>0.274</td>\n",
       "      <td>0.28</td>\n",
       "      <td>31.08</td>\n",
       "      <td>30.92</td>\n",
       "    </tr>\n",
       "    <tr>\n",
       "      <th>MinMaxScaler</th>\n",
       "      <td>NaN</td>\n",
       "      <td>NaN</td>\n",
       "      <td>NaN</td>\n",
       "      <td>NaN</td>\n",
       "      <td>NaN</td>\n",
       "      <td>NaN</td>\n",
       "    </tr>\n",
       "    <tr>\n",
       "      <th>StandardScaler</th>\n",
       "      <td>NaN</td>\n",
       "      <td>NaN</td>\n",
       "      <td>NaN</td>\n",
       "      <td>NaN</td>\n",
       "      <td>NaN</td>\n",
       "      <td>NaN</td>\n",
       "    </tr>\n",
       "  </tbody>\n",
       "</table>\n",
       "</div>"
      ],
      "text/plain": [
       "               mean_squared_error_train mean_squared_error_test  \\\n",
       "raw_data                       1423.552                1412.213   \n",
       "MinMaxScaler                        NaN                     NaN   \n",
       "StandardScaler                      NaN                     NaN   \n",
       "\n",
       "               r2_score_train r2_score_test mean_absolute_error_train  \\\n",
       "raw_data                0.274          0.28                     31.08   \n",
       "MinMaxScaler              NaN           NaN                       NaN   \n",
       "StandardScaler            NaN           NaN                       NaN   \n",
       "\n",
       "               mean_absolute_error_test  \n",
       "raw_data                          30.92  \n",
       "MinMaxScaler                        NaN  \n",
       "StandardScaler                      NaN  "
      ]
     },
     "execution_count": 8,
     "metadata": {},
     "output_type": "execute_result"
    }
   ],
   "source": [
    "# Сделаем цикл для подбора наименования и самого метода определения ошибки\n",
    "metrics_name = ['mean_squared_error', 'r2_score', 'mean_absolute_error']\n",
    "metrics = [mean_squared_error, r2_score, mean_absolute_error]\n",
    "for i in range(len(metrics_name)):\n",
    "    model_train(features_train, target_train, features_valid, target_valid, 'raw_data', metrics_name[i], metrics[i])\n",
    "\n",
    "result_table"
   ]
  },
  {
   "cell_type": "markdown",
   "metadata": {},
   "source": [
    "Ошибка равная 37, это почти одна пятая от распределения целевого признака. Неприятно"
   ]
  },
  {
   "cell_type": "code",
   "execution_count": 9,
   "metadata": {},
   "outputs": [
    {
     "data": {
      "text/plain": [
       "array([ -1.40860531,  -0.8482185 , -10.13834135])"
      ]
     },
     "metadata": {},
     "output_type": "display_data"
    },
    {
     "data": {
      "text/html": [
       "<div>\n",
       "<style scoped>\n",
       "    .dataframe tbody tr th:only-of-type {\n",
       "        vertical-align: middle;\n",
       "    }\n",
       "\n",
       "    .dataframe tbody tr th {\n",
       "        vertical-align: top;\n",
       "    }\n",
       "\n",
       "    .dataframe thead th {\n",
       "        text-align: right;\n",
       "    }\n",
       "</style>\n",
       "<table border=\"1\" class=\"dataframe\">\n",
       "  <thead>\n",
       "    <tr style=\"text-align: right;\">\n",
       "      <th></th>\n",
       "      <th>f0</th>\n",
       "      <th>f1</th>\n",
       "      <th>f2</th>\n",
       "    </tr>\n",
       "  </thead>\n",
       "  <tbody>\n",
       "    <tr>\n",
       "      <th>count</th>\n",
       "      <td>75000.000000</td>\n",
       "      <td>75000.000000</td>\n",
       "      <td>75000.000000</td>\n",
       "    </tr>\n",
       "    <tr>\n",
       "      <th>mean</th>\n",
       "      <td>0.505457</td>\n",
       "      <td>0.501044</td>\n",
       "      <td>0.483674</td>\n",
       "    </tr>\n",
       "    <tr>\n",
       "      <th>std</th>\n",
       "      <td>0.231196</td>\n",
       "      <td>0.230021</td>\n",
       "      <td>0.124308</td>\n",
       "    </tr>\n",
       "    <tr>\n",
       "      <th>min</th>\n",
       "      <td>0.000000</td>\n",
       "      <td>0.000000</td>\n",
       "      <td>0.000000</td>\n",
       "    </tr>\n",
       "    <tr>\n",
       "      <th>25%</th>\n",
       "      <td>0.353434</td>\n",
       "      <td>0.295744</td>\n",
       "      <td>0.399150</td>\n",
       "    </tr>\n",
       "    <tr>\n",
       "      <th>50%</th>\n",
       "      <td>0.505891</td>\n",
       "      <td>0.500874</td>\n",
       "      <td>0.484207</td>\n",
       "    </tr>\n",
       "    <tr>\n",
       "      <th>75%</th>\n",
       "      <td>0.657379</td>\n",
       "      <td>0.706417</td>\n",
       "      <td>0.568572</td>\n",
       "    </tr>\n",
       "    <tr>\n",
       "      <th>max</th>\n",
       "      <td>1.000000</td>\n",
       "      <td>1.000000</td>\n",
       "      <td>1.000000</td>\n",
       "    </tr>\n",
       "  </tbody>\n",
       "</table>\n",
       "</div>"
      ],
      "text/plain": [
       "                 f0            f1            f2\n",
       "count  75000.000000  75000.000000  75000.000000\n",
       "mean       0.505457      0.501044      0.483674\n",
       "std        0.231196      0.230021      0.124308\n",
       "min        0.000000      0.000000      0.000000\n",
       "25%        0.353434      0.295744      0.399150\n",
       "50%        0.505891      0.500874      0.484207\n",
       "75%        0.657379      0.706417      0.568572\n",
       "max        1.000000      1.000000      1.000000"
      ]
     },
     "metadata": {},
     "output_type": "display_data"
    }
   ],
   "source": [
    "# Применим MinMaxScaler\n",
    "\n",
    "mms = MinMaxScaler() # инициализируем модель масштабирования\n",
    "mms.fit(features_train) # обучим модель на тренировочной выборке\n",
    "display(mms.data_min_) # смотрим минимальные значения для обучающих параметров\n",
    "features_train_mms = pd.DataFrame(mms.transform(features_train), columns=features_train.columns,\n",
    "                                  index=features_train.index) # преобразуем обучающую выборку\n",
    "features_valid_mms = pd.DataFrame(mms.transform(features_valid), columns=features_valid.columns,\n",
    "                                  index=features_valid.index) # преобразуем валидационную выборку\n",
    "display(features_train_mms.describe()) # посмотрим на получившиеся распределения на трейне, находятся ли в диапазоне от 0 до 1"
   ]
  },
  {
   "cell_type": "code",
   "execution_count": 10,
   "metadata": {},
   "outputs": [
    {
     "name": "stdout",
     "output_type": "stream",
     "text": [
      "mean_squared_error модели линейной регрессии на обучающей выборке: 1423.5523113396391\n",
      "mean_squared_error модели линейной регрессии на валидационной выборке: 1412.2129364399243\n",
      "r2_score модели линейной регрессии на обучающей выборке: 0.27423906493940775\n",
      "r2_score модели линейной регрессии на валидационной выборке: 0.27994321524487786\n",
      "mean_absolute_error модели линейной регрессии на обучающей выборке: 31.079961075786297\n",
      "mean_absolute_error модели линейной регрессии на валидационной выборке: 30.919600777151313\n"
     ]
    },
    {
     "data": {
      "text/html": [
       "<div>\n",
       "<style scoped>\n",
       "    .dataframe tbody tr th:only-of-type {\n",
       "        vertical-align: middle;\n",
       "    }\n",
       "\n",
       "    .dataframe tbody tr th {\n",
       "        vertical-align: top;\n",
       "    }\n",
       "\n",
       "    .dataframe thead th {\n",
       "        text-align: right;\n",
       "    }\n",
       "</style>\n",
       "<table border=\"1\" class=\"dataframe\">\n",
       "  <thead>\n",
       "    <tr style=\"text-align: right;\">\n",
       "      <th></th>\n",
       "      <th>mean_squared_error_train</th>\n",
       "      <th>mean_squared_error_test</th>\n",
       "      <th>r2_score_train</th>\n",
       "      <th>r2_score_test</th>\n",
       "      <th>mean_absolute_error_train</th>\n",
       "      <th>mean_absolute_error_test</th>\n",
       "    </tr>\n",
       "  </thead>\n",
       "  <tbody>\n",
       "    <tr>\n",
       "      <th>raw_data</th>\n",
       "      <td>1423.552</td>\n",
       "      <td>1412.213</td>\n",
       "      <td>0.274</td>\n",
       "      <td>0.28</td>\n",
       "      <td>31.08</td>\n",
       "      <td>30.92</td>\n",
       "    </tr>\n",
       "    <tr>\n",
       "      <th>MinMaxScaler</th>\n",
       "      <td>1423.552</td>\n",
       "      <td>1412.213</td>\n",
       "      <td>0.274</td>\n",
       "      <td>0.28</td>\n",
       "      <td>31.08</td>\n",
       "      <td>30.92</td>\n",
       "    </tr>\n",
       "    <tr>\n",
       "      <th>StandardScaler</th>\n",
       "      <td>NaN</td>\n",
       "      <td>NaN</td>\n",
       "      <td>NaN</td>\n",
       "      <td>NaN</td>\n",
       "      <td>NaN</td>\n",
       "      <td>NaN</td>\n",
       "    </tr>\n",
       "  </tbody>\n",
       "</table>\n",
       "</div>"
      ],
      "text/plain": [
       "               mean_squared_error_train mean_squared_error_test  \\\n",
       "raw_data                       1423.552                1412.213   \n",
       "MinMaxScaler                   1423.552                1412.213   \n",
       "StandardScaler                      NaN                     NaN   \n",
       "\n",
       "               r2_score_train r2_score_test mean_absolute_error_train  \\\n",
       "raw_data                0.274          0.28                     31.08   \n",
       "MinMaxScaler            0.274          0.28                     31.08   \n",
       "StandardScaler            NaN           NaN                       NaN   \n",
       "\n",
       "               mean_absolute_error_test  \n",
       "raw_data                          30.92  \n",
       "MinMaxScaler                      30.92  \n",
       "StandardScaler                      NaN  "
      ]
     },
     "execution_count": 10,
     "metadata": {},
     "output_type": "execute_result"
    }
   ],
   "source": [
    "for i in range(len(metrics_name)):\n",
    "    model_train(features_train_mms, target_train, features_valid_mms, target_valid, 'MinMaxScaler', metrics_name[i], metrics[i])\n",
    "\n",
    "result_table"
   ]
  },
  {
   "cell_type": "code",
   "execution_count": 11,
   "metadata": {},
   "outputs": [
    {
     "data": {
      "text/plain": [
       "array([0.49744058, 0.25006378, 2.50591697])"
      ]
     },
     "metadata": {},
     "output_type": "display_data"
    },
    {
     "data": {
      "text/html": [
       "<div>\n",
       "<style scoped>\n",
       "    .dataframe tbody tr th:only-of-type {\n",
       "        vertical-align: middle;\n",
       "    }\n",
       "\n",
       "    .dataframe tbody tr th {\n",
       "        vertical-align: top;\n",
       "    }\n",
       "\n",
       "    .dataframe thead th {\n",
       "        text-align: right;\n",
       "    }\n",
       "</style>\n",
       "<table border=\"1\" class=\"dataframe\">\n",
       "  <thead>\n",
       "    <tr style=\"text-align: right;\">\n",
       "      <th></th>\n",
       "      <th>f0</th>\n",
       "      <th>f1</th>\n",
       "      <th>f2</th>\n",
       "    </tr>\n",
       "  </thead>\n",
       "  <tbody>\n",
       "    <tr>\n",
       "      <th>count</th>\n",
       "      <td>75,000.00</td>\n",
       "      <td>75,000.00</td>\n",
       "      <td>75,000.00</td>\n",
       "    </tr>\n",
       "    <tr>\n",
       "      <th>mean</th>\n",
       "      <td>0.00</td>\n",
       "      <td>-0.00</td>\n",
       "      <td>0.00</td>\n",
       "    </tr>\n",
       "    <tr>\n",
       "      <th>std</th>\n",
       "      <td>1.00</td>\n",
       "      <td>1.00</td>\n",
       "      <td>1.00</td>\n",
       "    </tr>\n",
       "    <tr>\n",
       "      <th>min</th>\n",
       "      <td>-2.19</td>\n",
       "      <td>-2.18</td>\n",
       "      <td>-3.89</td>\n",
       "    </tr>\n",
       "    <tr>\n",
       "      <th>25%</th>\n",
       "      <td>-0.66</td>\n",
       "      <td>-0.89</td>\n",
       "      <td>-0.68</td>\n",
       "    </tr>\n",
       "    <tr>\n",
       "      <th>50%</th>\n",
       "      <td>0.00</td>\n",
       "      <td>-0.00</td>\n",
       "      <td>0.00</td>\n",
       "    </tr>\n",
       "    <tr>\n",
       "      <th>75%</th>\n",
       "      <td>0.66</td>\n",
       "      <td>0.89</td>\n",
       "      <td>0.68</td>\n",
       "    </tr>\n",
       "    <tr>\n",
       "      <th>max</th>\n",
       "      <td>2.14</td>\n",
       "      <td>2.17</td>\n",
       "      <td>4.15</td>\n",
       "    </tr>\n",
       "  </tbody>\n",
       "</table>\n",
       "</div>"
      ],
      "text/plain": [
       "             f0        f1        f2\n",
       "count 75,000.00 75,000.00 75,000.00\n",
       "mean       0.00     -0.00      0.00\n",
       "std        1.00      1.00      1.00\n",
       "min       -2.19     -2.18     -3.89\n",
       "25%       -0.66     -0.89     -0.68\n",
       "50%        0.00     -0.00      0.00\n",
       "75%        0.66      0.89      0.68\n",
       "max        2.14      2.17      4.15"
      ]
     },
     "metadata": {},
     "output_type": "display_data"
    }
   ],
   "source": [
    "# Масштабируем признаки с помощью стандартизация данных.\n",
    "\n",
    "# Чтобы не появлялось предупреждение SettingWithCopy добавим в код строчку:\n",
    "pd.options.mode.chained_assignment = None\n",
    "pd.set_option('display.float_format', '{:,.2f}'.format) #уберем \"е\" из отображения формата данных\n",
    "\n",
    "# Создадим объект StandardScaler (структура для стандартизации данных)  и настроим его на обучающих данных. \n",
    "# Настройка — это вычисление среднего и дисперсии\n",
    "scaler = StandardScaler()\n",
    "scaler.fit(features_train)\n",
    "\n",
    "display(scaler.mean_) #посмотрим на средниче значения\n",
    "\n",
    "# Преобразуем обучающую и валидационную выборки функцией transform().\n",
    "features_train_ss = pd.DataFrame(scaler.transform(features_train), columns=features_train.columns,\n",
    "                                  index=features_train.index)\n",
    "features_valid_ss = pd.DataFrame(scaler.transform(features_valid), columns=features_valid.columns,\n",
    "                                  index=features_valid.index)\n",
    "display(features_train_ss.describe()) # посмотрим на получившиеся распределения, равняется ли средняя 0"
   ]
  },
  {
   "cell_type": "code",
   "execution_count": 12,
   "metadata": {
    "scrolled": true
   },
   "outputs": [
    {
     "name": "stdout",
     "output_type": "stream",
     "text": [
      "mean_squared_error модели линейной регрессии на обучающей выборке: 1423.5523113396391\n",
      "mean_squared_error модели линейной регрессии на валидационной выборке: 1412.2129364399243\n",
      "r2_score модели линейной регрессии на обучающей выборке: 0.27423906493940775\n",
      "r2_score модели линейной регрессии на валидационной выборке: 0.27994321524487786\n",
      "mean_absolute_error модели линейной регрессии на обучающей выборке: 31.079961075786297\n",
      "mean_absolute_error модели линейной регрессии на валидационной выборке: 30.919600777151313\n"
     ]
    },
    {
     "data": {
      "text/html": [
       "<div>\n",
       "<style scoped>\n",
       "    .dataframe tbody tr th:only-of-type {\n",
       "        vertical-align: middle;\n",
       "    }\n",
       "\n",
       "    .dataframe tbody tr th {\n",
       "        vertical-align: top;\n",
       "    }\n",
       "\n",
       "    .dataframe thead th {\n",
       "        text-align: right;\n",
       "    }\n",
       "</style>\n",
       "<table border=\"1\" class=\"dataframe\">\n",
       "  <thead>\n",
       "    <tr style=\"text-align: right;\">\n",
       "      <th></th>\n",
       "      <th>mean_squared_error_train</th>\n",
       "      <th>mean_squared_error_test</th>\n",
       "      <th>r2_score_train</th>\n",
       "      <th>r2_score_test</th>\n",
       "      <th>mean_absolute_error_train</th>\n",
       "      <th>mean_absolute_error_test</th>\n",
       "    </tr>\n",
       "  </thead>\n",
       "  <tbody>\n",
       "    <tr>\n",
       "      <th>raw_data</th>\n",
       "      <td>1,423.55</td>\n",
       "      <td>1,412.21</td>\n",
       "      <td>0.27</td>\n",
       "      <td>0.28</td>\n",
       "      <td>31.08</td>\n",
       "      <td>30.92</td>\n",
       "    </tr>\n",
       "    <tr>\n",
       "      <th>MinMaxScaler</th>\n",
       "      <td>1,423.55</td>\n",
       "      <td>1,412.21</td>\n",
       "      <td>0.27</td>\n",
       "      <td>0.28</td>\n",
       "      <td>31.08</td>\n",
       "      <td>30.92</td>\n",
       "    </tr>\n",
       "    <tr>\n",
       "      <th>StandardScaler</th>\n",
       "      <td>1,423.55</td>\n",
       "      <td>1,412.21</td>\n",
       "      <td>0.27</td>\n",
       "      <td>0.28</td>\n",
       "      <td>31.08</td>\n",
       "      <td>30.92</td>\n",
       "    </tr>\n",
       "  </tbody>\n",
       "</table>\n",
       "</div>"
      ],
      "text/plain": [
       "               mean_squared_error_train mean_squared_error_test  \\\n",
       "raw_data                       1,423.55                1,412.21   \n",
       "MinMaxScaler                   1,423.55                1,412.21   \n",
       "StandardScaler                 1,423.55                1,412.21   \n",
       "\n",
       "               r2_score_train r2_score_test mean_absolute_error_train  \\\n",
       "raw_data                 0.27          0.28                     31.08   \n",
       "MinMaxScaler             0.27          0.28                     31.08   \n",
       "StandardScaler           0.27          0.28                     31.08   \n",
       "\n",
       "               mean_absolute_error_test  \n",
       "raw_data                          30.92  \n",
       "MinMaxScaler                      30.92  \n",
       "StandardScaler                    30.92  "
      ]
     },
     "execution_count": 12,
     "metadata": {},
     "output_type": "execute_result"
    }
   ],
   "source": [
    "for i in range(len(metrics_name)):\n",
    "    model_train(features_train_ss, target_train, features_valid_ss, target_valid, 'StandardScaler', metrics_name[i], metrics[i])\n",
    "\n",
    "result_table"
   ]
  },
  {
   "cell_type": "markdown",
   "metadata": {},
   "source": [
    "После проверки результатов метрик оценки качества модели на стандартном датафрейме и масштабированном, можем заметить, что качество модели не изменилось. Хотя линейные модели весьма зависимы от масштаба данных.\n",
    "\n",
    "Для масштабирования линейных и логистических регрессий лучше подходит стандартизация данных. Так как на проверочном датафрейме качество не менялось, то дальнейшие исследования будем использовать с отмасштабироваными стандартизацией данными."
   ]
  },
  {
   "cell_type": "markdown",
   "metadata": {},
   "source": [
    "<h2>Обучение модели Линейной регрессии<a class=\"tocSkip\"></h2>  "
   ]
  },
  {
   "cell_type": "code",
   "execution_count": 13,
   "metadata": {},
   "outputs": [],
   "source": [
    "# создадим функция для обучение модели для каждого региона\n",
    "\n",
    "def model_train(df):\n",
    "    \n",
    "# Объявим переменные регрессоры и предиктор\n",
    "    features = df.drop([\"product\",\"id\"], axis=1)\n",
    "    target = df[\"product\"]\n",
    "    \n",
    "# Разобьем датасет на обучающую и валидационную выборки в соотношении 75:25    \n",
    "    features_train, features_valid, target_train, target_valid = train_test_split(\n",
    "        features, target, test_size=0.25, random_state=12345)\n",
    "\n",
    "# Масштабируем признаки\n",
    "    scaler = StandardScaler()\n",
    "    features_train = scaler.fit_transform(features_train)\n",
    "    features_valid = scaler.transform(features_valid)\n",
    "\n",
    "# Обучим модель    \n",
    "    model = LinearRegression(normalize=False).fit(features_train, target_train)\n",
    "\n",
    "# Получим предсказания модели на валидационной выборке \n",
    "    pred = model.predict(features_valid)\n",
    "\n",
    "# Рассчитаем метрики качества модели    \n",
    "    RMSE = np.sqrt(mean_squared_error(pred, target_valid))\n",
    "    R2 = model.score(features_valid, target_valid)\n",
    "    average_stock = pred.mean()\n",
    "    \n",
    "    print('RMSE: {0:.4f}'.format(RMSE))\n",
    "    print('')\n",
    "    print('R2: {0:.4f}'.format(R2))\n",
    "    print('')\n",
    "    print('Cредний запас предсказанного сырья: {0:.4f}'.format(average_stock))\n",
    "    print('')\n",
    "\n",
    "# Вовзращаем необходимые парамаетры    \n",
    "    return (pred, target_valid.reset_index(drop=True), RMSE, R2)"
   ]
  },
  {
   "cell_type": "code",
   "execution_count": 14,
   "metadata": {},
   "outputs": [
    {
     "name": "stdout",
     "output_type": "stream",
     "text": [
      "1 регион:\n",
      "\n",
      "RMSE: 37.5794\n",
      "\n",
      "R2: 0.2799\n",
      "\n",
      "Cредний запас предсказанного сырья: 92.5926\n",
      "\n",
      "************************************************************ \n",
      "\n",
      "\n",
      "2 регион:\n",
      "\n",
      "RMSE: 0.8931\n",
      "\n",
      "R2: 0.9996\n",
      "\n",
      "Cредний запас предсказанного сырья: 68.7285\n",
      "\n",
      "************************************************************ \n",
      "\n",
      "\n",
      "3 регион:\n",
      "\n",
      "RMSE: 40.0297\n",
      "\n",
      "R2: 0.2052\n",
      "\n",
      "Cредний запас предсказанного сырья: 94.9650\n",
      "\n",
      "************************************************************ \n",
      "\n",
      "\n"
     ]
    }
   ],
   "source": [
    "regions_name = 1\n",
    "for region in [first_data, second_data, third_data]:\n",
    "    print(f'{regions_name} регион:')\n",
    "    print('')\n",
    "    model_train(region)\n",
    "    print('**'*30, '\\n\\n')\n",
    "    regions_name += 1"
   ]
  },
  {
   "cell_type": "code",
   "execution_count": 15,
   "metadata": {},
   "outputs": [
    {
     "name": "stdout",
     "output_type": "stream",
     "text": [
      "RMSE: 37.5794\n",
      "\n",
      "R2: 0.2799\n",
      "\n",
      "Cредний запас предсказанного сырья: 92.5926\n",
      "\n",
      "RMSE: 0.8931\n",
      "\n",
      "R2: 0.9996\n",
      "\n",
      "Cредний запас предсказанного сырья: 68.7285\n",
      "\n",
      "RMSE: 40.0297\n",
      "\n",
      "R2: 0.2052\n",
      "\n",
      "Cредний запас предсказанного сырья: 94.9650\n",
      "\n"
     ]
    }
   ],
   "source": [
    "# Сохраним получившиеся значения предсказаний и метрик качества\n",
    "first_reg_pred, first_reg_val, first_reg_rmse, first_reg_r2 = model_train(first_data)\n",
    "second_reg_pred, second_reg_val, second_reg_rmse, second_reg_r2 = model_train(second_data)\n",
    "third_reg_pred, third_reg_val, third_reg_rmse, third_reg_r2 = model_train(third_data)"
   ]
  },
  {
   "cell_type": "markdown",
   "metadata": {},
   "source": [
    "И так, мы получили следующие результаты:\n",
    "- Первый регион: RMSE: 37.5794, R2: 0.2799, Cредний запас предсказанного сырья: 92.5926;\n",
    "- Второй регион: RMSE: 0.8931, R2: 0.9996, Cредний запас предсказанного сырья: 68.7285;\n",
    "- Третий регион: RMSE: 40.0297, R2: 0.2052, Cредний запас предсказанного сырья: 94.9650.\n",
    "\n",
    "Видим картину, которая хорошо согласуется с распределением, первый и второй наборы данных имеют довольно схожие результаты, RMSE около 40, а средний запас предсказанного сырья находится в диапазоне 92-95 тыс. баррелей. Во втором регионе хороший низкий показатель RMSE около 0,89 и почти идеальный, стремящийся к единице, коэффициент детерминации, но при этом низкий средний запас на уровне 68 тыс. баррелей, в отличие от других регионов."
   ]
  },
  {
   "cell_type": "markdown",
   "metadata": {},
   "source": [
    "## Подготовка к расчёту прибыли"
   ]
  },
  {
   "cell_type": "markdown",
   "metadata": {},
   "source": [
    "***Продублируем еще раз условия задачи:***\n",
    "- Для обучения модели подходит только линейная регрессия.\n",
    "- При разведке региона исследуют 500 точек, из которых с помощью машинного обучения выбирают 200 лучших для разработки.\n",
    "- Бюджет на разработку скважин в регионе — 10 млрд рублей.\n",
    "- При нынешних ценах один баррель сырья приносит 450 рублей дохода. Доход с каждой единицы продукта составляет 450 тыс. рублей, поскольку объём указан в тысячах баррелей.\n",
    "- После оценки рисков нужно оставить лишь те регионы, в которых вероятность убытков меньше 2.5%. Среди них выбирают регион с наибольшей средней прибылью.\n",
    "- Данные синтетические: детали контрактов и характеристики месторождений не разглашаются."
   ]
  },
  {
   "cell_type": "code",
   "execution_count": 16,
   "metadata": {},
   "outputs": [],
   "source": [
    "# зададим переменные\n",
    "budget = 10000000000 # бюджет\n",
    "all_points = 500 # кол-во точек\n",
    "best_points = 200 # лучшие точки для разработки\n",
    "income_per_point = 450000 # доход с каждой единицы продукта\n",
    "thres_risk_max = 2.5/100 # максимальная вероятность убытка"
   ]
  },
  {
   "cell_type": "code",
   "execution_count": 17,
   "metadata": {},
   "outputs": [
    {
     "name": "stdout",
     "output_type": "stream",
     "text": [
      " Объем запасов, достаточный для разработки новой скважины без потерь: 111.11 тыс. баррелей\n"
     ]
    }
   ],
   "source": [
    "# Рассчитаем объем запасов, достаточный для разработки новой скважины без потерь\n",
    "\n",
    "volume_reserves =  budget/income_per_point/best_points\n",
    "print(f' Объем запасов, достаточный для разработки новой скважины без потерь: {volume_reserves:.2f} тыс. баррелей')"
   ]
  },
  {
   "cell_type": "markdown",
   "metadata": {},
   "source": [
    "Для первого региона мы предсказали самое высокое значение среднего запаса сырья: 92.5926 тыс. барралей, что меньше, чем полученное значение безубыточного функционирования скважины (111.11 тыс. барралей)"
   ]
  },
  {
   "cell_type": "code",
   "execution_count": 18,
   "metadata": {},
   "outputs": [],
   "source": [
    "# Напишем функцию для расчёта прибыли по выбранным скважинам и предсказаниям модели\n",
    "\n",
    "# На вход функция получает предсказания и целевой признак,\n",
    "# а на выходе выдает выручку (доходность минус выделенный бюджет на разработку скважин)\n",
    "def income_calculation(predictions, target):\n",
    "    target = pd.Series(target)\n",
    "    predictions = pd.Series(predictions)\n",
    "    top_predictions = predictions.sort_values(ascending=False) # отсортируем по убыванию предсказания модели\n",
    "    top_borehole = target[top_predictions.index][:200] # выделим лучшие предсказанные 200 скважин региона\n",
    "    revenue = top_borehole.sum() * income_per_point # выручка: объем запасов с 200 скважин умноженное на их доход с ед. продукта\n",
    "    return revenue - budget"
   ]
  },
  {
   "cell_type": "markdown",
   "metadata": {},
   "source": [
    "## Расчёт прибыли и рисков "
   ]
  },
  {
   "cell_type": "markdown",
   "metadata": {},
   "source": [
    "Применим технику Bootstrap с 1000 выборок, чтобы найти распределение прибыли. Найдем среднюю прибыль, 95%-й доверительный интервал и риск убытков. Убыток — это отрицательная прибыль."
   ]
  },
  {
   "cell_type": "code",
   "execution_count": 19,
   "metadata": {},
   "outputs": [],
   "source": [
    "# создадим функцию по подсчету 95% интервала и риска убытка.\n",
    "\n",
    "def profit_distribution(predictions, target): \n",
    "    state = np.random.RandomState(12345) # указываем random_state для воспроизводимости, \n",
    "                                    # при каждом новом вызове его состояние будет меняться на случайное\n",
    "    values = []\n",
    "    target = pd.Series(target)\n",
    "    predictions = pd.Series(predictions)\n",
    "    for i in range(1000): # извлекаем из выборки 1 случайный элемент\n",
    "    \n",
    "# при создании подвыборок должны обеспечиваться выбор элементов с возвращением,\n",
    "# один и тот же элемент может попадать в подвыборку несколько раз. Для этого укажите аргумент replace=True в функции sample()\n",
    "        target_sample = target.sample(n=all_points, replace=True, random_state=state)\n",
    "# добавляем функцию для расчёта прибыли по выбранным скважинам и предсказаниям модели\n",
    "        values.append(income_calculation(predictions[target_sample.index], target_sample))\n",
    "    \n",
    "    values = pd.Series(values) \n",
    "# Для построения 95%-го доверительного интервала нужно выкинуть 5% экстремальных значений,\n",
    "# то есть 2.5% самых больших и 2.5% самых маленьких.       \n",
    "    lower = values.quantile(0.025) # Точка, на которой заканчивается 2.5% самых маленьких значений, — 0.025-квантиль.\n",
    "    higher =values.quantile(0.975) # Точка, с которой начинается 2.5% самых больших значений, — 0.975-квантиль.\n",
    "    mean_revenue = values.mean() # средняя прибыль\n",
    "    risk = st.percentileofscore(values, 0) # метод вычисляет процентный ранг значения относительно списка значений.\n",
    "    \n",
    "    return ((lower, higher), mean_revenue, risk, values)"
   ]
  },
  {
   "cell_type": "code",
   "execution_count": 20,
   "metadata": {
    "scrolled": false
   },
   "outputs": [
    {
     "name": "stdout",
     "output_type": "stream",
     "text": [
      "1 регион:\n",
      "\n",
      "Средняя прибыль: 425938526.91059244\n",
      "95%-й доверительный интервал: (-102090094.83793654, 947976353.3583689)\n",
      "Риск убытков: 6.0\n",
      "************************************************************ \n",
      "\n",
      "\n",
      "2 регион:\n",
      "\n",
      "Средняя прибыль: 515222773.4432899\n",
      "95%-й доверительный интервал: (68873225.37050176, 931547591.2570494)\n",
      "Риск убытков: 1.0\n",
      "************************************************************ \n",
      "\n",
      "\n",
      "3 регион:\n",
      "\n",
      "Средняя прибыль: 435008362.7827556\n",
      "95%-й доверительный интервал: (-128880547.32978901, 969706954.1802661)\n",
      "Риск убытков: 6.4\n",
      "************************************************************ \n",
      "\n",
      "\n"
     ]
    }
   ],
   "source": [
    "# Выведем на экран наши результаты\n",
    "\n",
    "regions_name = 1\n",
    "for predictions, target in zip([first_reg_pred, second_reg_pred, third_reg_pred], \n",
    "                         [first_reg_val, second_reg_val, third_reg_val]):\n",
    "    interval, mean_revenue, risk, values = profit_distribution(predictions, target)\n",
    "    print(f'{regions_name} регион:')\n",
    "    print('')\n",
    "    print(f\"Средняя прибыль: {mean_revenue}\")\n",
    "    print(f\"95%-й доверительный интервал: {interval}\")\n",
    "    print(f\"Риск убытков: {risk}\")\n",
    "    print('**'*30, '\\n\\n')\n",
    "    regions_name += 1"
   ]
  },
  {
   "cell_type": "code",
   "execution_count": 25,
   "metadata": {},
   "outputs": [
    {
     "name": "stdout",
     "output_type": "stream",
     "text": [
      "+------------------------+--------------------+\n",
      "|       Показатель       |      Значение      |\n",
      "+------------------------+--------------------+\n",
      "|    Средняя выручка     |     391.7 млн      |\n",
      "|          Риск          |        7.6%        |\n",
      "| Доверительный интервал | -154.5 : 974.7 млн |\n",
      "+------------------------+--------------------+\n"
     ]
    },
    {
     "data": {
      "image/png": "[encoded data removed]",
      "text/plain": [
       "<Figure size 432x288 with 1 Axes>"
      ]
     },
     "metadata": {
      "needs_background": "light"
     },
     "output_type": "display_data"
    }
   ],
   "source": [
    "# !pip3 install prettytable\n",
    "from prettytable import PrettyTable\n",
    "import seaborn as sns\n",
    "from scipy import stats as st\n",
    "\n",
    "BUDGET = 10000000000\n",
    "BARREL_COST = 450\n",
    "BARRELS_IN_UNIT = 1000\n",
    "UNIT_COST = BARREL_COST * BARRELS_IN_UNIT\n",
    "TOTAL_POINTS = 500\n",
    "POINTS = 200\n",
    "\n",
    "def revenue_2(target, predictions, points, budget, unit_cost):\n",
    "    predicted_sorted = predictions.sort_values(ascending=False)\n",
    "    selected = target[predicted_sorted.index][:points]\n",
    "    return selected.sum() * unit_cost - budget\n",
    "\n",
    "def bootstrap_2(target, probabilities):\n",
    "    state = np.random.RandomState(888)\n",
    "    values=[]\n",
    "    for i in range(1000):\n",
    "        target_subsample = target.sample(replace=True,\\\n",
    "            random_state=state, n=TOTAL_POINTS)\n",
    "\n",
    "        probs_subsample = probabilities[target_subsample.index]\n",
    "        values.append(revenue_2(target_subsample, probs_subsample, POINTS, BUDGET, UNIT_COST))\n",
    "\n",
    "    values = pd.Series(values)\n",
    "    lower = values.quantile(0.025)\n",
    "    upper = values.quantile(0.975)\n",
    "    mean = values.mean()\n",
    "    risk = st.percentileofscore(values, 0)\n",
    "\n",
    "     # Отображение таблицы\n",
    "    table = PrettyTable()\n",
    "    table.field_names = ['Показатель', 'Значение']\n",
    "    table.add_row(['Средняя выручка', f'{mean/1e6:.1f} млн'])\n",
    "    table.add_row(['Риск', f'{risk:.2}%'])\n",
    "    table.add_row(['Доверительный интервал', f'{lower/1e6:.1f} : {upper/1e6:.1f} млн'])\n",
    "    print(table)\n",
    "\n",
    "    sns.histplot(values, alpha=0.4,  element=\"step\")\n",
    "    plt.xlabel('Прибыль')\n",
    "    plt.axvline(x=mean, color='b', ls='--', lw=3, label='Средняя прибыль')\n",
    "    plt.axvline(x=lower, color='r', ls=':', lw=3, label='95%-й доверительный интервал')\n",
    "    plt.axvline(x=upper, color='r', ls=':', lw=3)\n",
    "    plt.legend(bbox_to_anchor=(0.5, -0.15), loc='upper center', ncol=2)\n",
    "    plt.show()\n",
    "\n",
    "bootstrap_2(first_reg_val, pd.Series(first_reg_pred))"
   ]
  },
  {
   "cell_type": "markdown",
   "metadata": {},
   "source": [
    "Для решения задачи добывающей компании «ГлавРосГосНефть», где бурить новую скважину:\n",
    "- мы проанализировали собранные характеристики для скважин в трех избранных регионах: качество нефти и объём её запасы;\n",
    "- Построили модель Линейной регрессии с проверкой методов масштабирования для предсказания объёма запасов в новых скважинах;\n",
    "- Определили скважины с самыми высокими оценками значений, в качестве метрик качества рассматривали RMSE (квадратный корень из средней квадратичной ошибки) и Коэффициент детерминации (метрика R2), а также посмотрели средний запас предсказанного сырья;\n",
    "- Выявили, что во втором регионе хороший низкий показатель RMSE около 0,89 и почти идеальный, стремящийся к единице, коэффициент детерминации, но при этом низкий средний запас на уровне 68 тыс. баррелей, в отличие от других регионов.\n",
    "- Выяснили, что запас сырья в скважинах меньше, чем точка безубыточности.\n",
    "- Воспользовавшись процедурой бутстрэпа, мы нашли 95% доверительный интервал для среднего объема нефти в скважинах. Таким образом определили регион с максимальной суммарной прибылью отобранных скважин. ***Наиболее перспективным для разработки представляется второй регион***. Мы имеем наиболее ценный доверительный интервал с хорошей средней прибылью около 515 млн (также среднее прогнозируемое значение и коэффициент детерминации близки к единице и низкий RMSE), при этом риск убытков составляет 1%. К тому же после оценки рисков мы можем оставить лишь только данный регионы, так как вероятность убытков меньше заданных 2.5%. Риски первого и третьего регионов 6% и 6,4% соответсвенно.\n"
   ]
  }
 ],
 "metadata": {
  "ExecuteTimeLog": [
   {
    "duration": 41,
    "start_time": "2023-07-22T08:25:51.385Z"
   },
   {
    "duration": 1555,
    "start_time": "2023-07-22T08:25:58.379Z"
   },
   {
    "duration": 1573,
    "start_time": "2023-07-22T08:26:02.737Z"
   },
   {
    "duration": 81,
    "start_time": "2023-07-22T08:47:03.798Z"
   },
   {
    "duration": 384,
    "start_time": "2023-07-22T08:47:11.888Z"
   },
   {
    "duration": 193,
    "start_time": "2023-07-22T09:17:26.076Z"
   },
   {
    "duration": 108,
    "start_time": "2023-07-22T15:33:06.898Z"
   },
   {
    "duration": 49,
    "start_time": "2023-07-22T15:33:12.942Z"
   },
   {
    "duration": 64,
    "start_time": "2023-07-22T15:33:24.236Z"
   },
   {
    "duration": 14,
    "start_time": "2023-07-22T15:34:51.015Z"
   },
   {
    "duration": 61,
    "start_time": "2023-07-22T15:36:58.496Z"
   },
   {
    "duration": 29,
    "start_time": "2023-07-22T15:37:14.306Z"
   },
   {
    "duration": 49,
    "start_time": "2023-07-22T15:39:19.062Z"
   },
   {
    "duration": 26,
    "start_time": "2023-07-22T15:39:47.079Z"
   },
   {
    "duration": 56,
    "start_time": "2023-07-22T15:42:05.596Z"
   },
   {
    "duration": 26,
    "start_time": "2023-07-22T15:42:20.311Z"
   },
   {
    "duration": 30,
    "start_time": "2023-07-22T15:42:27.907Z"
   },
   {
    "duration": 1851,
    "start_time": "2023-07-22T15:42:59.046Z"
   },
   {
    "duration": 19,
    "start_time": "2023-07-22T15:43:46.299Z"
   },
   {
    "duration": 67,
    "start_time": "2023-07-22T15:49:50.324Z"
   },
   {
    "duration": 49,
    "start_time": "2023-07-22T15:50:40.785Z"
   },
   {
    "duration": 48,
    "start_time": "2023-07-22T15:51:09.969Z"
   },
   {
    "duration": 60,
    "start_time": "2023-07-22T15:51:21.018Z"
   },
   {
    "duration": 45,
    "start_time": "2023-07-22T15:51:36.198Z"
   },
   {
    "duration": 11,
    "start_time": "2023-07-22T15:56:02.367Z"
   },
   {
    "duration": 496,
    "start_time": "2023-07-22T15:56:09.539Z"
   },
   {
    "duration": 630,
    "start_time": "2023-07-22T15:56:16.633Z"
   },
   {
    "duration": 461,
    "start_time": "2023-07-22T15:56:22.909Z"
   },
   {
    "duration": 402,
    "start_time": "2023-07-22T15:56:31.570Z"
   },
   {
    "duration": 21,
    "start_time": "2023-07-22T16:08:27.426Z"
   },
   {
    "duration": 19,
    "start_time": "2023-07-22T16:09:00.958Z"
   },
   {
    "duration": 116,
    "start_time": "2023-07-22T16:09:14.273Z"
   },
   {
    "duration": 23,
    "start_time": "2023-07-22T16:09:18.237Z"
   },
   {
    "duration": 39,
    "start_time": "2023-07-22T16:12:52.802Z"
   },
   {
    "duration": 2185,
    "start_time": "2023-07-22T16:14:29.463Z"
   },
   {
    "duration": 105,
    "start_time": "2023-07-22T16:14:52.888Z"
   },
   {
    "duration": 954,
    "start_time": "2023-07-22T16:16:37.328Z"
   },
   {
    "duration": 1037,
    "start_time": "2023-07-22T16:17:13.375Z"
   },
   {
    "duration": 189,
    "start_time": "2023-07-22T16:17:38.434Z"
   },
   {
    "duration": 18,
    "start_time": "2023-07-22T17:37:16.350Z"
   },
   {
    "duration": 12,
    "start_time": "2023-07-22T17:41:23.043Z"
   },
   {
    "duration": 37,
    "start_time": "2023-07-22T17:44:47.292Z"
   },
   {
    "duration": 7,
    "start_time": "2023-07-22T17:48:23.141Z"
   },
   {
    "duration": 454,
    "start_time": "2023-07-22T17:51:07.264Z"
   },
   {
    "duration": 4,
    "start_time": "2023-07-22T17:51:16.397Z"
   },
   {
    "duration": 4,
    "start_time": "2023-07-22T17:51:30.852Z"
   },
   {
    "duration": 57,
    "start_time": "2023-07-22T17:51:48.238Z"
   },
   {
    "duration": 349,
    "start_time": "2023-07-22T17:51:49.952Z"
   },
   {
    "duration": 56,
    "start_time": "2023-07-22T17:52:37.767Z"
   },
   {
    "duration": 51,
    "start_time": "2023-07-22T17:52:57.137Z"
   },
   {
    "duration": 453,
    "start_time": "2023-07-22T17:53:30.980Z"
   },
   {
    "duration": 58,
    "start_time": "2023-07-22T17:56:19.620Z"
   },
   {
    "duration": 51,
    "start_time": "2023-07-22T17:56:39.584Z"
   },
   {
    "duration": 44,
    "start_time": "2023-07-22T17:56:51.117Z"
   },
   {
    "duration": 50,
    "start_time": "2023-07-22T17:57:03.703Z"
   },
   {
    "duration": 75,
    "start_time": "2023-07-22T17:57:42.380Z"
   },
   {
    "duration": 41,
    "start_time": "2023-07-22T17:58:09.525Z"
   },
   {
    "duration": 55,
    "start_time": "2023-07-22T17:58:28.879Z"
   },
   {
    "duration": 46,
    "start_time": "2023-07-22T17:58:46.409Z"
   },
   {
    "duration": 76,
    "start_time": "2023-07-22T17:59:22.847Z"
   },
   {
    "duration": 59,
    "start_time": "2023-07-22T17:59:54.433Z"
   },
   {
    "duration": 84,
    "start_time": "2023-07-22T18:00:19.037Z"
   },
   {
    "duration": 56,
    "start_time": "2023-07-22T18:00:34.211Z"
   },
   {
    "duration": 372,
    "start_time": "2023-07-22T18:00:39.096Z"
   },
   {
    "duration": 380,
    "start_time": "2023-07-22T18:00:47.543Z"
   },
   {
    "duration": 39,
    "start_time": "2023-07-22T18:03:58.938Z"
   },
   {
    "duration": 366,
    "start_time": "2023-07-22T18:04:50.821Z"
   },
   {
    "duration": 19,
    "start_time": "2023-07-22T18:07:32.026Z"
   },
   {
    "duration": 11,
    "start_time": "2023-07-22T18:08:46.041Z"
   },
   {
    "duration": 28,
    "start_time": "2023-07-22T18:09:01.505Z"
   },
   {
    "duration": 24,
    "start_time": "2023-07-22T18:09:10.926Z"
   },
   {
    "duration": 37,
    "start_time": "2023-07-22T18:09:18.138Z"
   },
   {
    "duration": 220,
    "start_time": "2023-07-22T18:09:41.124Z"
   },
   {
    "duration": 17,
    "start_time": "2023-07-22T18:10:05.051Z"
   },
   {
    "duration": 231,
    "start_time": "2023-07-22T18:10:49.154Z"
   },
   {
    "duration": 9,
    "start_time": "2023-07-22T18:12:52.790Z"
   },
   {
    "duration": 401,
    "start_time": "2023-07-22T18:13:12.693Z"
   },
   {
    "duration": 10,
    "start_time": "2023-07-22T18:13:46.980Z"
   },
   {
    "duration": 363,
    "start_time": "2023-07-22T18:13:51.695Z"
   },
   {
    "duration": 1480,
    "start_time": "2023-07-22T18:24:37.963Z"
   },
   {
    "duration": 340,
    "start_time": "2023-07-22T18:24:39.445Z"
   },
   {
    "duration": 4,
    "start_time": "2023-07-22T18:24:39.786Z"
   },
   {
    "duration": 578,
    "start_time": "2023-07-22T18:24:39.792Z"
   },
   {
    "duration": 2,
    "start_time": "2023-07-22T18:24:40.373Z"
   },
   {
    "duration": 294,
    "start_time": "2023-07-22T18:24:40.377Z"
   },
   {
    "duration": 40,
    "start_time": "2023-07-22T18:24:40.673Z"
   },
   {
    "duration": 340,
    "start_time": "2023-07-22T18:24:40.715Z"
   },
   {
    "duration": 4,
    "start_time": "2023-07-22T18:24:41.056Z"
   },
   {
    "duration": 67,
    "start_time": "2023-07-22T18:24:41.062Z"
   },
   {
    "duration": 380,
    "start_time": "2023-07-22T18:24:41.131Z"
   },
   {
    "duration": 1498,
    "start_time": "2023-07-22T18:26:37.255Z"
   },
   {
    "duration": 339,
    "start_time": "2023-07-22T18:26:38.755Z"
   },
   {
    "duration": 17,
    "start_time": "2023-07-22T18:26:39.098Z"
   },
   {
    "duration": 539,
    "start_time": "2023-07-22T18:26:39.118Z"
   },
   {
    "duration": 2,
    "start_time": "2023-07-22T18:26:39.659Z"
   },
   {
    "duration": 287,
    "start_time": "2023-07-22T18:26:39.663Z"
   },
   {
    "duration": 26,
    "start_time": "2023-07-22T18:26:39.952Z"
   },
   {
    "duration": 346,
    "start_time": "2023-07-22T18:26:39.980Z"
   },
   {
    "duration": 4,
    "start_time": "2023-07-22T18:26:40.328Z"
   },
   {
    "duration": 60,
    "start_time": "2023-07-22T18:26:40.333Z"
   },
   {
    "duration": 393,
    "start_time": "2023-07-22T18:26:40.395Z"
   },
   {
    "duration": 670,
    "start_time": "2023-07-22T18:51:17.062Z"
   },
   {
    "duration": 33,
    "start_time": "2023-07-22T18:52:00.523Z"
   },
   {
    "duration": 541,
    "start_time": "2023-07-22T19:16:48.798Z"
   },
   {
    "duration": 1446,
    "start_time": "2023-07-22T19:16:58.037Z"
   },
   {
    "duration": 374,
    "start_time": "2023-07-22T19:16:59.485Z"
   },
   {
    "duration": 4,
    "start_time": "2023-07-22T19:16:59.861Z"
   },
   {
    "duration": 572,
    "start_time": "2023-07-22T19:16:59.866Z"
   },
   {
    "duration": 29,
    "start_time": "2023-07-22T19:17:00.440Z"
   },
   {
    "duration": 683,
    "start_time": "2023-07-22T19:17:00.470Z"
   },
   {
    "duration": 27,
    "start_time": "2023-07-22T19:17:01.155Z"
   },
   {
    "duration": 577,
    "start_time": "2023-07-22T19:17:01.184Z"
   },
   {
    "duration": 208,
    "start_time": "2023-07-22T19:17:01.763Z"
   },
   {
    "duration": 378,
    "start_time": "2023-07-22T19:17:01.972Z"
   },
   {
    "duration": 4,
    "start_time": "2023-07-22T19:17:02.352Z"
   },
   {
    "duration": 86,
    "start_time": "2023-07-22T19:17:02.358Z"
   },
   {
    "duration": 490,
    "start_time": "2023-07-22T19:17:02.447Z"
   },
   {
    "duration": 26,
    "start_time": "2023-07-22T19:18:14.636Z"
   },
   {
    "duration": 51,
    "start_time": "2023-07-22T19:45:36.625Z"
   },
   {
    "duration": 69,
    "start_time": "2023-07-22T19:45:53.092Z"
   },
   {
    "duration": 408,
    "start_time": "2023-07-22T19:52:16.704Z"
   },
   {
    "duration": 442,
    "start_time": "2023-07-22T19:58:47.546Z"
   },
   {
    "duration": 317,
    "start_time": "2023-07-22T19:59:52.506Z"
   },
   {
    "duration": 38,
    "start_time": "2023-07-22T20:00:07.805Z"
   },
   {
    "duration": 358,
    "start_time": "2023-07-22T20:00:13.300Z"
   },
   {
    "duration": 38,
    "start_time": "2023-07-22T20:00:39.106Z"
   },
   {
    "duration": 185,
    "start_time": "2023-07-22T20:00:45.543Z"
   },
   {
    "duration": 344,
    "start_time": "2023-07-22T20:00:51.506Z"
   },
   {
    "duration": 53,
    "start_time": "2023-07-22T20:01:19.601Z"
   },
   {
    "duration": 414,
    "start_time": "2023-07-22T20:01:26.805Z"
   },
   {
    "duration": 186,
    "start_time": "2023-07-22T20:01:35.339Z"
   },
   {
    "duration": 386,
    "start_time": "2023-07-22T20:01:45.706Z"
   },
   {
    "duration": 395,
    "start_time": "2023-07-22T20:02:22.201Z"
   },
   {
    "duration": 376,
    "start_time": "2023-07-22T20:03:13.008Z"
   },
   {
    "duration": 401,
    "start_time": "2023-07-22T20:03:33.642Z"
   },
   {
    "duration": 787,
    "start_time": "2023-07-22T20:04:03.754Z"
   },
   {
    "duration": 711,
    "start_time": "2023-07-22T20:04:43.366Z"
   },
   {
    "duration": 839,
    "start_time": "2023-07-22T20:04:52.324Z"
   },
   {
    "duration": 703,
    "start_time": "2023-07-22T20:05:35.151Z"
   },
   {
    "duration": 679,
    "start_time": "2023-07-22T20:05:41.818Z"
   },
   {
    "duration": 830,
    "start_time": "2023-07-22T20:07:00.908Z"
   },
   {
    "duration": 686,
    "start_time": "2023-07-22T20:07:10.155Z"
   },
   {
    "duration": 695,
    "start_time": "2023-07-22T20:07:19.303Z"
   },
   {
    "duration": 678,
    "start_time": "2023-07-22T20:07:24.754Z"
   },
   {
    "duration": 785,
    "start_time": "2023-07-22T20:09:57.062Z"
   },
   {
    "duration": 720,
    "start_time": "2023-07-22T20:10:42.779Z"
   },
   {
    "duration": 734,
    "start_time": "2023-07-22T20:10:56.924Z"
   },
   {
    "duration": 750,
    "start_time": "2023-07-22T20:11:11.326Z"
   },
   {
    "duration": 434,
    "start_time": "2023-07-22T20:12:32.734Z"
   },
   {
    "duration": 456,
    "start_time": "2023-07-22T20:13:05.865Z"
   },
   {
    "duration": 664,
    "start_time": "2023-07-22T20:15:26.711Z"
   },
   {
    "duration": 494,
    "start_time": "2023-07-22T20:15:37.832Z"
   },
   {
    "duration": 498,
    "start_time": "2023-07-22T20:17:21.844Z"
   },
   {
    "duration": 449,
    "start_time": "2023-07-22T20:17:28.336Z"
   },
   {
    "duration": 474,
    "start_time": "2023-07-22T20:19:04.950Z"
   },
   {
    "duration": 493,
    "start_time": "2023-07-22T20:19:56.145Z"
   },
   {
    "duration": 464,
    "start_time": "2023-07-22T20:20:38.926Z"
   },
   {
    "duration": 446,
    "start_time": "2023-07-22T20:21:39.426Z"
   },
   {
    "duration": 1542,
    "start_time": "2023-07-22T20:22:08.933Z"
   },
   {
    "duration": 421,
    "start_time": "2023-07-22T20:22:10.477Z"
   },
   {
    "duration": 3,
    "start_time": "2023-07-22T20:22:10.900Z"
   },
   {
    "duration": 602,
    "start_time": "2023-07-22T20:22:10.907Z"
   },
   {
    "duration": 34,
    "start_time": "2023-07-22T20:22:11.512Z"
   },
   {
    "duration": 686,
    "start_time": "2023-07-22T20:22:11.547Z"
   },
   {
    "duration": 33,
    "start_time": "2023-07-22T20:22:12.237Z"
   },
   {
    "duration": 688,
    "start_time": "2023-07-22T20:22:12.272Z"
   },
   {
    "duration": 24,
    "start_time": "2023-07-22T20:22:12.962Z"
   },
   {
    "duration": 105,
    "start_time": "2023-07-22T20:22:12.988Z"
   },
   {
    "duration": 544,
    "start_time": "2023-07-22T20:22:13.095Z"
   },
   {
    "duration": 521,
    "start_time": "2023-07-22T20:24:37.803Z"
   },
   {
    "duration": 478,
    "start_time": "2023-07-22T20:24:55.221Z"
   },
   {
    "duration": 452,
    "start_time": "2023-07-22T20:25:50.105Z"
   },
   {
    "duration": 454,
    "start_time": "2023-07-22T20:26:37.482Z"
   },
   {
    "duration": 466,
    "start_time": "2023-07-22T20:26:45.626Z"
   },
   {
    "duration": 643,
    "start_time": "2023-07-22T20:27:04.605Z"
   },
   {
    "duration": 1719,
    "start_time": "2023-07-22T20:27:46.220Z"
   },
   {
    "duration": 414,
    "start_time": "2023-07-22T20:27:47.941Z"
   },
   {
    "duration": 4,
    "start_time": "2023-07-22T20:27:48.356Z"
   },
   {
    "duration": 606,
    "start_time": "2023-07-22T20:27:48.362Z"
   },
   {
    "duration": 27,
    "start_time": "2023-07-22T20:27:48.970Z"
   },
   {
    "duration": 677,
    "start_time": "2023-07-22T20:27:48.998Z"
   },
   {
    "duration": 37,
    "start_time": "2023-07-22T20:27:49.676Z"
   },
   {
    "duration": 582,
    "start_time": "2023-07-22T20:27:49.714Z"
   },
   {
    "duration": 33,
    "start_time": "2023-07-22T20:27:50.298Z"
   },
   {
    "duration": 97,
    "start_time": "2023-07-22T20:27:50.333Z"
   },
   {
    "duration": 546,
    "start_time": "2023-07-22T20:27:50.431Z"
   },
   {
    "duration": 1489,
    "start_time": "2023-07-22T20:48:55.877Z"
   },
   {
    "duration": 375,
    "start_time": "2023-07-22T20:48:57.368Z"
   },
   {
    "duration": 5,
    "start_time": "2023-07-22T20:48:57.744Z"
   },
   {
    "duration": 571,
    "start_time": "2023-07-22T20:48:57.750Z"
   },
   {
    "duration": 33,
    "start_time": "2023-07-22T20:48:58.329Z"
   },
   {
    "duration": 625,
    "start_time": "2023-07-22T20:48:58.364Z"
   },
   {
    "duration": 36,
    "start_time": "2023-07-22T20:48:58.990Z"
   },
   {
    "duration": 549,
    "start_time": "2023-07-22T20:48:59.032Z"
   },
   {
    "duration": 40,
    "start_time": "2023-07-22T20:48:59.583Z"
   },
   {
    "duration": 105,
    "start_time": "2023-07-22T20:48:59.628Z"
   },
   {
    "duration": 452,
    "start_time": "2023-07-22T20:48:59.739Z"
   },
   {
    "duration": 449,
    "start_time": "2023-07-22T21:09:34.207Z"
   },
   {
    "duration": 427,
    "start_time": "2023-07-22T21:09:55.847Z"
   },
   {
    "duration": 138,
    "start_time": "2023-07-22T21:11:49.279Z"
   },
   {
    "duration": 84,
    "start_time": "2023-07-22T21:12:10.006Z"
   },
   {
    "duration": 88,
    "start_time": "2023-07-22T21:12:45.981Z"
   },
   {
    "duration": 900,
    "start_time": "2023-07-22T21:13:53.988Z"
   },
   {
    "duration": 1445,
    "start_time": "2023-07-22T21:21:16.117Z"
   },
   {
    "duration": 396,
    "start_time": "2023-07-22T21:21:17.563Z"
   },
   {
    "duration": 8,
    "start_time": "2023-07-22T21:21:17.961Z"
   },
   {
    "duration": 708,
    "start_time": "2023-07-22T21:21:17.971Z"
   },
   {
    "duration": 45,
    "start_time": "2023-07-22T21:21:18.682Z"
   },
   {
    "duration": 713,
    "start_time": "2023-07-22T21:21:18.729Z"
   },
   {
    "duration": 26,
    "start_time": "2023-07-22T21:21:19.443Z"
   },
   {
    "duration": 605,
    "start_time": "2023-07-22T21:21:19.471Z"
   },
   {
    "duration": 39,
    "start_time": "2023-07-22T21:21:20.078Z"
   },
   {
    "duration": 97,
    "start_time": "2023-07-22T21:21:20.124Z"
   },
   {
    "duration": 457,
    "start_time": "2023-07-22T21:21:20.222Z"
   },
   {
    "duration": 1004,
    "start_time": "2023-07-22T21:21:20.681Z"
   },
   {
    "duration": 912,
    "start_time": "2023-07-22T21:21:43.829Z"
   },
   {
    "duration": 933,
    "start_time": "2023-07-22T21:22:50.295Z"
   },
   {
    "duration": 1095,
    "start_time": "2023-07-22T21:24:02.452Z"
   },
   {
    "duration": 973,
    "start_time": "2023-07-22T21:24:12.076Z"
   },
   {
    "duration": 1005,
    "start_time": "2023-07-22T21:25:01.834Z"
   },
   {
    "duration": 165,
    "start_time": "2023-07-22T21:25:16.942Z"
   },
   {
    "duration": 903,
    "start_time": "2023-07-22T21:25:46.991Z"
   },
   {
    "duration": 1503,
    "start_time": "2023-07-22T21:27:06.449Z"
   },
   {
    "duration": 398,
    "start_time": "2023-07-22T21:27:07.954Z"
   },
   {
    "duration": 6,
    "start_time": "2023-07-22T21:27:08.354Z"
   },
   {
    "duration": 604,
    "start_time": "2023-07-22T21:27:08.362Z"
   },
   {
    "duration": 51,
    "start_time": "2023-07-22T21:27:08.968Z"
   },
   {
    "duration": 655,
    "start_time": "2023-07-22T21:27:09.022Z"
   },
   {
    "duration": 44,
    "start_time": "2023-07-22T21:27:09.679Z"
   },
   {
    "duration": 590,
    "start_time": "2023-07-22T21:27:09.728Z"
   },
   {
    "duration": 34,
    "start_time": "2023-07-22T21:27:10.324Z"
   },
   {
    "duration": 98,
    "start_time": "2023-07-22T21:27:10.360Z"
   },
   {
    "duration": 482,
    "start_time": "2023-07-22T21:27:10.460Z"
   },
   {
    "duration": 1077,
    "start_time": "2023-07-22T21:27:10.943Z"
   },
   {
    "duration": 122,
    "start_time": "2023-07-22T21:49:00.735Z"
   },
   {
    "duration": 393,
    "start_time": "2023-07-22T21:49:31.363Z"
   },
   {
    "duration": 391,
    "start_time": "2023-07-22T21:51:22.525Z"
   },
   {
    "duration": 3,
    "start_time": "2023-07-22T21:51:51.756Z"
   },
   {
    "duration": 342,
    "start_time": "2023-07-22T21:52:00.222Z"
   },
   {
    "duration": 324,
    "start_time": "2023-07-22T21:52:50.345Z"
   },
   {
    "duration": 336,
    "start_time": "2023-07-22T21:53:15.548Z"
   },
   {
    "duration": 24425,
    "start_time": "2023-07-22T22:00:05.752Z"
   },
   {
    "duration": 14,
    "start_time": "2023-07-22T22:00:58.491Z"
   },
   {
    "duration": 184139,
    "start_time": "2023-07-22T22:01:28.736Z"
   },
   {
    "duration": 9,
    "start_time": "2023-07-22T22:34:36.546Z"
   },
   {
    "duration": 16,
    "start_time": "2023-07-22T22:34:50.717Z"
   },
   {
    "duration": 596,
    "start_time": "2023-07-22T22:37:22.384Z"
   },
   {
    "duration": 12,
    "start_time": "2023-07-22T22:43:41.871Z"
   },
   {
    "duration": 12,
    "start_time": "2023-07-22T22:47:58.651Z"
   },
   {
    "duration": 16,
    "start_time": "2023-07-22T22:53:56.069Z"
   },
   {
    "duration": 12,
    "start_time": "2023-07-22T23:00:20.722Z"
   },
   {
    "duration": 12,
    "start_time": "2023-07-22T23:12:32.942Z"
   },
   {
    "duration": 19,
    "start_time": "2023-07-22T23:12:46.845Z"
   },
   {
    "duration": 10,
    "start_time": "2023-07-22T23:12:48.879Z"
   },
   {
    "duration": 3,
    "start_time": "2023-07-22T23:17:31.998Z"
   },
   {
    "duration": 4,
    "start_time": "2023-07-22T23:17:42.193Z"
   },
   {
    "duration": 6,
    "start_time": "2023-07-22T23:25:13.835Z"
   },
   {
    "duration": 6,
    "start_time": "2023-07-22T23:27:13.122Z"
   },
   {
    "duration": 6,
    "start_time": "2023-07-22T23:27:21.287Z"
   },
   {
    "duration": 6,
    "start_time": "2023-07-22T23:27:33.589Z"
   },
   {
    "duration": 10,
    "start_time": "2023-07-22T23:31:09.567Z"
   },
   {
    "duration": 8,
    "start_time": "2023-07-22T23:33:14.023Z"
   },
   {
    "duration": 9,
    "start_time": "2023-07-22T23:34:17.272Z"
   },
   {
    "duration": 10,
    "start_time": "2023-07-22T23:35:17.752Z"
   },
   {
    "duration": 5,
    "start_time": "2023-07-22T23:48:04.350Z"
   },
   {
    "duration": 1430,
    "start_time": "2023-07-22T23:50:01.770Z"
   },
   {
    "duration": 341,
    "start_time": "2023-07-22T23:50:03.202Z"
   },
   {
    "duration": 5,
    "start_time": "2023-07-22T23:50:03.545Z"
   },
   {
    "duration": 557,
    "start_time": "2023-07-22T23:50:03.552Z"
   },
   {
    "duration": 35,
    "start_time": "2023-07-22T23:50:04.117Z"
   },
   {
    "duration": 631,
    "start_time": "2023-07-22T23:50:04.153Z"
   },
   {
    "duration": 37,
    "start_time": "2023-07-22T23:50:04.786Z"
   },
   {
    "duration": 534,
    "start_time": "2023-07-22T23:50:04.825Z"
   },
   {
    "duration": 24,
    "start_time": "2023-07-22T23:50:05.360Z"
   },
   {
    "duration": 97,
    "start_time": "2023-07-22T23:50:05.385Z"
   },
   {
    "duration": 437,
    "start_time": "2023-07-22T23:50:05.484Z"
   },
   {
    "duration": 945,
    "start_time": "2023-07-22T23:50:05.924Z"
   },
   {
    "duration": 3,
    "start_time": "2023-07-22T23:50:06.870Z"
   },
   {
    "duration": 375,
    "start_time": "2023-07-22T23:50:06.876Z"
   },
   {
    "duration": 385,
    "start_time": "2023-07-22T23:50:07.252Z"
   },
   {
    "duration": 334,
    "start_time": "2023-07-22T23:50:07.638Z"
   },
   {
    "duration": 1384,
    "start_time": "2023-07-22T23:51:08.270Z"
   },
   {
    "duration": 344,
    "start_time": "2023-07-22T23:51:09.656Z"
   },
   {
    "duration": 15,
    "start_time": "2023-07-22T23:51:10.001Z"
   },
   {
    "duration": 548,
    "start_time": "2023-07-22T23:51:10.018Z"
   },
   {
    "duration": 28,
    "start_time": "2023-07-22T23:51:10.568Z"
   },
   {
    "duration": 635,
    "start_time": "2023-07-22T23:51:10.606Z"
   },
   {
    "duration": 26,
    "start_time": "2023-07-22T23:51:11.243Z"
   },
   {
    "duration": 558,
    "start_time": "2023-07-22T23:51:11.270Z"
   },
   {
    "duration": 27,
    "start_time": "2023-07-22T23:51:11.830Z"
   },
   {
    "duration": 107,
    "start_time": "2023-07-22T23:51:11.858Z"
   },
   {
    "duration": 454,
    "start_time": "2023-07-22T23:51:11.966Z"
   },
   {
    "duration": 955,
    "start_time": "2023-07-22T23:51:12.423Z"
   },
   {
    "duration": 4,
    "start_time": "2023-07-22T23:51:13.380Z"
   },
   {
    "duration": 358,
    "start_time": "2023-07-22T23:51:13.387Z"
   },
   {
    "duration": 377,
    "start_time": "2023-07-22T23:51:13.747Z"
   },
   {
    "duration": 329,
    "start_time": "2023-07-22T23:51:14.126Z"
   },
   {
    "duration": 2,
    "start_time": "2023-07-22T23:51:14.457Z"
   },
   {
    "duration": 12,
    "start_time": "2023-07-22T23:51:14.460Z"
   },
   {
    "duration": 572,
    "start_time": "2023-07-22T23:51:14.473Z"
   },
   {
    "duration": 13,
    "start_time": "2023-07-22T23:51:15.047Z"
   },
   {
    "duration": 39,
    "start_time": "2023-07-22T23:51:15.062Z"
   },
   {
    "duration": 26,
    "start_time": "2023-07-22T23:51:15.103Z"
   },
   {
    "duration": 571,
    "start_time": "2023-07-22T23:51:15.130Z"
   },
   {
    "duration": 0,
    "start_time": "2023-07-22T23:51:15.703Z"
   },
   {
    "duration": 0,
    "start_time": "2023-07-22T23:51:15.706Z"
   },
   {
    "duration": 8,
    "start_time": "2023-07-22T23:52:57.792Z"
   },
   {
    "duration": 22,
    "start_time": "2023-07-22T23:54:14.828Z"
   },
   {
    "duration": 1451,
    "start_time": "2023-07-22T23:54:24.023Z"
   },
   {
    "duration": 353,
    "start_time": "2023-07-22T23:54:25.476Z"
   },
   {
    "duration": 5,
    "start_time": "2023-07-22T23:54:25.830Z"
   },
   {
    "duration": 610,
    "start_time": "2023-07-22T23:54:25.836Z"
   },
   {
    "duration": 29,
    "start_time": "2023-07-22T23:54:26.449Z"
   },
   {
    "duration": 706,
    "start_time": "2023-07-22T23:54:26.479Z"
   },
   {
    "duration": 39,
    "start_time": "2023-07-22T23:54:27.186Z"
   },
   {
    "duration": 613,
    "start_time": "2023-07-22T23:54:27.227Z"
   },
   {
    "duration": 26,
    "start_time": "2023-07-22T23:54:27.841Z"
   },
   {
    "duration": 101,
    "start_time": "2023-07-22T23:54:27.868Z"
   },
   {
    "duration": 438,
    "start_time": "2023-07-22T23:54:27.971Z"
   },
   {
    "duration": 947,
    "start_time": "2023-07-22T23:54:28.412Z"
   },
   {
    "duration": 4,
    "start_time": "2023-07-22T23:54:29.361Z"
   },
   {
    "duration": 371,
    "start_time": "2023-07-22T23:54:29.368Z"
   },
   {
    "duration": 341,
    "start_time": "2023-07-22T23:54:29.740Z"
   },
   {
    "duration": 363,
    "start_time": "2023-07-22T23:54:30.082Z"
   },
   {
    "duration": 2,
    "start_time": "2023-07-22T23:54:30.447Z"
   },
   {
    "duration": 75,
    "start_time": "2023-07-22T23:54:30.450Z"
   },
   {
    "duration": 735,
    "start_time": "2023-07-22T23:54:30.527Z"
   },
   {
    "duration": 12,
    "start_time": "2023-07-22T23:54:31.264Z"
   },
   {
    "duration": 34,
    "start_time": "2023-07-22T23:54:31.278Z"
   },
   {
    "duration": 24,
    "start_time": "2023-07-22T23:54:31.314Z"
   },
   {
    "duration": 89,
    "start_time": "2023-07-22T23:54:31.340Z"
   },
   {
    "duration": 92,
    "start_time": "2023-07-22T23:54:31.431Z"
   },
   {
    "duration": 105,
    "start_time": "2023-07-22T23:54:31.525Z"
   },
   {
    "duration": 7,
    "start_time": "2023-07-22T23:57:28.423Z"
   },
   {
    "duration": 261,
    "start_time": "2023-07-22T23:57:30.368Z"
   },
   {
    "duration": 7,
    "start_time": "2023-07-22T23:58:43.476Z"
   },
   {
    "duration": 16,
    "start_time": "2023-07-22T23:58:46.518Z"
   },
   {
    "duration": 1490,
    "start_time": "2023-07-23T00:04:22.230Z"
   },
   {
    "duration": 365,
    "start_time": "2023-07-23T00:04:23.722Z"
   },
   {
    "duration": 4,
    "start_time": "2023-07-23T00:04:24.089Z"
   },
   {
    "duration": 594,
    "start_time": "2023-07-23T00:04:24.095Z"
   },
   {
    "duration": 39,
    "start_time": "2023-07-23T00:04:24.691Z"
   },
   {
    "duration": 633,
    "start_time": "2023-07-23T00:04:24.731Z"
   },
   {
    "duration": 24,
    "start_time": "2023-07-23T00:04:25.366Z"
   },
   {
    "duration": 581,
    "start_time": "2023-07-23T00:04:25.392Z"
   },
   {
    "duration": 46,
    "start_time": "2023-07-23T00:04:25.975Z"
   },
   {
    "duration": 97,
    "start_time": "2023-07-23T00:04:26.024Z"
   },
   {
    "duration": 512,
    "start_time": "2023-07-23T00:04:26.123Z"
   },
   {
    "duration": 1049,
    "start_time": "2023-07-23T00:04:26.636Z"
   },
   {
    "duration": 3,
    "start_time": "2023-07-23T00:04:27.687Z"
   },
   {
    "duration": 376,
    "start_time": "2023-07-23T00:04:27.691Z"
   },
   {
    "duration": 388,
    "start_time": "2023-07-23T00:04:28.068Z"
   },
   {
    "duration": 389,
    "start_time": "2023-07-23T00:04:28.458Z"
   },
   {
    "duration": 2,
    "start_time": "2023-07-23T00:04:28.849Z"
   },
   {
    "duration": 15,
    "start_time": "2023-07-23T00:04:28.852Z"
   },
   {
    "duration": 703,
    "start_time": "2023-07-23T00:04:28.868Z"
   },
   {
    "duration": 12,
    "start_time": "2023-07-23T00:04:29.573Z"
   },
   {
    "duration": 27,
    "start_time": "2023-07-23T00:04:29.587Z"
   },
   {
    "duration": 8,
    "start_time": "2023-07-23T00:04:29.616Z"
   },
   {
    "duration": 85,
    "start_time": "2023-07-23T00:04:29.626Z"
   },
   {
    "duration": 14,
    "start_time": "2023-07-23T00:04:29.712Z"
   },
   {
    "duration": 97,
    "start_time": "2023-07-23T00:04:29.808Z"
   },
   {
    "duration": 10,
    "start_time": "2023-07-23T00:07:55.394Z"
   },
   {
    "duration": 84,
    "start_time": "2023-07-23T00:07:56.534Z"
   },
   {
    "duration": 1415,
    "start_time": "2023-07-23T00:11:55.722Z"
   },
   {
    "duration": 347,
    "start_time": "2023-07-23T00:11:57.139Z"
   },
   {
    "duration": 5,
    "start_time": "2023-07-23T00:11:57.488Z"
   },
   {
    "duration": 547,
    "start_time": "2023-07-23T00:11:57.495Z"
   },
   {
    "duration": 31,
    "start_time": "2023-07-23T00:11:58.044Z"
   },
   {
    "duration": 664,
    "start_time": "2023-07-23T00:11:58.077Z"
   },
   {
    "duration": 25,
    "start_time": "2023-07-23T00:11:58.742Z"
   },
   {
    "duration": 535,
    "start_time": "2023-07-23T00:11:58.768Z"
   },
   {
    "duration": 27,
    "start_time": "2023-07-23T00:11:59.306Z"
   },
   {
    "duration": 98,
    "start_time": "2023-07-23T00:11:59.334Z"
   },
   {
    "duration": 425,
    "start_time": "2023-07-23T00:11:59.434Z"
   },
   {
    "duration": 942,
    "start_time": "2023-07-23T00:11:59.860Z"
   },
   {
    "duration": 16,
    "start_time": "2023-07-23T00:12:00.804Z"
   },
   {
    "duration": 355,
    "start_time": "2023-07-23T00:12:00.823Z"
   },
   {
    "duration": 369,
    "start_time": "2023-07-23T00:12:01.179Z"
   },
   {
    "duration": 394,
    "start_time": "2023-07-23T00:12:01.550Z"
   },
   {
    "duration": 2,
    "start_time": "2023-07-23T00:12:01.946Z"
   },
   {
    "duration": 58,
    "start_time": "2023-07-23T00:12:01.949Z"
   },
   {
    "duration": 613,
    "start_time": "2023-07-23T00:12:02.008Z"
   },
   {
    "duration": 18,
    "start_time": "2023-07-23T00:12:02.624Z"
   },
   {
    "duration": 25,
    "start_time": "2023-07-23T00:12:02.644Z"
   },
   {
    "duration": 6,
    "start_time": "2023-07-23T00:12:02.671Z"
   },
   {
    "duration": 312,
    "start_time": "2023-07-23T00:12:02.679Z"
   },
   {
    "duration": 0,
    "start_time": "2023-07-23T00:12:02.992Z"
   },
   {
    "duration": 0,
    "start_time": "2023-07-23T00:12:02.993Z"
   },
   {
    "duration": 1460,
    "start_time": "2023-07-23T00:13:02.207Z"
   },
   {
    "duration": 367,
    "start_time": "2023-07-23T00:13:03.668Z"
   },
   {
    "duration": 5,
    "start_time": "2023-07-23T00:13:04.037Z"
   },
   {
    "duration": 553,
    "start_time": "2023-07-23T00:13:04.044Z"
   },
   {
    "duration": 36,
    "start_time": "2023-07-23T00:13:04.599Z"
   },
   {
    "duration": 612,
    "start_time": "2023-07-23T00:13:04.637Z"
   },
   {
    "duration": 28,
    "start_time": "2023-07-23T00:13:05.250Z"
   },
   {
    "duration": 550,
    "start_time": "2023-07-23T00:13:05.280Z"
   },
   {
    "duration": 27,
    "start_time": "2023-07-23T00:13:05.832Z"
   },
   {
    "duration": 108,
    "start_time": "2023-07-23T00:13:05.862Z"
   },
   {
    "duration": 441,
    "start_time": "2023-07-23T00:13:05.972Z"
   },
   {
    "duration": 944,
    "start_time": "2023-07-23T00:13:06.415Z"
   },
   {
    "duration": 3,
    "start_time": "2023-07-23T00:13:07.361Z"
   },
   {
    "duration": 382,
    "start_time": "2023-07-23T00:13:07.366Z"
   },
   {
    "duration": 341,
    "start_time": "2023-07-23T00:13:07.750Z"
   },
   {
    "duration": 357,
    "start_time": "2023-07-23T00:13:08.093Z"
   },
   {
    "duration": 2,
    "start_time": "2023-07-23T00:13:08.451Z"
   },
   {
    "duration": 10,
    "start_time": "2023-07-23T00:13:08.455Z"
   },
   {
    "duration": 595,
    "start_time": "2023-07-23T00:13:08.466Z"
   },
   {
    "duration": 11,
    "start_time": "2023-07-23T00:13:09.063Z"
   },
   {
    "duration": 24,
    "start_time": "2023-07-23T00:13:09.075Z"
   },
   {
    "duration": 24,
    "start_time": "2023-07-23T00:13:09.100Z"
   },
   {
    "duration": 96,
    "start_time": "2023-07-23T00:13:09.126Z"
   },
   {
    "duration": 92,
    "start_time": "2023-07-23T00:13:09.225Z"
   },
   {
    "duration": 86,
    "start_time": "2023-07-23T00:13:09.327Z"
   },
   {
    "duration": 1458,
    "start_time": "2023-07-23T00:18:15.282Z"
   },
   {
    "duration": 351,
    "start_time": "2023-07-23T00:18:16.742Z"
   },
   {
    "duration": 5,
    "start_time": "2023-07-23T00:18:17.094Z"
   },
   {
    "duration": 545,
    "start_time": "2023-07-23T00:18:17.101Z"
   },
   {
    "duration": 26,
    "start_time": "2023-07-23T00:18:17.648Z"
   },
   {
    "duration": 644,
    "start_time": "2023-07-23T00:18:17.676Z"
   },
   {
    "duration": 27,
    "start_time": "2023-07-23T00:18:18.322Z"
   },
   {
    "duration": 597,
    "start_time": "2023-07-23T00:18:18.350Z"
   },
   {
    "duration": 28,
    "start_time": "2023-07-23T00:18:18.949Z"
   },
   {
    "duration": 105,
    "start_time": "2023-07-23T00:18:18.980Z"
   },
   {
    "duration": 498,
    "start_time": "2023-07-23T00:18:19.088Z"
   },
   {
    "duration": 1094,
    "start_time": "2023-07-23T00:18:19.588Z"
   },
   {
    "duration": 5,
    "start_time": "2023-07-23T00:18:20.684Z"
   },
   {
    "duration": 393,
    "start_time": "2023-07-23T00:18:20.691Z"
   },
   {
    "duration": 400,
    "start_time": "2023-07-23T00:18:21.086Z"
   },
   {
    "duration": 401,
    "start_time": "2023-07-23T00:18:21.488Z"
   },
   {
    "duration": 2,
    "start_time": "2023-07-23T00:18:21.892Z"
   },
   {
    "duration": 61,
    "start_time": "2023-07-23T00:18:21.896Z"
   },
   {
    "duration": 810,
    "start_time": "2023-07-23T00:18:21.959Z"
   },
   {
    "duration": 13,
    "start_time": "2023-07-23T00:18:22.770Z"
   },
   {
    "duration": 25,
    "start_time": "2023-07-23T00:18:22.785Z"
   },
   {
    "duration": 10,
    "start_time": "2023-07-23T00:18:22.816Z"
   },
   {
    "duration": 93,
    "start_time": "2023-07-23T00:18:22.828Z"
   },
   {
    "duration": 145,
    "start_time": "2023-07-23T00:18:22.924Z"
   },
   {
    "duration": 0,
    "start_time": "2023-07-23T00:18:23.070Z"
   },
   {
    "duration": 1404,
    "start_time": "2023-07-23T00:19:19.635Z"
   },
   {
    "duration": 356,
    "start_time": "2023-07-23T00:19:21.041Z"
   },
   {
    "duration": 11,
    "start_time": "2023-07-23T00:19:21.399Z"
   },
   {
    "duration": 549,
    "start_time": "2023-07-23T00:19:21.411Z"
   },
   {
    "duration": 28,
    "start_time": "2023-07-23T00:19:21.963Z"
   },
   {
    "duration": 673,
    "start_time": "2023-07-23T00:19:21.993Z"
   },
   {
    "duration": 24,
    "start_time": "2023-07-23T00:19:22.667Z"
   },
   {
    "duration": 554,
    "start_time": "2023-07-23T00:19:22.692Z"
   },
   {
    "duration": 25,
    "start_time": "2023-07-23T00:19:23.248Z"
   },
   {
    "duration": 110,
    "start_time": "2023-07-23T00:19:23.274Z"
   },
   {
    "duration": 449,
    "start_time": "2023-07-23T00:19:23.386Z"
   },
   {
    "duration": 991,
    "start_time": "2023-07-23T00:19:23.836Z"
   },
   {
    "duration": 3,
    "start_time": "2023-07-23T00:19:24.829Z"
   },
   {
    "duration": 360,
    "start_time": "2023-07-23T00:19:24.834Z"
   },
   {
    "duration": 351,
    "start_time": "2023-07-23T00:19:25.195Z"
   },
   {
    "duration": 346,
    "start_time": "2023-07-23T00:19:25.547Z"
   },
   {
    "duration": 1,
    "start_time": "2023-07-23T00:19:25.895Z"
   },
   {
    "duration": 17,
    "start_time": "2023-07-23T00:19:25.906Z"
   },
   {
    "duration": 697,
    "start_time": "2023-07-23T00:19:25.925Z"
   },
   {
    "duration": 16,
    "start_time": "2023-07-23T00:19:26.624Z"
   },
   {
    "duration": 10,
    "start_time": "2023-07-23T00:19:26.642Z"
   },
   {
    "duration": 5,
    "start_time": "2023-07-23T00:19:26.654Z"
   },
   {
    "duration": 61,
    "start_time": "2023-07-23T00:19:26.661Z"
   },
   {
    "duration": 104,
    "start_time": "2023-07-23T00:19:26.725Z"
   },
   {
    "duration": 106,
    "start_time": "2023-07-23T00:19:26.909Z"
   },
   {
    "duration": 10,
    "start_time": "2023-07-23T00:21:07.682Z"
   },
   {
    "duration": 93,
    "start_time": "2023-07-23T00:21:11.920Z"
   },
   {
    "duration": 11,
    "start_time": "2023-07-23T00:24:24.545Z"
   },
   {
    "duration": 158,
    "start_time": "2023-07-23T00:24:47.756Z"
   },
   {
    "duration": 4,
    "start_time": "2023-07-23T00:26:32.887Z"
   },
   {
    "duration": 1444,
    "start_time": "2023-07-23T00:26:37.693Z"
   },
   {
    "duration": 337,
    "start_time": "2023-07-23T00:26:39.139Z"
   },
   {
    "duration": 5,
    "start_time": "2023-07-23T00:26:39.478Z"
   },
   {
    "duration": 549,
    "start_time": "2023-07-23T00:26:39.485Z"
   },
   {
    "duration": 27,
    "start_time": "2023-07-23T00:26:40.036Z"
   },
   {
    "duration": 628,
    "start_time": "2023-07-23T00:26:40.065Z"
   },
   {
    "duration": 37,
    "start_time": "2023-07-23T00:26:40.694Z"
   },
   {
    "duration": 538,
    "start_time": "2023-07-23T00:26:40.732Z"
   },
   {
    "duration": 25,
    "start_time": "2023-07-23T00:26:41.272Z"
   },
   {
    "duration": 89,
    "start_time": "2023-07-23T00:26:41.310Z"
   },
   {
    "duration": 430,
    "start_time": "2023-07-23T00:26:41.401Z"
   },
   {
    "duration": 979,
    "start_time": "2023-07-23T00:26:41.833Z"
   },
   {
    "duration": 3,
    "start_time": "2023-07-23T00:26:42.815Z"
   },
   {
    "duration": 339,
    "start_time": "2023-07-23T00:26:42.823Z"
   },
   {
    "duration": 374,
    "start_time": "2023-07-23T00:26:43.163Z"
   },
   {
    "duration": 334,
    "start_time": "2023-07-23T00:26:43.538Z"
   },
   {
    "duration": 3,
    "start_time": "2023-07-23T00:26:43.874Z"
   },
   {
    "duration": 33,
    "start_time": "2023-07-23T00:26:43.878Z"
   },
   {
    "duration": 563,
    "start_time": "2023-07-23T00:26:43.915Z"
   },
   {
    "duration": 11,
    "start_time": "2023-07-23T00:26:44.480Z"
   },
   {
    "duration": 35,
    "start_time": "2023-07-23T00:26:44.492Z"
   },
   {
    "duration": 95,
    "start_time": "2023-07-23T00:26:44.528Z"
   },
   {
    "duration": 95,
    "start_time": "2023-07-23T00:26:44.625Z"
   },
   {
    "duration": 92,
    "start_time": "2023-07-23T00:26:44.722Z"
   },
   {
    "duration": 87,
    "start_time": "2023-07-23T00:26:44.821Z"
   },
   {
    "duration": 96,
    "start_time": "2023-07-23T00:26:44.910Z"
   },
   {
    "duration": 101,
    "start_time": "2023-07-23T00:26:45.009Z"
   },
   {
    "duration": 1420,
    "start_time": "2023-07-23T00:33:36.480Z"
   },
   {
    "duration": 352,
    "start_time": "2023-07-23T00:33:37.902Z"
   },
   {
    "duration": 4,
    "start_time": "2023-07-23T00:33:38.256Z"
   },
   {
    "duration": 539,
    "start_time": "2023-07-23T00:33:38.262Z"
   },
   {
    "duration": 36,
    "start_time": "2023-07-23T00:33:38.802Z"
   },
   {
    "duration": 602,
    "start_time": "2023-07-23T00:33:38.840Z"
   },
   {
    "duration": 26,
    "start_time": "2023-07-23T00:33:39.444Z"
   },
   {
    "duration": 555,
    "start_time": "2023-07-23T00:33:39.472Z"
   },
   {
    "duration": 26,
    "start_time": "2023-07-23T00:33:40.029Z"
   },
   {
    "duration": 99,
    "start_time": "2023-07-23T00:33:40.058Z"
   },
   {
    "duration": 422,
    "start_time": "2023-07-23T00:33:40.158Z"
   },
   {
    "duration": 945,
    "start_time": "2023-07-23T00:33:40.581Z"
   },
   {
    "duration": 4,
    "start_time": "2023-07-23T00:33:41.527Z"
   },
   {
    "duration": 349,
    "start_time": "2023-07-23T00:33:41.533Z"
   },
   {
    "duration": 360,
    "start_time": "2023-07-23T00:33:41.884Z"
   },
   {
    "duration": 358,
    "start_time": "2023-07-23T00:33:42.246Z"
   },
   {
    "duration": 8,
    "start_time": "2023-07-23T00:33:42.606Z"
   },
   {
    "duration": 12,
    "start_time": "2023-07-23T00:33:42.616Z"
   },
   {
    "duration": 535,
    "start_time": "2023-07-23T00:33:42.629Z"
   },
   {
    "duration": 12,
    "start_time": "2023-07-23T00:33:43.166Z"
   },
   {
    "duration": 8,
    "start_time": "2023-07-23T00:33:43.179Z"
   },
   {
    "duration": 25,
    "start_time": "2023-07-23T00:33:43.188Z"
   },
   {
    "duration": 92,
    "start_time": "2023-07-23T00:33:43.221Z"
   },
   {
    "duration": 94,
    "start_time": "2023-07-23T00:33:43.315Z"
   },
   {
    "duration": 97,
    "start_time": "2023-07-23T00:33:43.410Z"
   },
   {
    "duration": 13,
    "start_time": "2023-07-23T00:33:43.509Z"
   },
   {
    "duration": 100,
    "start_time": "2023-07-23T00:33:43.526Z"
   },
   {
    "duration": 4,
    "start_time": "2023-07-23T00:39:52.490Z"
   },
   {
    "duration": 20,
    "start_time": "2023-07-23T00:39:54.727Z"
   },
   {
    "duration": 1537,
    "start_time": "2023-07-23T00:40:01.486Z"
   },
   {
    "duration": 344,
    "start_time": "2023-07-23T00:40:03.025Z"
   },
   {
    "duration": 4,
    "start_time": "2023-07-23T00:40:03.371Z"
   },
   {
    "duration": 566,
    "start_time": "2023-07-23T00:40:03.377Z"
   },
   {
    "duration": 31,
    "start_time": "2023-07-23T00:40:03.946Z"
   },
   {
    "duration": 645,
    "start_time": "2023-07-23T00:40:03.978Z"
   },
   {
    "duration": 25,
    "start_time": "2023-07-23T00:40:04.624Z"
   },
   {
    "duration": 522,
    "start_time": "2023-07-23T00:40:04.651Z"
   },
   {
    "duration": 32,
    "start_time": "2023-07-23T00:40:05.175Z"
   },
   {
    "duration": 86,
    "start_time": "2023-07-23T00:40:05.211Z"
   },
   {
    "duration": 444,
    "start_time": "2023-07-23T00:40:05.299Z"
   },
   {
    "duration": 941,
    "start_time": "2023-07-23T00:40:05.745Z"
   },
   {
    "duration": 3,
    "start_time": "2023-07-23T00:40:06.688Z"
   },
   {
    "duration": 357,
    "start_time": "2023-07-23T00:40:06.693Z"
   },
   {
    "duration": 342,
    "start_time": "2023-07-23T00:40:07.051Z"
   },
   {
    "duration": 355,
    "start_time": "2023-07-23T00:40:07.395Z"
   },
   {
    "duration": 2,
    "start_time": "2023-07-23T00:40:07.752Z"
   },
   {
    "duration": 11,
    "start_time": "2023-07-23T00:40:07.756Z"
   },
   {
    "duration": 586,
    "start_time": "2023-07-23T00:40:07.769Z"
   },
   {
    "duration": 11,
    "start_time": "2023-07-23T00:40:08.356Z"
   },
   {
    "duration": 9,
    "start_time": "2023-07-23T00:40:08.369Z"
   },
   {
    "duration": 6,
    "start_time": "2023-07-23T00:40:08.379Z"
   },
   {
    "duration": 132,
    "start_time": "2023-07-23T00:40:08.386Z"
   },
   {
    "duration": 95,
    "start_time": "2023-07-23T00:40:08.520Z"
   },
   {
    "duration": 91,
    "start_time": "2023-07-23T00:40:08.618Z"
   },
   {
    "duration": 20,
    "start_time": "2023-07-23T00:40:08.711Z"
   },
   {
    "duration": 99,
    "start_time": "2023-07-23T00:40:08.733Z"
   },
   {
    "duration": 1465,
    "start_time": "2023-07-23T00:44:23.373Z"
   },
   {
    "duration": 354,
    "start_time": "2023-07-23T00:44:24.839Z"
   },
   {
    "duration": 6,
    "start_time": "2023-07-23T00:44:25.194Z"
   },
   {
    "duration": 539,
    "start_time": "2023-07-23T00:44:25.202Z"
   },
   {
    "duration": 29,
    "start_time": "2023-07-23T00:44:25.743Z"
   },
   {
    "duration": 650,
    "start_time": "2023-07-23T00:44:25.773Z"
   },
   {
    "duration": 29,
    "start_time": "2023-07-23T00:44:26.425Z"
   },
   {
    "duration": 629,
    "start_time": "2023-07-23T00:44:26.455Z"
   },
   {
    "duration": 39,
    "start_time": "2023-07-23T00:44:27.086Z"
   },
   {
    "duration": 107,
    "start_time": "2023-07-23T00:44:27.128Z"
   },
   {
    "duration": 513,
    "start_time": "2023-07-23T00:44:27.237Z"
   },
   {
    "duration": 989,
    "start_time": "2023-07-23T00:44:27.752Z"
   },
   {
    "duration": 4,
    "start_time": "2023-07-23T00:44:28.743Z"
   },
   {
    "duration": 407,
    "start_time": "2023-07-23T00:44:28.749Z"
   },
   {
    "duration": 393,
    "start_time": "2023-07-23T00:44:29.158Z"
   },
   {
    "duration": 398,
    "start_time": "2023-07-23T00:44:29.552Z"
   },
   {
    "duration": 2,
    "start_time": "2023-07-23T00:44:29.952Z"
   },
   {
    "duration": 39,
    "start_time": "2023-07-23T00:44:29.956Z"
   },
   {
    "duration": 633,
    "start_time": "2023-07-23T00:44:29.997Z"
   },
   {
    "duration": 13,
    "start_time": "2023-07-23T00:44:30.632Z"
   },
   {
    "duration": 37,
    "start_time": "2023-07-23T00:44:30.647Z"
   },
   {
    "duration": 44,
    "start_time": "2023-07-23T00:44:30.686Z"
   },
   {
    "duration": 84,
    "start_time": "2023-07-23T00:44:30.732Z"
   },
   {
    "duration": 95,
    "start_time": "2023-07-23T00:44:30.821Z"
   },
   {
    "duration": 47,
    "start_time": "2023-07-23T00:44:30.917Z"
   },
   {
    "duration": 12,
    "start_time": "2023-07-23T00:44:31.008Z"
   },
   {
    "duration": 60,
    "start_time": "2023-07-23T00:44:31.022Z"
   },
   {
    "duration": 136,
    "start_time": "2023-07-23T00:44:31.085Z"
   },
   {
    "duration": 59,
    "start_time": "2023-07-23T00:44:31.222Z"
   },
   {
    "duration": 44,
    "start_time": "2023-07-23T00:44:31.283Z"
   },
   {
    "duration": 83,
    "start_time": "2023-07-23T00:44:31.329Z"
   },
   {
    "duration": 1527,
    "start_time": "2023-07-23T00:47:20.340Z"
   },
   {
    "duration": 379,
    "start_time": "2023-07-23T00:47:21.869Z"
   },
   {
    "duration": 5,
    "start_time": "2023-07-23T00:47:22.250Z"
   },
   {
    "duration": 646,
    "start_time": "2023-07-23T00:47:22.257Z"
   },
   {
    "duration": 39,
    "start_time": "2023-07-23T00:47:22.907Z"
   },
   {
    "duration": 663,
    "start_time": "2023-07-23T00:47:22.948Z"
   },
   {
    "duration": 38,
    "start_time": "2023-07-23T00:47:23.619Z"
   },
   {
    "duration": 574,
    "start_time": "2023-07-23T00:47:23.659Z"
   },
   {
    "duration": 25,
    "start_time": "2023-07-23T00:47:24.235Z"
   },
   {
    "duration": 99,
    "start_time": "2023-07-23T00:47:24.262Z"
   },
   {
    "duration": 446,
    "start_time": "2023-07-23T00:47:24.363Z"
   },
   {
    "duration": 934,
    "start_time": "2023-07-23T00:47:24.810Z"
   },
   {
    "duration": 4,
    "start_time": "2023-07-23T00:47:25.745Z"
   },
   {
    "duration": 435,
    "start_time": "2023-07-23T00:47:25.752Z"
   },
   {
    "duration": 400,
    "start_time": "2023-07-23T00:47:26.188Z"
   },
   {
    "duration": 438,
    "start_time": "2023-07-23T00:47:26.589Z"
   },
   {
    "duration": 2,
    "start_time": "2023-07-23T00:47:27.029Z"
   },
   {
    "duration": 21,
    "start_time": "2023-07-23T00:47:27.033Z"
   },
   {
    "duration": 638,
    "start_time": "2023-07-23T00:47:27.055Z"
   },
   {
    "duration": 25,
    "start_time": "2023-07-23T00:47:27.695Z"
   },
   {
    "duration": 10,
    "start_time": "2023-07-23T00:47:27.722Z"
   },
   {
    "duration": 4,
    "start_time": "2023-07-23T00:47:27.733Z"
   },
   {
    "duration": 75,
    "start_time": "2023-07-23T00:47:27.739Z"
   },
   {
    "duration": 3,
    "start_time": "2023-07-23T00:47:27.816Z"
   },
   {
    "duration": 108,
    "start_time": "2023-07-23T00:47:27.821Z"
   },
   {
    "duration": 7,
    "start_time": "2023-07-23T00:47:27.931Z"
   },
   {
    "duration": 72,
    "start_time": "2023-07-23T00:47:27.941Z"
   },
   {
    "duration": 101,
    "start_time": "2023-07-23T00:47:28.018Z"
   },
   {
    "duration": 3,
    "start_time": "2023-07-23T00:47:28.121Z"
   },
   {
    "duration": 94,
    "start_time": "2023-07-23T00:47:28.126Z"
   },
   {
    "duration": 95,
    "start_time": "2023-07-23T00:47:28.222Z"
   },
   {
    "duration": 1358,
    "start_time": "2023-07-23T00:50:59.735Z"
   },
   {
    "duration": 339,
    "start_time": "2023-07-23T00:51:01.095Z"
   },
   {
    "duration": 4,
    "start_time": "2023-07-23T00:51:01.436Z"
   },
   {
    "duration": 553,
    "start_time": "2023-07-23T00:51:01.442Z"
   },
   {
    "duration": 31,
    "start_time": "2023-07-23T00:51:01.997Z"
   },
   {
    "duration": 683,
    "start_time": "2023-07-23T00:51:02.030Z"
   },
   {
    "duration": 27,
    "start_time": "2023-07-23T00:51:02.714Z"
   },
   {
    "duration": 541,
    "start_time": "2023-07-23T00:51:02.743Z"
   },
   {
    "duration": 33,
    "start_time": "2023-07-23T00:51:03.286Z"
   },
   {
    "duration": 98,
    "start_time": "2023-07-23T00:51:03.321Z"
   },
   {
    "duration": 414,
    "start_time": "2023-07-23T00:51:03.421Z"
   },
   {
    "duration": 937,
    "start_time": "2023-07-23T00:51:03.836Z"
   },
   {
    "duration": 4,
    "start_time": "2023-07-23T00:51:04.775Z"
   },
   {
    "duration": 455,
    "start_time": "2023-07-23T00:51:04.782Z"
   },
   {
    "duration": 339,
    "start_time": "2023-07-23T00:51:05.239Z"
   },
   {
    "duration": 356,
    "start_time": "2023-07-23T00:51:05.580Z"
   },
   {
    "duration": 2,
    "start_time": "2023-07-23T00:51:05.938Z"
   },
   {
    "duration": 11,
    "start_time": "2023-07-23T00:51:05.941Z"
   },
   {
    "duration": 578,
    "start_time": "2023-07-23T00:51:05.953Z"
   },
   {
    "duration": 14,
    "start_time": "2023-07-23T00:51:06.533Z"
   },
   {
    "duration": 11,
    "start_time": "2023-07-23T00:51:06.549Z"
   },
   {
    "duration": 21,
    "start_time": "2023-07-23T00:51:06.561Z"
   },
   {
    "duration": 126,
    "start_time": "2023-07-23T00:51:06.584Z"
   },
   {
    "duration": 94,
    "start_time": "2023-07-23T00:51:06.712Z"
   },
   {
    "duration": 100,
    "start_time": "2023-07-23T00:51:06.808Z"
   },
   {
    "duration": 98,
    "start_time": "2023-07-23T00:51:06.910Z"
   },
   {
    "duration": 19,
    "start_time": "2023-07-23T00:51:07.010Z"
   },
   {
    "duration": 1399,
    "start_time": "2023-07-23T00:57:24.791Z"
   },
   {
    "duration": 365,
    "start_time": "2023-07-23T00:57:26.192Z"
   },
   {
    "duration": 5,
    "start_time": "2023-07-23T00:57:26.558Z"
   },
   {
    "duration": 606,
    "start_time": "2023-07-23T00:57:26.566Z"
   },
   {
    "duration": 37,
    "start_time": "2023-07-23T00:57:27.174Z"
   },
   {
    "duration": 676,
    "start_time": "2023-07-23T00:57:27.212Z"
   },
   {
    "duration": 29,
    "start_time": "2023-07-23T00:57:27.890Z"
   },
   {
    "duration": 525,
    "start_time": "2023-07-23T00:57:27.921Z"
   },
   {
    "duration": 25,
    "start_time": "2023-07-23T00:57:28.448Z"
   },
   {
    "duration": 99,
    "start_time": "2023-07-23T00:57:28.475Z"
   },
   {
    "duration": 433,
    "start_time": "2023-07-23T00:57:28.576Z"
   },
   {
    "duration": 903,
    "start_time": "2023-07-23T00:57:29.010Z"
   },
   {
    "duration": 5,
    "start_time": "2023-07-23T00:57:29.914Z"
   },
   {
    "duration": 351,
    "start_time": "2023-07-23T00:57:29.920Z"
   },
   {
    "duration": 363,
    "start_time": "2023-07-23T00:57:30.272Z"
   },
   {
    "duration": 325,
    "start_time": "2023-07-23T00:57:30.636Z"
   },
   {
    "duration": 2,
    "start_time": "2023-07-23T00:57:30.963Z"
   },
   {
    "duration": 50,
    "start_time": "2023-07-23T00:57:30.966Z"
   },
   {
    "duration": 608,
    "start_time": "2023-07-23T00:57:31.018Z"
   },
   {
    "duration": 10,
    "start_time": "2023-07-23T00:57:31.628Z"
   },
   {
    "duration": 34,
    "start_time": "2023-07-23T00:57:31.640Z"
   },
   {
    "duration": 29,
    "start_time": "2023-07-23T00:57:31.676Z"
   },
   {
    "duration": 100,
    "start_time": "2023-07-23T00:57:31.706Z"
   },
   {
    "duration": 100,
    "start_time": "2023-07-23T00:57:31.808Z"
   },
   {
    "duration": 101,
    "start_time": "2023-07-23T00:57:31.910Z"
   },
   {
    "duration": 101,
    "start_time": "2023-07-23T00:57:32.013Z"
   },
   {
    "duration": 189,
    "start_time": "2023-07-23T00:57:32.116Z"
   },
   {
    "duration": 32,
    "start_time": "2023-07-23T00:58:46.354Z"
   },
   {
    "duration": 26,
    "start_time": "2023-07-23T01:00:35.572Z"
   },
   {
    "duration": 1369,
    "start_time": "2023-07-23T01:02:24.424Z"
   },
   {
    "duration": 340,
    "start_time": "2023-07-23T01:02:25.794Z"
   },
   {
    "duration": 5,
    "start_time": "2023-07-23T01:02:26.136Z"
   },
   {
    "duration": 547,
    "start_time": "2023-07-23T01:02:26.144Z"
   },
   {
    "duration": 35,
    "start_time": "2023-07-23T01:02:26.693Z"
   },
   {
    "duration": 594,
    "start_time": "2023-07-23T01:02:26.729Z"
   },
   {
    "duration": 25,
    "start_time": "2023-07-23T01:02:27.324Z"
   },
   {
    "duration": 516,
    "start_time": "2023-07-23T01:02:27.351Z"
   },
   {
    "duration": 24,
    "start_time": "2023-07-23T01:02:27.869Z"
   },
   {
    "duration": 85,
    "start_time": "2023-07-23T01:02:27.905Z"
   },
   {
    "duration": 417,
    "start_time": "2023-07-23T01:02:27.991Z"
   },
   {
    "duration": 884,
    "start_time": "2023-07-23T01:02:28.410Z"
   },
   {
    "duration": 3,
    "start_time": "2023-07-23T01:02:29.296Z"
   },
   {
    "duration": 377,
    "start_time": "2023-07-23T01:02:29.307Z"
   },
   {
    "duration": 349,
    "start_time": "2023-07-23T01:02:29.685Z"
   },
   {
    "duration": 325,
    "start_time": "2023-07-23T01:02:30.036Z"
   },
   {
    "duration": 2,
    "start_time": "2023-07-23T01:02:30.363Z"
   },
   {
    "duration": 37,
    "start_time": "2023-07-23T01:02:30.366Z"
   },
   {
    "duration": 653,
    "start_time": "2023-07-23T01:02:30.404Z"
   },
   {
    "duration": 12,
    "start_time": "2023-07-23T01:02:31.059Z"
   },
   {
    "duration": 44,
    "start_time": "2023-07-23T01:02:31.072Z"
   },
   {
    "duration": 32,
    "start_time": "2023-07-23T01:02:31.117Z"
   },
   {
    "duration": 163,
    "start_time": "2023-07-23T01:02:31.150Z"
   },
   {
    "duration": 142,
    "start_time": "2023-07-23T01:02:31.315Z"
   },
   {
    "duration": 95,
    "start_time": "2023-07-23T01:02:31.459Z"
   },
   {
    "duration": 107,
    "start_time": "2023-07-23T01:02:31.607Z"
   },
   {
    "duration": 32,
    "start_time": "2023-07-23T01:02:31.716Z"
   },
   {
    "duration": 1436,
    "start_time": "2023-07-23T01:03:01.631Z"
   },
   {
    "duration": 333,
    "start_time": "2023-07-23T01:03:03.069Z"
   },
   {
    "duration": 7,
    "start_time": "2023-07-23T01:03:03.403Z"
   },
   {
    "duration": 545,
    "start_time": "2023-07-23T01:03:03.411Z"
   },
   {
    "duration": 27,
    "start_time": "2023-07-23T01:03:03.958Z"
   },
   {
    "duration": 611,
    "start_time": "2023-07-23T01:03:03.987Z"
   },
   {
    "duration": 24,
    "start_time": "2023-07-23T01:03:04.606Z"
   },
   {
    "duration": 514,
    "start_time": "2023-07-23T01:03:04.631Z"
   },
   {
    "duration": 23,
    "start_time": "2023-07-23T01:03:05.147Z"
   },
   {
    "duration": 95,
    "start_time": "2023-07-23T01:03:05.171Z"
   },
   {
    "duration": 421,
    "start_time": "2023-07-23T01:03:05.267Z"
   },
   {
    "duration": 897,
    "start_time": "2023-07-23T01:03:05.690Z"
   },
   {
    "duration": 5,
    "start_time": "2023-07-23T01:03:06.589Z"
   },
   {
    "duration": 341,
    "start_time": "2023-07-23T01:03:06.596Z"
   },
   {
    "duration": 325,
    "start_time": "2023-07-23T01:03:06.938Z"
   },
   {
    "duration": 359,
    "start_time": "2023-07-23T01:03:07.265Z"
   },
   {
    "duration": 3,
    "start_time": "2023-07-23T01:03:07.625Z"
   },
   {
    "duration": 17,
    "start_time": "2023-07-23T01:03:07.629Z"
   },
   {
    "duration": 593,
    "start_time": "2023-07-23T01:03:07.647Z"
   },
   {
    "duration": 11,
    "start_time": "2023-07-23T01:03:08.242Z"
   },
   {
    "duration": 15,
    "start_time": "2023-07-23T01:03:08.254Z"
   },
   {
    "duration": 14,
    "start_time": "2023-07-23T01:03:08.271Z"
   },
   {
    "duration": 121,
    "start_time": "2023-07-23T01:03:08.287Z"
   },
   {
    "duration": 97,
    "start_time": "2023-07-23T01:03:08.410Z"
   },
   {
    "duration": 98,
    "start_time": "2023-07-23T01:03:08.508Z"
   },
   {
    "duration": 12,
    "start_time": "2023-07-23T01:03:08.608Z"
   },
   {
    "duration": 107,
    "start_time": "2023-07-23T01:03:08.707Z"
   },
   {
    "duration": 1797,
    "start_time": "2023-07-23T07:05:14.499Z"
   },
   {
    "duration": 1581,
    "start_time": "2023-07-23T07:05:16.298Z"
   },
   {
    "duration": 5,
    "start_time": "2023-07-23T07:05:17.881Z"
   },
   {
    "duration": 662,
    "start_time": "2023-07-23T07:05:17.888Z"
   },
   {
    "duration": 35,
    "start_time": "2023-07-23T07:05:18.551Z"
   },
   {
    "duration": 785,
    "start_time": "2023-07-23T07:05:18.587Z"
   },
   {
    "duration": 40,
    "start_time": "2023-07-23T07:05:19.374Z"
   },
   {
    "duration": 763,
    "start_time": "2023-07-23T07:05:19.416Z"
   },
   {
    "duration": 39,
    "start_time": "2023-07-23T07:05:20.181Z"
   },
   {
    "duration": 107,
    "start_time": "2023-07-23T07:05:20.224Z"
   },
   {
    "duration": 517,
    "start_time": "2023-07-23T07:05:20.333Z"
   },
   {
    "duration": 1075,
    "start_time": "2023-07-23T07:05:20.852Z"
   },
   {
    "duration": 4,
    "start_time": "2023-07-23T07:05:21.929Z"
   },
   {
    "duration": 496,
    "start_time": "2023-07-23T07:05:21.935Z"
   },
   {
    "duration": 374,
    "start_time": "2023-07-23T07:05:22.433Z"
   },
   {
    "duration": 394,
    "start_time": "2023-07-23T07:05:22.809Z"
   },
   {
    "duration": 7,
    "start_time": "2023-07-23T07:05:23.205Z"
   },
   {
    "duration": 10,
    "start_time": "2023-07-23T07:05:23.214Z"
   },
   {
    "duration": 580,
    "start_time": "2023-07-23T07:05:23.225Z"
   },
   {
    "duration": 16,
    "start_time": "2023-07-23T07:05:23.807Z"
   },
   {
    "duration": 10,
    "start_time": "2023-07-23T07:05:23.824Z"
   },
   {
    "duration": 5,
    "start_time": "2023-07-23T07:05:23.836Z"
   },
   {
    "duration": 171,
    "start_time": "2023-07-23T07:05:23.843Z"
   },
   {
    "duration": 103,
    "start_time": "2023-07-23T07:05:24.016Z"
   },
   {
    "duration": 97,
    "start_time": "2023-07-23T07:05:24.121Z"
   },
   {
    "duration": 104,
    "start_time": "2023-07-23T07:05:24.220Z"
   },
   {
    "duration": 93,
    "start_time": "2023-07-23T07:05:24.326Z"
   },
   {
    "duration": 6,
    "start_time": "2023-07-23T07:06:25.498Z"
   },
   {
    "duration": 1628,
    "start_time": "2023-07-23T07:37:39.386Z"
   },
   {
    "duration": 372,
    "start_time": "2023-07-23T07:37:41.016Z"
   },
   {
    "duration": 5,
    "start_time": "2023-07-23T07:37:41.390Z"
   },
   {
    "duration": 662,
    "start_time": "2023-07-23T07:37:41.398Z"
   },
   {
    "duration": 37,
    "start_time": "2023-07-23T07:37:42.062Z"
   },
   {
    "duration": 727,
    "start_time": "2023-07-23T07:37:42.114Z"
   },
   {
    "duration": 30,
    "start_time": "2023-07-23T07:37:42.842Z"
   },
   {
    "duration": 652,
    "start_time": "2023-07-23T07:37:42.873Z"
   },
   {
    "duration": 29,
    "start_time": "2023-07-23T07:37:43.527Z"
   },
   {
    "duration": 114,
    "start_time": "2023-07-23T07:37:43.559Z"
   },
   {
    "duration": 508,
    "start_time": "2023-07-23T07:37:43.675Z"
   },
   {
    "duration": 1039,
    "start_time": "2023-07-23T07:37:44.185Z"
   },
   {
    "duration": 5,
    "start_time": "2023-07-23T07:37:45.226Z"
   },
   {
    "duration": 423,
    "start_time": "2023-07-23T07:37:45.233Z"
   },
   {
    "duration": 417,
    "start_time": "2023-07-23T07:37:45.659Z"
   },
   {
    "duration": 404,
    "start_time": "2023-07-23T07:37:46.079Z"
   },
   {
    "duration": 2,
    "start_time": "2023-07-23T07:37:46.486Z"
   },
   {
    "duration": 25,
    "start_time": "2023-07-23T07:37:46.490Z"
   },
   {
    "duration": 702,
    "start_time": "2023-07-23T07:37:46.517Z"
   },
   {
    "duration": 12,
    "start_time": "2023-07-23T07:37:47.221Z"
   },
   {
    "duration": 12,
    "start_time": "2023-07-23T07:37:47.235Z"
   },
   {
    "duration": 114,
    "start_time": "2023-07-23T07:37:47.248Z"
   },
   {
    "duration": 0,
    "start_time": "2023-07-23T07:37:47.364Z"
   },
   {
    "duration": 0,
    "start_time": "2023-07-23T07:37:47.365Z"
   },
   {
    "duration": 0,
    "start_time": "2023-07-23T07:37:47.366Z"
   },
   {
    "duration": 0,
    "start_time": "2023-07-23T07:37:47.368Z"
   },
   {
    "duration": 0,
    "start_time": "2023-07-23T07:37:47.369Z"
   },
   {
    "duration": 0,
    "start_time": "2023-07-23T07:37:47.370Z"
   },
   {
    "duration": 5,
    "start_time": "2023-07-23T07:38:22.182Z"
   },
   {
    "duration": 118,
    "start_time": "2023-07-23T07:38:30.148Z"
   },
   {
    "duration": 135,
    "start_time": "2023-07-23T07:38:49.180Z"
   },
   {
    "duration": 211,
    "start_time": "2023-07-23T07:39:27.406Z"
   },
   {
    "duration": 5,
    "start_time": "2023-07-23T07:39:34.624Z"
   },
   {
    "duration": 141,
    "start_time": "2023-07-23T07:39:37.374Z"
   },
   {
    "duration": 4,
    "start_time": "2023-07-23T07:40:49.449Z"
   },
   {
    "duration": 69,
    "start_time": "2023-07-23T07:40:51.046Z"
   },
   {
    "duration": 10,
    "start_time": "2023-07-23T07:48:44.699Z"
   },
   {
    "duration": 4,
    "start_time": "2023-07-23T07:49:09.887Z"
   },
   {
    "duration": 105,
    "start_time": "2023-07-23T07:49:11.410Z"
   },
   {
    "duration": 11,
    "start_time": "2023-07-23T07:49:27.866Z"
   },
   {
    "duration": 5,
    "start_time": "2023-07-23T07:49:30.957Z"
   },
   {
    "duration": 72,
    "start_time": "2023-07-23T07:49:32.449Z"
   },
   {
    "duration": 10,
    "start_time": "2023-07-23T07:49:52.387Z"
   },
   {
    "duration": 10,
    "start_time": "2023-07-23T07:50:38.264Z"
   },
   {
    "duration": 5,
    "start_time": "2023-07-23T07:51:22.933Z"
   },
   {
    "duration": 10,
    "start_time": "2023-07-23T07:51:23.653Z"
   },
   {
    "duration": 29,
    "start_time": "2023-07-23T07:51:49.602Z"
   },
   {
    "duration": 6,
    "start_time": "2023-07-23T07:51:52.582Z"
   },
   {
    "duration": 28,
    "start_time": "2023-07-23T07:51:55.698Z"
   },
   {
    "duration": 11,
    "start_time": "2023-07-23T07:54:28.068Z"
   },
   {
    "duration": 6,
    "start_time": "2023-07-23T07:54:39.041Z"
   },
   {
    "duration": 33,
    "start_time": "2023-07-23T07:54:39.682Z"
   },
   {
    "duration": 4,
    "start_time": "2023-07-23T07:54:49.543Z"
   },
   {
    "duration": 61,
    "start_time": "2023-07-23T07:54:49.663Z"
   },
   {
    "duration": 5,
    "start_time": "2023-07-23T07:55:07.748Z"
   },
   {
    "duration": 43,
    "start_time": "2023-07-23T07:55:08.471Z"
   },
   {
    "duration": 89,
    "start_time": "2023-07-23T07:55:18.626Z"
   },
   {
    "duration": 5,
    "start_time": "2023-07-23T07:55:38.625Z"
   },
   {
    "duration": 102,
    "start_time": "2023-07-23T07:55:39.416Z"
   },
   {
    "duration": 305,
    "start_time": "2023-07-23T07:57:47.710Z"
   },
   {
    "duration": 350,
    "start_time": "2023-07-23T07:58:05.867Z"
   },
   {
    "duration": 10,
    "start_time": "2023-07-23T08:01:43.398Z"
   },
   {
    "duration": 328,
    "start_time": "2023-07-23T08:01:51.192Z"
   },
   {
    "duration": 12,
    "start_time": "2023-07-23T08:04:05.733Z"
   },
   {
    "duration": 253,
    "start_time": "2023-07-23T08:04:31.667Z"
   },
   {
    "duration": 156,
    "start_time": "2023-07-23T08:09:33.990Z"
   },
   {
    "duration": 1190,
    "start_time": "2023-07-23T08:09:44.626Z"
   },
   {
    "duration": 114,
    "start_time": "2023-07-23T08:11:41.904Z"
   },
   {
    "duration": 10,
    "start_time": "2023-07-23T08:12:03.034Z"
   },
   {
    "duration": 72,
    "start_time": "2023-07-23T08:12:31.543Z"
   },
   {
    "duration": 373,
    "start_time": "2023-07-23T08:13:31.642Z"
   },
   {
    "duration": 1533,
    "start_time": "2023-07-23T08:13:50.556Z"
   },
   {
    "duration": 367,
    "start_time": "2023-07-23T08:13:52.091Z"
   },
   {
    "duration": 5,
    "start_time": "2023-07-23T08:13:52.460Z"
   },
   {
    "duration": 675,
    "start_time": "2023-07-23T08:13:52.468Z"
   },
   {
    "duration": 33,
    "start_time": "2023-07-23T08:13:53.146Z"
   },
   {
    "duration": 760,
    "start_time": "2023-07-23T08:13:53.180Z"
   },
   {
    "duration": 33,
    "start_time": "2023-07-23T08:13:53.942Z"
   },
   {
    "duration": 641,
    "start_time": "2023-07-23T08:13:53.977Z"
   },
   {
    "duration": 29,
    "start_time": "2023-07-23T08:13:54.620Z"
   },
   {
    "duration": 104,
    "start_time": "2023-07-23T08:13:54.652Z"
   },
   {
    "duration": 492,
    "start_time": "2023-07-23T08:13:54.758Z"
   },
   {
    "duration": 1050,
    "start_time": "2023-07-23T08:13:55.252Z"
   },
   {
    "duration": 10,
    "start_time": "2023-07-23T08:13:56.303Z"
   },
   {
    "duration": 401,
    "start_time": "2023-07-23T08:13:56.315Z"
   },
   {
    "duration": 388,
    "start_time": "2023-07-23T08:13:56.717Z"
   },
   {
    "duration": 383,
    "start_time": "2023-07-23T08:13:57.107Z"
   },
   {
    "duration": 2,
    "start_time": "2023-07-23T08:13:57.492Z"
   },
   {
    "duration": 257,
    "start_time": "2023-07-23T08:13:57.496Z"
   },
   {
    "duration": 859,
    "start_time": "2023-07-23T08:13:57.755Z"
   },
   {
    "duration": 12,
    "start_time": "2023-07-23T08:13:58.616Z"
   },
   {
    "duration": 41,
    "start_time": "2023-07-23T08:13:58.630Z"
   },
   {
    "duration": 102,
    "start_time": "2023-07-23T08:13:58.673Z"
   },
   {
    "duration": 215,
    "start_time": "2023-07-23T08:13:58.777Z"
   },
   {
    "duration": 0,
    "start_time": "2023-07-23T08:13:58.994Z"
   },
   {
    "duration": 0,
    "start_time": "2023-07-23T08:13:58.995Z"
   },
   {
    "duration": 0,
    "start_time": "2023-07-23T08:13:58.996Z"
   },
   {
    "duration": 0,
    "start_time": "2023-07-23T08:13:58.998Z"
   },
   {
    "duration": 0,
    "start_time": "2023-07-23T08:13:59.013Z"
   },
   {
    "duration": 105,
    "start_time": "2023-07-23T08:24:43.112Z"
   },
   {
    "duration": 12,
    "start_time": "2023-07-23T08:26:22.804Z"
   },
   {
    "duration": 89,
    "start_time": "2023-07-23T08:28:02.926Z"
   },
   {
    "duration": 106,
    "start_time": "2023-07-23T08:28:32.111Z"
   },
   {
    "duration": 5,
    "start_time": "2023-07-23T08:28:43.220Z"
   },
   {
    "duration": 386,
    "start_time": "2023-07-23T08:28:44.427Z"
   },
   {
    "duration": 1547,
    "start_time": "2023-07-23T08:29:05.441Z"
   },
   {
    "duration": 378,
    "start_time": "2023-07-23T08:29:06.990Z"
   },
   {
    "duration": 5,
    "start_time": "2023-07-23T08:29:07.370Z"
   },
   {
    "duration": 650,
    "start_time": "2023-07-23T08:29:07.377Z"
   },
   {
    "duration": 32,
    "start_time": "2023-07-23T08:29:08.028Z"
   },
   {
    "duration": 711,
    "start_time": "2023-07-23T08:29:08.061Z"
   },
   {
    "duration": 41,
    "start_time": "2023-07-23T08:29:08.774Z"
   },
   {
    "duration": 687,
    "start_time": "2023-07-23T08:29:08.817Z"
   },
   {
    "duration": 33,
    "start_time": "2023-07-23T08:29:09.506Z"
   },
   {
    "duration": 120,
    "start_time": "2023-07-23T08:29:09.542Z"
   },
   {
    "duration": 538,
    "start_time": "2023-07-23T08:29:09.664Z"
   },
   {
    "duration": 1058,
    "start_time": "2023-07-23T08:29:10.204Z"
   },
   {
    "duration": 4,
    "start_time": "2023-07-23T08:29:11.264Z"
   },
   {
    "duration": 431,
    "start_time": "2023-07-23T08:29:11.270Z"
   },
   {
    "duration": 390,
    "start_time": "2023-07-23T08:29:11.703Z"
   },
   {
    "duration": 400,
    "start_time": "2023-07-23T08:29:12.095Z"
   },
   {
    "duration": 3,
    "start_time": "2023-07-23T08:29:12.496Z"
   },
   {
    "duration": 18,
    "start_time": "2023-07-23T08:29:12.500Z"
   },
   {
    "duration": 595,
    "start_time": "2023-07-23T08:29:12.520Z"
   },
   {
    "duration": 14,
    "start_time": "2023-07-23T08:29:13.117Z"
   },
   {
    "duration": 12,
    "start_time": "2023-07-23T08:29:13.133Z"
   },
   {
    "duration": 6,
    "start_time": "2023-07-23T08:29:13.147Z"
   },
   {
    "duration": 467,
    "start_time": "2023-07-23T08:29:13.155Z"
   },
   {
    "duration": 15,
    "start_time": "2023-07-23T08:29:13.625Z"
   },
   {
    "duration": 137,
    "start_time": "2023-07-23T08:29:13.642Z"
   },
   {
    "duration": 0,
    "start_time": "2023-07-23T08:29:13.780Z"
   },
   {
    "duration": 0,
    "start_time": "2023-07-23T08:29:13.782Z"
   },
   {
    "duration": 0,
    "start_time": "2023-07-23T08:29:13.783Z"
   },
   {
    "duration": 1667,
    "start_time": "2023-07-23T08:30:44.611Z"
   },
   {
    "duration": 390,
    "start_time": "2023-07-23T08:30:46.280Z"
   },
   {
    "duration": 6,
    "start_time": "2023-07-23T08:30:46.672Z"
   },
   {
    "duration": 678,
    "start_time": "2023-07-23T08:30:46.680Z"
   },
   {
    "duration": 35,
    "start_time": "2023-07-23T08:30:47.361Z"
   },
   {
    "duration": 775,
    "start_time": "2023-07-23T08:30:47.397Z"
   },
   {
    "duration": 41,
    "start_time": "2023-07-23T08:30:48.174Z"
   },
   {
    "duration": 649,
    "start_time": "2023-07-23T08:30:48.217Z"
   },
   {
    "duration": 47,
    "start_time": "2023-07-23T08:30:48.868Z"
   },
   {
    "duration": 105,
    "start_time": "2023-07-23T08:30:48.916Z"
   },
   {
    "duration": 502,
    "start_time": "2023-07-23T08:30:49.023Z"
   },
   {
    "duration": 1205,
    "start_time": "2023-07-23T08:30:49.528Z"
   },
   {
    "duration": 4,
    "start_time": "2023-07-23T08:30:50.735Z"
   },
   {
    "duration": 434,
    "start_time": "2023-07-23T08:30:50.741Z"
   },
   {
    "duration": 402,
    "start_time": "2023-07-23T08:30:51.177Z"
   },
   {
    "duration": 406,
    "start_time": "2023-07-23T08:30:51.580Z"
   },
   {
    "duration": 2,
    "start_time": "2023-07-23T08:30:51.988Z"
   },
   {
    "duration": 22,
    "start_time": "2023-07-23T08:30:51.992Z"
   },
   {
    "duration": 597,
    "start_time": "2023-07-23T08:30:52.016Z"
   },
   {
    "duration": 13,
    "start_time": "2023-07-23T08:30:52.615Z"
   },
   {
    "duration": 12,
    "start_time": "2023-07-23T08:30:52.629Z"
   },
   {
    "duration": 7,
    "start_time": "2023-07-23T08:30:52.642Z"
   },
   {
    "duration": 371,
    "start_time": "2023-07-23T08:30:52.650Z"
   },
   {
    "duration": 101,
    "start_time": "2023-07-23T08:30:53.023Z"
   },
   {
    "duration": 487,
    "start_time": "2023-07-23T08:30:53.126Z"
   },
   {
    "duration": 17,
    "start_time": "2023-07-23T08:30:53.615Z"
   },
   {
    "duration": 381,
    "start_time": "2023-07-23T08:30:53.635Z"
   },
   {
    "duration": 96,
    "start_time": "2023-07-23T08:30:54.023Z"
   },
   {
    "duration": 4,
    "start_time": "2023-07-23T08:35:28.774Z"
   },
   {
    "duration": 1484,
    "start_time": "2023-07-23T08:36:26.436Z"
   },
   {
    "duration": 388,
    "start_time": "2023-07-23T08:36:27.922Z"
   },
   {
    "duration": 6,
    "start_time": "2023-07-23T08:36:28.312Z"
   },
   {
    "duration": 635,
    "start_time": "2023-07-23T08:36:28.320Z"
   },
   {
    "duration": 31,
    "start_time": "2023-07-23T08:36:28.956Z"
   },
   {
    "duration": 793,
    "start_time": "2023-07-23T08:36:28.989Z"
   },
   {
    "duration": 50,
    "start_time": "2023-07-23T08:36:29.784Z"
   },
   {
    "duration": 648,
    "start_time": "2023-07-23T08:36:29.836Z"
   },
   {
    "duration": 40,
    "start_time": "2023-07-23T08:36:30.486Z"
   },
   {
    "duration": 205,
    "start_time": "2023-07-23T08:36:30.529Z"
   },
   {
    "duration": 504,
    "start_time": "2023-07-23T08:36:30.736Z"
   },
   {
    "duration": 1094,
    "start_time": "2023-07-23T08:36:31.242Z"
   },
   {
    "duration": 5,
    "start_time": "2023-07-23T08:36:32.337Z"
   },
   {
    "duration": 446,
    "start_time": "2023-07-23T08:36:32.344Z"
   },
   {
    "duration": 405,
    "start_time": "2023-07-23T08:36:32.792Z"
   },
   {
    "duration": 432,
    "start_time": "2023-07-23T08:36:33.198Z"
   },
   {
    "duration": 3,
    "start_time": "2023-07-23T08:36:33.631Z"
   },
   {
    "duration": 32,
    "start_time": "2023-07-23T08:36:33.636Z"
   },
   {
    "duration": 743,
    "start_time": "2023-07-23T08:36:33.670Z"
   },
   {
    "duration": 13,
    "start_time": "2023-07-23T08:36:34.414Z"
   },
   {
    "duration": 12,
    "start_time": "2023-07-23T08:36:34.428Z"
   },
   {
    "duration": 62,
    "start_time": "2023-07-23T08:36:34.441Z"
   },
   {
    "duration": 315,
    "start_time": "2023-07-23T08:36:34.505Z"
   },
   {
    "duration": 98,
    "start_time": "2023-07-23T08:36:34.822Z"
   },
   {
    "duration": 392,
    "start_time": "2023-07-23T08:36:34.922Z"
   },
   {
    "duration": 11,
    "start_time": "2023-07-23T08:36:35.316Z"
   },
   {
    "duration": 392,
    "start_time": "2023-07-23T08:36:35.329Z"
   },
   {
    "duration": 200,
    "start_time": "2023-07-23T08:36:35.725Z"
   },
   {
    "duration": 10,
    "start_time": "2023-07-23T08:37:16.320Z"
   },
   {
    "duration": 9,
    "start_time": "2023-07-23T08:40:06.453Z"
   },
   {
    "duration": 13,
    "start_time": "2023-07-23T08:40:44.347Z"
   },
   {
    "duration": 1596,
    "start_time": "2023-07-23T08:42:39.336Z"
   },
   {
    "duration": 361,
    "start_time": "2023-07-23T08:42:40.934Z"
   },
   {
    "duration": 5,
    "start_time": "2023-07-23T08:42:41.297Z"
   },
   {
    "duration": 597,
    "start_time": "2023-07-23T08:42:41.305Z"
   },
   {
    "duration": 36,
    "start_time": "2023-07-23T08:42:41.904Z"
   },
   {
    "duration": 690,
    "start_time": "2023-07-23T08:42:41.942Z"
   },
   {
    "duration": 29,
    "start_time": "2023-07-23T08:42:42.635Z"
   },
   {
    "duration": 610,
    "start_time": "2023-07-23T08:42:42.666Z"
   },
   {
    "duration": 40,
    "start_time": "2023-07-23T08:42:43.278Z"
   },
   {
    "duration": 96,
    "start_time": "2023-07-23T08:42:43.322Z"
   },
   {
    "duration": 484,
    "start_time": "2023-07-23T08:42:43.420Z"
   },
   {
    "duration": 1052,
    "start_time": "2023-07-23T08:42:43.906Z"
   },
   {
    "duration": 4,
    "start_time": "2023-07-23T08:42:44.960Z"
   },
   {
    "duration": 453,
    "start_time": "2023-07-23T08:42:44.965Z"
   },
   {
    "duration": 378,
    "start_time": "2023-07-23T08:42:45.420Z"
   },
   {
    "duration": 387,
    "start_time": "2023-07-23T08:42:45.799Z"
   },
   {
    "duration": 2,
    "start_time": "2023-07-23T08:42:46.188Z"
   },
   {
    "duration": 16,
    "start_time": "2023-07-23T08:42:46.191Z"
   },
   {
    "duration": 582,
    "start_time": "2023-07-23T08:42:46.213Z"
   },
   {
    "duration": 20,
    "start_time": "2023-07-23T08:42:46.797Z"
   },
   {
    "duration": 105,
    "start_time": "2023-07-23T08:42:46.818Z"
   },
   {
    "duration": 89,
    "start_time": "2023-07-23T08:42:46.924Z"
   },
   {
    "duration": 285,
    "start_time": "2023-07-23T08:42:47.015Z"
   },
   {
    "duration": 0,
    "start_time": "2023-07-23T08:42:47.302Z"
   },
   {
    "duration": 0,
    "start_time": "2023-07-23T08:42:47.304Z"
   },
   {
    "duration": 0,
    "start_time": "2023-07-23T08:42:47.304Z"
   },
   {
    "duration": 0,
    "start_time": "2023-07-23T08:42:47.313Z"
   },
   {
    "duration": 0,
    "start_time": "2023-07-23T08:42:47.314Z"
   },
   {
    "duration": 0,
    "start_time": "2023-07-23T08:42:47.315Z"
   },
   {
    "duration": 12,
    "start_time": "2023-07-23T08:43:19.920Z"
   },
   {
    "duration": 22,
    "start_time": "2023-07-23T08:46:26.763Z"
   },
   {
    "duration": 1667,
    "start_time": "2023-07-23T08:46:38.798Z"
   },
   {
    "duration": 365,
    "start_time": "2023-07-23T08:46:40.467Z"
   },
   {
    "duration": 6,
    "start_time": "2023-07-23T08:46:40.834Z"
   },
   {
    "duration": 625,
    "start_time": "2023-07-23T08:46:40.841Z"
   },
   {
    "duration": 31,
    "start_time": "2023-07-23T08:46:41.468Z"
   },
   {
    "duration": 721,
    "start_time": "2023-07-23T08:46:41.500Z"
   },
   {
    "duration": 27,
    "start_time": "2023-07-23T08:46:42.222Z"
   },
   {
    "duration": 590,
    "start_time": "2023-07-23T08:46:42.251Z"
   },
   {
    "duration": 26,
    "start_time": "2023-07-23T08:46:42.843Z"
   },
   {
    "duration": 105,
    "start_time": "2023-07-23T08:46:42.871Z"
   },
   {
    "duration": 487,
    "start_time": "2023-07-23T08:46:42.977Z"
   },
   {
    "duration": 1041,
    "start_time": "2023-07-23T08:46:43.465Z"
   },
   {
    "duration": 7,
    "start_time": "2023-07-23T08:46:44.508Z"
   },
   {
    "duration": 377,
    "start_time": "2023-07-23T08:46:44.519Z"
   },
   {
    "duration": 396,
    "start_time": "2023-07-23T08:46:44.897Z"
   },
   {
    "duration": 395,
    "start_time": "2023-07-23T08:46:45.295Z"
   },
   {
    "duration": 3,
    "start_time": "2023-07-23T08:46:45.692Z"
   },
   {
    "duration": 19,
    "start_time": "2023-07-23T08:46:45.696Z"
   },
   {
    "duration": 578,
    "start_time": "2023-07-23T08:46:45.717Z"
   },
   {
    "duration": 20,
    "start_time": "2023-07-23T08:46:46.297Z"
   },
   {
    "duration": 11,
    "start_time": "2023-07-23T08:46:46.319Z"
   },
   {
    "duration": 81,
    "start_time": "2023-07-23T08:46:46.332Z"
   },
   {
    "duration": 204,
    "start_time": "2023-07-23T08:46:46.416Z"
   },
   {
    "duration": 0,
    "start_time": "2023-07-23T08:46:46.622Z"
   },
   {
    "duration": 0,
    "start_time": "2023-07-23T08:46:46.623Z"
   },
   {
    "duration": 0,
    "start_time": "2023-07-23T08:46:46.624Z"
   },
   {
    "duration": 1,
    "start_time": "2023-07-23T08:46:46.625Z"
   },
   {
    "duration": 0,
    "start_time": "2023-07-23T08:46:46.627Z"
   },
   {
    "duration": 0,
    "start_time": "2023-07-23T08:46:46.628Z"
   },
   {
    "duration": 0,
    "start_time": "2023-07-23T08:46:46.629Z"
   },
   {
    "duration": 11,
    "start_time": "2023-07-23T08:46:59.196Z"
   },
   {
    "duration": 23,
    "start_time": "2023-07-23T08:47:00.746Z"
   },
   {
    "duration": 14,
    "start_time": "2023-07-23T08:47:23.926Z"
   },
   {
    "duration": 14,
    "start_time": "2023-07-23T08:47:38.630Z"
   },
   {
    "duration": 21,
    "start_time": "2023-07-23T08:49:19.417Z"
   },
   {
    "duration": 5,
    "start_time": "2023-07-23T08:49:55.647Z"
   },
   {
    "duration": 1515,
    "start_time": "2023-07-23T09:07:32.361Z"
   },
   {
    "duration": 399,
    "start_time": "2023-07-23T09:07:33.878Z"
   },
   {
    "duration": 6,
    "start_time": "2023-07-23T09:07:34.279Z"
   },
   {
    "duration": 610,
    "start_time": "2023-07-23T09:07:34.287Z"
   },
   {
    "duration": 34,
    "start_time": "2023-07-23T09:07:34.899Z"
   },
   {
    "duration": 699,
    "start_time": "2023-07-23T09:07:34.934Z"
   },
   {
    "duration": 29,
    "start_time": "2023-07-23T09:07:35.635Z"
   },
   {
    "duration": 593,
    "start_time": "2023-07-23T09:07:35.666Z"
   },
   {
    "duration": 27,
    "start_time": "2023-07-23T09:07:36.261Z"
   },
   {
    "duration": 107,
    "start_time": "2023-07-23T09:07:36.290Z"
   },
   {
    "duration": 462,
    "start_time": "2023-07-23T09:07:36.398Z"
   },
   {
    "duration": 1028,
    "start_time": "2023-07-23T09:07:36.862Z"
   },
   {
    "duration": 4,
    "start_time": "2023-07-23T09:07:37.891Z"
   },
   {
    "duration": 384,
    "start_time": "2023-07-23T09:07:37.898Z"
   },
   {
    "duration": 385,
    "start_time": "2023-07-23T09:07:38.283Z"
   },
   {
    "duration": 393,
    "start_time": "2023-07-23T09:07:38.670Z"
   },
   {
    "duration": 2,
    "start_time": "2023-07-23T09:07:39.064Z"
   },
   {
    "duration": 19,
    "start_time": "2023-07-23T09:07:39.068Z"
   },
   {
    "duration": 651,
    "start_time": "2023-07-23T09:07:39.088Z"
   },
   {
    "duration": 16,
    "start_time": "2023-07-23T09:07:39.741Z"
   },
   {
    "duration": 23,
    "start_time": "2023-07-23T09:07:39.759Z"
   },
   {
    "duration": 12,
    "start_time": "2023-07-23T09:07:39.784Z"
   },
   {
    "duration": 416,
    "start_time": "2023-07-23T09:07:39.798Z"
   },
   {
    "duration": 126,
    "start_time": "2023-07-23T09:07:40.216Z"
   },
   {
    "duration": 371,
    "start_time": "2023-07-23T09:07:40.344Z"
   },
   {
    "duration": 13,
    "start_time": "2023-07-23T09:07:40.717Z"
   },
   {
    "duration": 307,
    "start_time": "2023-07-23T09:07:40.814Z"
   },
   {
    "duration": 98,
    "start_time": "2023-07-23T09:07:41.122Z"
   },
   {
    "duration": 1616,
    "start_time": "2023-07-23T09:09:30.691Z"
   },
   {
    "duration": 389,
    "start_time": "2023-07-23T09:09:32.310Z"
   },
   {
    "duration": 5,
    "start_time": "2023-07-23T09:09:32.701Z"
   },
   {
    "duration": 647,
    "start_time": "2023-07-23T09:09:32.715Z"
   },
   {
    "duration": 51,
    "start_time": "2023-07-23T09:09:33.364Z"
   },
   {
    "duration": 779,
    "start_time": "2023-07-23T09:09:33.416Z"
   },
   {
    "duration": 38,
    "start_time": "2023-07-23T09:09:34.197Z"
   },
   {
    "duration": 611,
    "start_time": "2023-07-23T09:09:34.236Z"
   },
   {
    "duration": 28,
    "start_time": "2023-07-23T09:09:34.849Z"
   },
   {
    "duration": 117,
    "start_time": "2023-07-23T09:09:34.879Z"
   },
   {
    "duration": 474,
    "start_time": "2023-07-23T09:09:34.998Z"
   },
   {
    "duration": 1092,
    "start_time": "2023-07-23T09:09:35.474Z"
   },
   {
    "duration": 4,
    "start_time": "2023-07-23T09:09:36.567Z"
   },
   {
    "duration": 414,
    "start_time": "2023-07-23T09:09:36.573Z"
   },
   {
    "duration": 409,
    "start_time": "2023-07-23T09:09:36.989Z"
   },
   {
    "duration": 401,
    "start_time": "2023-07-23T09:09:37.400Z"
   },
   {
    "duration": 2,
    "start_time": "2023-07-23T09:09:37.803Z"
   },
   {
    "duration": 11,
    "start_time": "2023-07-23T09:09:37.812Z"
   },
   {
    "duration": 658,
    "start_time": "2023-07-23T09:09:37.824Z"
   },
   {
    "duration": 16,
    "start_time": "2023-07-23T09:09:38.484Z"
   },
   {
    "duration": 25,
    "start_time": "2023-07-23T09:09:38.501Z"
   },
   {
    "duration": 7,
    "start_time": "2023-07-23T09:09:38.527Z"
   },
   {
    "duration": 379,
    "start_time": "2023-07-23T09:09:38.536Z"
   },
   {
    "duration": 125,
    "start_time": "2023-07-23T09:09:38.917Z"
   },
   {
    "duration": 577,
    "start_time": "2023-07-23T09:09:39.044Z"
   },
   {
    "duration": 99,
    "start_time": "2023-07-23T09:09:39.623Z"
   },
   {
    "duration": 292,
    "start_time": "2023-07-23T09:09:39.725Z"
   },
   {
    "duration": 105,
    "start_time": "2023-07-23T09:09:40.023Z"
   },
   {
    "duration": 1529,
    "start_time": "2023-07-23T09:28:36.850Z"
   },
   {
    "duration": 369,
    "start_time": "2023-07-23T09:28:38.381Z"
   },
   {
    "duration": 5,
    "start_time": "2023-07-23T09:28:38.752Z"
   },
   {
    "duration": 633,
    "start_time": "2023-07-23T09:28:38.759Z"
   },
   {
    "duration": 47,
    "start_time": "2023-07-23T09:28:39.394Z"
   },
   {
    "duration": 821,
    "start_time": "2023-07-23T09:28:39.443Z"
   },
   {
    "duration": 29,
    "start_time": "2023-07-23T09:28:40.266Z"
   },
   {
    "duration": 665,
    "start_time": "2023-07-23T09:28:40.297Z"
   },
   {
    "duration": 27,
    "start_time": "2023-07-23T09:28:40.964Z"
   },
   {
    "duration": 111,
    "start_time": "2023-07-23T09:28:40.993Z"
   },
   {
    "duration": 489,
    "start_time": "2023-07-23T09:28:41.114Z"
   },
   {
    "duration": 1066,
    "start_time": "2023-07-23T09:28:41.605Z"
   },
   {
    "duration": 4,
    "start_time": "2023-07-23T09:28:42.672Z"
   },
   {
    "duration": 407,
    "start_time": "2023-07-23T09:28:42.679Z"
   },
   {
    "duration": 414,
    "start_time": "2023-07-23T09:28:43.088Z"
   },
   {
    "duration": 408,
    "start_time": "2023-07-23T09:28:43.504Z"
   },
   {
    "duration": 3,
    "start_time": "2023-07-23T09:28:43.915Z"
   },
   {
    "duration": 19,
    "start_time": "2023-07-23T09:28:43.919Z"
   },
   {
    "duration": 661,
    "start_time": "2023-07-23T09:28:43.940Z"
   },
   {
    "duration": 16,
    "start_time": "2023-07-23T09:28:44.603Z"
   },
   {
    "duration": 11,
    "start_time": "2023-07-23T09:28:44.621Z"
   },
   {
    "duration": 5,
    "start_time": "2023-07-23T09:28:44.634Z"
   },
   {
    "duration": 474,
    "start_time": "2023-07-23T09:28:44.641Z"
   },
   {
    "duration": 34,
    "start_time": "2023-07-23T09:28:45.117Z"
   },
   {
    "duration": 559,
    "start_time": "2023-07-23T09:28:45.153Z"
   },
   {
    "duration": 46,
    "start_time": "2023-07-23T09:28:45.715Z"
   },
   {
    "duration": 454,
    "start_time": "2023-07-23T09:28:45.763Z"
   },
   {
    "duration": 100,
    "start_time": "2023-07-23T09:28:46.219Z"
   },
   {
    "duration": 1712,
    "start_time": "2023-07-23T09:31:11.495Z"
   },
   {
    "duration": 402,
    "start_time": "2023-07-23T09:31:13.209Z"
   },
   {
    "duration": 6,
    "start_time": "2023-07-23T09:31:13.613Z"
   },
   {
    "duration": 708,
    "start_time": "2023-07-23T09:31:13.621Z"
   },
   {
    "duration": 34,
    "start_time": "2023-07-23T09:31:14.331Z"
   },
   {
    "duration": 775,
    "start_time": "2023-07-23T09:31:14.367Z"
   },
   {
    "duration": 31,
    "start_time": "2023-07-23T09:31:15.144Z"
   },
   {
    "duration": 696,
    "start_time": "2023-07-23T09:31:15.177Z"
   },
   {
    "duration": 39,
    "start_time": "2023-07-23T09:31:15.875Z"
   },
   {
    "duration": 104,
    "start_time": "2023-07-23T09:31:15.917Z"
   },
   {
    "duration": 493,
    "start_time": "2023-07-23T09:31:16.023Z"
   },
   {
    "duration": 1034,
    "start_time": "2023-07-23T09:31:16.518Z"
   },
   {
    "duration": 4,
    "start_time": "2023-07-23T09:31:17.553Z"
   },
   {
    "duration": 439,
    "start_time": "2023-07-23T09:31:17.559Z"
   },
   {
    "duration": 440,
    "start_time": "2023-07-23T09:31:18.000Z"
   },
   {
    "duration": 446,
    "start_time": "2023-07-23T09:31:18.442Z"
   },
   {
    "duration": 5,
    "start_time": "2023-07-23T09:31:18.891Z"
   },
   {
    "duration": 24,
    "start_time": "2023-07-23T09:31:18.898Z"
   },
   {
    "duration": 990,
    "start_time": "2023-07-23T09:31:18.924Z"
   },
   {
    "duration": 19,
    "start_time": "2023-07-23T09:31:19.917Z"
   },
   {
    "duration": 26,
    "start_time": "2023-07-23T09:31:19.947Z"
   },
   {
    "duration": 8,
    "start_time": "2023-07-23T09:31:19.976Z"
   },
   {
    "duration": 328,
    "start_time": "2023-07-23T09:31:19.987Z"
   },
   {
    "duration": 139,
    "start_time": "2023-07-23T09:31:20.317Z"
   },
   {
    "duration": 457,
    "start_time": "2023-07-23T09:31:20.458Z"
   },
   {
    "duration": 131,
    "start_time": "2023-07-23T09:31:20.918Z"
   },
   {
    "duration": 464,
    "start_time": "2023-07-23T09:31:21.051Z"
   },
   {
    "duration": 20,
    "start_time": "2023-07-23T09:31:21.520Z"
   },
   {
    "duration": 1885,
    "start_time": "2023-07-23T09:36:03.000Z"
   },
   {
    "duration": 399,
    "start_time": "2023-07-23T09:36:04.887Z"
   },
   {
    "duration": 6,
    "start_time": "2023-07-23T09:36:05.288Z"
   },
   {
    "duration": 733,
    "start_time": "2023-07-23T09:36:05.296Z"
   },
   {
    "duration": 31,
    "start_time": "2023-07-23T09:36:06.032Z"
   },
   {
    "duration": 856,
    "start_time": "2023-07-23T09:36:06.065Z"
   },
   {
    "duration": 43,
    "start_time": "2023-07-23T09:36:06.924Z"
   },
   {
    "duration": 713,
    "start_time": "2023-07-23T09:36:06.969Z"
   },
   {
    "duration": 53,
    "start_time": "2023-07-23T09:36:07.685Z"
   },
   {
    "duration": 122,
    "start_time": "2023-07-23T09:36:07.743Z"
   },
   {
    "duration": 546,
    "start_time": "2023-07-23T09:36:07.867Z"
   },
   {
    "duration": 1164,
    "start_time": "2023-07-23T09:36:08.415Z"
   },
   {
    "duration": 5,
    "start_time": "2023-07-23T09:36:09.581Z"
   },
   {
    "duration": 483,
    "start_time": "2023-07-23T09:36:09.589Z"
   },
   {
    "duration": 441,
    "start_time": "2023-07-23T09:36:10.073Z"
   },
   {
    "duration": 399,
    "start_time": "2023-07-23T09:36:10.517Z"
   },
   {
    "duration": 2,
    "start_time": "2023-07-23T09:36:10.918Z"
   },
   {
    "duration": 169,
    "start_time": "2023-07-23T09:36:10.922Z"
   },
   {
    "duration": 646,
    "start_time": "2023-07-23T09:36:11.093Z"
   },
   {
    "duration": 15,
    "start_time": "2023-07-23T09:36:11.742Z"
   },
   {
    "duration": 39,
    "start_time": "2023-07-23T09:36:11.759Z"
   },
   {
    "duration": 15,
    "start_time": "2023-07-23T09:36:11.800Z"
   },
   {
    "duration": 398,
    "start_time": "2023-07-23T09:36:11.817Z"
   },
   {
    "duration": 121,
    "start_time": "2023-07-23T09:36:12.222Z"
   },
   {
    "duration": 375,
    "start_time": "2023-07-23T09:36:12.345Z"
   },
   {
    "duration": 122,
    "start_time": "2023-07-23T09:36:12.722Z"
   },
   {
    "duration": 479,
    "start_time": "2023-07-23T09:36:12.846Z"
   },
   {
    "duration": 100,
    "start_time": "2023-07-23T09:36:13.329Z"
   },
   {
    "duration": 10,
    "start_time": "2023-07-23T10:32:58.283Z"
   },
   {
    "duration": 1509,
    "start_time": "2023-07-23T10:33:04.272Z"
   },
   {
    "duration": 376,
    "start_time": "2023-07-23T10:33:05.783Z"
   },
   {
    "duration": 5,
    "start_time": "2023-07-23T10:33:06.161Z"
   },
   {
    "duration": 619,
    "start_time": "2023-07-23T10:33:06.168Z"
   },
   {
    "duration": 44,
    "start_time": "2023-07-23T10:33:06.789Z"
   },
   {
    "duration": 719,
    "start_time": "2023-07-23T10:33:06.835Z"
   },
   {
    "duration": 31,
    "start_time": "2023-07-23T10:33:07.555Z"
   },
   {
    "duration": 647,
    "start_time": "2023-07-23T10:33:07.588Z"
   },
   {
    "duration": 28,
    "start_time": "2023-07-23T10:33:08.237Z"
   },
   {
    "duration": 116,
    "start_time": "2023-07-23T10:33:08.268Z"
   },
   {
    "duration": 521,
    "start_time": "2023-07-23T10:33:08.385Z"
   },
   {
    "duration": 1142,
    "start_time": "2023-07-23T10:33:08.907Z"
   },
   {
    "duration": 4,
    "start_time": "2023-07-23T10:33:10.051Z"
   },
   {
    "duration": 415,
    "start_time": "2023-07-23T10:33:10.056Z"
   },
   {
    "duration": 405,
    "start_time": "2023-07-23T10:33:10.473Z"
   },
   {
    "duration": 397,
    "start_time": "2023-07-23T10:33:10.879Z"
   },
   {
    "duration": 2,
    "start_time": "2023-07-23T10:33:11.278Z"
   },
   {
    "duration": 23,
    "start_time": "2023-07-23T10:33:11.282Z"
   },
   {
    "duration": 581,
    "start_time": "2023-07-23T10:33:11.306Z"
   },
   {
    "duration": 12,
    "start_time": "2023-07-23T10:33:11.889Z"
   },
   {
    "duration": 19,
    "start_time": "2023-07-23T10:33:11.902Z"
   },
   {
    "duration": 5,
    "start_time": "2023-07-23T10:33:11.923Z"
   },
   {
    "duration": 385,
    "start_time": "2023-07-23T10:33:11.930Z"
   },
   {
    "duration": 125,
    "start_time": "2023-07-23T10:33:12.317Z"
   },
   {
    "duration": 376,
    "start_time": "2023-07-23T10:33:12.443Z"
   },
   {
    "duration": 126,
    "start_time": "2023-07-23T10:33:12.821Z"
   },
   {
    "duration": 369,
    "start_time": "2023-07-23T10:33:12.948Z"
   },
   {
    "duration": 104,
    "start_time": "2023-07-23T10:33:13.321Z"
   },
   {
    "duration": 1516,
    "start_time": "2023-07-23T10:34:44.723Z"
   },
   {
    "duration": 367,
    "start_time": "2023-07-23T10:34:46.241Z"
   },
   {
    "duration": 6,
    "start_time": "2023-07-23T10:34:46.610Z"
   },
   {
    "duration": 621,
    "start_time": "2023-07-23T10:34:46.617Z"
   },
   {
    "duration": 32,
    "start_time": "2023-07-23T10:34:47.240Z"
   },
   {
    "duration": 692,
    "start_time": "2023-07-23T10:34:47.274Z"
   },
   {
    "duration": 29,
    "start_time": "2023-07-23T10:34:47.967Z"
   },
   {
    "duration": 641,
    "start_time": "2023-07-23T10:34:47.998Z"
   },
   {
    "duration": 30,
    "start_time": "2023-07-23T10:34:48.641Z"
   },
   {
    "duration": 108,
    "start_time": "2023-07-23T10:34:48.673Z"
   },
   {
    "duration": 478,
    "start_time": "2023-07-23T10:34:48.783Z"
   },
   {
    "duration": 1070,
    "start_time": "2023-07-23T10:34:49.263Z"
   },
   {
    "duration": 4,
    "start_time": "2023-07-23T10:34:50.335Z"
   },
   {
    "duration": 424,
    "start_time": "2023-07-23T10:34:50.343Z"
   },
   {
    "duration": 405,
    "start_time": "2023-07-23T10:34:50.769Z"
   },
   {
    "duration": 402,
    "start_time": "2023-07-23T10:34:51.175Z"
   },
   {
    "duration": 2,
    "start_time": "2023-07-23T10:34:51.579Z"
   },
   {
    "duration": 32,
    "start_time": "2023-07-23T10:34:51.582Z"
   },
   {
    "duration": 607,
    "start_time": "2023-07-23T10:34:51.616Z"
   },
   {
    "duration": 13,
    "start_time": "2023-07-23T10:34:52.225Z"
   },
   {
    "duration": 23,
    "start_time": "2023-07-23T10:34:52.239Z"
   },
   {
    "duration": 14,
    "start_time": "2023-07-23T10:34:52.263Z"
   },
   {
    "duration": 339,
    "start_time": "2023-07-23T10:34:52.279Z"
   },
   {
    "duration": 124,
    "start_time": "2023-07-23T10:34:52.620Z"
   },
   {
    "duration": 368,
    "start_time": "2023-07-23T10:34:52.746Z"
   },
   {
    "duration": 127,
    "start_time": "2023-07-23T10:34:53.116Z"
   },
   {
    "duration": 371,
    "start_time": "2023-07-23T10:34:53.244Z"
   },
   {
    "duration": 105,
    "start_time": "2023-07-23T10:34:53.618Z"
   },
   {
    "duration": 1533,
    "start_time": "2023-07-23T10:38:43.035Z"
   },
   {
    "duration": 371,
    "start_time": "2023-07-23T10:38:44.570Z"
   },
   {
    "duration": 5,
    "start_time": "2023-07-23T10:38:44.943Z"
   },
   {
    "duration": 652,
    "start_time": "2023-07-23T10:38:44.950Z"
   },
   {
    "duration": 41,
    "start_time": "2023-07-23T10:38:45.604Z"
   },
   {
    "duration": 750,
    "start_time": "2023-07-23T10:38:45.648Z"
   },
   {
    "duration": 38,
    "start_time": "2023-07-23T10:38:46.400Z"
   },
   {
    "duration": 674,
    "start_time": "2023-07-23T10:38:46.440Z"
   },
   {
    "duration": 30,
    "start_time": "2023-07-23T10:38:47.115Z"
   },
   {
    "duration": 111,
    "start_time": "2023-07-23T10:38:47.148Z"
   },
   {
    "duration": 489,
    "start_time": "2023-07-23T10:38:47.261Z"
   },
   {
    "duration": 1046,
    "start_time": "2023-07-23T10:38:47.752Z"
   },
   {
    "duration": 4,
    "start_time": "2023-07-23T10:38:48.800Z"
   },
   {
    "duration": 388,
    "start_time": "2023-07-23T10:38:48.812Z"
   },
   {
    "duration": 382,
    "start_time": "2023-07-23T10:38:49.202Z"
   },
   {
    "duration": 429,
    "start_time": "2023-07-23T10:38:49.585Z"
   },
   {
    "duration": 2,
    "start_time": "2023-07-23T10:38:50.016Z"
   },
   {
    "duration": 126,
    "start_time": "2023-07-23T10:38:50.020Z"
   },
   {
    "duration": 0,
    "start_time": "2023-07-23T10:38:50.147Z"
   },
   {
    "duration": 0,
    "start_time": "2023-07-23T10:38:50.149Z"
   },
   {
    "duration": 0,
    "start_time": "2023-07-23T10:38:50.150Z"
   },
   {
    "duration": 0,
    "start_time": "2023-07-23T10:38:50.151Z"
   },
   {
    "duration": 0,
    "start_time": "2023-07-23T10:38:50.152Z"
   },
   {
    "duration": 0,
    "start_time": "2023-07-23T10:38:50.153Z"
   },
   {
    "duration": 0,
    "start_time": "2023-07-23T10:38:50.154Z"
   },
   {
    "duration": 0,
    "start_time": "2023-07-23T10:38:50.155Z"
   },
   {
    "duration": 0,
    "start_time": "2023-07-23T10:38:50.156Z"
   },
   {
    "duration": 0,
    "start_time": "2023-07-23T10:38:50.157Z"
   },
   {
    "duration": 1584,
    "start_time": "2023-07-23T10:39:18.114Z"
   },
   {
    "duration": 399,
    "start_time": "2023-07-23T10:39:19.700Z"
   },
   {
    "duration": 6,
    "start_time": "2023-07-23T10:39:20.100Z"
   },
   {
    "duration": 617,
    "start_time": "2023-07-23T10:39:20.107Z"
   },
   {
    "duration": 33,
    "start_time": "2023-07-23T10:39:20.726Z"
   },
   {
    "duration": 738,
    "start_time": "2023-07-23T10:39:20.761Z"
   },
   {
    "duration": 32,
    "start_time": "2023-07-23T10:39:21.501Z"
   },
   {
    "duration": 616,
    "start_time": "2023-07-23T10:39:21.535Z"
   },
   {
    "duration": 28,
    "start_time": "2023-07-23T10:39:22.153Z"
   },
   {
    "duration": 104,
    "start_time": "2023-07-23T10:39:22.184Z"
   },
   {
    "duration": 489,
    "start_time": "2023-07-23T10:39:22.290Z"
   },
   {
    "duration": 1127,
    "start_time": "2023-07-23T10:39:22.781Z"
   },
   {
    "duration": 5,
    "start_time": "2023-07-23T10:39:23.914Z"
   },
   {
    "duration": 413,
    "start_time": "2023-07-23T10:39:23.921Z"
   },
   {
    "duration": 434,
    "start_time": "2023-07-23T10:39:24.336Z"
   },
   {
    "duration": 427,
    "start_time": "2023-07-23T10:39:24.772Z"
   },
   {
    "duration": 3,
    "start_time": "2023-07-23T10:39:25.201Z"
   },
   {
    "duration": 11,
    "start_time": "2023-07-23T10:39:25.215Z"
   },
   {
    "duration": 128,
    "start_time": "2023-07-23T10:39:25.228Z"
   },
   {
    "duration": 0,
    "start_time": "2023-07-23T10:39:25.358Z"
   },
   {
    "duration": 0,
    "start_time": "2023-07-23T10:39:25.360Z"
   },
   {
    "duration": 0,
    "start_time": "2023-07-23T10:39:25.362Z"
   },
   {
    "duration": 0,
    "start_time": "2023-07-23T10:39:25.363Z"
   },
   {
    "duration": 0,
    "start_time": "2023-07-23T10:39:25.365Z"
   },
   {
    "duration": 0,
    "start_time": "2023-07-23T10:39:25.367Z"
   },
   {
    "duration": 0,
    "start_time": "2023-07-23T10:39:25.368Z"
   },
   {
    "duration": 0,
    "start_time": "2023-07-23T10:39:25.369Z"
   },
   {
    "duration": 0,
    "start_time": "2023-07-23T10:39:25.371Z"
   },
   {
    "duration": 1510,
    "start_time": "2023-07-23T10:39:42.019Z"
   },
   {
    "duration": 386,
    "start_time": "2023-07-23T10:39:43.532Z"
   },
   {
    "duration": 7,
    "start_time": "2023-07-23T10:39:43.921Z"
   },
   {
    "duration": 613,
    "start_time": "2023-07-23T10:39:43.930Z"
   },
   {
    "duration": 32,
    "start_time": "2023-07-23T10:39:44.545Z"
   },
   {
    "duration": 717,
    "start_time": "2023-07-23T10:39:44.579Z"
   },
   {
    "duration": 35,
    "start_time": "2023-07-23T10:39:45.298Z"
   },
   {
    "duration": 597,
    "start_time": "2023-07-23T10:39:45.334Z"
   },
   {
    "duration": 27,
    "start_time": "2023-07-23T10:39:45.932Z"
   },
   {
    "duration": 105,
    "start_time": "2023-07-23T10:39:45.961Z"
   },
   {
    "duration": 463,
    "start_time": "2023-07-23T10:39:46.067Z"
   },
   {
    "duration": 1015,
    "start_time": "2023-07-23T10:39:46.532Z"
   },
   {
    "duration": 4,
    "start_time": "2023-07-23T10:39:47.548Z"
   },
   {
    "duration": 415,
    "start_time": "2023-07-23T10:39:47.553Z"
   },
   {
    "duration": 411,
    "start_time": "2023-07-23T10:39:47.969Z"
   },
   {
    "duration": 411,
    "start_time": "2023-07-23T10:39:48.382Z"
   },
   {
    "duration": 2,
    "start_time": "2023-07-23T10:39:48.795Z"
   },
   {
    "duration": 20,
    "start_time": "2023-07-23T10:39:48.799Z"
   },
   {
    "duration": 568,
    "start_time": "2023-07-23T10:39:48.821Z"
   },
   {
    "duration": 23,
    "start_time": "2023-07-23T10:39:49.391Z"
   },
   {
    "duration": 11,
    "start_time": "2023-07-23T10:39:49.416Z"
   },
   {
    "duration": 6,
    "start_time": "2023-07-23T10:39:49.429Z"
   },
   {
    "duration": 386,
    "start_time": "2023-07-23T10:39:49.436Z"
   },
   {
    "duration": 122,
    "start_time": "2023-07-23T10:39:49.824Z"
   },
   {
    "duration": 374,
    "start_time": "2023-07-23T10:39:49.948Z"
   },
   {
    "duration": 121,
    "start_time": "2023-07-23T10:39:50.323Z"
   },
   {
    "duration": 372,
    "start_time": "2023-07-23T10:39:50.445Z"
   },
   {
    "duration": 104,
    "start_time": "2023-07-23T10:39:50.820Z"
   },
   {
    "duration": 1626,
    "start_time": "2023-07-23T10:51:28.666Z"
   },
   {
    "duration": 399,
    "start_time": "2023-07-23T10:51:30.295Z"
   },
   {
    "duration": 5,
    "start_time": "2023-07-23T10:51:30.696Z"
   },
   {
    "duration": 739,
    "start_time": "2023-07-23T10:51:30.703Z"
   },
   {
    "duration": 38,
    "start_time": "2023-07-23T10:51:31.445Z"
   },
   {
    "duration": 803,
    "start_time": "2023-07-23T10:51:31.485Z"
   },
   {
    "duration": 40,
    "start_time": "2023-07-23T10:51:32.290Z"
   },
   {
    "duration": 697,
    "start_time": "2023-07-23T10:51:32.332Z"
   },
   {
    "duration": 38,
    "start_time": "2023-07-23T10:51:33.031Z"
   },
   {
    "duration": 125,
    "start_time": "2023-07-23T10:51:33.071Z"
   },
   {
    "duration": 520,
    "start_time": "2023-07-23T10:51:33.198Z"
   },
   {
    "duration": 1093,
    "start_time": "2023-07-23T10:51:33.720Z"
   },
   {
    "duration": 4,
    "start_time": "2023-07-23T10:51:34.815Z"
   },
   {
    "duration": 458,
    "start_time": "2023-07-23T10:51:34.820Z"
   },
   {
    "duration": 415,
    "start_time": "2023-07-23T10:51:35.280Z"
   },
   {
    "duration": 408,
    "start_time": "2023-07-23T10:51:35.697Z"
   },
   {
    "duration": 5,
    "start_time": "2023-07-23T10:51:36.108Z"
   },
   {
    "duration": 43,
    "start_time": "2023-07-23T10:51:36.115Z"
   },
   {
    "duration": 670,
    "start_time": "2023-07-23T10:51:36.160Z"
   },
   {
    "duration": 12,
    "start_time": "2023-07-23T10:51:36.832Z"
   },
   {
    "duration": 21,
    "start_time": "2023-07-23T10:51:36.846Z"
   },
   {
    "duration": 11,
    "start_time": "2023-07-23T10:51:36.869Z"
   },
   {
    "duration": 344,
    "start_time": "2023-07-23T10:51:36.882Z"
   },
   {
    "duration": 49,
    "start_time": "2023-07-23T10:51:37.312Z"
   },
   {
    "duration": 452,
    "start_time": "2023-07-23T10:51:37.363Z"
   },
   {
    "duration": 38,
    "start_time": "2023-07-23T10:51:37.816Z"
   },
   {
    "duration": 466,
    "start_time": "2023-07-23T10:51:37.855Z"
   },
   {
    "duration": 7,
    "start_time": "2023-07-23T11:30:58.003Z"
   },
   {
    "duration": 2432,
    "start_time": "2023-07-23T11:30:59.013Z"
   },
   {
    "duration": 2373,
    "start_time": "2023-07-23T11:34:30.869Z"
   },
   {
    "duration": 5,
    "start_time": "2023-07-23T11:35:07.654Z"
   },
   {
    "duration": 408,
    "start_time": "2023-07-23T11:35:08.310Z"
   },
   {
    "duration": 427,
    "start_time": "2023-07-23T11:36:08.893Z"
   },
   {
    "duration": 113,
    "start_time": "2023-07-23T11:36:20.111Z"
   },
   {
    "duration": 11,
    "start_time": "2023-07-23T11:36:32.725Z"
   },
   {
    "duration": 416,
    "start_time": "2023-07-23T11:36:54.102Z"
   },
   {
    "duration": 10,
    "start_time": "2023-07-23T11:37:25.106Z"
   },
   {
    "duration": 10,
    "start_time": "2023-07-23T11:37:37.622Z"
   },
   {
    "duration": 357,
    "start_time": "2023-07-23T11:37:50.463Z"
   },
   {
    "duration": 10,
    "start_time": "2023-07-23T11:39:31.754Z"
   },
   {
    "duration": 381,
    "start_time": "2023-07-23T11:42:10.238Z"
   },
   {
    "duration": 4,
    "start_time": "2023-07-23T11:42:42.957Z"
   },
   {
    "duration": 5,
    "start_time": "2023-07-23T11:43:03.320Z"
   },
   {
    "duration": 422,
    "start_time": "2023-07-23T11:43:13.698Z"
   },
   {
    "duration": 12,
    "start_time": "2023-07-23T11:49:08.219Z"
   },
   {
    "duration": 15,
    "start_time": "2023-07-23T11:49:16.121Z"
   },
   {
    "duration": 17,
    "start_time": "2023-07-23T11:49:32.689Z"
   },
   {
    "duration": 13,
    "start_time": "2023-07-23T11:49:53.617Z"
   },
   {
    "duration": 21,
    "start_time": "2023-07-23T11:49:59.797Z"
   },
   {
    "duration": 21,
    "start_time": "2023-07-23T11:50:10.247Z"
   },
   {
    "duration": 349,
    "start_time": "2023-07-23T11:50:31.776Z"
   },
   {
    "duration": 308,
    "start_time": "2023-07-23T11:50:48.011Z"
   },
   {
    "duration": 267,
    "start_time": "2023-07-23T11:51:49.363Z"
   },
   {
    "duration": 385,
    "start_time": "2023-07-23T11:52:24.035Z"
   },
   {
    "duration": 389,
    "start_time": "2023-07-23T11:53:12.629Z"
   },
   {
    "duration": 9,
    "start_time": "2023-07-23T11:53:38.106Z"
   },
   {
    "duration": 381,
    "start_time": "2023-07-23T11:53:59.237Z"
   },
   {
    "duration": 1612,
    "start_time": "2023-07-23T11:54:08.418Z"
   },
   {
    "duration": 368,
    "start_time": "2023-07-23T11:54:10.032Z"
   },
   {
    "duration": 6,
    "start_time": "2023-07-23T11:54:10.401Z"
   },
   {
    "duration": 631,
    "start_time": "2023-07-23T11:54:10.408Z"
   },
   {
    "duration": 37,
    "start_time": "2023-07-23T11:54:11.042Z"
   },
   {
    "duration": 713,
    "start_time": "2023-07-23T11:54:11.081Z"
   },
   {
    "duration": 31,
    "start_time": "2023-07-23T11:54:11.795Z"
   },
   {
    "duration": 587,
    "start_time": "2023-07-23T11:54:11.828Z"
   },
   {
    "duration": 27,
    "start_time": "2023-07-23T11:54:12.417Z"
   },
   {
    "duration": 105,
    "start_time": "2023-07-23T11:54:12.446Z"
   },
   {
    "duration": 492,
    "start_time": "2023-07-23T11:54:12.552Z"
   },
   {
    "duration": 1070,
    "start_time": "2023-07-23T11:54:13.046Z"
   },
   {
    "duration": 3,
    "start_time": "2023-07-23T11:54:14.118Z"
   },
   {
    "duration": 374,
    "start_time": "2023-07-23T11:54:14.124Z"
   },
   {
    "duration": 383,
    "start_time": "2023-07-23T11:54:14.500Z"
   },
   {
    "duration": 394,
    "start_time": "2023-07-23T11:54:14.885Z"
   },
   {
    "duration": 2,
    "start_time": "2023-07-23T11:54:15.281Z"
   },
   {
    "duration": 25,
    "start_time": "2023-07-23T11:54:15.285Z"
   },
   {
    "duration": 593,
    "start_time": "2023-07-23T11:54:15.312Z"
   },
   {
    "duration": 16,
    "start_time": "2023-07-23T11:54:15.907Z"
   },
   {
    "duration": 21,
    "start_time": "2023-07-23T11:54:15.925Z"
   },
   {
    "duration": 15,
    "start_time": "2023-07-23T11:54:15.948Z"
   },
   {
    "duration": 359,
    "start_time": "2023-07-23T11:54:15.964Z"
   },
   {
    "duration": 33,
    "start_time": "2023-07-23T11:54:16.414Z"
   },
   {
    "duration": 366,
    "start_time": "2023-07-23T11:54:16.449Z"
   },
   {
    "duration": 37,
    "start_time": "2023-07-23T11:54:16.816Z"
   },
   {
    "duration": 366,
    "start_time": "2023-07-23T11:54:16.855Z"
   },
   {
    "duration": 92,
    "start_time": "2023-07-23T11:54:17.223Z"
   },
   {
    "duration": 417,
    "start_time": "2023-07-23T11:54:17.317Z"
   },
   {
    "duration": 256,
    "start_time": "2023-07-23T11:54:32.372Z"
   },
   {
    "duration": 337,
    "start_time": "2023-07-23T11:54:47.079Z"
   },
   {
    "duration": 403,
    "start_time": "2023-07-23T11:54:52.618Z"
   },
   {
    "duration": 1583,
    "start_time": "2023-07-23T11:55:47.274Z"
   },
   {
    "duration": 381,
    "start_time": "2023-07-23T11:55:48.859Z"
   },
   {
    "duration": 6,
    "start_time": "2023-07-23T11:55:49.243Z"
   },
   {
    "duration": 721,
    "start_time": "2023-07-23T11:55:49.250Z"
   },
   {
    "duration": 30,
    "start_time": "2023-07-23T11:55:49.972Z"
   },
   {
    "duration": 701,
    "start_time": "2023-07-23T11:55:50.013Z"
   },
   {
    "duration": 28,
    "start_time": "2023-07-23T11:55:50.716Z"
   },
   {
    "duration": 639,
    "start_time": "2023-07-23T11:55:50.746Z"
   },
   {
    "duration": 37,
    "start_time": "2023-07-23T11:55:51.388Z"
   },
   {
    "duration": 106,
    "start_time": "2023-07-23T11:55:51.427Z"
   },
   {
    "duration": 505,
    "start_time": "2023-07-23T11:55:51.534Z"
   },
   {
    "duration": 1041,
    "start_time": "2023-07-23T11:55:52.041Z"
   },
   {
    "duration": 3,
    "start_time": "2023-07-23T11:55:53.084Z"
   },
   {
    "duration": 404,
    "start_time": "2023-07-23T11:55:53.089Z"
   },
   {
    "duration": 402,
    "start_time": "2023-07-23T11:55:53.495Z"
   },
   {
    "duration": 405,
    "start_time": "2023-07-23T11:55:53.899Z"
   },
   {
    "duration": 3,
    "start_time": "2023-07-23T11:55:54.312Z"
   },
   {
    "duration": 14,
    "start_time": "2023-07-23T11:55:54.316Z"
   },
   {
    "duration": 576,
    "start_time": "2023-07-23T11:55:54.332Z"
   },
   {
    "duration": 15,
    "start_time": "2023-07-23T11:55:54.910Z"
   },
   {
    "duration": 14,
    "start_time": "2023-07-23T11:55:54.927Z"
   },
   {
    "duration": 9,
    "start_time": "2023-07-23T11:55:54.943Z"
   },
   {
    "duration": 461,
    "start_time": "2023-07-23T11:55:54.954Z"
   },
   {
    "duration": 35,
    "start_time": "2023-07-23T11:55:55.417Z"
   },
   {
    "duration": 661,
    "start_time": "2023-07-23T11:55:55.454Z"
   },
   {
    "duration": 38,
    "start_time": "2023-07-23T11:55:56.116Z"
   },
   {
    "duration": 461,
    "start_time": "2023-07-23T11:55:56.158Z"
   },
   {
    "duration": 7,
    "start_time": "2023-07-23T11:55:56.714Z"
   },
   {
    "duration": 395,
    "start_time": "2023-07-23T11:55:56.723Z"
   },
   {
    "duration": 428,
    "start_time": "2023-07-23T12:25:07.690Z"
   },
   {
    "duration": 130,
    "start_time": "2023-07-23T15:31:31.052Z"
   },
   {
    "duration": 3,
    "start_time": "2023-07-23T15:32:26.728Z"
   },
   {
    "duration": 132,
    "start_time": "2023-07-23T15:40:15.240Z"
   },
   {
    "duration": 5,
    "start_time": "2023-07-23T15:47:08.842Z"
   },
   {
    "duration": 3,
    "start_time": "2023-07-23T15:52:07.560Z"
   },
   {
    "duration": 3,
    "start_time": "2023-07-23T15:53:22.828Z"
   },
   {
    "duration": 3,
    "start_time": "2023-07-23T15:53:40.364Z"
   },
   {
    "duration": 5,
    "start_time": "2023-07-23T15:55:04.405Z"
   },
   {
    "duration": 4,
    "start_time": "2023-07-23T15:55:14.454Z"
   },
   {
    "duration": 4,
    "start_time": "2023-07-23T15:58:31.152Z"
   },
   {
    "duration": 5,
    "start_time": "2023-07-23T15:58:34.129Z"
   },
   {
    "duration": 3,
    "start_time": "2023-07-23T15:58:39.142Z"
   },
   {
    "duration": 7,
    "start_time": "2023-07-23T15:58:40.323Z"
   },
   {
    "duration": 133,
    "start_time": "2023-07-23T16:06:43.156Z"
   },
   {
    "duration": 2,
    "start_time": "2023-07-23T16:06:53.551Z"
   },
   {
    "duration": 4,
    "start_time": "2023-07-23T16:07:05.958Z"
   },
   {
    "duration": 3,
    "start_time": "2023-07-23T16:08:56.290Z"
   },
   {
    "duration": 8,
    "start_time": "2023-07-23T16:09:02.247Z"
   },
   {
    "duration": 4,
    "start_time": "2023-07-23T16:09:05.267Z"
   },
   {
    "duration": 7,
    "start_time": "2023-07-23T16:10:18.226Z"
   },
   {
    "duration": 1873,
    "start_time": "2023-07-23T16:19:33.692Z"
   },
   {
    "duration": 483,
    "start_time": "2023-07-23T16:19:35.567Z"
   },
   {
    "duration": 11,
    "start_time": "2023-07-23T16:19:36.060Z"
   },
   {
    "duration": 791,
    "start_time": "2023-07-23T16:19:36.073Z"
   },
   {
    "duration": 34,
    "start_time": "2023-07-23T16:19:36.865Z"
   },
   {
    "duration": 983,
    "start_time": "2023-07-23T16:19:36.901Z"
   },
   {
    "duration": 47,
    "start_time": "2023-07-23T16:19:37.886Z"
   },
   {
    "duration": 746,
    "start_time": "2023-07-23T16:19:37.942Z"
   },
   {
    "duration": 56,
    "start_time": "2023-07-23T16:19:38.690Z"
   },
   {
    "duration": 121,
    "start_time": "2023-07-23T16:19:38.749Z"
   },
   {
    "duration": 617,
    "start_time": "2023-07-23T16:19:38.873Z"
   },
   {
    "duration": 1404,
    "start_time": "2023-07-23T16:19:39.492Z"
   },
   {
    "duration": 4,
    "start_time": "2023-07-23T16:19:40.898Z"
   },
   {
    "duration": 454,
    "start_time": "2023-07-23T16:19:40.904Z"
   },
   {
    "duration": 454,
    "start_time": "2023-07-23T16:19:41.362Z"
   },
   {
    "duration": 412,
    "start_time": "2023-07-23T16:19:41.819Z"
   },
   {
    "duration": 4,
    "start_time": "2023-07-23T16:19:42.252Z"
   },
   {
    "duration": 11,
    "start_time": "2023-07-23T16:19:42.258Z"
   },
   {
    "duration": 726,
    "start_time": "2023-07-23T16:19:42.271Z"
   },
   {
    "duration": 25,
    "start_time": "2023-07-23T16:19:42.999Z"
   },
   {
    "duration": 29,
    "start_time": "2023-07-23T16:19:43.033Z"
   },
   {
    "duration": 6,
    "start_time": "2023-07-23T16:19:43.064Z"
   },
   {
    "duration": 545,
    "start_time": "2023-07-23T16:19:43.072Z"
   },
   {
    "duration": 51,
    "start_time": "2023-07-23T16:19:43.641Z"
   },
   {
    "duration": 415,
    "start_time": "2023-07-23T16:19:43.722Z"
   },
   {
    "duration": 129,
    "start_time": "2023-07-23T16:19:44.144Z"
   },
   {
    "duration": 383,
    "start_time": "2023-07-23T16:19:44.275Z"
   },
   {
    "duration": 12,
    "start_time": "2023-07-23T16:19:44.723Z"
   },
   {
    "duration": 409,
    "start_time": "2023-07-23T16:19:44.746Z"
   },
   {
    "duration": 522,
    "start_time": "2023-07-23T16:19:45.219Z"
   },
   {
    "duration": 11,
    "start_time": "2023-07-23T16:19:45.752Z"
   },
   {
    "duration": 9,
    "start_time": "2023-07-23T16:19:45.820Z"
   },
   {
    "duration": 130,
    "start_time": "2023-07-23T16:44:33.145Z"
   },
   {
    "duration": 11,
    "start_time": "2023-07-23T16:44:49.134Z"
   },
   {
    "duration": 30,
    "start_time": "2023-07-23T16:44:50.001Z"
   },
   {
    "duration": 4,
    "start_time": "2023-07-23T16:47:28.539Z"
   },
   {
    "duration": 18,
    "start_time": "2023-07-23T16:47:30.114Z"
   },
   {
    "duration": 18,
    "start_time": "2023-07-23T16:47:58.166Z"
   },
   {
    "duration": 12,
    "start_time": "2023-07-23T16:48:34.443Z"
   },
   {
    "duration": 12,
    "start_time": "2023-07-23T16:49:02.597Z"
   },
   {
    "duration": 1628,
    "start_time": "2023-07-23T16:53:49.642Z"
   },
   {
    "duration": 405,
    "start_time": "2023-07-23T16:53:51.272Z"
   },
   {
    "duration": 6,
    "start_time": "2023-07-23T16:53:51.679Z"
   },
   {
    "duration": 694,
    "start_time": "2023-07-23T16:53:51.686Z"
   },
   {
    "duration": 48,
    "start_time": "2023-07-23T16:53:52.382Z"
   },
   {
    "duration": 770,
    "start_time": "2023-07-23T16:53:52.432Z"
   },
   {
    "duration": 40,
    "start_time": "2023-07-23T16:53:53.204Z"
   },
   {
    "duration": 752,
    "start_time": "2023-07-23T16:53:53.246Z"
   },
   {
    "duration": 43,
    "start_time": "2023-07-23T16:53:54.000Z"
   },
   {
    "duration": 112,
    "start_time": "2023-07-23T16:53:54.046Z"
   },
   {
    "duration": 533,
    "start_time": "2023-07-23T16:53:54.160Z"
   },
   {
    "duration": 1179,
    "start_time": "2023-07-23T16:53:54.695Z"
   },
   {
    "duration": 5,
    "start_time": "2023-07-23T16:53:55.876Z"
   },
   {
    "duration": 408,
    "start_time": "2023-07-23T16:53:55.884Z"
   },
   {
    "duration": 394,
    "start_time": "2023-07-23T16:53:56.294Z"
   },
   {
    "duration": 413,
    "start_time": "2023-07-23T16:53:56.690Z"
   },
   {
    "duration": 13,
    "start_time": "2023-07-23T16:53:57.105Z"
   },
   {
    "duration": 15,
    "start_time": "2023-07-23T16:53:57.128Z"
   },
   {
    "duration": 708,
    "start_time": "2023-07-23T16:53:57.147Z"
   },
   {
    "duration": 13,
    "start_time": "2023-07-23T16:53:57.857Z"
   },
   {
    "duration": 12,
    "start_time": "2023-07-23T16:53:57.872Z"
   },
   {
    "duration": 35,
    "start_time": "2023-07-23T16:53:57.886Z"
   },
   {
    "duration": 312,
    "start_time": "2023-07-23T16:53:57.931Z"
   },
   {
    "duration": 114,
    "start_time": "2023-07-23T16:53:58.249Z"
   },
   {
    "duration": 286,
    "start_time": "2023-07-23T16:53:58.364Z"
   },
   {
    "duration": 129,
    "start_time": "2023-07-23T16:53:58.714Z"
   },
   {
    "duration": 405,
    "start_time": "2023-07-23T16:53:58.844Z"
   },
   {
    "duration": 10,
    "start_time": "2023-07-23T16:53:59.316Z"
   },
   {
    "duration": 496,
    "start_time": "2023-07-23T16:53:59.331Z"
   },
   {
    "duration": 506,
    "start_time": "2023-07-23T16:53:59.829Z"
   },
   {
    "duration": 7,
    "start_time": "2023-07-23T16:54:00.339Z"
   },
   {
    "duration": 98,
    "start_time": "2023-07-23T16:54:00.350Z"
   },
   {
    "duration": 95,
    "start_time": "2023-07-23T16:54:00.452Z"
   },
   {
    "duration": 16,
    "start_time": "2023-07-23T16:54:10.907Z"
   },
   {
    "duration": 11,
    "start_time": "2023-07-23T16:54:43.993Z"
   },
   {
    "duration": 8,
    "start_time": "2023-07-23T16:55:25.518Z"
   },
   {
    "duration": 6,
    "start_time": "2023-07-23T18:31:23.302Z"
   },
   {
    "duration": 33,
    "start_time": "2023-07-23T19:08:11.439Z"
   },
   {
    "duration": 33,
    "start_time": "2023-07-23T19:08:29.928Z"
   },
   {
    "duration": 9,
    "start_time": "2023-07-23T19:13:55.138Z"
   },
   {
    "duration": 11,
    "start_time": "2023-07-23T19:59:34.532Z"
   },
   {
    "duration": 205,
    "start_time": "2023-07-23T19:59:35.652Z"
   },
   {
    "duration": 2092,
    "start_time": "2023-07-23T20:00:22.777Z"
   },
   {
    "duration": 558,
    "start_time": "2023-07-23T20:00:24.875Z"
   },
   {
    "duration": 8,
    "start_time": "2023-07-23T20:00:25.444Z"
   },
   {
    "duration": 891,
    "start_time": "2023-07-23T20:00:25.455Z"
   },
   {
    "duration": 48,
    "start_time": "2023-07-23T20:00:26.353Z"
   },
   {
    "duration": 882,
    "start_time": "2023-07-23T20:00:26.403Z"
   },
   {
    "duration": 38,
    "start_time": "2023-07-23T20:00:27.290Z"
   },
   {
    "duration": 825,
    "start_time": "2023-07-23T20:00:27.329Z"
   },
   {
    "duration": 46,
    "start_time": "2023-07-23T20:00:28.158Z"
   },
   {
    "duration": 161,
    "start_time": "2023-07-23T20:00:28.208Z"
   },
   {
    "duration": 679,
    "start_time": "2023-07-23T20:00:28.374Z"
   },
   {
    "duration": 1604,
    "start_time": "2023-07-23T20:00:29.062Z"
   },
   {
    "duration": 28,
    "start_time": "2023-07-23T20:00:30.668Z"
   },
   {
    "duration": 500,
    "start_time": "2023-07-23T20:00:30.705Z"
   },
   {
    "duration": 480,
    "start_time": "2023-07-23T20:00:31.207Z"
   },
   {
    "duration": 505,
    "start_time": "2023-07-23T20:00:31.689Z"
   },
   {
    "duration": 4,
    "start_time": "2023-07-23T20:00:32.196Z"
   },
   {
    "duration": 74,
    "start_time": "2023-07-23T20:00:32.202Z"
   },
   {
    "duration": 962,
    "start_time": "2023-07-23T20:00:32.279Z"
   },
   {
    "duration": 34,
    "start_time": "2023-07-23T20:00:33.252Z"
   },
   {
    "duration": 16,
    "start_time": "2023-07-23T20:00:33.291Z"
   },
   {
    "duration": 34,
    "start_time": "2023-07-23T20:00:33.309Z"
   },
   {
    "duration": 375,
    "start_time": "2023-07-23T20:00:33.355Z"
   },
   {
    "duration": 71,
    "start_time": "2023-07-23T20:00:33.739Z"
   },
   {
    "duration": 508,
    "start_time": "2023-07-23T20:00:33.812Z"
   },
   {
    "duration": 73,
    "start_time": "2023-07-23T20:00:34.328Z"
   },
   {
    "duration": 360,
    "start_time": "2023-07-23T20:00:34.403Z"
   },
   {
    "duration": 34,
    "start_time": "2023-07-23T20:00:34.787Z"
   },
   {
    "duration": 428,
    "start_time": "2023-07-23T20:00:34.838Z"
   },
   {
    "duration": 462,
    "start_time": "2023-07-23T20:00:35.280Z"
   },
   {
    "duration": 14,
    "start_time": "2023-07-23T20:00:35.744Z"
   },
   {
    "duration": 73,
    "start_time": "2023-07-23T20:00:35.765Z"
   },
   {
    "duration": 8,
    "start_time": "2023-07-23T20:00:35.850Z"
   },
   {
    "duration": 50,
    "start_time": "2023-07-23T20:00:35.867Z"
   },
   {
    "duration": 203,
    "start_time": "2023-07-23T20:00:35.926Z"
   },
   {
    "duration": 11,
    "start_time": "2023-07-23T20:02:16.173Z"
   },
   {
    "duration": 45,
    "start_time": "2023-07-23T20:02:17.613Z"
   },
   {
    "duration": 41,
    "start_time": "2023-07-23T20:03:12.131Z"
   },
   {
    "duration": 42,
    "start_time": "2023-07-23T20:03:33.292Z"
   },
   {
    "duration": 27,
    "start_time": "2023-07-23T20:04:26.979Z"
   },
   {
    "duration": 37,
    "start_time": "2023-07-23T20:05:48.014Z"
   },
   {
    "duration": 42,
    "start_time": "2023-07-23T20:06:27.248Z"
   },
   {
    "duration": 34,
    "start_time": "2023-07-23T20:07:17.841Z"
   },
   {
    "duration": 44,
    "start_time": "2023-07-23T20:07:41.667Z"
   },
   {
    "duration": 32,
    "start_time": "2023-07-23T20:08:14.077Z"
   },
   {
    "duration": 53,
    "start_time": "2023-07-23T20:08:49.648Z"
   },
   {
    "duration": 21,
    "start_time": "2023-07-23T20:10:00.745Z"
   },
   {
    "duration": 40,
    "start_time": "2023-07-23T20:10:18.634Z"
   },
   {
    "duration": 15,
    "start_time": "2023-07-23T20:10:26.746Z"
   },
   {
    "duration": 35,
    "start_time": "2023-07-23T20:11:51.868Z"
   },
   {
    "duration": 13,
    "start_time": "2023-07-23T20:12:25.579Z"
   },
   {
    "duration": 48,
    "start_time": "2023-07-23T20:12:28.314Z"
   },
   {
    "duration": 24,
    "start_time": "2023-07-23T20:12:52.664Z"
   },
   {
    "duration": 21,
    "start_time": "2023-07-23T20:18:31.871Z"
   },
   {
    "duration": 2044,
    "start_time": "2023-07-23T20:18:47.245Z"
   },
   {
    "duration": 568,
    "start_time": "2023-07-23T20:18:49.294Z"
   },
   {
    "duration": 24,
    "start_time": "2023-07-23T20:18:49.875Z"
   },
   {
    "duration": 899,
    "start_time": "2023-07-23T20:18:49.904Z"
   },
   {
    "duration": 65,
    "start_time": "2023-07-23T20:18:50.814Z"
   },
   {
    "duration": 951,
    "start_time": "2023-07-23T20:18:50.883Z"
   },
   {
    "duration": 45,
    "start_time": "2023-07-23T20:18:51.840Z"
   },
   {
    "duration": 935,
    "start_time": "2023-07-23T20:18:51.888Z"
   },
   {
    "duration": 56,
    "start_time": "2023-07-23T20:18:52.833Z"
   },
   {
    "duration": 102,
    "start_time": "2023-07-23T20:18:52.898Z"
   },
   {
    "duration": 674,
    "start_time": "2023-07-23T20:18:53.005Z"
   },
   {
    "duration": 1561,
    "start_time": "2023-07-23T20:18:53.683Z"
   },
   {
    "duration": 6,
    "start_time": "2023-07-23T20:18:55.248Z"
   },
   {
    "duration": 470,
    "start_time": "2023-07-23T20:18:55.256Z"
   },
   {
    "duration": 492,
    "start_time": "2023-07-23T20:18:55.728Z"
   },
   {
    "duration": 456,
    "start_time": "2023-07-23T20:18:56.223Z"
   },
   {
    "duration": 2,
    "start_time": "2023-07-23T20:18:56.683Z"
   },
   {
    "duration": 22,
    "start_time": "2023-07-23T20:18:56.687Z"
   },
   {
    "duration": 797,
    "start_time": "2023-07-23T20:18:56.711Z"
   },
   {
    "duration": 32,
    "start_time": "2023-07-23T20:18:57.510Z"
   },
   {
    "duration": 31,
    "start_time": "2023-07-23T20:18:57.551Z"
   },
   {
    "duration": 6,
    "start_time": "2023-07-23T20:18:57.588Z"
   },
   {
    "duration": 476,
    "start_time": "2023-07-23T20:18:57.596Z"
   },
   {
    "duration": 73,
    "start_time": "2023-07-23T20:18:58.082Z"
   },
   {
    "duration": 385,
    "start_time": "2023-07-23T20:18:58.156Z"
   },
   {
    "duration": 105,
    "start_time": "2023-07-23T20:18:58.560Z"
   },
   {
    "duration": 482,
    "start_time": "2023-07-23T20:18:58.667Z"
   },
   {
    "duration": 13,
    "start_time": "2023-07-23T20:18:59.175Z"
   },
   {
    "duration": 259,
    "start_time": "2023-07-23T20:18:59.190Z"
   },
   {
    "duration": 519,
    "start_time": "2023-07-23T20:18:59.455Z"
   },
   {
    "duration": 7,
    "start_time": "2023-07-23T20:18:59.980Z"
   },
   {
    "duration": 94,
    "start_time": "2023-07-23T20:18:59.993Z"
   },
   {
    "duration": 255,
    "start_time": "2023-07-23T20:19:00.093Z"
   },
   {
    "duration": 0,
    "start_time": "2023-07-23T20:19:00.350Z"
   },
   {
    "duration": 0,
    "start_time": "2023-07-23T20:19:00.351Z"
   },
   {
    "duration": 39,
    "start_time": "2023-07-23T20:19:33.962Z"
   },
   {
    "duration": 29,
    "start_time": "2023-07-23T20:19:37.064Z"
   },
   {
    "duration": 24,
    "start_time": "2023-07-23T20:20:02.882Z"
   },
   {
    "duration": 45,
    "start_time": "2023-07-23T20:20:11.344Z"
   },
   {
    "duration": 27,
    "start_time": "2023-07-23T20:20:46.140Z"
   },
   {
    "duration": 50,
    "start_time": "2023-07-23T20:20:48.748Z"
   },
   {
    "duration": 16,
    "start_time": "2023-07-23T20:24:04.103Z"
   },
   {
    "duration": 27,
    "start_time": "2023-07-23T20:24:36.032Z"
   },
   {
    "duration": 13,
    "start_time": "2023-07-23T20:24:42.689Z"
   },
   {
    "duration": 21,
    "start_time": "2023-07-23T20:24:52.346Z"
   },
   {
    "duration": 58,
    "start_time": "2023-07-23T20:25:59.684Z"
   },
   {
    "duration": 21,
    "start_time": "2023-07-23T20:26:31.508Z"
   },
   {
    "duration": 31,
    "start_time": "2023-07-23T20:26:47.418Z"
   },
   {
    "duration": 34,
    "start_time": "2023-07-23T20:27:03.143Z"
   },
   {
    "duration": 28,
    "start_time": "2023-07-23T20:27:12.653Z"
   },
   {
    "duration": 31,
    "start_time": "2023-07-23T20:27:33.671Z"
   },
   {
    "duration": 14,
    "start_time": "2023-07-23T20:29:21.875Z"
   },
   {
    "duration": 13,
    "start_time": "2023-07-23T20:29:35.832Z"
   },
   {
    "duration": 10,
    "start_time": "2023-07-23T20:30:01.608Z"
   },
   {
    "duration": 25,
    "start_time": "2023-07-23T20:30:10.947Z"
   },
   {
    "duration": 217,
    "start_time": "2023-07-23T20:30:55.678Z"
   },
   {
    "duration": 438,
    "start_time": "2023-07-23T20:31:10.438Z"
   },
   {
    "duration": 12,
    "start_time": "2023-07-23T20:32:06.878Z"
   },
   {
    "duration": 43,
    "start_time": "2023-07-23T20:32:21.831Z"
   },
   {
    "duration": 43,
    "start_time": "2023-07-23T20:33:21.925Z"
   },
   {
    "duration": 19,
    "start_time": "2023-07-23T20:33:33.371Z"
   },
   {
    "duration": 47,
    "start_time": "2023-07-23T20:33:38.146Z"
   },
   {
    "duration": 51,
    "start_time": "2023-07-23T20:36:26.434Z"
   },
   {
    "duration": 28,
    "start_time": "2023-07-23T20:37:47.868Z"
   },
   {
    "duration": 63,
    "start_time": "2023-07-23T20:37:59.787Z"
   },
   {
    "duration": 59,
    "start_time": "2023-07-23T20:39:35.608Z"
   },
   {
    "duration": 216,
    "start_time": "2023-07-23T20:40:02.527Z"
   },
   {
    "duration": 58,
    "start_time": "2023-07-23T20:40:16.639Z"
   },
   {
    "duration": 45,
    "start_time": "2023-07-23T20:42:00.643Z"
   },
   {
    "duration": 65,
    "start_time": "2023-07-23T20:43:50.527Z"
   },
   {
    "duration": 39,
    "start_time": "2023-07-23T20:46:06.129Z"
   },
   {
    "duration": 35,
    "start_time": "2023-07-23T20:46:55.504Z"
   },
   {
    "duration": 48,
    "start_time": "2023-07-23T20:47:22.216Z"
   },
   {
    "duration": 51,
    "start_time": "2023-07-23T20:48:28.480Z"
   },
   {
    "duration": 53,
    "start_time": "2023-07-23T20:49:11.604Z"
   },
   {
    "duration": 46,
    "start_time": "2023-07-23T20:50:18.203Z"
   },
   {
    "duration": 2007,
    "start_time": "2023-07-23T20:53:09.455Z"
   },
   {
    "duration": 5867,
    "start_time": "2023-07-23T20:53:19.634Z"
   },
   {
    "duration": 8,
    "start_time": "2023-07-23T20:57:40.602Z"
   },
   {
    "duration": 57,
    "start_time": "2023-07-23T20:57:44.307Z"
   },
   {
    "duration": 6,
    "start_time": "2023-07-23T20:57:55.990Z"
   },
   {
    "duration": 5739,
    "start_time": "2023-07-23T20:57:57.084Z"
   },
   {
    "duration": 5618,
    "start_time": "2023-07-23T20:58:11.791Z"
   },
   {
    "duration": 5676,
    "start_time": "2023-07-23T20:58:24.389Z"
   },
   {
    "duration": 5,
    "start_time": "2023-07-23T20:58:58.996Z"
   },
   {
    "duration": 5843,
    "start_time": "2023-07-23T20:59:00.158Z"
   },
   {
    "duration": 6136,
    "start_time": "2023-07-23T20:59:09.408Z"
   },
   {
    "duration": 9,
    "start_time": "2023-07-23T21:00:20.375Z"
   },
   {
    "duration": 6208,
    "start_time": "2023-07-23T21:00:21.260Z"
   },
   {
    "duration": 2033,
    "start_time": "2023-07-23T21:01:10.651Z"
   },
   {
    "duration": 517,
    "start_time": "2023-07-23T21:01:12.687Z"
   },
   {
    "duration": 13,
    "start_time": "2023-07-23T21:01:13.206Z"
   },
   {
    "duration": 893,
    "start_time": "2023-07-23T21:01:13.227Z"
   },
   {
    "duration": 61,
    "start_time": "2023-07-23T21:01:14.128Z"
   },
   {
    "duration": 955,
    "start_time": "2023-07-23T21:01:14.194Z"
   },
   {
    "duration": 42,
    "start_time": "2023-07-23T21:01:15.151Z"
   },
   {
    "duration": 797,
    "start_time": "2023-07-23T21:01:15.197Z"
   },
   {
    "duration": 50,
    "start_time": "2023-07-23T21:01:16.000Z"
   },
   {
    "duration": 111,
    "start_time": "2023-07-23T21:01:16.057Z"
   },
   {
    "duration": 648,
    "start_time": "2023-07-23T21:01:16.173Z"
   },
   {
    "duration": 1466,
    "start_time": "2023-07-23T21:01:16.830Z"
   },
   {
    "duration": 5,
    "start_time": "2023-07-23T21:01:18.302Z"
   },
   {
    "duration": 462,
    "start_time": "2023-07-23T21:01:18.309Z"
   },
   {
    "duration": 438,
    "start_time": "2023-07-23T21:01:18.773Z"
   },
   {
    "duration": 530,
    "start_time": "2023-07-23T21:01:19.212Z"
   },
   {
    "duration": 267182,
    "start_time": "2023-07-23T21:01:19.748Z"
   },
   {
    "duration": 18,
    "start_time": "2023-07-23T21:05:46.932Z"
   },
   {
    "duration": 929,
    "start_time": "2023-07-23T21:05:46.952Z"
   },
   {
    "duration": 36,
    "start_time": "2023-07-23T21:05:47.887Z"
   },
   {
    "duration": 28,
    "start_time": "2023-07-23T21:05:47.942Z"
   },
   {
    "duration": 15,
    "start_time": "2023-07-23T21:05:47.972Z"
   },
   {
    "duration": 368,
    "start_time": "2023-07-23T21:05:47.993Z"
   },
   {
    "duration": 72,
    "start_time": "2023-07-23T21:05:48.437Z"
   },
   {
    "duration": 360,
    "start_time": "2023-07-23T21:05:48.511Z"
   },
   {
    "duration": 107,
    "start_time": "2023-07-23T21:05:48.887Z"
   },
   {
    "duration": 439,
    "start_time": "2023-07-23T21:05:48.998Z"
   },
   {
    "duration": 21,
    "start_time": "2023-07-23T21:05:49.442Z"
   },
   {
    "duration": 573,
    "start_time": "2023-07-23T21:05:49.466Z"
   },
   {
    "duration": 482,
    "start_time": "2023-07-23T21:05:50.055Z"
   },
   {
    "duration": 12,
    "start_time": "2023-07-23T21:05:50.580Z"
   },
   {
    "duration": 47,
    "start_time": "2023-07-23T21:05:50.602Z"
   },
   {
    "duration": 18,
    "start_time": "2023-07-23T21:05:50.663Z"
   },
   {
    "duration": 52,
    "start_time": "2023-07-23T21:05:50.685Z"
   },
   {
    "duration": 5849,
    "start_time": "2023-07-23T21:05:50.739Z"
   },
   {
    "duration": 2278,
    "start_time": "2023-07-23T22:23:27.358Z"
   },
   {
    "duration": 387,
    "start_time": "2023-07-23T22:23:29.638Z"
   },
   {
    "duration": 5,
    "start_time": "2023-07-23T22:23:30.027Z"
   },
   {
    "duration": 670,
    "start_time": "2023-07-23T22:23:30.035Z"
   },
   {
    "duration": 43,
    "start_time": "2023-07-23T22:23:30.707Z"
   },
   {
    "duration": 662,
    "start_time": "2023-07-23T22:23:30.751Z"
   },
   {
    "duration": 40,
    "start_time": "2023-07-23T22:23:31.414Z"
   },
   {
    "duration": 601,
    "start_time": "2023-07-23T22:23:31.455Z"
   },
   {
    "duration": 25,
    "start_time": "2023-07-23T22:23:32.057Z"
   },
   {
    "duration": 108,
    "start_time": "2023-07-23T22:23:32.084Z"
   },
   {
    "duration": 490,
    "start_time": "2023-07-23T22:23:32.193Z"
   },
   {
    "duration": 1112,
    "start_time": "2023-07-23T22:23:32.684Z"
   },
   {
    "duration": 4,
    "start_time": "2023-07-23T22:23:33.797Z"
   },
   {
    "duration": 393,
    "start_time": "2023-07-23T22:23:33.802Z"
   },
   {
    "duration": 387,
    "start_time": "2023-07-23T22:23:34.197Z"
   },
   {
    "duration": 407,
    "start_time": "2023-07-23T22:23:34.586Z"
   },
   {
    "duration": 167670,
    "start_time": "2023-07-23T22:23:34.995Z"
   },
   {
    "duration": 10,
    "start_time": "2023-07-23T22:26:22.666Z"
   },
   {
    "duration": 624,
    "start_time": "2023-07-23T22:26:22.678Z"
   },
   {
    "duration": 11,
    "start_time": "2023-07-23T22:26:23.304Z"
   },
   {
    "duration": 30,
    "start_time": "2023-07-23T22:26:23.316Z"
   },
   {
    "duration": 11,
    "start_time": "2023-07-23T22:26:23.349Z"
   },
   {
    "duration": 386,
    "start_time": "2023-07-23T22:26:23.362Z"
   },
   {
    "duration": 116,
    "start_time": "2023-07-23T22:26:23.751Z"
   },
   {
    "duration": 376,
    "start_time": "2023-07-23T22:26:23.869Z"
   },
   {
    "duration": 122,
    "start_time": "2023-07-23T22:26:24.247Z"
   },
   {
    "duration": 378,
    "start_time": "2023-07-23T22:26:24.370Z"
   },
   {
    "duration": 10,
    "start_time": "2023-07-23T22:26:24.831Z"
   },
   {
    "duration": 413,
    "start_time": "2023-07-23T22:26:24.843Z"
   },
   {
    "duration": 595,
    "start_time": "2023-07-23T22:26:25.259Z"
   },
   {
    "duration": 5,
    "start_time": "2023-07-23T22:26:25.932Z"
   },
   {
    "duration": 95,
    "start_time": "2023-07-23T22:26:25.940Z"
   },
   {
    "duration": 24,
    "start_time": "2023-07-23T22:26:26.037Z"
   },
   {
    "duration": 9,
    "start_time": "2023-07-23T22:26:26.062Z"
   },
   {
    "duration": 3976,
    "start_time": "2023-07-23T22:26:26.072Z"
   },
   {
    "duration": 87,
    "start_time": "2023-07-24T04:27:32.348Z"
   },
   {
    "duration": 1660,
    "start_time": "2023-07-24T04:34:27.983Z"
   },
   {
    "duration": 48,
    "start_time": "2023-07-24T04:34:33.160Z"
   },
   {
    "duration": 677,
    "start_time": "2023-07-24T04:34:36.770Z"
   },
   {
    "duration": 109,
    "start_time": "2023-07-24T04:34:52.949Z"
   },
   {
    "duration": 5,
    "start_time": "2023-07-24T04:35:22.610Z"
   },
   {
    "duration": 10,
    "start_time": "2023-07-24T04:35:27.415Z"
   },
   {
    "duration": 97,
    "start_time": "2023-07-24T04:35:29.596Z"
   },
   {
    "duration": 368,
    "start_time": "2023-07-24T04:35:35.204Z"
   },
   {
    "duration": 9,
    "start_time": "2023-07-24T04:35:36.220Z"
   },
   {
    "duration": 4,
    "start_time": "2023-07-24T04:47:04.821Z"
   },
   {
    "duration": 87,
    "start_time": "2023-07-24T04:47:08.529Z"
   },
   {
    "duration": 9,
    "start_time": "2023-07-24T05:00:04.875Z"
   },
   {
    "duration": 1566,
    "start_time": "2023-07-24T05:08:37.724Z"
   },
   {
    "duration": 107,
    "start_time": "2023-07-24T05:08:39.291Z"
   },
   {
    "duration": 379,
    "start_time": "2023-07-24T05:08:39.412Z"
   },
   {
    "duration": 6,
    "start_time": "2023-07-24T05:08:39.793Z"
   },
   {
    "duration": 565,
    "start_time": "2023-07-24T05:08:39.816Z"
   },
   {
    "duration": 43,
    "start_time": "2023-07-24T05:08:40.382Z"
   },
   {
    "duration": 635,
    "start_time": "2023-07-24T05:08:40.430Z"
   },
   {
    "duration": 23,
    "start_time": "2023-07-24T05:08:41.066Z"
   },
   {
    "duration": 554,
    "start_time": "2023-07-24T05:08:41.090Z"
   },
   {
    "duration": 22,
    "start_time": "2023-07-24T05:08:41.645Z"
   },
   {
    "duration": 100,
    "start_time": "2023-07-24T05:08:41.668Z"
   },
   {
    "duration": 480,
    "start_time": "2023-07-24T05:08:41.770Z"
   },
   {
    "duration": 1044,
    "start_time": "2023-07-24T05:08:42.252Z"
   },
   {
    "duration": 10,
    "start_time": "2023-07-24T05:08:43.299Z"
   },
   {
    "duration": 365,
    "start_time": "2023-07-24T05:08:43.310Z"
   },
   {
    "duration": 385,
    "start_time": "2023-07-24T05:08:43.677Z"
   },
   {
    "duration": 385,
    "start_time": "2023-07-24T05:08:44.064Z"
   },
   {
    "duration": 166176,
    "start_time": "2023-07-24T05:08:44.450Z"
   },
   {
    "duration": 9,
    "start_time": "2023-07-24T05:11:30.628Z"
   },
   {
    "duration": 632,
    "start_time": "2023-07-24T05:11:30.638Z"
   },
   {
    "duration": 11,
    "start_time": "2023-07-24T05:11:31.271Z"
   },
   {
    "duration": 70,
    "start_time": "2023-07-24T05:11:31.283Z"
   },
   {
    "duration": 26,
    "start_time": "2023-07-24T05:11:31.355Z"
   },
   {
    "duration": 427,
    "start_time": "2023-07-24T05:11:31.383Z"
   },
   {
    "duration": 139,
    "start_time": "2023-07-24T05:11:31.812Z"
   },
   {
    "duration": 350,
    "start_time": "2023-07-24T05:11:31.953Z"
   },
   {
    "duration": 122,
    "start_time": "2023-07-24T05:11:32.305Z"
   },
   {
    "duration": 284,
    "start_time": "2023-07-24T05:11:32.429Z"
   },
   {
    "duration": 86,
    "start_time": "2023-07-24T05:11:32.721Z"
   },
   {
    "duration": 397,
    "start_time": "2023-07-24T05:11:32.809Z"
   },
   {
    "duration": 422,
    "start_time": "2023-07-24T05:11:33.208Z"
   },
   {
    "duration": 72,
    "start_time": "2023-07-24T05:11:33.633Z"
   },
   {
    "duration": 113,
    "start_time": "2023-07-24T05:11:33.714Z"
   },
   {
    "duration": 12,
    "start_time": "2023-07-24T05:11:33.829Z"
   },
   {
    "duration": 13,
    "start_time": "2023-07-24T05:11:33.842Z"
   },
   {
    "duration": 3491,
    "start_time": "2023-07-24T05:11:33.856Z"
   },
   {
    "duration": 3537,
    "start_time": "2023-07-24T05:37:47.571Z"
   },
   {
    "duration": 3396,
    "start_time": "2023-07-24T05:39:48.256Z"
   },
   {
    "duration": 3650,
    "start_time": "2023-07-24T05:41:35.453Z"
   },
   {
    "duration": 3339,
    "start_time": "2023-07-24T05:42:29.271Z"
   },
   {
    "duration": 645,
    "start_time": "2023-07-24T05:46:43.394Z"
   },
   {
    "duration": 181,
    "start_time": "2023-07-24T05:47:57.499Z"
   },
   {
    "duration": 101,
    "start_time": "2023-07-24T05:48:34.185Z"
   },
   {
    "duration": 177,
    "start_time": "2023-07-24T05:48:39.016Z"
   },
   {
    "duration": 304,
    "start_time": "2023-07-24T05:48:42.839Z"
   },
   {
    "duration": 532,
    "start_time": "2023-07-24T05:49:35.448Z"
   },
   {
    "duration": 3214,
    "start_time": "2023-07-24T05:49:48.064Z"
   },
   {
    "duration": 169,
    "start_time": "2023-07-24T05:51:04.418Z"
   },
   {
    "duration": 113,
    "start_time": "2023-07-24T05:51:22.594Z"
   },
   {
    "duration": 1111,
    "start_time": "2023-07-24T05:52:31.990Z"
   },
   {
    "duration": 1202,
    "start_time": "2023-07-24T05:52:59.238Z"
   },
   {
    "duration": 3445,
    "start_time": "2023-07-24T05:53:22.814Z"
   },
   {
    "duration": 2349,
    "start_time": "2023-07-24T05:54:13.541Z"
   },
   {
    "duration": 3541,
    "start_time": "2023-07-24T05:54:23.084Z"
   },
   {
    "duration": 4002,
    "start_time": "2023-07-24T06:04:05.571Z"
   },
   {
    "duration": 3187,
    "start_time": "2023-07-24T06:04:24.559Z"
   },
   {
    "duration": 4,
    "start_time": "2023-07-24T06:08:07.871Z"
   },
   {
    "duration": 1042,
    "start_time": "2023-07-24T06:08:48.737Z"
   },
   {
    "duration": 1043,
    "start_time": "2023-07-24T06:10:11.703Z"
   },
   {
    "duration": 1140,
    "start_time": "2023-07-24T06:10:25.430Z"
   },
   {
    "duration": 1181,
    "start_time": "2023-07-24T06:11:15.114Z"
   },
   {
    "duration": 1091,
    "start_time": "2023-07-24T06:11:24.810Z"
   },
   {
    "duration": 4102,
    "start_time": "2023-07-24T06:11:33.684Z"
   },
   {
    "duration": 1186,
    "start_time": "2023-07-24T06:12:58.141Z"
   },
   {
    "duration": 4359,
    "start_time": "2023-07-24T06:13:02.235Z"
   },
   {
    "duration": 3580,
    "start_time": "2023-07-24T06:13:57.844Z"
   },
   {
    "duration": 3180,
    "start_time": "2023-07-24T06:14:27.685Z"
   },
   {
    "duration": 3297,
    "start_time": "2023-07-24T06:14:38.938Z"
   },
   {
    "duration": 4156,
    "start_time": "2023-07-24T06:17:15.628Z"
   },
   {
    "duration": 1138,
    "start_time": "2023-07-24T06:20:02.284Z"
   },
   {
    "duration": 1158,
    "start_time": "2023-07-24T06:21:25.405Z"
   },
   {
    "duration": 3189,
    "start_time": "2023-07-24T06:21:51.330Z"
   },
   {
    "duration": 3125,
    "start_time": "2023-07-24T06:22:09.944Z"
   },
   {
    "duration": 98,
    "start_time": "2023-07-24T06:23:05.373Z"
   },
   {
    "duration": 3175,
    "start_time": "2023-07-24T06:23:12.214Z"
   },
   {
    "duration": 3185,
    "start_time": "2023-07-24T06:23:27.844Z"
   },
   {
    "duration": 3278,
    "start_time": "2023-07-24T06:23:44.241Z"
   },
   {
    "duration": 1150,
    "start_time": "2023-07-24T06:27:54.504Z"
   },
   {
    "duration": 1086,
    "start_time": "2023-07-24T06:28:04.126Z"
   },
   {
    "duration": 3174,
    "start_time": "2023-07-24T06:29:27.699Z"
   },
   {
    "duration": 10,
    "start_time": "2023-07-24T06:29:52.395Z"
   },
   {
    "duration": 1067,
    "start_time": "2023-07-24T06:31:28.842Z"
   },
   {
    "duration": 3219,
    "start_time": "2023-07-24T06:31:36.435Z"
   },
   {
    "duration": 9,
    "start_time": "2023-07-24T06:31:42.426Z"
   },
   {
    "duration": 9,
    "start_time": "2023-07-24T06:32:12.319Z"
   },
   {
    "duration": 1091,
    "start_time": "2023-07-24T06:32:54.574Z"
   },
   {
    "duration": 3236,
    "start_time": "2023-07-24T06:36:49.051Z"
   },
   {
    "duration": 1089,
    "start_time": "2023-07-24T06:37:22.643Z"
   },
   {
    "duration": 1099,
    "start_time": "2023-07-24T06:43:53.133Z"
   },
   {
    "duration": 1070,
    "start_time": "2023-07-24T06:44:16.769Z"
   },
   {
    "duration": 1078,
    "start_time": "2023-07-24T06:56:04.127Z"
   },
   {
    "duration": 1055,
    "start_time": "2023-07-24T06:56:40.978Z"
   },
   {
    "duration": 3249,
    "start_time": "2023-07-24T06:57:24.409Z"
   },
   {
    "duration": 149,
    "start_time": "2023-07-24T06:58:08.952Z"
   },
   {
    "duration": 3218,
    "start_time": "2023-07-24T07:00:28.350Z"
   },
   {
    "duration": 3297,
    "start_time": "2023-07-24T07:00:44.514Z"
   },
   {
    "duration": 3429,
    "start_time": "2023-07-24T07:01:04.791Z"
   },
   {
    "duration": 339,
    "start_time": "2023-07-24T07:01:25.589Z"
   },
   {
    "duration": 1083,
    "start_time": "2023-07-24T07:01:44.132Z"
   },
   {
    "duration": 3257,
    "start_time": "2023-07-24T07:01:52.052Z"
   },
   {
    "duration": 356,
    "start_time": "2023-07-24T07:02:13.768Z"
   },
   {
    "duration": 3227,
    "start_time": "2023-07-24T07:03:06.241Z"
   },
   {
    "duration": 3325,
    "start_time": "2023-07-24T07:03:39.284Z"
   },
   {
    "duration": 3212,
    "start_time": "2023-07-24T07:04:47.554Z"
   },
   {
    "duration": 1170,
    "start_time": "2023-07-24T07:05:15.088Z"
   },
   {
    "duration": 1063,
    "start_time": "2023-07-24T07:05:27.855Z"
   },
   {
    "duration": 1080,
    "start_time": "2023-07-24T07:05:36.442Z"
   },
   {
    "duration": 3139,
    "start_time": "2023-07-24T07:06:21.357Z"
   },
   {
    "duration": 3339,
    "start_time": "2023-07-24T07:06:53.491Z"
   },
   {
    "duration": 1060,
    "start_time": "2023-07-24T07:07:09.595Z"
   },
   {
    "duration": 1079,
    "start_time": "2023-07-24T07:09:11.285Z"
   },
   {
    "duration": 3346,
    "start_time": "2023-07-24T07:09:29.865Z"
   },
   {
    "duration": 3378,
    "start_time": "2023-07-24T07:13:55.872Z"
   },
   {
    "duration": 3255,
    "start_time": "2023-07-24T07:14:58.288Z"
   },
   {
    "duration": 148,
    "start_time": "2023-07-24T07:15:25.225Z"
   },
   {
    "duration": 243,
    "start_time": "2023-07-24T07:15:43.594Z"
   },
   {
    "duration": 3212,
    "start_time": "2023-07-24T07:17:12.265Z"
   },
   {
    "duration": 140,
    "start_time": "2023-07-24T07:17:21.085Z"
   },
   {
    "duration": 1082,
    "start_time": "2023-07-24T07:18:06.598Z"
   },
   {
    "duration": 3199,
    "start_time": "2023-07-24T07:18:17.573Z"
   },
   {
    "duration": 3257,
    "start_time": "2023-07-24T07:19:50.725Z"
   },
   {
    "duration": 1132,
    "start_time": "2023-07-24T07:20:49.560Z"
   },
   {
    "duration": 3397,
    "start_time": "2023-07-24T07:20:57.870Z"
   },
   {
    "duration": 3508,
    "start_time": "2023-07-24T07:21:45.205Z"
   },
   {
    "duration": 3518,
    "start_time": "2023-07-24T07:22:37.215Z"
   },
   {
    "duration": 3351,
    "start_time": "2023-07-24T07:22:51.937Z"
   },
   {
    "duration": 3375,
    "start_time": "2023-07-24T07:23:28.065Z"
   },
   {
    "duration": 1096,
    "start_time": "2023-07-24T07:24:28.281Z"
   },
   {
    "duration": 3344,
    "start_time": "2023-07-24T07:24:46.285Z"
   },
   {
    "duration": 3451,
    "start_time": "2023-07-24T07:25:31.515Z"
   },
   {
    "duration": 3649,
    "start_time": "2023-07-24T07:28:02.564Z"
   },
   {
    "duration": 1135,
    "start_time": "2023-07-24T07:30:50.138Z"
   },
   {
    "duration": 3455,
    "start_time": "2023-07-24T07:30:52.880Z"
   },
   {
    "duration": 3819,
    "start_time": "2023-07-24T07:30:59.444Z"
   },
   {
    "duration": 3885,
    "start_time": "2023-07-24T07:31:14.781Z"
   },
   {
    "duration": 3996,
    "start_time": "2023-07-24T07:31:29.162Z"
   },
   {
    "duration": 3688,
    "start_time": "2023-07-24T07:32:50.253Z"
   },
   {
    "duration": 3832,
    "start_time": "2023-07-24T07:33:22.380Z"
   },
   {
    "duration": 3723,
    "start_time": "2023-07-24T07:33:33.111Z"
   },
   {
    "duration": 3582,
    "start_time": "2023-07-24T07:34:38.992Z"
   },
   {
    "duration": 3759,
    "start_time": "2023-07-24T07:35:04.922Z"
   },
   {
    "duration": 7,
    "start_time": "2023-07-24T07:35:47.089Z"
   },
   {
    "duration": 3577,
    "start_time": "2023-07-24T07:35:56.109Z"
   },
   {
    "duration": 3793,
    "start_time": "2023-07-24T07:36:07.756Z"
   },
   {
    "duration": 6022,
    "start_time": "2023-07-24T07:37:05.944Z"
   },
   {
    "duration": 3644,
    "start_time": "2023-07-24T07:37:19.214Z"
   },
   {
    "duration": 1558,
    "start_time": "2023-07-24T07:42:15.893Z"
   },
   {
    "duration": 51,
    "start_time": "2023-07-24T07:42:17.452Z"
   },
   {
    "duration": 331,
    "start_time": "2023-07-24T07:42:17.505Z"
   },
   {
    "duration": 5,
    "start_time": "2023-07-24T07:42:17.838Z"
   },
   {
    "duration": 560,
    "start_time": "2023-07-24T07:42:17.844Z"
   },
   {
    "duration": 28,
    "start_time": "2023-07-24T07:42:18.406Z"
   },
   {
    "duration": 646,
    "start_time": "2023-07-24T07:42:18.435Z"
   },
   {
    "duration": 34,
    "start_time": "2023-07-24T07:42:19.083Z"
   },
   {
    "duration": 530,
    "start_time": "2023-07-24T07:42:19.119Z"
   },
   {
    "duration": 24,
    "start_time": "2023-07-24T07:42:19.652Z"
   },
   {
    "duration": 94,
    "start_time": "2023-07-24T07:42:19.677Z"
   },
   {
    "duration": 496,
    "start_time": "2023-07-24T07:42:19.773Z"
   },
   {
    "duration": 936,
    "start_time": "2023-07-24T07:42:20.271Z"
   },
   {
    "duration": 4,
    "start_time": "2023-07-24T07:42:21.208Z"
   },
   {
    "duration": 399,
    "start_time": "2023-07-24T07:42:21.214Z"
   },
   {
    "duration": 345,
    "start_time": "2023-07-24T07:42:21.615Z"
   },
   {
    "duration": 379,
    "start_time": "2023-07-24T07:42:21.963Z"
   },
   {
    "duration": 156489,
    "start_time": "2023-07-24T07:42:22.343Z"
   },
   {
    "duration": 9,
    "start_time": "2023-07-24T07:44:58.834Z"
   },
   {
    "duration": 738,
    "start_time": "2023-07-24T07:44:58.845Z"
   },
   {
    "duration": 18,
    "start_time": "2023-07-24T07:44:59.585Z"
   },
   {
    "duration": 21,
    "start_time": "2023-07-24T07:44:59.604Z"
   },
   {
    "duration": 45,
    "start_time": "2023-07-24T07:44:59.627Z"
   },
   {
    "duration": 247,
    "start_time": "2023-07-24T07:44:59.674Z"
   },
   {
    "duration": 179,
    "start_time": "2023-07-24T07:44:59.926Z"
   },
   {
    "duration": 312,
    "start_time": "2023-07-24T07:45:00.109Z"
   },
   {
    "duration": 121,
    "start_time": "2023-07-24T07:45:00.499Z"
   },
   {
    "duration": 382,
    "start_time": "2023-07-24T07:45:00.623Z"
   },
   {
    "duration": 96,
    "start_time": "2023-07-24T07:45:01.013Z"
   },
   {
    "duration": 311,
    "start_time": "2023-07-24T07:45:01.111Z"
   },
   {
    "duration": 494,
    "start_time": "2023-07-24T07:45:01.428Z"
   },
   {
    "duration": 3,
    "start_time": "2023-07-24T07:45:01.924Z"
   },
   {
    "duration": 123,
    "start_time": "2023-07-24T07:45:01.999Z"
   },
   {
    "duration": 45,
    "start_time": "2023-07-24T07:45:02.123Z"
   },
   {
    "duration": 54,
    "start_time": "2023-07-24T07:45:02.170Z"
   },
   {
    "duration": 3502,
    "start_time": "2023-07-24T07:45:02.226Z"
   },
   {
    "duration": 3731,
    "start_time": "2023-07-24T07:45:05.729Z"
   },
   {
    "duration": 4499,
    "start_time": "2023-07-24T21:28:38.117Z"
   },
   {
    "duration": 2495,
    "start_time": "2023-07-24T21:29:15.325Z"
   },
   {
    "duration": 51,
    "start_time": "2023-07-24T21:29:17.822Z"
   },
   {
    "duration": 786,
    "start_time": "2023-07-24T21:29:17.875Z"
   },
   {
    "duration": 5,
    "start_time": "2023-07-24T21:29:18.663Z"
   },
   {
    "duration": 645,
    "start_time": "2023-07-24T21:29:18.670Z"
   },
   {
    "duration": 33,
    "start_time": "2023-07-24T21:29:19.317Z"
   },
   {
    "duration": 710,
    "start_time": "2023-07-24T21:29:19.352Z"
   },
   {
    "duration": 41,
    "start_time": "2023-07-24T21:29:20.064Z"
   },
   {
    "duration": 675,
    "start_time": "2023-07-24T21:29:20.107Z"
   },
   {
    "duration": 39,
    "start_time": "2023-07-24T21:29:20.785Z"
   },
   {
    "duration": 106,
    "start_time": "2023-07-24T21:29:20.826Z"
   },
   {
    "duration": 482,
    "start_time": "2023-07-24T21:29:20.934Z"
   },
   {
    "duration": 1016,
    "start_time": "2023-07-24T21:29:21.418Z"
   },
   {
    "duration": 3,
    "start_time": "2023-07-24T21:29:22.436Z"
   },
   {
    "duration": 411,
    "start_time": "2023-07-24T21:29:22.441Z"
   },
   {
    "duration": 401,
    "start_time": "2023-07-24T21:29:22.854Z"
   },
   {
    "duration": 401,
    "start_time": "2023-07-24T21:29:23.257Z"
   },
   {
    "duration": 2995,
    "start_time": "2023-07-25T05:50:19.981Z"
   },
   {
    "duration": 1239,
    "start_time": "2023-07-25T05:50:26.021Z"
   },
   {
    "duration": 96,
    "start_time": "2023-07-25T05:50:35.762Z"
   },
   {
    "duration": 18,
    "start_time": "2023-07-25T05:50:46.030Z"
   },
   {
    "duration": 13,
    "start_time": "2023-07-25T05:50:54.084Z"
   },
   {
    "duration": 16,
    "start_time": "2023-07-25T05:50:57.717Z"
   },
   {
    "duration": 9,
    "start_time": "2023-07-25T05:50:59.919Z"
   },
   {
    "duration": 380,
    "start_time": "2023-07-25T05:51:01.629Z"
   },
   {
    "duration": 41,
    "start_time": "2023-07-25T05:51:04.618Z"
   },
   {
    "duration": 359,
    "start_time": "2023-07-25T05:51:04.954Z"
   },
   {
    "duration": 45,
    "start_time": "2023-07-25T05:51:09.523Z"
   },
   {
    "duration": 231,
    "start_time": "2023-07-25T05:51:09.782Z"
   },
   {
    "duration": 6,
    "start_time": "2023-07-25T05:51:12.634Z"
   },
   {
    "duration": 387,
    "start_time": "2023-07-25T05:51:13.862Z"
   },
   {
    "duration": 363,
    "start_time": "2023-07-25T05:51:14.459Z"
   },
   {
    "duration": 2,
    "start_time": "2023-07-25T05:51:20.579Z"
   },
   {
    "duration": 3,
    "start_time": "2023-07-25T05:51:22.850Z"
   },
   {
    "duration": 10,
    "start_time": "2023-07-25T05:51:24.219Z"
   },
   {
    "duration": 5,
    "start_time": "2023-07-25T05:51:25.754Z"
   },
   {
    "duration": 3874,
    "start_time": "2023-07-25T05:51:27.678Z"
   },
   {
    "duration": 4299,
    "start_time": "2023-07-25T05:51:31.554Z"
   },
   {
    "duration": 313,
    "start_time": "2023-07-25T05:51:35.855Z"
   },
   {
    "duration": 3893,
    "start_time": "2023-07-25T05:51:46.327Z"
   },
   {
    "duration": 21,
    "start_time": "2023-07-25T05:51:53.271Z"
   },
   {
    "duration": 1501,
    "start_time": "2023-07-25T05:52:09.550Z"
   }
  ],
  "kernelspec": {
   "display_name": "Python 3 (ipykernel)",
   "language": "python",
   "name": "python3"
  },
  "language_info": {
   "codemirror_mode": {
    "name": "ipython",
    "version": 3
   },
   "file_extension": ".py",
   "mimetype": "text/x-python",
   "name": "python",
   "nbconvert_exporter": "python",
   "pygments_lexer": "ipython3",
   "version": "3.9.5"
  },
  "toc": {
   "base_numbering": 1,
   "nav_menu": {},
   "number_sections": true,
   "sideBar": true,
   "skip_h1_title": true,
   "title_cell": "Table of Contents",
   "title_sidebar": "Contents",
   "toc_cell": false,
   "toc_position": {},
   "toc_section_display": true,
   "toc_window_display": false
  }
 },
 "nbformat": 4,
 "nbformat_minor": 2
}
