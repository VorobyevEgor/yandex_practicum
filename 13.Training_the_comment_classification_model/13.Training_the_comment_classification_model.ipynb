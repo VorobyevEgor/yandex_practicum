{
 "cells": [
  {
   "cell_type": "markdown",
   "metadata": {
    "toc": true
   },
   "source": [
    "<h1>Содержание<span class=\"tocSkip\"></span></h1>\n",
    "<div class=\"toc\"><ul class=\"toc-item\"><li><span><a href=\"#Подготовка\" data-toc-modified-id=\"Подготовка-1\"><span class=\"toc-item-num\">1&nbsp;&nbsp;</span>Подготовка</a></span></li><li><span><a href=\"#Обучение\" data-toc-modified-id=\"Обучение-2\"><span class=\"toc-item-num\">2&nbsp;&nbsp;</span>Обучение</a></span></li><li><span><a href=\"#Выводы\" data-toc-modified-id=\"Выводы-3\"><span class=\"toc-item-num\">3&nbsp;&nbsp;</span>Выводы</a></span></li><li><span><a href=\"#Чек-лист-проверки\" data-toc-modified-id=\"Чек-лист-проверки-4\"><span class=\"toc-item-num\">4&nbsp;&nbsp;</span>Чек-лист проверки</a></span></li></ul></div>"
   ]
  },
  {
   "cell_type": "markdown",
   "metadata": {},
   "source": [
    "# Проект для «Викишоп»"
   ]
  },
  {
   "cell_type": "markdown",
   "metadata": {},
   "source": [
    "Интернет-магазин «Викишоп» запускает новый сервис. Теперь пользователи могут редактировать и дополнять описания товаров, как в вики-сообществах. То есть клиенты предлагают свои правки и комментируют изменения других. Магазину нужен инструмент, который будет искать токсичные комментарии и отправлять их на модерацию. \n",
    "\n",
    "Обучите модель классифицировать комментарии на позитивные и негативные. В вашем распоряжении набор данных с разметкой о токсичности правок.\n",
    "\n",
    "Постройте модель со значением метрики качества *F1* не меньше 0.75. \n",
    "\n",
    "**Инструкция по выполнению проекта**\n",
    "\n",
    "1. Загрузите и подготовьте данные.\n",
    "2. Обучите разные модели. \n",
    "3. Сделайте выводы.\n",
    "\n",
    "Для выполнения проекта применять *BERT* необязательно, но вы можете попробовать.\n",
    "\n",
    "**Описание данных**\n",
    "\n",
    "Данные находятся в файле `toxic_comments.csv`. Столбец *text* в нём содержит текст комментария, а *toxic* — целевой признак."
   ]
  },
  {
   "cell_type": "markdown",
   "metadata": {},
   "source": [
    "## Подготовка"
   ]
  },
  {
   "cell_type": "code",
   "execution_count": 1,
   "metadata": {},
   "outputs": [
    {
     "data": {
      "text/html": [
       "<style>.container { width:90% !important; }</style>"
      ],
      "text/plain": [
       "<IPython.core.display.HTML object>"
      ]
     },
     "metadata": {},
     "output_type": "display_data"
    }
   ],
   "source": [
    "# Широкоформатный Jupyter\n",
    "from IPython.core.display import display, HTML\n",
    "display(HTML(\"<style>.container { width:90% !important; }</style>\"))"
   ]
  },
  {
   "cell_type": "code",
   "execution_count": 2,
   "metadata": {},
   "outputs": [],
   "source": [
    "# обновим версию sklearn\n",
    "# !pip install scikit-learn --upgrade"
   ]
  },
  {
   "cell_type": "code",
   "execution_count": 3,
   "metadata": {
    "collapsed": true
   },
   "outputs": [
    {
     "name": "stdout",
     "output_type": "stream",
     "text": [
      "Requirement already satisfied: imblearn in /opt/conda/lib/python3.9/site-packages (0.0)\n",
      "Requirement already satisfied: imbalanced-learn in /opt/conda/lib/python3.9/site-packages (from imblearn) (0.11.0)\n",
      "Requirement already satisfied: threadpoolctl>=2.0.0 in /opt/conda/lib/python3.9/site-packages (from imbalanced-learn->imblearn) (3.1.0)\n",
      "Requirement already satisfied: scipy>=1.5.0 in /opt/conda/lib/python3.9/site-packages (from imbalanced-learn->imblearn) (1.9.1)\n",
      "Requirement already satisfied: scikit-learn>=1.0.2 in /opt/conda/lib/python3.9/site-packages (from imbalanced-learn->imblearn) (1.3.1)\n",
      "Requirement already satisfied: joblib>=1.1.1 in /opt/conda/lib/python3.9/site-packages (from imbalanced-learn->imblearn) (1.3.2)\n",
      "Requirement already satisfied: numpy>=1.17.3 in /opt/conda/lib/python3.9/site-packages (from imbalanced-learn->imblearn) (1.21.1)\n",
      "Requirement already satisfied: prettytable in /opt/conda/lib/python3.9/site-packages (3.9.0)\n",
      "Requirement already satisfied: wcwidth in /opt/conda/lib/python3.9/site-packages (from prettytable) (0.2.5)\n",
      "Requirement already satisfied: spacy in /opt/conda/lib/python3.9/site-packages (3.6.1)\n",
      "Requirement already satisfied: packaging>=20.0 in /opt/conda/lib/python3.9/site-packages (from spacy) (21.3)\n",
      "Requirement already satisfied: srsly<3.0.0,>=2.4.3 in /opt/conda/lib/python3.9/site-packages (from spacy) (2.4.4)\n",
      "Requirement already satisfied: preshed<3.1.0,>=3.0.2 in /opt/conda/lib/python3.9/site-packages (from spacy) (3.0.7)\n",
      "Requirement already satisfied: numpy>=1.15.0 in /opt/conda/lib/python3.9/site-packages (from spacy) (1.21.1)\n",
      "Requirement already satisfied: tqdm<5.0.0,>=4.38.0 in /opt/conda/lib/python3.9/site-packages (from spacy) (4.61.2)\n",
      "Requirement already satisfied: pathy>=0.10.0 in /opt/conda/lib/python3.9/site-packages (from spacy) (0.10.2)\n",
      "Requirement already satisfied: wasabi<1.2.0,>=0.9.1 in /opt/conda/lib/python3.9/site-packages (from spacy) (0.10.1)\n",
      "Requirement already satisfied: setuptools in /opt/conda/lib/python3.9/site-packages (from spacy) (49.6.0.post20210108)\n",
      "Requirement already satisfied: spacy-legacy<3.1.0,>=3.0.11 in /opt/conda/lib/python3.9/site-packages (from spacy) (3.0.12)\n",
      "Requirement already satisfied: cymem<2.1.0,>=2.0.2 in /opt/conda/lib/python3.9/site-packages (from spacy) (2.0.6)\n",
      "Requirement already satisfied: requests<3.0.0,>=2.13.0 in /opt/conda/lib/python3.9/site-packages (from spacy) (2.25.1)\n",
      "Requirement already satisfied: jinja2 in /opt/conda/lib/python3.9/site-packages (from spacy) (3.0.1)\n",
      "Requirement already satisfied: spacy-loggers<2.0.0,>=1.0.0 in /opt/conda/lib/python3.9/site-packages (from spacy) (1.0.3)\n",
      "Requirement already satisfied: langcodes<4.0.0,>=3.2.0 in /opt/conda/lib/python3.9/site-packages (from spacy) (3.3.0)\n",
      "Requirement already satisfied: smart-open<7.0.0,>=5.2.1 in /opt/conda/lib/python3.9/site-packages (from spacy) (5.2.1)\n",
      "Requirement already satisfied: typer<0.10.0,>=0.3.0 in /opt/conda/lib/python3.9/site-packages (from spacy) (0.4.2)\n",
      "Requirement already satisfied: thinc<8.2.0,>=8.1.8 in /opt/conda/lib/python3.9/site-packages (from spacy) (8.1.12)\n",
      "Requirement already satisfied: pydantic!=1.8,!=1.8.1,<3.0.0,>=1.7.4 in /opt/conda/lib/python3.9/site-packages (from spacy) (1.8.2)\n",
      "Requirement already satisfied: murmurhash<1.1.0,>=0.28.0 in /opt/conda/lib/python3.9/site-packages (from spacy) (1.0.8)\n",
      "Requirement already satisfied: catalogue<2.1.0,>=2.0.6 in /opt/conda/lib/python3.9/site-packages (from spacy) (2.0.8)\n",
      "Requirement already satisfied: pyparsing!=3.0.5,>=2.0.2 in /opt/conda/lib/python3.9/site-packages (from packaging>=20.0->spacy) (2.4.7)\n",
      "Requirement already satisfied: typing-extensions>=3.7.4.3 in /opt/conda/lib/python3.9/site-packages (from pydantic!=1.8,!=1.8.1,<3.0.0,>=1.7.4->spacy) (4.3.0)\n",
      "Requirement already satisfied: idna<3,>=2.5 in /opt/conda/lib/python3.9/site-packages (from requests<3.0.0,>=2.13.0->spacy) (2.10)\n",
      "Requirement already satisfied: urllib3<1.27,>=1.21.1 in /opt/conda/lib/python3.9/site-packages (from requests<3.0.0,>=2.13.0->spacy) (1.26.6)\n",
      "Requirement already satisfied: chardet<5,>=3.0.2 in /opt/conda/lib/python3.9/site-packages (from requests<3.0.0,>=2.13.0->spacy) (4.0.0)\n",
      "Requirement already satisfied: certifi>=2017.4.17 in /opt/conda/lib/python3.9/site-packages (from requests<3.0.0,>=2.13.0->spacy) (2022.6.15)\n",
      "Requirement already satisfied: blis<0.8.0,>=0.7.8 in /opt/conda/lib/python3.9/site-packages (from thinc<8.2.0,>=8.1.8->spacy) (0.7.8)\n",
      "Requirement already satisfied: confection<1.0.0,>=0.0.1 in /opt/conda/lib/python3.9/site-packages (from thinc<8.2.0,>=8.1.8->spacy) (0.1.3)\n",
      "Requirement already satisfied: click<9.0.0,>=7.1.1 in /opt/conda/lib/python3.9/site-packages (from typer<0.10.0,>=0.3.0->spacy) (8.1.3)\n",
      "Requirement already satisfied: MarkupSafe>=2.0 in /opt/conda/lib/python3.9/site-packages (from jinja2->spacy) (2.1.1)\n",
      "Requirement already satisfied: spacy-lookups-data in /opt/conda/lib/python3.9/site-packages (1.0.5)\n",
      "Requirement already satisfied: setuptools in /opt/conda/lib/python3.9/site-packages (from spacy-lookups-data) (49.6.0.post20210108)\n",
      "Collecting en-core-web-sm==3.6.0\n",
      "  Downloading https://github.com/explosion/spacy-models/releases/download/en_core_web_sm-3.6.0/en_core_web_sm-3.6.0-py3-none-any.whl (12.8 MB)\n",
      "\u001b[K     |████████████████████████████████| 12.8 MB 1.3 MB/s eta 0:00:01\n",
      "\u001b[?25hRequirement already satisfied: spacy<3.7.0,>=3.6.0 in /opt/conda/lib/python3.9/site-packages (from en-core-web-sm==3.6.0) (3.6.1)\n",
      "Requirement already satisfied: srsly<3.0.0,>=2.4.3 in /opt/conda/lib/python3.9/site-packages (from spacy<3.7.0,>=3.6.0->en-core-web-sm==3.6.0) (2.4.4)\n",
      "Requirement already satisfied: packaging>=20.0 in /opt/conda/lib/python3.9/site-packages (from spacy<3.7.0,>=3.6.0->en-core-web-sm==3.6.0) (21.3)\n",
      "Requirement already satisfied: tqdm<5.0.0,>=4.38.0 in /opt/conda/lib/python3.9/site-packages (from spacy<3.7.0,>=3.6.0->en-core-web-sm==3.6.0) (4.61.2)\n",
      "Requirement already satisfied: pathy>=0.10.0 in /opt/conda/lib/python3.9/site-packages (from spacy<3.7.0,>=3.6.0->en-core-web-sm==3.6.0) (0.10.2)\n",
      "Requirement already satisfied: numpy>=1.15.0 in /opt/conda/lib/python3.9/site-packages (from spacy<3.7.0,>=3.6.0->en-core-web-sm==3.6.0) (1.21.1)\n",
      "Requirement already satisfied: typer<0.10.0,>=0.3.0 in /opt/conda/lib/python3.9/site-packages (from spacy<3.7.0,>=3.6.0->en-core-web-sm==3.6.0) (0.4.2)\n",
      "Requirement already satisfied: murmurhash<1.1.0,>=0.28.0 in /opt/conda/lib/python3.9/site-packages (from spacy<3.7.0,>=3.6.0->en-core-web-sm==3.6.0) (1.0.8)\n",
      "Requirement already satisfied: preshed<3.1.0,>=3.0.2 in /opt/conda/lib/python3.9/site-packages (from spacy<3.7.0,>=3.6.0->en-core-web-sm==3.6.0) (3.0.7)\n",
      "Requirement already satisfied: thinc<8.2.0,>=8.1.8 in /opt/conda/lib/python3.9/site-packages (from spacy<3.7.0,>=3.6.0->en-core-web-sm==3.6.0) (8.1.12)\n",
      "Requirement already satisfied: spacy-loggers<2.0.0,>=1.0.0 in /opt/conda/lib/python3.9/site-packages (from spacy<3.7.0,>=3.6.0->en-core-web-sm==3.6.0) (1.0.3)\n",
      "Requirement already satisfied: catalogue<2.1.0,>=2.0.6 in /opt/conda/lib/python3.9/site-packages (from spacy<3.7.0,>=3.6.0->en-core-web-sm==3.6.0) (2.0.8)\n",
      "Requirement already satisfied: requests<3.0.0,>=2.13.0 in /opt/conda/lib/python3.9/site-packages (from spacy<3.7.0,>=3.6.0->en-core-web-sm==3.6.0) (2.25.1)\n",
      "Requirement already satisfied: wasabi<1.2.0,>=0.9.1 in /opt/conda/lib/python3.9/site-packages (from spacy<3.7.0,>=3.6.0->en-core-web-sm==3.6.0) (0.10.1)\n",
      "Requirement already satisfied: cymem<2.1.0,>=2.0.2 in /opt/conda/lib/python3.9/site-packages (from spacy<3.7.0,>=3.6.0->en-core-web-sm==3.6.0) (2.0.6)\n",
      "Requirement already satisfied: smart-open<7.0.0,>=5.2.1 in /opt/conda/lib/python3.9/site-packages (from spacy<3.7.0,>=3.6.0->en-core-web-sm==3.6.0) (5.2.1)\n",
      "Requirement already satisfied: jinja2 in /opt/conda/lib/python3.9/site-packages (from spacy<3.7.0,>=3.6.0->en-core-web-sm==3.6.0) (3.0.1)\n",
      "Requirement already satisfied: setuptools in /opt/conda/lib/python3.9/site-packages (from spacy<3.7.0,>=3.6.0->en-core-web-sm==3.6.0) (49.6.0.post20210108)\n",
      "Requirement already satisfied: langcodes<4.0.0,>=3.2.0 in /opt/conda/lib/python3.9/site-packages (from spacy<3.7.0,>=3.6.0->en-core-web-sm==3.6.0) (3.3.0)\n",
      "Requirement already satisfied: spacy-legacy<3.1.0,>=3.0.11 in /opt/conda/lib/python3.9/site-packages (from spacy<3.7.0,>=3.6.0->en-core-web-sm==3.6.0) (3.0.12)\n",
      "Requirement already satisfied: pydantic!=1.8,!=1.8.1,<3.0.0,>=1.7.4 in /opt/conda/lib/python3.9/site-packages (from spacy<3.7.0,>=3.6.0->en-core-web-sm==3.6.0) (1.8.2)\n",
      "Requirement already satisfied: pyparsing!=3.0.5,>=2.0.2 in /opt/conda/lib/python3.9/site-packages (from packaging>=20.0->spacy<3.7.0,>=3.6.0->en-core-web-sm==3.6.0) (2.4.7)\n",
      "Requirement already satisfied: typing-extensions>=3.7.4.3 in /opt/conda/lib/python3.9/site-packages (from pydantic!=1.8,!=1.8.1,<3.0.0,>=1.7.4->spacy<3.7.0,>=3.6.0->en-core-web-sm==3.6.0) (4.3.0)\n",
      "Requirement already satisfied: chardet<5,>=3.0.2 in /opt/conda/lib/python3.9/site-packages (from requests<3.0.0,>=2.13.0->spacy<3.7.0,>=3.6.0->en-core-web-sm==3.6.0) (4.0.0)\n",
      "Requirement already satisfied: urllib3<1.27,>=1.21.1 in /opt/conda/lib/python3.9/site-packages (from requests<3.0.0,>=2.13.0->spacy<3.7.0,>=3.6.0->en-core-web-sm==3.6.0) (1.26.6)\n",
      "Requirement already satisfied: idna<3,>=2.5 in /opt/conda/lib/python3.9/site-packages (from requests<3.0.0,>=2.13.0->spacy<3.7.0,>=3.6.0->en-core-web-sm==3.6.0) (2.10)\n",
      "Requirement already satisfied: certifi>=2017.4.17 in /opt/conda/lib/python3.9/site-packages (from requests<3.0.0,>=2.13.0->spacy<3.7.0,>=3.6.0->en-core-web-sm==3.6.0) (2022.6.15)\n",
      "Requirement already satisfied: blis<0.8.0,>=0.7.8 in /opt/conda/lib/python3.9/site-packages (from thinc<8.2.0,>=8.1.8->spacy<3.7.0,>=3.6.0->en-core-web-sm==3.6.0) (0.7.8)\n",
      "Requirement already satisfied: confection<1.0.0,>=0.0.1 in /opt/conda/lib/python3.9/site-packages (from thinc<8.2.0,>=8.1.8->spacy<3.7.0,>=3.6.0->en-core-web-sm==3.6.0) (0.1.3)\n",
      "Requirement already satisfied: click<9.0.0,>=7.1.1 in /opt/conda/lib/python3.9/site-packages (from typer<0.10.0,>=0.3.0->spacy<3.7.0,>=3.6.0->en-core-web-sm==3.6.0) (8.1.3)\n",
      "Requirement already satisfied: MarkupSafe>=2.0 in /opt/conda/lib/python3.9/site-packages (from jinja2->spacy<3.7.0,>=3.6.0->en-core-web-sm==3.6.0) (2.1.1)\n",
      "\u001b[38;5;2m✔ Download and installation successful\u001b[0m\n",
      "You can now load the package via spacy.load('en_core_web_sm')\n"
     ]
    }
   ],
   "source": [
    "# установка\n",
    "\n",
    "!pip install imblearn\n",
    "!pip3 install prettytable\n",
    "\n",
    "!pip3 install -U spacy\n",
    "!pip3 install -U spacy-lookups-data\n",
    "!python3 -m spacy download en_core_web_sm"
   ]
  },
  {
   "cell_type": "code",
   "execution_count": 4,
   "metadata": {
    "scrolled": true
   },
   "outputs": [
    {
     "name": "stderr",
     "output_type": "stream",
     "text": [
      "[nltk_data] Downloading package stopwords to /home/jovyan/nltk_data...\n",
      "[nltk_data]   Package stopwords is already up-to-date!\n"
     ]
    }
   ],
   "source": [
    "# Импортируем базы данных, которые пригодятся в нашем исследование\n",
    "\n",
    "# импорты из стандартной библиотеки\n",
    "import warnings\n",
    "import re\n",
    "import os\n",
    "\n",
    "# импорты сторонних библиотек\n",
    "import pandas as pd\n",
    "import numpy as np\n",
    "import seaborn as sns\n",
    "import nltk\n",
    "import torch\n",
    "import transformers\n",
    "from matplotlib import pyplot as plt\n",
    "from copy import deepcopy\n",
    "from scipy import stats as st\n",
    "from tqdm import notebook\n",
    "from nltk.corpus import stopwords as nltk_stopwords\n",
    "\n",
    "# импорты модулей текущего проекта\n",
    "from imblearn.pipeline import Pipeline, make_pipeline\n",
    "from prettytable import PrettyTable\n",
    "import spacy\n",
    "nlp = spacy.load(\"en_core_web_sm\", disable=['parser', 'ner'])\n",
    "\n",
    "from sklearn.feature_extraction.text import TfidfVectorizer\n",
    "from sklearn.model_selection import train_test_split, GridSearchCV\n",
    "from sklearn.linear_model import LogisticRegression\n",
    "from sklearn.ensemble import RandomForestClassifier\n",
    "from sklearn.dummy import DummyClassifier\n",
    "from catboost import Pool, CatBoostClassifier, cv\n",
    "from sklearn.metrics import accuracy_score, roc_curve, auc, f1_score, confusion_matrix, roc_auc_score\n",
    "from numpy.random import RandomState\n",
    "from sklearn.utils import shuffle\n",
    "\n",
    "# настройка\n",
    "# игнорируем ошибки matplotlib\n",
    "warnings.filterwarnings(\"ignore\")\n",
    "\n",
    "# зафиксируем RandomState\n",
    "STATE = np.random.RandomState(12345)\n",
    "\n",
    "nltk.download('stopwords')\n",
    "stopwords = list(nltk_stopwords.words('english'))"
   ]
  },
  {
   "cell_type": "code",
   "execution_count": 5,
   "metadata": {},
   "outputs": [],
   "source": [
    "# Прочитаем файл и сохраним в датафрейм\n",
    "\n",
    "pth1 = 'toxic_comments.csv'\n",
    "pth2 = '/datasets/toxic_comments.csv'\n",
    "\n",
    "if os.path.exists(pth1):\n",
    "    text = pd.read_csv(pth1)\n",
    "elif os.path.exists(pth2):\n",
    "    text = pd.read_csv(pth2)\n",
    "else:\n",
    "    print('Something is wrong')"
   ]
  },
  {
   "cell_type": "code",
   "execution_count": 6,
   "metadata": {},
   "outputs": [
    {
     "name": "stdout",
     "output_type": "stream",
     "text": [
      "Размер датафрейма (159292, 3)\n"
     ]
    },
    {
     "data": {
      "text/html": [
       "<div>\n",
       "<style scoped>\n",
       "    .dataframe tbody tr th:only-of-type {\n",
       "        vertical-align: middle;\n",
       "    }\n",
       "\n",
       "    .dataframe tbody tr th {\n",
       "        vertical-align: top;\n",
       "    }\n",
       "\n",
       "    .dataframe thead th {\n",
       "        text-align: right;\n",
       "    }\n",
       "</style>\n",
       "<table border=\"1\" class=\"dataframe\">\n",
       "  <thead>\n",
       "    <tr style=\"text-align: right;\">\n",
       "      <th></th>\n",
       "      <th>Unnamed: 0</th>\n",
       "      <th>text</th>\n",
       "      <th>toxic</th>\n",
       "    </tr>\n",
       "  </thead>\n",
       "  <tbody>\n",
       "    <tr>\n",
       "      <th>0</th>\n",
       "      <td>0</td>\n",
       "      <td>Explanation\\nWhy the edits made under my usern...</td>\n",
       "      <td>0</td>\n",
       "    </tr>\n",
       "    <tr>\n",
       "      <th>1</th>\n",
       "      <td>1</td>\n",
       "      <td>D'aww! He matches this background colour I'm s...</td>\n",
       "      <td>0</td>\n",
       "    </tr>\n",
       "    <tr>\n",
       "      <th>2</th>\n",
       "      <td>2</td>\n",
       "      <td>Hey man, I'm really not trying to edit war. It...</td>\n",
       "      <td>0</td>\n",
       "    </tr>\n",
       "    <tr>\n",
       "      <th>3</th>\n",
       "      <td>3</td>\n",
       "      <td>\"\\nMore\\nI can't make any real suggestions on ...</td>\n",
       "      <td>0</td>\n",
       "    </tr>\n",
       "    <tr>\n",
       "      <th>4</th>\n",
       "      <td>4</td>\n",
       "      <td>You, sir, are my hero. Any chance you remember...</td>\n",
       "      <td>0</td>\n",
       "    </tr>\n",
       "  </tbody>\n",
       "</table>\n",
       "</div>"
      ],
      "text/plain": [
       "   Unnamed: 0                                               text  toxic\n",
       "0           0  Explanation\\nWhy the edits made under my usern...      0\n",
       "1           1  D'aww! He matches this background colour I'm s...      0\n",
       "2           2  Hey man, I'm really not trying to edit war. It...      0\n",
       "3           3  \"\\nMore\\nI can't make any real suggestions on ...      0\n",
       "4           4  You, sir, are my hero. Any chance you remember...      0"
      ]
     },
     "execution_count": 6,
     "metadata": {},
     "output_type": "execute_result"
    }
   ],
   "source": [
    "# первый взгляд\n",
    "print(f'Размер датафрейма {text.shape}')\n",
    "text.head()"
   ]
  },
  {
   "cell_type": "code",
   "execution_count": 7,
   "metadata": {},
   "outputs": [],
   "source": [
    "# Создадим функцию для облегчения дальнейшего знакомства с данными\n",
    "def information(data):\n",
    "\n",
    "# Посмотрим основную информацию датафрейма\n",
    "    display(data.info(), data.describe(include='all').T.round(2))\n",
    "\n",
    "# Посмотрим кол-во дубликатов\n",
    "    print('Кол-во дубликатов', data.duplicated().sum())\n",
    "    print('')\n",
    "\n",
    "# Проверим кол-во пропусков в столбцах датафрейма\n",
    "# Сделаем функцию, которая возвращает таблицу с количеством и долей пропусков в датафрейме\n",
    "    def isna_info(df):\n",
    "        isna_count = df.isna().sum() # кол-во пропусков\n",
    "        # дублируем столбец с пропущенными значениями и высчитываем процент, объединяем таблицы\n",
    "        isna_table = (pd.concat([isna_count / df.shape[0], isna_count], axis=1,  keys=['percent', 'count'])\n",
    "        # сортируем по убыванию, удаляем из таблцы непропущенные значения              \n",
    "           .sort_values('percent', ascending=False)).loc[lambda x: x[\"count\"] > 0]\n",
    "        return isna_table\n",
    "    print('Кол-во параметров с пропусками в столбцах:', len(isna_info(data)), '\\n'), display(isna_info(data))\n",
    "    \n",
    "    # Построим общую гистограмму для всех столбцов таблицы\n",
    "    data.hist(figsize=(10, 4))\n",
    "    plt.show()"
   ]
  },
  {
   "cell_type": "code",
   "execution_count": 8,
   "metadata": {
    "scrolled": false
   },
   "outputs": [
    {
     "name": "stdout",
     "output_type": "stream",
     "text": [
      "<class 'pandas.core.frame.DataFrame'>\n",
      "RangeIndex: 159292 entries, 0 to 159291\n",
      "Data columns (total 3 columns):\n",
      " #   Column      Non-Null Count   Dtype \n",
      "---  ------      --------------   ----- \n",
      " 0   Unnamed: 0  159292 non-null  int64 \n",
      " 1   text        159292 non-null  object\n",
      " 2   toxic       159292 non-null  int64 \n",
      "dtypes: int64(2), object(1)\n",
      "memory usage: 3.6+ MB\n"
     ]
    },
    {
     "data": {
      "text/plain": [
       "None"
      ]
     },
     "metadata": {},
     "output_type": "display_data"
    },
    {
     "data": {
      "text/html": [
       "<div>\n",
       "<style scoped>\n",
       "    .dataframe tbody tr th:only-of-type {\n",
       "        vertical-align: middle;\n",
       "    }\n",
       "\n",
       "    .dataframe tbody tr th {\n",
       "        vertical-align: top;\n",
       "    }\n",
       "\n",
       "    .dataframe thead th {\n",
       "        text-align: right;\n",
       "    }\n",
       "</style>\n",
       "<table border=\"1\" class=\"dataframe\">\n",
       "  <thead>\n",
       "    <tr style=\"text-align: right;\">\n",
       "      <th></th>\n",
       "      <th>count</th>\n",
       "      <th>unique</th>\n",
       "      <th>top</th>\n",
       "      <th>freq</th>\n",
       "      <th>mean</th>\n",
       "      <th>std</th>\n",
       "      <th>min</th>\n",
       "      <th>25%</th>\n",
       "      <th>50%</th>\n",
       "      <th>75%</th>\n",
       "      <th>max</th>\n",
       "    </tr>\n",
       "  </thead>\n",
       "  <tbody>\n",
       "    <tr>\n",
       "      <th>Unnamed: 0</th>\n",
       "      <td>159292.0</td>\n",
       "      <td>NaN</td>\n",
       "      <td>NaN</td>\n",
       "      <td>NaN</td>\n",
       "      <td>79725.697242</td>\n",
       "      <td>46028.837471</td>\n",
       "      <td>0.0</td>\n",
       "      <td>39872.75</td>\n",
       "      <td>79721.5</td>\n",
       "      <td>119573.25</td>\n",
       "      <td>159450.0</td>\n",
       "    </tr>\n",
       "    <tr>\n",
       "      <th>text</th>\n",
       "      <td>159292</td>\n",
       "      <td>159292</td>\n",
       "      <td>Romanizations \\n\\nIt looks like great care has...</td>\n",
       "      <td>1</td>\n",
       "      <td>NaN</td>\n",
       "      <td>NaN</td>\n",
       "      <td>NaN</td>\n",
       "      <td>NaN</td>\n",
       "      <td>NaN</td>\n",
       "      <td>NaN</td>\n",
       "      <td>NaN</td>\n",
       "    </tr>\n",
       "    <tr>\n",
       "      <th>toxic</th>\n",
       "      <td>159292.0</td>\n",
       "      <td>NaN</td>\n",
       "      <td>NaN</td>\n",
       "      <td>NaN</td>\n",
       "      <td>0.101612</td>\n",
       "      <td>0.302139</td>\n",
       "      <td>0.0</td>\n",
       "      <td>0.0</td>\n",
       "      <td>0.0</td>\n",
       "      <td>0.0</td>\n",
       "      <td>1.0</td>\n",
       "    </tr>\n",
       "  </tbody>\n",
       "</table>\n",
       "</div>"
      ],
      "text/plain": [
       "               count  unique  \\\n",
       "Unnamed: 0  159292.0     NaN   \n",
       "text          159292  159292   \n",
       "toxic       159292.0     NaN   \n",
       "\n",
       "                                                          top freq  \\\n",
       "Unnamed: 0                                                NaN  NaN   \n",
       "text        Romanizations \\n\\nIt looks like great care has...    1   \n",
       "toxic                                                     NaN  NaN   \n",
       "\n",
       "                    mean           std  min       25%      50%        75%  \\\n",
       "Unnamed: 0  79725.697242  46028.837471  0.0  39872.75  79721.5  119573.25   \n",
       "text                 NaN           NaN  NaN       NaN      NaN        NaN   \n",
       "toxic           0.101612      0.302139  0.0       0.0      0.0        0.0   \n",
       "\n",
       "                 max  \n",
       "Unnamed: 0  159450.0  \n",
       "text             NaN  \n",
       "toxic            1.0  "
      ]
     },
     "metadata": {},
     "output_type": "display_data"
    },
    {
     "name": "stdout",
     "output_type": "stream",
     "text": [
      "Кол-во дубликатов 0\n",
      "\n",
      "Кол-во параметров с пропусками в столбцах: 0 \n",
      "\n"
     ]
    },
    {
     "data": {
      "text/html": [
       "<div>\n",
       "<style scoped>\n",
       "    .dataframe tbody tr th:only-of-type {\n",
       "        vertical-align: middle;\n",
       "    }\n",
       "\n",
       "    .dataframe tbody tr th {\n",
       "        vertical-align: top;\n",
       "    }\n",
       "\n",
       "    .dataframe thead th {\n",
       "        text-align: right;\n",
       "    }\n",
       "</style>\n",
       "<table border=\"1\" class=\"dataframe\">\n",
       "  <thead>\n",
       "    <tr style=\"text-align: right;\">\n",
       "      <th></th>\n",
       "      <th>percent</th>\n",
       "      <th>count</th>\n",
       "    </tr>\n",
       "  </thead>\n",
       "  <tbody>\n",
       "  </tbody>\n",
       "</table>\n",
       "</div>"
      ],
      "text/plain": [
       "Empty DataFrame\n",
       "Columns: [percent, count]\n",
       "Index: []"
      ]
     },
     "metadata": {},
     "output_type": "display_data"
    },
    {
     "data": {
      "image/png": "[encoded data removed]",
      "text/plain": [
       "<Figure size 720x288 with 2 Axes>"
      ]
     },
     "metadata": {
      "needs_background": "light"
     },
     "output_type": "display_data"
    }
   ],
   "source": [
    "# Посмотрим информация по датасету\n",
    "information(text)"
   ]
  },
  {
   "cell_type": "markdown",
   "metadata": {},
   "source": [
    "В нашем датафрейме 159291 строка 3 столбца: *text* в нём содержит текст комментария, *toxic* — целевой признак для нашей модели (окраска комментария на положительный / отрицательный), и *Unnamed: 0* - скорее всего порядковый номер комментария, но, как можем заметить, максимальное значение данного столбца равно 159450, что не совпадает с максимальным значением индекса 159291, посмотрим подробнее.\n",
    "\n",
    "Наименования столбцов соблюдены по правилам написания кода PEP8, за исключением *Unnamed: 0*. Явные дубликаты и пропуски данных отсутсвуют. Тип данных у столбцов корректный. Текст комментариев на английском, присутсвуют лишние знаки типа \"\\nMore\\n\".\n",
    "\n",
    "Выборка у нас несбалансированная: примерно на 20 тыс положительных комментариев у нас приходится 140 тыс отрицательных."
   ]
  },
  {
   "cell_type": "markdown",
   "metadata": {},
   "source": [
    "**Проведем анализ и первичную предобработку**"
   ]
  },
  {
   "cell_type": "code",
   "execution_count": 9,
   "metadata": {},
   "outputs": [
    {
     "data": {
      "text/html": [
       "<div>\n",
       "<style scoped>\n",
       "    .dataframe tbody tr th:only-of-type {\n",
       "        vertical-align: middle;\n",
       "    }\n",
       "\n",
       "    .dataframe tbody tr th {\n",
       "        vertical-align: top;\n",
       "    }\n",
       "\n",
       "    .dataframe thead th {\n",
       "        text-align: right;\n",
       "    }\n",
       "</style>\n",
       "<table border=\"1\" class=\"dataframe\">\n",
       "  <thead>\n",
       "    <tr style=\"text-align: right;\">\n",
       "      <th></th>\n",
       "      <th>Unnamed: 0</th>\n",
       "      <th>text</th>\n",
       "      <th>toxic</th>\n",
       "    </tr>\n",
       "  </thead>\n",
       "  <tbody>\n",
       "    <tr>\n",
       "      <th>56131</th>\n",
       "      <td>56192</td>\n",
       "      <td>REDIRECT Talk:Ali Salah Hashim</td>\n",
       "      <td>0</td>\n",
       "    </tr>\n",
       "    <tr>\n",
       "      <th>138157</th>\n",
       "      <td>138308</td>\n",
       "      <td>I am already registered but for anything relat...</td>\n",
       "      <td>0</td>\n",
       "    </tr>\n",
       "    <tr>\n",
       "      <th>52732</th>\n",
       "      <td>52789</td>\n",
       "      <td>Look, stop messing up McMath Secondary School ...</td>\n",
       "      <td>0</td>\n",
       "    </tr>\n",
       "  </tbody>\n",
       "</table>\n",
       "</div>"
      ],
      "text/plain": [
       "        Unnamed: 0                                               text  toxic\n",
       "56131        56192                     REDIRECT Talk:Ali Salah Hashim      0\n",
       "138157      138308  I am already registered but for anything relat...      0\n",
       "52732        52789  Look, stop messing up McMath Secondary School ...      0"
      ]
     },
     "execution_count": 9,
     "metadata": {},
     "output_type": "execute_result"
    }
   ],
   "source": [
    "# Для удобства работать будем в копии базы, что бы всегда можно что-то сравнить с оригиналом\n",
    "# копию базы назовем 'data'\n",
    "data = deepcopy(text)\n",
    "text.sample(3)"
   ]
  },
  {
   "cell_type": "code",
   "execution_count": 10,
   "metadata": {},
   "outputs": [
    {
     "data": {
      "text/plain": [
       "0        1\n",
       "8913     1\n",
       "64202    1\n",
       "62155    1\n",
       "51916    1\n",
       "        ..\n",
       "3371     1\n",
       "13612    1\n",
       "15661    1\n",
       "9518     1\n",
       "2047     1\n",
       "Name: Unnamed: 0, Length: 159292, dtype: int64"
      ]
     },
     "execution_count": 10,
     "metadata": {},
     "output_type": "execute_result"
    }
   ],
   "source": [
    "# Проверим уникальный идентификатор на повторяющиеся значения\n",
    "data['Unnamed: 0'].value_counts(ascending=False, dropna=False)"
   ]
  },
  {
   "cell_type": "markdown",
   "metadata": {},
   "source": [
    "Повторяющихся значений нет. Но данный столбец никакой пользы для обучение модели предсказания нам не даст, скорее может даже подзапутать, поэтому мы его удалим (поэтому и не переименовали название по правилам PEP8)."
   ]
  },
  {
   "cell_type": "code",
   "execution_count": 11,
   "metadata": {},
   "outputs": [
    {
     "data": {
      "text/html": [
       "<div>\n",
       "<style scoped>\n",
       "    .dataframe tbody tr th:only-of-type {\n",
       "        vertical-align: middle;\n",
       "    }\n",
       "\n",
       "    .dataframe tbody tr th {\n",
       "        vertical-align: top;\n",
       "    }\n",
       "\n",
       "    .dataframe thead th {\n",
       "        text-align: right;\n",
       "    }\n",
       "</style>\n",
       "<table border=\"1\" class=\"dataframe\">\n",
       "  <thead>\n",
       "    <tr style=\"text-align: right;\">\n",
       "      <th></th>\n",
       "      <th>text</th>\n",
       "      <th>toxic</th>\n",
       "    </tr>\n",
       "  </thead>\n",
       "  <tbody>\n",
       "    <tr>\n",
       "      <th>56412</th>\n",
       "      <td>\"\\nIf you read the discussion above, the probl...</td>\n",
       "      <td>0</td>\n",
       "    </tr>\n",
       "    <tr>\n",
       "      <th>127474</th>\n",
       "      <td>\"\\n\\nI am unenthused about external generally....</td>\n",
       "      <td>0</td>\n",
       "    </tr>\n",
       "    <tr>\n",
       "      <th>54614</th>\n",
       "      <td>position abuse \\n\\nyou abuse you position and ...</td>\n",
       "      <td>1</td>\n",
       "    </tr>\n",
       "  </tbody>\n",
       "</table>\n",
       "</div>"
      ],
      "text/plain": [
       "                                                     text  toxic\n",
       "56412   \"\\nIf you read the discussion above, the probl...      0\n",
       "127474  \"\\n\\nI am unenthused about external generally....      0\n",
       "54614   position abuse \\n\\nyou abuse you position and ...      1"
      ]
     },
     "execution_count": 11,
     "metadata": {},
     "output_type": "execute_result"
    }
   ],
   "source": [
    "# удалим столбец\n",
    "data = data.drop('Unnamed: 0', axis = 1)\n",
    "data.sample(3)"
   ]
  },
  {
   "cell_type": "code",
   "execution_count": 12,
   "metadata": {},
   "outputs": [
    {
     "name": "stdout",
     "output_type": "stream",
     "text": [
      "0    143106\n",
      "1     16186\n",
      "Name: toxic, dtype: int64\n"
     ]
    },
    {
     "data": {
      "image/png": "[encoded data removed]",
      "text/plain": [
       "<Figure size 504x576 with 1 Axes>"
      ]
     },
     "metadata": {},
     "output_type": "display_data"
    },
    {
     "data": {
      "image/png": "[encoded data removed]",
      "text/plain": [
       "<Figure size 504x576 with 1 Axes>"
      ]
     },
     "metadata": {},
     "output_type": "display_data"
    }
   ],
   "source": [
    "# toxic\n",
    "# Посмотрим на целевой признак\n",
    "\n",
    "print(data['toxic'].value_counts())\n",
    "\n",
    "# Посмотрим на столбчатый график \n",
    "sns.set(rc={'figure.figsize':(7,8)})\n",
    "sns.countplot(data=data, x='toxic', ec='black', hue='toxic')\n",
    "plt.title('Окраска комментария')\n",
    "plt.xlabel('Отрицательный / Положительный')\n",
    "plt.ylabel('Количество комментариев')\n",
    "plt.yticks(ticks=np.arange(0,150000,10000))\n",
    "legend = plt.legend(['Отрицательный', 'Положительный'], title = \"Окрас:\",\n",
    "                     title_fontsize = 15, bbox_to_anchor=(1, 1.02), loc='upper left')\n",
    "plt.show()\n",
    "\n",
    "# Посмотрим на круговую диаграмму\n",
    "colors = sns.color_palette(\"husl\", 4)\n",
    "data.groupby(['toxic']).count().plot(kind='pie', y='text',\n",
    "  autopct='%1.0f%%', colors=colors, shadow=True)\n",
    "plt.title('Соотношение отрицательных и положительных комментариев')\n",
    "plt.xlabel('Отрицательный / Положительный')\n",
    "plt.ylabel('')\n",
    "legend = plt.legend(['Отрицательный', 'Положительный'], title = \"Окрас:\",\n",
    "                     title_fontsize = 15, bbox_to_anchor=(1, 1.02), loc='upper left')\n",
    "plt.show()"
   ]
  },
  {
   "cell_type": "markdown",
   "metadata": {},
   "source": [
    "Только 16186 положительных комментариев, а это всего 10% от всего датафрейма. Выборка неравномерна.\n",
    "\n",
    "Для баланса классов можно использовать разыне подходы (некоторые из них):\n",
    "- Воспользоваться параметром `stratify` при разделении на выборки, а при обучении модели придать объектам редкого класса больший вес с помощью аргумента `class_weight`. Сделать веса классов сбалансированными.\n",
    "- Использовать методы `upsampling` (Увеличение выборки) и `downsampling` (Уменьшение выборки). Смысл преобразования в следующем:\n",
    "  - Разделяется обучающая выборка на отрицательные и положительные объекты;\n",
    "  - Для `upsampling` копируются несколько раз положительные объекты. Для `downsampling` случайным образом отбросывается часть из отрицательных объектов;\n",
    "  - С учётом полученных данных создается новая обучающая выборка;\n",
    "  - Данные перемешиваются: идущие друг за другом одинаковые вопросы не помогут обучению, положительные не должны идти следом за отрицательными: алгоритмам будет сложнее обучаться.\n",
    "- или не использовать рукописные функции, а оптимизировать, используя *SMOTE* для увеличения выборки и *RandomUnderSampler* для уменьшения.\n"
   ]
  },
  {
   "cell_type": "markdown",
   "metadata": {},
   "source": [
    "**Перейдем к обработке текста:**\n",
    "- Очистим от лишних символов текст и стоп-слов, то есть слов без смысловой нагрузки\n",
    "- Перед извлечением признаков из текста, лемматизируем его (приведение слова к начальной форме — лемме)."
   ]
  },
  {
   "cell_type": "code",
   "execution_count": 14,
   "metadata": {},
   "outputs": [],
   "source": [
    "# напишем функцию по очистке текста. На вход она принимает текст, а возвращает очищенный текст, оставит только английские символы и пробелы.\n",
    "def clear_text(text):\n",
    "    text = text.lower()\n",
    "    list_clear = re.sub(r'[^a-zA-Z]', ' ', text)   \n",
    "    text_clear = ' '.join(list_clear.split())\n",
    "    return text_clear"
   ]
  },
  {
   "cell_type": "code",
   "execution_count": 15,
   "metadata": {},
   "outputs": [
    {
     "name": "stdout",
     "output_type": "stream",
     "text": [
      "CPU times: user 4.46 s, sys: 40.3 ms, total: 4.5 s\n",
      "Wall time: 4.51 s\n"
     ]
    },
    {
     "data": {
      "text/html": [
       "<div>\n",
       "<style scoped>\n",
       "    .dataframe tbody tr th:only-of-type {\n",
       "        vertical-align: middle;\n",
       "    }\n",
       "\n",
       "    .dataframe tbody tr th {\n",
       "        vertical-align: top;\n",
       "    }\n",
       "\n",
       "    .dataframe thead th {\n",
       "        text-align: right;\n",
       "    }\n",
       "</style>\n",
       "<table border=\"1\" class=\"dataframe\">\n",
       "  <thead>\n",
       "    <tr style=\"text-align: right;\">\n",
       "      <th></th>\n",
       "      <th>text</th>\n",
       "      <th>toxic</th>\n",
       "      <th>lemm_text</th>\n",
       "    </tr>\n",
       "  </thead>\n",
       "  <tbody>\n",
       "    <tr>\n",
       "      <th>25405</th>\n",
       "      <td>Your opinion of why a non-custodial parent doe...</td>\n",
       "      <td>0</td>\n",
       "      <td>your opinion of why a non custodial parent doe...</td>\n",
       "    </tr>\n",
       "    <tr>\n",
       "      <th>95184</th>\n",
       "      <td>This page duplicates Man Of Aran. Which goes, ...</td>\n",
       "      <td>0</td>\n",
       "      <td>this page duplicates man of aran which goes wh...</td>\n",
       "    </tr>\n",
       "    <tr>\n",
       "      <th>108664</th>\n",
       "      <td>I am mystified why the wrong user name keeps p...</td>\n",
       "      <td>0</td>\n",
       "      <td>i am mystified why the wrong user name keeps p...</td>\n",
       "    </tr>\n",
       "    <tr>\n",
       "      <th>80257</th>\n",
       "      <td>You're right, Doc.  I shouldn't have gotten in...</td>\n",
       "      <td>0</td>\n",
       "      <td>you re right doc i shouldn t have gotten involved</td>\n",
       "    </tr>\n",
       "    <tr>\n",
       "      <th>122756</th>\n",
       "      <td>them. That should be very clear to any admin w...</td>\n",
       "      <td>0</td>\n",
       "      <td>them that should be very clear to any admin wh...</td>\n",
       "    </tr>\n",
       "  </tbody>\n",
       "</table>\n",
       "</div>"
      ],
      "text/plain": [
       "                                                     text  toxic  \\\n",
       "25405   Your opinion of why a non-custodial parent doe...      0   \n",
       "95184   This page duplicates Man Of Aran. Which goes, ...      0   \n",
       "108664  I am mystified why the wrong user name keeps p...      0   \n",
       "80257   You're right, Doc.  I shouldn't have gotten in...      0   \n",
       "122756  them. That should be very clear to any admin w...      0   \n",
       "\n",
       "                                                lemm_text  \n",
       "25405   your opinion of why a non custodial parent doe...  \n",
       "95184   this page duplicates man of aran which goes wh...  \n",
       "108664  i am mystified why the wrong user name keeps p...  \n",
       "80257   you re right doc i shouldn t have gotten involved  \n",
       "122756  them that should be very clear to any admin wh...  "
      ]
     },
     "execution_count": 15,
     "metadata": {},
     "output_type": "execute_result"
    }
   ],
   "source": [
    "%%time\n",
    "\n",
    "data['lemm_text'] = data['text'].apply(clear_text)\n",
    "data.sample(5)"
   ]
  },
  {
   "cell_type": "code",
   "execution_count": 16,
   "metadata": {},
   "outputs": [],
   "source": [
    "# Напишим функцию лемматизации. На вход она принимает текст из корпуса и возвращает лемматизированную строку.\n",
    "def lemmatize(text):\n",
    "    lemm_text = \" \".join([token.lemma_ for token in nlp(text)])\n",
    "    return lemm_text"
   ]
  },
  {
   "cell_type": "code",
   "execution_count": 17,
   "metadata": {
    "scrolled": true
   },
   "outputs": [
    {
     "name": "stdout",
     "output_type": "stream",
     "text": [
      "CPU times: user 17min, sys: 10.5 s, total: 17min 11s\n",
      "Wall time: 17min 11s\n"
     ]
    },
    {
     "data": {
      "text/html": [
       "<div>\n",
       "<style scoped>\n",
       "    .dataframe tbody tr th:only-of-type {\n",
       "        vertical-align: middle;\n",
       "    }\n",
       "\n",
       "    .dataframe tbody tr th {\n",
       "        vertical-align: top;\n",
       "    }\n",
       "\n",
       "    .dataframe thead th {\n",
       "        text-align: right;\n",
       "    }\n",
       "</style>\n",
       "<table border=\"1\" class=\"dataframe\">\n",
       "  <thead>\n",
       "    <tr style=\"text-align: right;\">\n",
       "      <th></th>\n",
       "      <th>text</th>\n",
       "      <th>toxic</th>\n",
       "      <th>lemm_text</th>\n",
       "    </tr>\n",
       "  </thead>\n",
       "  <tbody>\n",
       "    <tr>\n",
       "      <th>154956</th>\n",
       "      <td>Related pages:\\n\\nJames Allen Williamson (Sena...</td>\n",
       "      <td>0</td>\n",
       "      <td>relate page james allen williamson senator all...</td>\n",
       "    </tr>\n",
       "    <tr>\n",
       "      <th>11632</th>\n",
       "      <td>I do think it's pretty important to include in...</td>\n",
       "      <td>0</td>\n",
       "      <td>I do think it s pretty important to include in...</td>\n",
       "    </tr>\n",
       "    <tr>\n",
       "      <th>127690</th>\n",
       "      <td>\"To AEuSoes1 - Your user page indicates that y...</td>\n",
       "      <td>0</td>\n",
       "      <td>to aeusoe your user page indicate that you be ...</td>\n",
       "    </tr>\n",
       "    <tr>\n",
       "      <th>55358</th>\n",
       "      <td>The intro does so much semantic dancing that I...</td>\n",
       "      <td>0</td>\n",
       "      <td>the intro do so much semantic dancing that I d...</td>\n",
       "    </tr>\n",
       "    <tr>\n",
       "      <th>55450</th>\n",
       "      <td>\"\\n\\n Precious \\n\\nmusic in South Africa\\nThan...</td>\n",
       "      <td>0</td>\n",
       "      <td>precious music in south africa thank you for q...</td>\n",
       "    </tr>\n",
       "  </tbody>\n",
       "</table>\n",
       "</div>"
      ],
      "text/plain": [
       "                                                     text  toxic  \\\n",
       "154956  Related pages:\\n\\nJames Allen Williamson (Sena...      0   \n",
       "11632   I do think it's pretty important to include in...      0   \n",
       "127690  \"To AEuSoes1 - Your user page indicates that y...      0   \n",
       "55358   The intro does so much semantic dancing that I...      0   \n",
       "55450   \"\\n\\n Precious \\n\\nmusic in South Africa\\nThan...      0   \n",
       "\n",
       "                                                lemm_text  \n",
       "154956  relate page james allen williamson senator all...  \n",
       "11632   I do think it s pretty important to include in...  \n",
       "127690  to aeusoe your user page indicate that you be ...  \n",
       "55358   the intro do so much semantic dancing that I d...  \n",
       "55450   precious music in south africa thank you for q...  "
      ]
     },
     "execution_count": 17,
     "metadata": {},
     "output_type": "execute_result"
    }
   ],
   "source": [
    "%%time\n",
    "\n",
    "data['lemm_text'] = data['lemm_text'].apply(lemmatize)\n",
    "data.sample(5)"
   ]
  },
  {
   "cell_type": "markdown",
   "metadata": {},
   "source": [
    "**Разделим данные на обучающую и тестовую выборки.**"
   ]
  },
  {
   "cell_type": "markdown",
   "metadata": {},
   "source": [
    "Разделим датафрейм на 3 выборки: обучающая(80% датафрейма) и валидационная(10% датафрейма), на них подберем и проверим лучшие гиперпараметры, затем на их объединной мощности обучим лучшую модель и измерим финальное качество модели на тестовой выборке (10% датафрейма). "
   ]
  },
  {
   "cell_type": "code",
   "execution_count": 19,
   "metadata": {},
   "outputs": [
    {
     "name": "stdout",
     "output_type": "stream",
     "text": [
      "Размер обучающей выборки:\n",
      " (127433, 132996) \n",
      " (127433,)\n",
      "\n",
      "Размер тестовой  выборки:\n",
      " (31859,) \n",
      " (31859,)\n"
     ]
    }
   ],
   "source": [
    "#  Обучающая выборка\n",
    "features_train, features_test, target_train, target_test = train_test_split(\n",
    "    data['lemm_text'].values, data['toxic'].values, test_size=0.2, random_state=STATE, stratify=data['toxic'])\n",
    "\n",
    "# Векторизуем\n",
    "count_tf_idf = TfidfVectorizer(stop_words=stopwords)\n",
    "features_train = count_tf_idf.fit_transform(features_train)\n",
    "\n",
    "# Смотрим размер выборки \n",
    "print('Размер обучающей выборки:\\n', features_train.shape, '\\n', target_train.shape)\n",
    "print('')\n",
    "print('Размер тестовой  выборки:\\n', features_test.shape, '\\n', target_test.shape)"
   ]
  },
  {
   "cell_type": "code",
   "execution_count": 20,
   "metadata": {},
   "outputs": [
    {
     "name": "stdout",
     "output_type": "stream",
     "text": [
      "Размер обучающей выборки:\n",
      " (15929, 132996) \n",
      " (15929,)\n",
      "\n",
      "Размер валидационной  выборки:\n",
      " (15930, 132996) \n",
      " (15930,)\n"
     ]
    }
   ],
   "source": [
    "#  Валидационная и обучающая выборки\n",
    "\n",
    "features_valid, features_test, target_valid, target_test = train_test_split(\n",
    "    features_test, target_test, test_size=0.5, random_state=STATE, stratify=target_test)\n",
    "\n",
    "# Векторизуем\n",
    "features_valid = count_tf_idf.transform(features_valid)\n",
    "features_test = count_tf_idf.transform(features_test)\n",
    "\n",
    "# Смотрим размер выборки \n",
    "print('Размер обучающей выборки:\\n', features_valid.shape, '\\n', target_valid.shape)\n",
    "print('')\n",
    "print('Размер валидационной  выборки:\\n', features_test.shape, '\\n', target_test.shape)"
   ]
  },
  {
   "cell_type": "markdown",
   "metadata": {},
   "source": [
    "Мы проанализировали и предобработали наш датафрейм:\n",
    "- избавились от ненужного столбца;\n",
    "- очистили наш текст от \"грязи\" и произвели лемматизацию.\n",
    "\n",
    "Разбили данные на 3 выборки: \n",
    "- обучающая выборка с размером 127433;\n",
    "- валидационная: 15929;\n",
    "- тестовая: 15930."
   ]
  },
  {
   "cell_type": "markdown",
   "metadata": {},
   "source": [
    "## Обучение"
   ]
  },
  {
   "cell_type": "markdown",
   "metadata": {},
   "source": [
    "Сбалансируем выборки и обучим наши модели.\n",
    "\n",
    "Исследуем качество разных моделей, выберем оптимальные гиперпараметры. Метрикой качества будет выступать `F1-мера` (англ. F1-score). Это среднее гармоническое полноты и точности. Единица в F1 означает, что соотношение полноты и точности равно 1:1. \n",
    "\n",
    "В качестве моделей буем рассматривать:\n",
    "- **CatBoost** \n",
    "\n",
    "Библиотека градиентного бустинга, созданная Яндексом. [CatBoost](https://catboost.ai/) - это алгоритм для повышения градиента на деревьях решений. Использует небрежные (oblivious) деревья решений, чтобы вырастить сбалансированное дерево. Одни и те же функции используются для создания левых и правых разделений (split) на каждом уровне дерева. Импортируем: `from catboost import CatBoostRegressor`\n",
    "\n",
    "- **Cлучайный лес** (RandomForestClassifier)\n",
    "\n",
    "Алгоритм обучает большое количество независимых друг от друга деревьев, а потом принимает решение на основе голосования. Случайный лес помогает улучшить результат предсказания и избежать переобучения. В библиотеке sklearn алгоритм случайного леса RandomForestClassifier находится в модуле  sklearn.ensemble (от фр. «вместе»). Импортируем его:\n",
    "`from sklearn.ensemble import RandomForestClassifier`\n",
    "\n",
    "- **Логистическая регрессия** (LogisticRegression)\n",
    "\n",
    "Логистическая регрессия применяется для прогнозирования вероятности возникновения некоторого события по значениям множества признаков.\n",
    "Модель LogisticRegression лежит в модуле sklearn.linear_model (от англ. «линейная модель») библиотеки sklearn. Импортируем его:\n",
    "`from sklearn.linear_model import LogisticRegression`"
   ]
  },
  {
   "cell_type": "code",
   "execution_count": 21,
   "metadata": {},
   "outputs": [
    {
     "name": "stdout",
     "output_type": "stream",
     "text": [
      "+-------+----------+----------+\n",
      "| model | F1_train | F2_valid |\n",
      "+-------+----------+----------+\n",
      "+-------+----------+----------+\n"
     ]
    }
   ],
   "source": [
    "# Создадим таблицу результатов, куда будем заносить интересующую информацию\n",
    "table = PrettyTable()\n",
    "table.field_names = ['model','F1_train', 'F2_valid']\n",
    "print(table)"
   ]
  },
  {
   "cell_type": "markdown",
   "metadata": {},
   "source": [
    " **RandomForestClassifier**"
   ]
  },
  {
   "cell_type": "code",
   "execution_count": 23,
   "metadata": {},
   "outputs": [
    {
     "name": "stdout",
     "output_type": "stream",
     "text": [
      "Лучшие параметры RandomForestClassifier:\n",
      "{'class_weight': 'balanced', 'max_depth': 10, 'n_estimators': 100, 'random_state': RandomState(MT19937) at 0x7F4670E85B40}\n",
      "\n",
      "Значение метрики F1 на обучающей выборке 0.3726505319190689\n",
      "CPU times: user 18min 31s, sys: 4.69 s, total: 18min 36s\n",
      "Wall time: 18min 36s\n"
     ]
    }
   ],
   "source": [
    "%%time\n",
    "\n",
    "forest = RandomForestClassifier()\n",
    "parameters = {'n_estimators': ([x for x in range(0, 110, 20)]),\n",
    "              'max_depth': ([x for x in range(1, 11)]),\n",
    "              'random_state': ([STATE]),\n",
    "             'class_weight': (['balanced'])}\n",
    "\n",
    "forest_cv = GridSearchCV(forest, parameters, scoring='f1', cv=3, n_jobs=-1)\n",
    "forest_cv.fit(features_train, target_train)\n",
    "print(f'Лучшие параметры RandomForestClassifier:')\n",
    "forest_best_params = forest_cv.best_params_\n",
    "print(forest_best_params)\n",
    "print('')\n",
    "forest_f1_train = forest_cv.best_score_\n",
    "print(f'Значение метрики F1 на обучающей выборке {forest_f1_train}')"
   ]
  },
  {
   "cell_type": "code",
   "execution_count": 24,
   "metadata": {},
   "outputs": [
    {
     "name": "stdout",
     "output_type": "stream",
     "text": [
      "Значение метрики F1 на валидационной выборке 0.35867293625914315\n",
      "\n",
      "Матрица ошибок\n",
      " [[9646 4665]\n",
      " [ 245 1373]]\n",
      "CPU times: user 5.15 s, sys: 20 ms, total: 5.17 s\n",
      "Wall time: 5.18 s\n"
     ]
    }
   ],
   "source": [
    "%%time\n",
    "\n",
    "forest.set_params(**forest_best_params)\n",
    "forest.fit(features_train, target_train)\n",
    "forest_predict = forest.predict(features_valid)\n",
    "forest_f1_valid = f1_score(target_valid, forest_predict)\n",
    "print(f'Значение метрики F1 на валидационной выборке {forest_f1_valid}')\n",
    "print('')\n",
    "print('Матрица ошибок\\n', confusion_matrix(target_valid, forest_predict))"
   ]
  },
  {
   "cell_type": "code",
   "execution_count": 25,
   "metadata": {},
   "outputs": [
    {
     "name": "stdout",
     "output_type": "stream",
     "text": [
      "+------------------------+--------------------+---------------------+\n",
      "|         model          |      F1_train      |       F2_valid      |\n",
      "+------------------------+--------------------+---------------------+\n",
      "| RandomForestClassifier | 0.3726505319190689 | 0.35867293625914315 |\n",
      "+------------------------+--------------------+---------------------+\n"
     ]
    }
   ],
   "source": [
    "# Вносим данные в таблицу\n",
    "table.add_row(['RandomForestClassifier', forest_f1_train, forest_f1_valid])\n",
    "print(table)"
   ]
  },
  {
   "cell_type": "markdown",
   "metadata": {},
   "source": [
    "**LogisticRegression**"
   ]
  },
  {
   "cell_type": "code",
   "execution_count": 26,
   "metadata": {},
   "outputs": [
    {
     "name": "stdout",
     "output_type": "stream",
     "text": [
      "Лучшие параметры LogisticRegression:\n",
      "{'C': 5, 'class_weight': 'balanced', 'fit_intercept': True, 'random_state': RandomState(MT19937) at 0x7F4670E85B40, 'solver': 'lbfgs'}\n",
      "\n",
      "Значение метрики F1 на обучающей выборке 0.7653037260506018\n",
      "CPU times: user 7min 3s, sys: 8min 2s, total: 15min 5s\n",
      "Wall time: 15min 7s\n"
     ]
    }
   ],
   "source": [
    "%%time\n",
    "\n",
    "lr = LogisticRegression()\n",
    "\n",
    "parameters = [{'solver':['newton-cg', 'lbfgs', 'liblinear'], \n",
    "               'C':[5, 10, 15],\n",
    "               'random_state': ([STATE]),\n",
    "               'class_weight':(['balanced']),\n",
    "               'fit_intercept': ([True])}]\n",
    "\n",
    "lr_cv = GridSearchCV(lr, parameters, scoring='f1', cv=3, n_jobs=-1)\n",
    "lr_cv.fit(features_train, target_train)\n",
    "print(f'Лучшие параметры LogisticRegression:')\n",
    "lr_best_params = lr_cv.best_params_\n",
    "print(lr_best_params)\n",
    "print('')\n",
    "lr_f1_train = lr_cv.best_score_\n",
    "print(f'Значение метрики F1 на обучающей выборке {lr_f1_train}')"
   ]
  },
  {
   "cell_type": "code",
   "execution_count": 27,
   "metadata": {},
   "outputs": [
    {
     "name": "stdout",
     "output_type": "stream",
     "text": [
      "Значение метрики F1 на валидационной выборке 0.7697072072072072\n",
      "\n",
      "Матрица ошибок\n",
      " [[13744   567]\n",
      " [  251  1367]]\n",
      "CPU times: user 22.3 s, sys: 26.8 s, total: 49.1 s\n",
      "Wall time: 49.3 s\n"
     ]
    }
   ],
   "source": [
    "%%time\n",
    "\n",
    "lr.set_params(**lr_best_params)\n",
    "lr.fit(features_train, target_train)\n",
    "lr_predict = lr.predict(features_valid)\n",
    "lr_f1_valid = f1_score(target_valid, lr_predict)\n",
    "print(f'Значение метрики F1 на валидационной выборке {lr_f1_valid}')\n",
    "print('')\n",
    "print('Матрица ошибок\\n', confusion_matrix(target_valid, lr_predict))"
   ]
  },
  {
   "cell_type": "code",
   "execution_count": 28,
   "metadata": {
    "scrolled": true
   },
   "outputs": [
    {
     "name": "stdout",
     "output_type": "stream",
     "text": [
      "+------------------------+--------------------+---------------------+\n",
      "|         model          |      F1_train      |       F2_valid      |\n",
      "+------------------------+--------------------+---------------------+\n",
      "| RandomForestClassifier | 0.3726505319190689 | 0.35867293625914315 |\n",
      "|   LogisticRegression   | 0.7653037260506018 |  0.7697072072072072 |\n",
      "+------------------------+--------------------+---------------------+\n"
     ]
    }
   ],
   "source": [
    "# Вносим данные в таблицу\n",
    "table.add_row(['LogisticRegression', lr_f1_train, lr_f1_valid])\n",
    "print(table)"
   ]
  },
  {
   "cell_type": "markdown",
   "metadata": {},
   "source": [
    "**CatBoostClassifier**"
   ]
  },
  {
   "cell_type": "code",
   "execution_count": 29,
   "metadata": {},
   "outputs": [],
   "source": [
    "%%time\n",
    "\n",
    "best_model = None\n",
    "best_f1 = 0 \n",
    "\n",
    "for depth in range (1,6):\n",
    "    cat = CatBoostClassifier( # подбираем гиперпараметры\n",
    "        n_estimators = 250, # кол-во эпох\n",
    "        depth = depth, # глубина \n",
    "        learning_rate=0.2, # шаг обучения\n",
    "        auto_class_weights='Balanced',\n",
    "        eval_metric='F1',\n",
    "        verbose=False\n",
    "    ) \n",
    "    cat.fit(\n",
    "    features_train, target_train, # передаем обучающую выборку\n",
    "    plot=False # график\n",
    "    )\n",
    "    # получим предсказания модели на обучающей выборке\n",
    "    cat_predicted_train = cat.predict(features_train)\n",
    "    f1_cat_tr = f1_score(target_train, cat_predicted_train)\n",
    "    # получим предсказания модели на валидационной выборке\n",
    "    cat_predicted = cat.predict(features_valid)\n",
    "    #  Посчитаем значение метрики на валидационной выборке\n",
    "    f1_cat_valid = f1_score(target_valid, cat_predicted)\n",
    "    print(f\" best_depth = {depth}, f1_train = {f1_cat_tr}, f1_valid = {f1_cat_valid}\")\n",
    "    if f1_cat_valid >= best_f1:\n",
    "            best_depth = depth # сохраним наилучшее показание глубины дерева\n",
    "            best_model = cat # сохраним наилучшую модель\n",
    "            best_f1 = f1_cat_valid # сохраним наилучшее значение f1\n",
    "            f1_cat_train = f1_cat_tr\n",
    "            \n",
    "best_f1_cat = best_f1\n",
    "print('')\n",
    "print(f'Лучшее значение F1 для CatBoostClassifier при глубине {best_depth}') \n",
    "print(f'Значение метрики F1 на обучающей выборке: {f1_cat_train}')\n",
    "print(f'Значение метрики F1 на валидационной выборке {best_f1_cat}')\n",
    "print('')\n",
    "print('Матрица ошибок\\n', confusion_matrix(target_valid, cat_predicted))"
   ]
  },
  {
   "cell_type": "code",
   "execution_count": 33,
   "metadata": {},
   "outputs": [
    {
     "name": "stderr",
     "output_type": "stream",
     "text": [
      "Custom logger is already specified. Specify more than one logger at same time is not thread safe."
     ]
    },
    {
     "data": {
      "application/vnd.jupyter.widget-view+json": {
       "model_id": "01b03a4aab08405eaa33e5c819f90978",
       "version_major": 2,
       "version_minor": 0
      },
      "text/plain": [
       "MetricVisualizer(layout=Layout(align_self='stretch', height='500px'))"
      ]
     },
     "metadata": {},
     "output_type": "display_data"
    },
    {
     "name": "stderr",
     "output_type": "stream",
     "text": [
      "Warning: Overfitting detector is active, thus evaluation metric is calculated on every iteration. 'metric_period' is ignored for evaluation metric.\n"
     ]
    },
    {
     "name": "stdout",
     "output_type": "stream",
     "text": [
      "0:\tlearn: 0.4834875\ttest: 0.4671029\tbest: 0.4671029 (0)\ttotal: 2.12s\tremaining: 5h 53m 1s\n",
      "200:\tlearn: 0.9225384\ttest: 0.8913595\tbest: 0.8913595 (200)\ttotal: 5m 6s\tremaining: 4h 8m 48s\n",
      "Stopped by overfitting detector  (50 iterations wait)\n",
      "\n",
      "bestTest = 0.8930790565\n",
      "bestIteration = 232\n",
      "\n",
      "Shrink model to first 233 iterations.\n",
      "Значение метрики F1 на обучающей выборке 0.8003441156228494\n",
      "Значение метрики F1 на валидационной выборке 0.7586399108138238\n",
      "\n",
      "Матрица ошибок\n",
      " [[13702   609]\n",
      " [  257  1361]]\n",
      "CPU times: user 7min 42s, sys: 4.75 s, total: 7min 47s\n",
      "Wall time: 7min 49s\n"
     ]
    }
   ],
   "source": [
    "%%time\n",
    "\n",
    "#обучение:\n",
    "cat = CatBoostClassifier(\n",
    "        depth = 5,\n",
    "        iterations = 10000,\n",
    "        learning_rate=0.3,\n",
    "        metric_period=200,\n",
    "        od_type='Iter',\n",
    "        od_wait=50,\n",
    "        auto_class_weights='Balanced',\n",
    "        eval_metric='F1',\n",
    "    ) \n",
    "cat.fit(\n",
    "    features_train, target_train,\n",
    "    eval_set=(features_valid, target_valid),\n",
    "    plot=True \n",
    "    )\n",
    "\n",
    "cat_predict_train = cat.predict(features_train)\n",
    "cat_f1_train = f1_score(target_train, cat_predict_train)\n",
    "print(f'Значение метрики F1 на обучающей выборке {cat_f1_train}')    \n",
    "cat_predict = cat.predict(features_valid)\n",
    "cat_f1_valid = f1_score(target_valid, cat_predict)\n",
    "print(f'Значение метрики F1 на валидационной выборке {cat_f1_valid}')\n",
    "print('')\n",
    "print('Матрица ошибок\\n', confusion_matrix(target_valid, cat_predict))"
   ]
  },
  {
   "cell_type": "code",
   "execution_count": 34,
   "metadata": {},
   "outputs": [
    {
     "name": "stdout",
     "output_type": "stream",
     "text": [
      "+------------------------+--------------------+---------------------+\n",
      "|         model          |      F1_train      |       F2_valid      |\n",
      "+------------------------+--------------------+---------------------+\n",
      "| RandomForestClassifier | 0.3726505319190689 | 0.35867293625914315 |\n",
      "|   LogisticRegression   | 0.7653037260506018 |  0.7697072072072072 |\n",
      "|   CatBoostClassifier   | 0.8003441156228494 |  0.7586399108138238 |\n",
      "+------------------------+--------------------+---------------------+\n"
     ]
    }
   ],
   "source": [
    "# Вносим данные в таблицу\n",
    "table.add_row(['CatBoostClassifier', cat_f1_train, cat_f1_valid])\n",
    "print(table)"
   ]
  },
  {
   "cell_type": "code",
   "execution_count": 35,
   "metadata": {},
   "outputs": [
    {
     "name": "stdout",
     "output_type": "stream",
     "text": [
      "AUC-ROC RandomForestClassifier: 0.8797222982070808\n",
      "\n",
      "AUC-ROC LogisticRegression: 0.9699250034484697\n",
      "\n",
      "AUC-ROC CatBoostClassifier: 0.9638577048660952\n"
     ]
    },
    {
     "data": {
      "text/plain": [
       "<Figure size 504x576 with 0 Axes>"
      ]
     },
     "metadata": {},
     "output_type": "display_data"
    },
    {
     "data": {
      "image/png": "[encoded data removed]",
      "text/plain": [
       "<Figure size 720x504 with 1 Axes>"
      ]
     },
     "metadata": {},
     "output_type": "display_data"
    }
   ],
   "source": [
    "# Построим ROC-кривую и изобразим её на графике и посчитаем AUC-ROC\n",
    "\n",
    "# ROC-кривая RandomForestClassifier\n",
    "fpr_forest, tpr_forest, thresholds = roc_curve(target_valid,\n",
    "                                         forest.predict_proba(features_valid)[:, 1])\n",
    "\n",
    "forest_roc = roc_auc_score(target_valid, forest.predict_proba(features_valid)[:, 1])\n",
    "print('AUC-ROC RandomForestClassifier:', forest_roc)\n",
    "print('')\n",
    "\n",
    "# ROC-кривая LogisticRegression\n",
    "fpr_lr, tpr_lr, thresholds = roc_curve(target_valid, lr.predict_proba(features_valid)[:, 1])\n",
    "\n",
    "lr_roc = roc_auc_score(target_valid, lr.predict_proba(features_valid)[:, 1])\n",
    "print('AUC-ROC LogisticRegression:', lr_roc)\n",
    "print('')\n",
    "\n",
    "# ROC-кривая CatBoostClassifier\n",
    "fpr_cat, tpr_cat, thresholds = roc_curve(target_valid, cat.predict_proba(features_valid)[:, 1])\n",
    "\n",
    "cat_roc = roc_auc_score(target_valid, cat.predict_proba(features_valid)[:, 1])\n",
    "print('AUC-ROC CatBoostClassifier:', cat_roc)\n",
    "\n",
    "plt.figure()\n",
    "\n",
    "plt.figure(figsize=(10,7))\n",
    "plt.plot([0, 1], [0, 1], linestyle='--')\n",
    "plt.xlim([0.0, 1.0])\n",
    "plt.ylim([0.0, 1.0])\n",
    "plt.plot(fpr_forest,tpr_forest)\n",
    "plt.plot(fpr_lr,tpr_lr)\n",
    "plt.plot(fpr_cat,tpr_cat)\n",
    "plt.xlabel('False Positive Rate')\n",
    "plt.ylabel('True Positive Rate')\n",
    "plt.title('ROC-кривая')\n",
    "plt.legend(('Случайная модель','RandomForestClassifier','LogisticRegression','CatBoostClassifier'),\n",
    "           bbox_to_anchor=(1, 1.02), loc='upper left') \n",
    "plt.show()"
   ]
  },
  {
   "cell_type": "markdown",
   "metadata": {},
   "source": [
    "Мы проверили 3 модели с подбором лучших гиперпараметров и может сделать следующие выводы:\n",
    "- Лучше всех себя показа Логистическая регрессия с гиперпараметром - C = 5, сбалансированным весом и 'solver' = 'lbfgs'. Показатель метрики качества F1 равен 0.77\n",
    "- на втором месте яндексовский классификатор с результатом F1 на валидационной выборке ~0.76, при глубине = 5, 233 итерации, сбалансированным весом и шагом обучения 0,3.\n",
    "- худшая модель \"Решающий лес\" с результатом 0,36. Даже долгое обучение по поиску лучших гиперпараметров не помогло добиться лучших результатов.\n",
    "\n",
    "Можно предположить, что для распознования оценки негативности текста лучше подходит линейная модель, чем дерево решений, даже с учетом бустинга. \n",
    "\n",
    "Хоть в целом отставание CatBoost от LogisticRegression всего 1 сотая на валидационной выборке, но мы видим на матрице ошибок, что логистическая регрессия предсказывает меньше False (как False Negative, так и False Positive) ответов, так и больше правильных прогнозов. Что нам и показывает ROC-кривая (По горизонтали доля ложноположительных ответов (FPR), а по вертикали — доля истинно положительных ответов (TPR)). AUC-ROC (от англ. Area Under Curve ROC, «площадь под ROC-кривой») - у LogisticRegression: 0.969, а у CatBoostClassifier: 0.963. При этом и время обучения логистической модели было быстрее. "
   ]
  },
  {
   "cell_type": "markdown",
   "metadata": {},
   "source": [
    "## Выводы"
   ]
  },
  {
   "cell_type": "markdown",
   "metadata": {},
   "source": [
    "Так как модель **LogisticRegression** показало лучшие результаты с результатами F1 на обучающей выборке 0.7653037260506018, **F1 на валидационной выборке 0.7697072072072072**, при параметрах *'C': 5, 'class_weight': 'balanced', 'fit_intercept': True, 'solver': 'lbfgs'*, то финальное тестирование будем проводить на данной модели на объединненой выборке (target + valid) в попытке немного улучшить качество нашей модели."
   ]
  },
  {
   "cell_type": "code",
   "execution_count": 36,
   "metadata": {},
   "outputs": [
    {
     "name": "stdout",
     "output_type": "stream",
     "text": [
      "Значение метрики F1 на тестовой выборке 0.7776847977684798 для LogisticRegression\n",
      "\n",
      "Матрица ошибок\n",
      " [[13739   572]\n",
      " [  225  1394]]\n",
      "CPU times: user 22.2 s, sys: 27.2 s, total: 49.3 s\n",
      "Wall time: 49.4 s\n"
     ]
    }
   ],
   "source": [
    "%%time\n",
    "\n",
    "# Используем лучшие гиперпараметры\n",
    "\n",
    "lr.set_params(**lr_best_params)\n",
    "lr.fit(features_train, target_train)\n",
    "final_predict = lr.predict(features_test)\n",
    "lr_f1_final = f1_score(target_test, final_predict)\n",
    "print(f'Значение метрики F1 на тестовой выборке {lr_f1_final} для LogisticRegression')\n",
    "print('')\n",
    "print('Матрица ошибок\\n', confusion_matrix(target_test, final_predict))"
   ]
  },
  {
   "cell_type": "code",
   "execution_count": 37,
   "metadata": {},
   "outputs": [
    {
     "name": "stdout",
     "output_type": "stream",
     "text": [
      "AUC-ROC на валидационной выборке: 0.9699250034484697\n",
      "\n",
      "AUC-ROC на тестовой выборке: 0.9731936486008399\n",
      "\n"
     ]
    },
    {
     "data": {
      "text/plain": [
       "<Figure size 504x576 with 0 Axes>"
      ]
     },
     "metadata": {},
     "output_type": "display_data"
    },
    {
     "data": {
      "image/png": "[encoded data removed]",
      "text/plain": [
       "<Figure size 720x504 with 1 Axes>"
      ]
     },
     "metadata": {},
     "output_type": "display_data"
    }
   ],
   "source": [
    "# Построим ROC-кривую\n",
    "\n",
    "# ROC-кривая для валидации\n",
    "fpr_valid, tpr_valid, thresholds = roc_curve(target_valid,\n",
    "                                         lr.predict_proba(features_valid)[:, 1])\n",
    "\n",
    "valid_roc = roc_auc_score(target_valid, lr.predict_proba(features_valid)[:, 1])\n",
    "print('AUC-ROC на валидационной выборке:', valid_roc)\n",
    "print('')\n",
    "\n",
    "# ROC-кривая для теста\n",
    "fpr_test, tpr_test, thresholds = roc_curve(target_test, lr.predict_proba(features_test)[:, 1])\n",
    "\n",
    "test_roc = roc_auc_score(target_test, lr.predict_proba(features_test)[:, 1])\n",
    "print('AUC-ROC на тестовой выборке:', test_roc)\n",
    "print('')\n",
    "\n",
    "plt.figure()\n",
    "\n",
    "plt.figure(figsize=(10,7))\n",
    "plt.plot([0, 1], [0, 1], linestyle='--')\n",
    "plt.xlim([0.0, 1.0])\n",
    "plt.ylim([0.0, 1.0])\n",
    "plt.plot(fpr_valid,tpr_valid)\n",
    "plt.plot(fpr_test,tpr_test)\n",
    "plt.xlabel('False Positive Rate')\n",
    "plt.ylabel('True Positive Rate')\n",
    "plt.title('ROC-кривая')\n",
    "plt.legend(('Случайная модель','Валидационная выборка','Тестовая выборка'),\n",
    "           bbox_to_anchor=(1, 1.02), loc='upper left') \n",
    "plt.show()"
   ]
  },
  {
   "cell_type": "code",
   "execution_count": 38,
   "metadata": {},
   "outputs": [
    {
     "name": "stdout",
     "output_type": "stream",
     "text": [
      "Лучшее значние F1 DummyClassifier 0.18451193800216537 \n"
     ]
    }
   ],
   "source": [
    "# Проверим модель на адекватность\n",
    "\n",
    "dummy_model = DummyClassifier(strategy='constant', constant=1)\n",
    "dummy_model.fit(features_train, target_train)\n",
    "f1_dummy = f1_score(dummy_model.predict(features_test), target_test)\n",
    "print(f'Лучшее значние F1 DummyClassifier {f1_dummy} ')"
   ]
  },
  {
   "cell_type": "markdown",
   "metadata": {},
   "source": [
    "**Вывод:**\n",
    "\n",
    "Для интернет-магазина «Викишоп», мы разработали модель, которая поможет запустить новый сервис и классифицировать комментарии на позитивные и негативные, модель будет искать токсичные комментарии и отправлять их на модерацию.\n",
    "\n",
    "С помощью предоставленного набора данных с разметкой о токсичности правок, мы смогли проанализировать и предобработать датафрейм. В нем было 159291 комментариев, из которых только 10% положительных. С помощью лемметизации, очистки текста от лишних символов и стоп-слов, а так же балансировки классов мы сравнили три модели обучения. Для этого мы разделили наш датафрейм на три выборки. На первой выборке обучали модели, на валидационной подбирали лучшие гиперпараметры и проверяли качество метрики - F1-мера, это среднее гармоническое полноты и точности. Посмотрели моедли: CatBoost, RandomForestClassifier, LogisticRegression.\n",
    "\n",
    "Лучшей моделью оказалась **LogisticRegression**, со значением метрики качества F1 на тестовой выборке равной **0,777**. Таким образом выполнили поставленную задачу: Постройть модель со значением метрики качества F1 не меньше 0.75. Проверили модель на адекватность. F1 модели DummyClassifier равна 0.18, что в разы хуже проверенных нами моделей. Это говорит нам о том, что модель машинного обучения лучше предсказывает, чем постоянная модели, предсказывающее положительные комментарии.\n",
    "\n",
    "Уровень AUC-ROC нашей модели на тестовой выборке: 0.97, что весьма неплохой результат. А матрица ошибок показывает, что на 13739 True Negative ответа у нас только 572 False Positiv, а на 1394 True Positiv ответа только 225 False Negative."
   ]
  }
 ],
 "metadata": {
  "ExecuteTimeLog": [
   {
    "duration": 168,
    "start_time": "2023-09-22T07:08:10.131Z"
   },
   {
    "duration": 2924,
    "start_time": "2023-09-22T07:12:29.716Z"
   },
   {
    "duration": 2503,
    "start_time": "2023-09-22T07:13:49.438Z"
   },
   {
    "duration": 3,
    "start_time": "2023-09-22T07:14:57.322Z"
   },
   {
    "duration": 12,
    "start_time": "2023-09-22T07:15:12.330Z"
   },
   {
    "duration": 92,
    "start_time": "2023-09-22T07:16:21.317Z"
   },
   {
    "duration": 5,
    "start_time": "2023-09-22T07:16:37.131Z"
   },
   {
    "duration": 968,
    "start_time": "2023-09-22T07:16:51.838Z"
   },
   {
    "duration": 6,
    "start_time": "2023-09-22T07:17:50.846Z"
   },
   {
    "duration": 770,
    "start_time": "2023-09-22T07:17:51.531Z"
   },
   {
    "duration": 9,
    "start_time": "2023-09-22T07:18:10.469Z"
   },
   {
    "duration": 820,
    "start_time": "2023-09-22T07:18:12.393Z"
   },
   {
    "duration": 6,
    "start_time": "2023-09-22T07:18:25.518Z"
   },
   {
    "duration": 895,
    "start_time": "2023-09-22T07:18:25.999Z"
   },
   {
    "duration": 6,
    "start_time": "2023-09-22T07:18:36.367Z"
   },
   {
    "duration": 853,
    "start_time": "2023-09-22T07:18:36.809Z"
   },
   {
    "duration": 6,
    "start_time": "2023-09-22T07:18:43.432Z"
   },
   {
    "duration": 902,
    "start_time": "2023-09-22T07:18:44.327Z"
   },
   {
    "duration": 5,
    "start_time": "2023-09-22T07:18:58.469Z"
   },
   {
    "duration": 849,
    "start_time": "2023-09-22T07:19:00.738Z"
   },
   {
    "duration": 57,
    "start_time": "2023-09-22T08:34:13.934Z"
   },
   {
    "duration": 15127,
    "start_time": "2023-09-22T08:34:13.993Z"
   },
   {
    "duration": 953,
    "start_time": "2023-09-22T08:34:29.122Z"
   },
   {
    "duration": 14,
    "start_time": "2023-09-22T08:34:30.077Z"
   },
   {
    "duration": 82,
    "start_time": "2023-09-22T08:34:30.102Z"
   },
   {
    "duration": 970,
    "start_time": "2023-09-22T08:34:30.186Z"
   },
   {
    "duration": 107,
    "start_time": "2023-09-22T08:46:58.884Z"
   },
   {
    "duration": 4400,
    "start_time": "2023-09-22T08:46:58.993Z"
   },
   {
    "duration": 994,
    "start_time": "2023-09-22T08:47:03.395Z"
   },
   {
    "duration": 22,
    "start_time": "2023-09-22T08:47:04.391Z"
   },
   {
    "duration": 9,
    "start_time": "2023-09-22T08:47:04.419Z"
   },
   {
    "duration": 987,
    "start_time": "2023-09-22T08:47:04.429Z"
   },
   {
    "duration": 15,
    "start_time": "2023-09-22T08:47:05.419Z"
   },
   {
    "duration": 20,
    "start_time": "2023-09-22T08:49:03.160Z"
   },
   {
    "duration": 41,
    "start_time": "2023-09-22T08:55:23.139Z"
   },
   {
    "duration": 565,
    "start_time": "2023-09-22T09:01:51.686Z"
   },
   {
    "duration": 65,
    "start_time": "2023-09-22T10:40:09.703Z"
   },
   {
    "duration": 11455,
    "start_time": "2023-09-22T10:40:09.770Z"
   },
   {
    "duration": 0,
    "start_time": "2023-09-22T10:40:21.228Z"
   },
   {
    "duration": 0,
    "start_time": "2023-09-22T10:40:21.229Z"
   },
   {
    "duration": 0,
    "start_time": "2023-09-22T10:40:21.231Z"
   },
   {
    "duration": 0,
    "start_time": "2023-09-22T10:40:21.232Z"
   },
   {
    "duration": 0,
    "start_time": "2023-09-22T10:40:21.233Z"
   },
   {
    "duration": 0,
    "start_time": "2023-09-22T10:40:21.234Z"
   },
   {
    "duration": 0,
    "start_time": "2023-09-22T10:40:21.235Z"
   },
   {
    "duration": 0,
    "start_time": "2023-09-22T10:40:21.236Z"
   },
   {
    "duration": 0,
    "start_time": "2023-09-22T10:40:21.237Z"
   },
   {
    "duration": 54,
    "start_time": "2023-09-22T10:43:13.371Z"
   },
   {
    "duration": 13177,
    "start_time": "2023-09-22T10:43:13.427Z"
   },
   {
    "duration": 0,
    "start_time": "2023-09-22T10:43:26.610Z"
   },
   {
    "duration": 0,
    "start_time": "2023-09-22T10:43:26.611Z"
   },
   {
    "duration": 0,
    "start_time": "2023-09-22T10:43:26.613Z"
   },
   {
    "duration": 0,
    "start_time": "2023-09-22T10:43:26.615Z"
   },
   {
    "duration": 0,
    "start_time": "2023-09-22T10:43:26.616Z"
   },
   {
    "duration": 0,
    "start_time": "2023-09-22T10:43:26.618Z"
   },
   {
    "duration": 0,
    "start_time": "2023-09-22T10:43:26.619Z"
   },
   {
    "duration": 0,
    "start_time": "2023-09-22T10:43:26.621Z"
   },
   {
    "duration": 0,
    "start_time": "2023-09-22T10:43:26.623Z"
   },
   {
    "duration": 74,
    "start_time": "2023-09-22T10:45:22.427Z"
   },
   {
    "duration": 5218,
    "start_time": "2023-09-22T10:45:22.504Z"
   },
   {
    "duration": 20211,
    "start_time": "2023-09-22T10:45:27.724Z"
   },
   {
    "duration": 2577,
    "start_time": "2023-09-22T10:45:47.938Z"
   },
   {
    "duration": 11,
    "start_time": "2023-09-22T10:45:50.517Z"
   },
   {
    "duration": 13,
    "start_time": "2023-09-22T10:45:50.530Z"
   },
   {
    "duration": 991,
    "start_time": "2023-09-22T10:45:50.545Z"
   },
   {
    "duration": 16,
    "start_time": "2023-09-22T10:45:51.538Z"
   },
   {
    "duration": 62,
    "start_time": "2023-09-22T10:45:51.556Z"
   },
   {
    "duration": 40,
    "start_time": "2023-09-22T10:45:51.621Z"
   },
   {
    "duration": 468,
    "start_time": "2023-09-22T10:45:51.663Z"
   },
   {
    "duration": 54,
    "start_time": "2023-09-22T10:46:49.108Z"
   },
   {
    "duration": 2,
    "start_time": "2023-09-22T10:46:49.164Z"
   },
   {
    "duration": 6303,
    "start_time": "2023-09-22T10:46:49.168Z"
   },
   {
    "duration": 2540,
    "start_time": "2023-09-22T10:46:55.474Z"
   },
   {
    "duration": 12,
    "start_time": "2023-09-22T10:46:58.016Z"
   },
   {
    "duration": 9,
    "start_time": "2023-09-22T10:46:58.029Z"
   },
   {
    "duration": 963,
    "start_time": "2023-09-22T10:46:58.040Z"
   },
   {
    "duration": 15,
    "start_time": "2023-09-22T10:46:59.005Z"
   },
   {
    "duration": 29,
    "start_time": "2023-09-22T10:46:59.022Z"
   },
   {
    "duration": 74,
    "start_time": "2023-09-22T10:46:59.054Z"
   },
   {
    "duration": 443,
    "start_time": "2023-09-22T10:46:59.130Z"
   },
   {
    "duration": 58,
    "start_time": "2023-09-22T10:47:27.139Z"
   },
   {
    "duration": 3,
    "start_time": "2023-09-22T10:47:27.199Z"
   },
   {
    "duration": 5970,
    "start_time": "2023-09-22T10:47:27.203Z"
   },
   {
    "duration": 2607,
    "start_time": "2023-09-22T10:47:33.175Z"
   },
   {
    "duration": 12,
    "start_time": "2023-09-22T10:47:35.785Z"
   },
   {
    "duration": 88,
    "start_time": "2023-09-22T10:47:35.800Z"
   },
   {
    "duration": 1032,
    "start_time": "2023-09-22T10:47:35.890Z"
   },
   {
    "duration": 16,
    "start_time": "2023-09-22T10:47:36.924Z"
   },
   {
    "duration": 674,
    "start_time": "2023-09-22T10:47:36.942Z"
   },
   {
    "duration": 78,
    "start_time": "2023-09-22T10:47:37.618Z"
   },
   {
    "duration": 508,
    "start_time": "2023-09-22T10:47:37.698Z"
   },
   {
    "duration": 62,
    "start_time": "2023-09-22T10:48:05.772Z"
   },
   {
    "duration": 234,
    "start_time": "2023-09-22T10:48:05.836Z"
   },
   {
    "duration": 5354,
    "start_time": "2023-09-22T10:48:06.073Z"
   },
   {
    "duration": 2659,
    "start_time": "2023-09-22T10:48:11.429Z"
   },
   {
    "duration": 12,
    "start_time": "2023-09-22T10:48:14.091Z"
   },
   {
    "duration": 92,
    "start_time": "2023-09-22T10:48:14.104Z"
   },
   {
    "duration": 1008,
    "start_time": "2023-09-22T10:48:14.198Z"
   },
   {
    "duration": 17,
    "start_time": "2023-09-22T10:48:15.208Z"
   },
   {
    "duration": 34,
    "start_time": "2023-09-22T10:48:15.226Z"
   },
   {
    "duration": 61,
    "start_time": "2023-09-22T10:48:15.263Z"
   },
   {
    "duration": 463,
    "start_time": "2023-09-22T10:48:15.326Z"
   },
   {
    "duration": 8,
    "start_time": "2023-09-22T10:52:54.910Z"
   },
   {
    "duration": 57,
    "start_time": "2023-09-22T10:53:00.362Z"
   },
   {
    "duration": 3,
    "start_time": "2023-09-22T10:53:00.421Z"
   },
   {
    "duration": 6534,
    "start_time": "2023-09-22T10:53:00.426Z"
   },
   {
    "duration": 2580,
    "start_time": "2023-09-22T10:53:06.962Z"
   },
   {
    "duration": 11,
    "start_time": "2023-09-22T10:53:09.545Z"
   },
   {
    "duration": 15,
    "start_time": "2023-09-22T10:53:09.557Z"
   },
   {
    "duration": 997,
    "start_time": "2023-09-22T10:53:09.573Z"
   },
   {
    "duration": 16,
    "start_time": "2023-09-22T10:53:10.572Z"
   },
   {
    "duration": 40,
    "start_time": "2023-09-22T10:53:10.589Z"
   },
   {
    "duration": 23,
    "start_time": "2023-09-22T10:53:10.631Z"
   },
   {
    "duration": 458,
    "start_time": "2023-09-22T10:53:10.655Z"
   },
   {
    "duration": 3,
    "start_time": "2023-09-22T10:53:11.114Z"
   },
   {
    "duration": 15,
    "start_time": "2023-09-22T10:53:11.118Z"
   },
   {
    "duration": 4571,
    "start_time": "2023-09-22T10:55:16.806Z"
   },
   {
    "duration": 188,
    "start_time": "2023-09-22T11:02:54.963Z"
   },
   {
    "duration": 86,
    "start_time": "2023-09-22T11:03:55.569Z"
   },
   {
    "duration": 58,
    "start_time": "2023-09-22T11:03:55.658Z"
   },
   {
    "duration": 19720,
    "start_time": "2023-09-22T11:03:55.719Z"
   },
   {
    "duration": 0,
    "start_time": "2023-09-22T11:04:15.442Z"
   },
   {
    "duration": 0,
    "start_time": "2023-09-22T11:04:15.443Z"
   },
   {
    "duration": 0,
    "start_time": "2023-09-22T11:04:15.444Z"
   },
   {
    "duration": 0,
    "start_time": "2023-09-22T11:04:15.446Z"
   },
   {
    "duration": 0,
    "start_time": "2023-09-22T11:04:15.446Z"
   },
   {
    "duration": 0,
    "start_time": "2023-09-22T11:04:15.448Z"
   },
   {
    "duration": 0,
    "start_time": "2023-09-22T11:04:15.448Z"
   },
   {
    "duration": 0,
    "start_time": "2023-09-22T11:04:15.450Z"
   },
   {
    "duration": 0,
    "start_time": "2023-09-22T11:04:15.451Z"
   },
   {
    "duration": 0,
    "start_time": "2023-09-22T11:04:15.453Z"
   },
   {
    "duration": 0,
    "start_time": "2023-09-22T11:04:15.453Z"
   },
   {
    "duration": 54,
    "start_time": "2023-09-22T11:06:41.506Z"
   },
   {
    "duration": 2,
    "start_time": "2023-09-22T11:06:41.563Z"
   },
   {
    "duration": 19452,
    "start_time": "2023-09-22T11:06:41.566Z"
   },
   {
    "duration": 0,
    "start_time": "2023-09-22T11:07:01.019Z"
   },
   {
    "duration": 0,
    "start_time": "2023-09-22T11:07:01.021Z"
   },
   {
    "duration": 0,
    "start_time": "2023-09-22T11:07:01.022Z"
   },
   {
    "duration": 0,
    "start_time": "2023-09-22T11:07:01.023Z"
   },
   {
    "duration": 0,
    "start_time": "2023-09-22T11:07:01.024Z"
   },
   {
    "duration": 0,
    "start_time": "2023-09-22T11:07:01.026Z"
   },
   {
    "duration": 0,
    "start_time": "2023-09-22T11:07:01.027Z"
   },
   {
    "duration": 0,
    "start_time": "2023-09-22T11:07:01.028Z"
   },
   {
    "duration": 0,
    "start_time": "2023-09-22T11:07:01.029Z"
   },
   {
    "duration": 0,
    "start_time": "2023-09-22T11:07:01.031Z"
   },
   {
    "duration": 0,
    "start_time": "2023-09-22T11:07:01.032Z"
   },
   {
    "duration": 91,
    "start_time": "2023-09-22T11:11:11.510Z"
   },
   {
    "duration": 6,
    "start_time": "2023-09-22T11:11:11.604Z"
   },
   {
    "duration": 12429,
    "start_time": "2023-09-22T11:11:11.611Z"
   },
   {
    "duration": 0,
    "start_time": "2023-09-22T11:11:24.042Z"
   },
   {
    "duration": 0,
    "start_time": "2023-09-22T11:11:24.044Z"
   },
   {
    "duration": 0,
    "start_time": "2023-09-22T11:11:24.045Z"
   },
   {
    "duration": 0,
    "start_time": "2023-09-22T11:11:24.047Z"
   },
   {
    "duration": 0,
    "start_time": "2023-09-22T11:11:24.048Z"
   },
   {
    "duration": 0,
    "start_time": "2023-09-22T11:11:24.050Z"
   },
   {
    "duration": 0,
    "start_time": "2023-09-22T11:11:24.051Z"
   },
   {
    "duration": 0,
    "start_time": "2023-09-22T11:11:24.053Z"
   },
   {
    "duration": 0,
    "start_time": "2023-09-22T11:11:24.054Z"
   },
   {
    "duration": 0,
    "start_time": "2023-09-22T11:11:24.056Z"
   },
   {
    "duration": 0,
    "start_time": "2023-09-22T11:11:24.058Z"
   },
   {
    "duration": 48,
    "start_time": "2023-09-22T11:12:09.901Z"
   },
   {
    "duration": 18,
    "start_time": "2023-09-22T11:12:09.952Z"
   },
   {
    "duration": 11699,
    "start_time": "2023-09-22T11:12:09.972Z"
   },
   {
    "duration": 1018,
    "start_time": "2023-09-22T11:12:21.673Z"
   },
   {
    "duration": 11,
    "start_time": "2023-09-22T11:12:22.694Z"
   },
   {
    "duration": 236,
    "start_time": "2023-09-22T11:12:22.707Z"
   },
   {
    "duration": 991,
    "start_time": "2023-09-22T11:12:22.945Z"
   },
   {
    "duration": 15,
    "start_time": "2023-09-22T11:12:23.937Z"
   },
   {
    "duration": 68,
    "start_time": "2023-09-22T11:12:23.954Z"
   },
   {
    "duration": 44,
    "start_time": "2023-09-22T11:12:24.024Z"
   },
   {
    "duration": 438,
    "start_time": "2023-09-22T11:12:24.070Z"
   },
   {
    "duration": 2,
    "start_time": "2023-09-22T11:12:24.510Z"
   },
   {
    "duration": 4814,
    "start_time": "2023-09-22T11:12:24.514Z"
   },
   {
    "duration": 205,
    "start_time": "2023-09-22T11:12:29.331Z"
   },
   {
    "duration": 53,
    "start_time": "2023-09-22T11:15:40.604Z"
   },
   {
    "duration": 3,
    "start_time": "2023-09-22T11:15:40.660Z"
   },
   {
    "duration": 44149,
    "start_time": "2023-09-22T11:15:40.665Z"
   },
   {
    "duration": 0,
    "start_time": "2023-09-22T11:16:24.816Z"
   },
   {
    "duration": 0,
    "start_time": "2023-09-22T11:16:24.817Z"
   },
   {
    "duration": 0,
    "start_time": "2023-09-22T11:16:24.818Z"
   },
   {
    "duration": 0,
    "start_time": "2023-09-22T11:16:24.819Z"
   },
   {
    "duration": 0,
    "start_time": "2023-09-22T11:16:24.821Z"
   },
   {
    "duration": 0,
    "start_time": "2023-09-22T11:16:24.822Z"
   },
   {
    "duration": 0,
    "start_time": "2023-09-22T11:16:24.823Z"
   },
   {
    "duration": 0,
    "start_time": "2023-09-22T11:16:24.824Z"
   },
   {
    "duration": 0,
    "start_time": "2023-09-22T11:16:24.825Z"
   },
   {
    "duration": 0,
    "start_time": "2023-09-22T11:16:24.826Z"
   },
   {
    "duration": 0,
    "start_time": "2023-09-22T11:16:24.828Z"
   },
   {
    "duration": 54,
    "start_time": "2023-09-22T11:18:43.623Z"
   },
   {
    "duration": 3,
    "start_time": "2023-09-22T11:18:43.679Z"
   },
   {
    "duration": 25015,
    "start_time": "2023-09-22T11:18:43.683Z"
   },
   {
    "duration": 0,
    "start_time": "2023-09-22T11:19:08.701Z"
   },
   {
    "duration": 0,
    "start_time": "2023-09-22T11:19:08.703Z"
   },
   {
    "duration": 0,
    "start_time": "2023-09-22T11:19:08.704Z"
   },
   {
    "duration": 0,
    "start_time": "2023-09-22T11:19:08.705Z"
   },
   {
    "duration": 0,
    "start_time": "2023-09-22T11:19:08.707Z"
   },
   {
    "duration": 0,
    "start_time": "2023-09-22T11:19:08.709Z"
   },
   {
    "duration": 0,
    "start_time": "2023-09-22T11:19:08.710Z"
   },
   {
    "duration": 0,
    "start_time": "2023-09-22T11:19:08.711Z"
   },
   {
    "duration": 0,
    "start_time": "2023-09-22T11:19:08.712Z"
   },
   {
    "duration": 0,
    "start_time": "2023-09-22T11:19:08.715Z"
   },
   {
    "duration": 1,
    "start_time": "2023-09-22T11:19:08.716Z"
   },
   {
    "duration": 67,
    "start_time": "2023-09-22T11:23:31.545Z"
   },
   {
    "duration": 457,
    "start_time": "2023-09-22T11:23:31.614Z"
   },
   {
    "duration": 23684,
    "start_time": "2023-09-22T11:23:32.073Z"
   },
   {
    "duration": 0,
    "start_time": "2023-09-22T11:23:55.759Z"
   },
   {
    "duration": 0,
    "start_time": "2023-09-22T11:23:55.761Z"
   },
   {
    "duration": 0,
    "start_time": "2023-09-22T11:23:55.762Z"
   },
   {
    "duration": 0,
    "start_time": "2023-09-22T11:23:55.763Z"
   },
   {
    "duration": 0,
    "start_time": "2023-09-22T11:23:55.764Z"
   },
   {
    "duration": 0,
    "start_time": "2023-09-22T11:23:55.765Z"
   },
   {
    "duration": 0,
    "start_time": "2023-09-22T11:23:55.766Z"
   },
   {
    "duration": 0,
    "start_time": "2023-09-22T11:23:55.768Z"
   },
   {
    "duration": 0,
    "start_time": "2023-09-22T11:23:55.769Z"
   },
   {
    "duration": 0,
    "start_time": "2023-09-22T11:23:55.770Z"
   },
   {
    "duration": 0,
    "start_time": "2023-09-22T11:23:55.771Z"
   },
   {
    "duration": 69,
    "start_time": "2023-09-22T11:25:03.517Z"
   },
   {
    "duration": 19,
    "start_time": "2023-09-22T11:25:03.587Z"
   },
   {
    "duration": 26118,
    "start_time": "2023-09-22T11:25:03.608Z"
   },
   {
    "duration": 1130,
    "start_time": "2023-09-22T11:25:29.729Z"
   },
   {
    "duration": 14,
    "start_time": "2023-09-22T11:25:30.860Z"
   },
   {
    "duration": 80,
    "start_time": "2023-09-22T11:25:30.875Z"
   },
   {
    "duration": 1293,
    "start_time": "2023-09-22T11:25:30.957Z"
   },
   {
    "duration": 16,
    "start_time": "2023-09-22T11:25:32.254Z"
   },
   {
    "duration": 39,
    "start_time": "2023-09-22T11:25:32.272Z"
   },
   {
    "duration": 31,
    "start_time": "2023-09-22T11:25:32.314Z"
   },
   {
    "duration": 460,
    "start_time": "2023-09-22T11:25:32.347Z"
   },
   {
    "duration": 3,
    "start_time": "2023-09-22T11:25:32.809Z"
   },
   {
    "duration": 4804,
    "start_time": "2023-09-22T11:25:32.814Z"
   },
   {
    "duration": 80,
    "start_time": "2023-09-22T11:42:20.828Z"
   },
   {
    "duration": 2,
    "start_time": "2023-09-22T11:42:20.910Z"
   },
   {
    "duration": 7083,
    "start_time": "2023-09-22T11:42:20.914Z"
   },
   {
    "duration": 1038,
    "start_time": "2023-09-22T11:42:28.000Z"
   },
   {
    "duration": 12,
    "start_time": "2023-09-22T11:42:29.040Z"
   },
   {
    "duration": 51,
    "start_time": "2023-09-22T11:42:29.054Z"
   },
   {
    "duration": 1205,
    "start_time": "2023-09-22T11:42:29.107Z"
   },
   {
    "duration": 15,
    "start_time": "2023-09-22T11:42:30.314Z"
   },
   {
    "duration": 81,
    "start_time": "2023-09-22T11:42:30.331Z"
   },
   {
    "duration": 201,
    "start_time": "2023-09-22T11:42:30.414Z"
   },
   {
    "duration": 492,
    "start_time": "2023-09-22T11:42:30.617Z"
   },
   {
    "duration": 2,
    "start_time": "2023-09-22T11:42:31.111Z"
   },
   {
    "duration": 133,
    "start_time": "2023-09-22T11:42:31.115Z"
   },
   {
    "duration": 66,
    "start_time": "2023-09-22T11:42:55.008Z"
   },
   {
    "duration": 125,
    "start_time": "2023-09-22T11:42:55.076Z"
   },
   {
    "duration": 8925,
    "start_time": "2023-09-22T11:42:55.203Z"
   },
   {
    "duration": 2556,
    "start_time": "2023-09-22T11:43:04.131Z"
   },
   {
    "duration": 11,
    "start_time": "2023-09-22T11:43:06.689Z"
   },
   {
    "duration": 50,
    "start_time": "2023-09-22T11:43:06.702Z"
   },
   {
    "duration": 1415,
    "start_time": "2023-09-22T11:43:06.754Z"
   },
   {
    "duration": 15,
    "start_time": "2023-09-22T11:43:08.171Z"
   },
   {
    "duration": 30,
    "start_time": "2023-09-22T11:43:08.187Z"
   },
   {
    "duration": 32,
    "start_time": "2023-09-22T11:43:08.219Z"
   },
   {
    "duration": 487,
    "start_time": "2023-09-22T11:43:08.253Z"
   },
   {
    "duration": 3,
    "start_time": "2023-09-22T11:43:08.741Z"
   },
   {
    "duration": 38,
    "start_time": "2023-09-22T11:43:08.746Z"
   },
   {
    "duration": 119,
    "start_time": "2023-09-22T11:44:59.764Z"
   },
   {
    "duration": 2,
    "start_time": "2023-09-22T11:44:59.885Z"
   },
   {
    "duration": 9843,
    "start_time": "2023-09-22T11:44:59.889Z"
   },
   {
    "duration": 2730,
    "start_time": "2023-09-22T11:45:09.733Z"
   },
   {
    "duration": 17,
    "start_time": "2023-09-22T11:45:12.465Z"
   },
   {
    "duration": 34,
    "start_time": "2023-09-22T11:45:12.484Z"
   },
   {
    "duration": 1145,
    "start_time": "2023-09-22T11:45:12.520Z"
   },
   {
    "duration": 18,
    "start_time": "2023-09-22T11:45:13.667Z"
   },
   {
    "duration": 71,
    "start_time": "2023-09-22T11:45:13.687Z"
   },
   {
    "duration": 26,
    "start_time": "2023-09-22T11:45:13.760Z"
   },
   {
    "duration": 452,
    "start_time": "2023-09-22T11:45:13.788Z"
   },
   {
    "duration": 3,
    "start_time": "2023-09-22T11:45:14.242Z"
   },
   {
    "duration": 25,
    "start_time": "2023-09-22T11:45:14.246Z"
   },
   {
    "duration": 4961,
    "start_time": "2023-09-22T11:45:14.274Z"
   },
   {
    "duration": 359,
    "start_time": "2023-09-22T11:45:19.237Z"
   },
   {
    "duration": 0,
    "start_time": "2023-09-22T11:45:19.598Z"
   },
   {
    "duration": 0,
    "start_time": "2023-09-22T11:45:19.601Z"
   },
   {
    "duration": 3,
    "start_time": "2023-09-22T11:45:28.767Z"
   },
   {
    "duration": 60,
    "start_time": "2023-09-22T11:59:23.645Z"
   },
   {
    "duration": 42,
    "start_time": "2023-09-22T11:59:23.707Z"
   },
   {
    "duration": 6010,
    "start_time": "2023-09-22T11:59:23.751Z"
   },
   {
    "duration": 985,
    "start_time": "2023-09-22T11:59:29.763Z"
   },
   {
    "duration": 16,
    "start_time": "2023-09-22T11:59:30.750Z"
   },
   {
    "duration": 61,
    "start_time": "2023-09-22T11:59:30.767Z"
   },
   {
    "duration": 1173,
    "start_time": "2023-09-22T11:59:30.830Z"
   },
   {
    "duration": 16,
    "start_time": "2023-09-22T11:59:32.005Z"
   },
   {
    "duration": 116,
    "start_time": "2023-09-22T11:59:32.022Z"
   },
   {
    "duration": 55,
    "start_time": "2023-09-22T11:59:32.141Z"
   },
   {
    "duration": 575,
    "start_time": "2023-09-22T11:59:32.198Z"
   },
   {
    "duration": 2,
    "start_time": "2023-09-22T11:59:32.775Z"
   },
   {
    "duration": 141,
    "start_time": "2023-09-22T11:59:32.779Z"
   },
   {
    "duration": 5112,
    "start_time": "2023-09-22T11:59:32.922Z"
   },
   {
    "duration": 3,
    "start_time": "2023-09-22T11:59:38.036Z"
   },
   {
    "duration": 52,
    "start_time": "2023-09-22T12:06:24.627Z"
   },
   {
    "duration": 3,
    "start_time": "2023-09-22T12:06:24.682Z"
   },
   {
    "duration": 6037,
    "start_time": "2023-09-22T12:06:24.687Z"
   },
   {
    "duration": 1015,
    "start_time": "2023-09-22T12:06:30.727Z"
   },
   {
    "duration": 13,
    "start_time": "2023-09-22T12:06:31.744Z"
   },
   {
    "duration": 52,
    "start_time": "2023-09-22T12:06:31.759Z"
   },
   {
    "duration": 1212,
    "start_time": "2023-09-22T12:06:31.813Z"
   },
   {
    "duration": 16,
    "start_time": "2023-09-22T12:06:33.026Z"
   },
   {
    "duration": 173,
    "start_time": "2023-09-22T12:06:33.044Z"
   },
   {
    "duration": 35,
    "start_time": "2023-09-22T12:06:33.220Z"
   },
   {
    "duration": 437,
    "start_time": "2023-09-22T12:06:33.257Z"
   },
   {
    "duration": 6,
    "start_time": "2023-09-22T12:06:33.695Z"
   },
   {
    "duration": 20,
    "start_time": "2023-09-22T12:06:33.703Z"
   },
   {
    "duration": 4883,
    "start_time": "2023-09-22T12:06:33.725Z"
   },
   {
    "duration": 5,
    "start_time": "2023-09-22T12:06:38.610Z"
   },
   {
    "duration": 1094680,
    "start_time": "2023-09-22T12:06:38.617Z"
   },
   {
    "duration": 440,
    "start_time": "2023-09-22T12:51:20.127Z"
   },
   {
    "duration": 53,
    "start_time": "2023-09-22T12:55:51.359Z"
   },
   {
    "duration": 83,
    "start_time": "2023-09-22T12:56:45.336Z"
   },
   {
    "duration": 2,
    "start_time": "2023-09-22T12:56:45.421Z"
   },
   {
    "duration": 16937,
    "start_time": "2023-09-22T12:56:45.425Z"
   },
   {
    "duration": 2896,
    "start_time": "2023-09-22T12:57:02.364Z"
   },
   {
    "duration": 12,
    "start_time": "2023-09-22T12:57:05.262Z"
   },
   {
    "duration": 85,
    "start_time": "2023-09-22T12:57:05.276Z"
   },
   {
    "duration": 1320,
    "start_time": "2023-09-22T12:57:05.363Z"
   },
   {
    "duration": 31,
    "start_time": "2023-09-22T12:57:06.684Z"
   },
   {
    "duration": 26,
    "start_time": "2023-09-22T12:57:06.717Z"
   },
   {
    "duration": 26,
    "start_time": "2023-09-22T12:57:06.746Z"
   },
   {
    "duration": 487,
    "start_time": "2023-09-22T12:57:06.774Z"
   },
   {
    "duration": 3,
    "start_time": "2023-09-22T12:57:07.262Z"
   },
   {
    "duration": 18,
    "start_time": "2023-09-22T12:57:07.267Z"
   },
   {
    "duration": 5196,
    "start_time": "2023-09-22T12:57:07.287Z"
   },
   {
    "duration": 16,
    "start_time": "2023-09-22T12:57:12.486Z"
   },
   {
    "duration": 1121701,
    "start_time": "2023-09-22T12:57:12.504Z"
   },
   {
    "duration": 26,
    "start_time": "2023-09-22T13:15:54.207Z"
   },
   {
    "duration": 396,
    "start_time": "2023-09-22T13:23:51.965Z"
   },
   {
    "duration": 24,
    "start_time": "2023-09-22T13:25:57.654Z"
   },
   {
    "duration": 311,
    "start_time": "2023-09-22T13:29:37.838Z"
   },
   {
    "duration": 27,
    "start_time": "2023-09-22T13:29:43.199Z"
   },
   {
    "duration": 648,
    "start_time": "2023-09-22T13:31:34.286Z"
   },
   {
    "duration": 7579,
    "start_time": "2023-09-22T13:31:45.590Z"
   },
   {
    "duration": 53,
    "start_time": "2023-09-22T13:31:55.356Z"
   },
   {
    "duration": 13,
    "start_time": "2023-09-22T13:40:26.579Z"
   },
   {
    "duration": 4,
    "start_time": "2023-09-22T13:58:39.962Z"
   },
   {
    "duration": 34,
    "start_time": "2023-09-22T14:00:22.262Z"
   },
   {
    "duration": 8,
    "start_time": "2023-09-22T14:00:36.765Z"
   },
   {
    "duration": 24,
    "start_time": "2023-09-22T14:00:44.490Z"
   },
   {
    "duration": 6,
    "start_time": "2023-09-22T14:00:52.528Z"
   },
   {
    "duration": 4,
    "start_time": "2023-09-22T14:44:32.576Z"
   },
   {
    "duration": 166,
    "start_time": "2023-09-22T14:47:34.580Z"
   },
   {
    "duration": 128,
    "start_time": "2023-09-22T14:49:19.580Z"
   },
   {
    "duration": 206,
    "start_time": "2023-09-22T14:50:54.723Z"
   },
   {
    "duration": 127,
    "start_time": "2023-09-22T14:51:11.635Z"
   },
   {
    "duration": 138,
    "start_time": "2023-09-22T14:53:30.209Z"
   },
   {
    "duration": 217,
    "start_time": "2023-09-22T14:54:02.392Z"
   },
   {
    "duration": 156,
    "start_time": "2023-09-22T14:56:51.947Z"
   },
   {
    "duration": 4779495,
    "start_time": "2023-09-22T15:02:12.572Z"
   },
   {
    "duration": 52,
    "start_time": "2023-09-22T16:22:43.068Z"
   },
   {
    "duration": 114,
    "start_time": "2023-09-22T16:23:46.663Z"
   },
   {
    "duration": 94,
    "start_time": "2023-09-22T16:24:50.742Z"
   },
   {
    "duration": 23,
    "start_time": "2023-09-22T16:24:52.027Z"
   },
   {
    "duration": 4,
    "start_time": "2023-09-22T16:24:56.041Z"
   },
   {
    "duration": 2219638,
    "start_time": "2023-09-22T17:03:57.282Z"
   },
   {
    "duration": 220,
    "start_time": "2023-09-22T17:43:02.718Z"
   },
   {
    "duration": 359704,
    "start_time": "2023-09-22T17:48:36.179Z"
   },
   {
    "duration": 66185,
    "start_time": "2023-09-22T17:54:59.251Z"
   },
   {
    "duration": 65348,
    "start_time": "2023-09-22T17:58:12.753Z"
   },
   {
    "duration": 5,
    "start_time": "2023-09-22T17:59:31.946Z"
   },
   {
    "duration": 95897,
    "start_time": "2023-09-22T17:59:36.066Z"
   },
   {
    "duration": 5604,
    "start_time": "2023-09-22T18:01:11.966Z"
   },
   {
    "duration": 88334,
    "start_time": "2023-09-22T18:01:28.203Z"
   },
   {
    "duration": 5463,
    "start_time": "2023-09-22T18:04:11.023Z"
   },
   {
    "duration": 5,
    "start_time": "2023-09-22T18:04:31.493Z"
   },
   {
    "duration": 484,
    "start_time": "2023-09-22T18:05:59.633Z"
   },
   {
    "duration": 99550,
    "start_time": "2023-09-22T18:06:17.862Z"
   },
   {
    "duration": 5029,
    "start_time": "2023-09-22T18:08:28.631Z"
   },
   {
    "duration": 4,
    "start_time": "2023-09-22T18:08:49.179Z"
   },
   {
    "duration": 47,
    "start_time": "2023-09-22T18:09:17.289Z"
   },
   {
    "duration": 51,
    "start_time": "2023-09-22T18:10:04.712Z"
   },
   {
    "duration": 46,
    "start_time": "2023-09-22T18:11:12.362Z"
   },
   {
    "duration": 61,
    "start_time": "2023-09-22T18:11:59.585Z"
   },
   {
    "duration": 97,
    "start_time": "2023-09-22T18:12:45.535Z"
   },
   {
    "duration": 81,
    "start_time": "2023-09-22T18:13:42.583Z"
   },
   {
    "duration": 2764,
    "start_time": "2023-09-22T18:14:34.788Z"
   },
   {
    "duration": 156,
    "start_time": "2023-09-22T18:19:55.751Z"
   },
   {
    "duration": 96,
    "start_time": "2023-09-22T18:23:19.906Z"
   },
   {
    "duration": 3,
    "start_time": "2023-09-22T18:23:20.004Z"
   },
   {
    "duration": 10960,
    "start_time": "2023-09-22T18:23:20.008Z"
   },
   {
    "duration": 2577,
    "start_time": "2023-09-22T18:23:30.971Z"
   },
   {
    "duration": 13,
    "start_time": "2023-09-22T18:23:33.550Z"
   },
   {
    "duration": 46,
    "start_time": "2023-09-22T18:23:33.565Z"
   },
   {
    "duration": 1208,
    "start_time": "2023-09-22T18:23:33.613Z"
   },
   {
    "duration": 16,
    "start_time": "2023-09-22T18:23:34.822Z"
   },
   {
    "duration": 31,
    "start_time": "2023-09-22T18:23:34.840Z"
   },
   {
    "duration": 39,
    "start_time": "2023-09-22T18:23:34.874Z"
   },
   {
    "duration": 438,
    "start_time": "2023-09-22T18:23:34.914Z"
   },
   {
    "duration": 3,
    "start_time": "2023-09-22T18:23:35.353Z"
   },
   {
    "duration": 113,
    "start_time": "2023-09-22T18:23:35.358Z"
   },
   {
    "duration": 4663,
    "start_time": "2023-09-22T18:23:35.473Z"
   },
   {
    "duration": 4,
    "start_time": "2023-09-22T18:23:40.137Z"
   },
   {
    "duration": 62,
    "start_time": "2023-09-22T18:24:59.070Z"
   },
   {
    "duration": 3,
    "start_time": "2023-09-22T18:24:59.134Z"
   },
   {
    "duration": 6220,
    "start_time": "2023-09-22T18:24:59.138Z"
   },
   {
    "duration": 974,
    "start_time": "2023-09-22T18:25:05.361Z"
   },
   {
    "duration": 13,
    "start_time": "2023-09-22T18:25:06.336Z"
   },
   {
    "duration": 140,
    "start_time": "2023-09-22T18:25:06.350Z"
   },
   {
    "duration": 1088,
    "start_time": "2023-09-22T18:25:06.492Z"
   },
   {
    "duration": 24,
    "start_time": "2023-09-22T18:25:07.582Z"
   },
   {
    "duration": 36,
    "start_time": "2023-09-22T18:25:07.607Z"
   },
   {
    "duration": 24,
    "start_time": "2023-09-22T18:25:07.646Z"
   },
   {
    "duration": 449,
    "start_time": "2023-09-22T18:25:07.672Z"
   },
   {
    "duration": 2,
    "start_time": "2023-09-22T18:25:08.123Z"
   },
   {
    "duration": 139,
    "start_time": "2023-09-22T18:25:08.127Z"
   },
   {
    "duration": 4563,
    "start_time": "2023-09-22T18:25:08.267Z"
   },
   {
    "duration": 2,
    "start_time": "2023-09-22T18:25:12.832Z"
   },
   {
    "duration": 679,
    "start_time": "2023-09-22T18:25:12.836Z"
   },
   {
    "duration": 7424,
    "start_time": "2023-09-22T18:25:13.517Z"
   },
   {
    "duration": 82,
    "start_time": "2023-09-22T18:25:20.944Z"
   },
   {
    "duration": 30,
    "start_time": "2023-09-22T18:25:21.028Z"
   },
   {
    "duration": 102,
    "start_time": "2023-09-22T18:25:21.061Z"
   },
   {
    "duration": 24,
    "start_time": "2023-09-22T18:25:21.165Z"
   },
   {
    "duration": 47,
    "start_time": "2023-09-22T18:26:13.481Z"
   },
   {
    "duration": 6,
    "start_time": "2023-09-22T18:26:13.530Z"
   },
   {
    "duration": 91,
    "start_time": "2023-09-22T18:26:13.538Z"
   },
   {
    "duration": 0,
    "start_time": "2023-09-22T18:26:13.631Z"
   },
   {
    "duration": 0,
    "start_time": "2023-09-22T18:26:13.633Z"
   },
   {
    "duration": 0,
    "start_time": "2023-09-22T18:26:13.634Z"
   },
   {
    "duration": 0,
    "start_time": "2023-09-22T18:26:13.635Z"
   },
   {
    "duration": 0,
    "start_time": "2023-09-22T18:26:13.637Z"
   },
   {
    "duration": 0,
    "start_time": "2023-09-22T18:26:13.638Z"
   },
   {
    "duration": 0,
    "start_time": "2023-09-22T18:26:13.639Z"
   },
   {
    "duration": 0,
    "start_time": "2023-09-22T18:26:13.641Z"
   },
   {
    "duration": 0,
    "start_time": "2023-09-22T18:26:13.641Z"
   },
   {
    "duration": 0,
    "start_time": "2023-09-22T18:26:13.642Z"
   },
   {
    "duration": 0,
    "start_time": "2023-09-22T18:26:13.643Z"
   },
   {
    "duration": 0,
    "start_time": "2023-09-22T18:26:13.644Z"
   },
   {
    "duration": 0,
    "start_time": "2023-09-22T18:26:13.645Z"
   },
   {
    "duration": 1,
    "start_time": "2023-09-22T18:26:13.646Z"
   },
   {
    "duration": 0,
    "start_time": "2023-09-22T18:26:13.648Z"
   },
   {
    "duration": 0,
    "start_time": "2023-09-22T18:26:13.649Z"
   },
   {
    "duration": 0,
    "start_time": "2023-09-22T18:26:13.650Z"
   },
   {
    "duration": 0,
    "start_time": "2023-09-22T18:26:13.651Z"
   },
   {
    "duration": 0,
    "start_time": "2023-09-22T18:26:13.652Z"
   },
   {
    "duration": 0,
    "start_time": "2023-09-22T18:26:13.653Z"
   },
   {
    "duration": 0,
    "start_time": "2023-09-22T18:26:13.654Z"
   },
   {
    "duration": 0,
    "start_time": "2023-09-22T18:26:13.655Z"
   },
   {
    "duration": 0,
    "start_time": "2023-09-22T18:26:13.656Z"
   },
   {
    "duration": 0,
    "start_time": "2023-09-22T18:26:13.657Z"
   },
   {
    "duration": 0,
    "start_time": "2023-09-22T18:26:13.658Z"
   },
   {
    "duration": 0,
    "start_time": "2023-09-22T18:26:13.660Z"
   },
   {
    "duration": 0,
    "start_time": "2023-09-22T18:26:13.661Z"
   },
   {
    "duration": 0,
    "start_time": "2023-09-22T18:26:13.662Z"
   },
   {
    "duration": 63,
    "start_time": "2023-09-22T18:26:46.955Z"
   },
   {
    "duration": 2,
    "start_time": "2023-09-22T18:26:47.021Z"
   },
   {
    "duration": 22798,
    "start_time": "2023-09-22T18:26:47.026Z"
   },
   {
    "duration": 951,
    "start_time": "2023-09-22T18:27:09.826Z"
   },
   {
    "duration": 13,
    "start_time": "2023-09-22T18:27:10.779Z"
   },
   {
    "duration": 7,
    "start_time": "2023-09-22T18:27:10.802Z"
   },
   {
    "duration": 1093,
    "start_time": "2023-09-22T18:27:10.811Z"
   },
   {
    "duration": 15,
    "start_time": "2023-09-22T18:27:11.906Z"
   },
   {
    "duration": 24,
    "start_time": "2023-09-22T18:27:11.922Z"
   },
   {
    "duration": 40,
    "start_time": "2023-09-22T18:27:11.949Z"
   },
   {
    "duration": 443,
    "start_time": "2023-09-22T18:27:11.991Z"
   },
   {
    "duration": 3,
    "start_time": "2023-09-22T18:27:12.436Z"
   },
   {
    "duration": 16,
    "start_time": "2023-09-22T18:27:12.440Z"
   },
   {
    "duration": 4598,
    "start_time": "2023-09-22T18:27:12.458Z"
   },
   {
    "duration": 3,
    "start_time": "2023-09-22T18:27:17.058Z"
   },
   {
    "duration": 1083828,
    "start_time": "2023-09-22T18:27:17.063Z"
   },
   {
    "duration": 7173,
    "start_time": "2023-09-22T18:45:20.893Z"
   },
   {
    "duration": 86,
    "start_time": "2023-09-22T18:45:28.067Z"
   },
   {
    "duration": 18,
    "start_time": "2023-09-22T18:45:28.155Z"
   },
   {
    "duration": 29,
    "start_time": "2023-09-22T18:45:28.175Z"
   },
   {
    "duration": 10,
    "start_time": "2023-09-22T18:45:28.206Z"
   },
   {
    "duration": 1907630,
    "start_time": "2023-09-22T18:45:28.218Z"
   },
   {
    "duration": 76160,
    "start_time": "2023-09-22T19:17:15.850Z"
   },
   {
    "duration": 9,
    "start_time": "2023-09-22T19:18:32.013Z"
   },
   {
    "duration": 945906,
    "start_time": "2023-09-22T19:18:32.024Z"
   },
   {
    "duration": 56333,
    "start_time": "2023-09-22T19:34:18.006Z"
   },
   {
    "duration": 68,
    "start_time": "2023-09-22T19:35:14.341Z"
   },
   {
    "duration": 3306,
    "start_time": "2023-09-22T19:35:14.413Z"
   },
   {
    "duration": 2430,
    "start_time": "2023-09-22T19:35:17.721Z"
   },
   {
    "duration": 0,
    "start_time": "2023-09-22T19:35:20.153Z"
   },
   {
    "duration": 0,
    "start_time": "2023-09-22T19:35:20.154Z"
   },
   {
    "duration": 2005,
    "start_time": "2023-09-22T19:36:15.678Z"
   },
   {
    "duration": 78,
    "start_time": "2023-09-22T19:43:15.083Z"
   },
   {
    "duration": 170,
    "start_time": "2023-09-22T19:43:31.067Z"
   },
   {
    "duration": 143,
    "start_time": "2023-09-22T20:03:21.323Z"
   },
   {
    "duration": 71,
    "start_time": "2023-09-22T20:04:45.026Z"
   },
   {
    "duration": 100,
    "start_time": "2023-09-22T20:04:45.100Z"
   },
   {
    "duration": 30091,
    "start_time": "2023-09-22T20:04:45.204Z"
   },
   {
    "duration": 2783,
    "start_time": "2023-09-22T20:05:15.297Z"
   },
   {
    "duration": 13,
    "start_time": "2023-09-22T20:05:18.082Z"
   },
   {
    "duration": 37,
    "start_time": "2023-09-22T20:05:18.097Z"
   },
   {
    "duration": 1211,
    "start_time": "2023-09-22T20:05:18.135Z"
   },
   {
    "duration": 16,
    "start_time": "2023-09-22T20:05:19.347Z"
   },
   {
    "duration": 52,
    "start_time": "2023-09-22T20:05:19.364Z"
   },
   {
    "duration": 65,
    "start_time": "2023-09-22T20:05:19.419Z"
   },
   {
    "duration": 430,
    "start_time": "2023-09-22T20:05:19.486Z"
   },
   {
    "duration": 3,
    "start_time": "2023-09-22T20:05:19.918Z"
   },
   {
    "duration": 21,
    "start_time": "2023-09-22T20:05:19.922Z"
   },
   {
    "duration": 4942,
    "start_time": "2023-09-22T20:05:19.946Z"
   },
   {
    "duration": 17,
    "start_time": "2023-09-22T20:05:24.890Z"
   },
   {
    "duration": 1138376,
    "start_time": "2023-09-22T20:05:24.908Z"
   },
   {
    "duration": 7200,
    "start_time": "2023-09-22T20:24:23.286Z"
   },
   {
    "duration": 81,
    "start_time": "2023-09-22T20:24:30.488Z"
   },
   {
    "duration": 18,
    "start_time": "2023-09-22T20:24:30.571Z"
   },
   {
    "duration": 34,
    "start_time": "2023-09-22T20:24:30.601Z"
   },
   {
    "duration": 39,
    "start_time": "2023-09-22T20:24:30.637Z"
   },
   {
    "duration": 2134503,
    "start_time": "2023-09-22T20:24:30.678Z"
   },
   {
    "duration": 79946,
    "start_time": "2023-09-22T21:00:05.182Z"
   },
   {
    "duration": 3,
    "start_time": "2023-09-22T21:01:25.133Z"
   },
   {
    "duration": 975993,
    "start_time": "2023-09-22T21:01:25.138Z"
   },
   {
    "duration": 53537,
    "start_time": "2023-09-22T21:17:41.204Z"
   },
   {
    "duration": 61,
    "start_time": "2023-09-22T21:18:34.743Z"
   },
   {
    "duration": 1418270,
    "start_time": "2023-09-22T21:18:34.806Z"
   },
   {
    "duration": 77,
    "start_time": "2023-09-23T01:28:54.216Z"
   },
   {
    "duration": 2,
    "start_time": "2023-09-23T01:28:54.296Z"
   },
   {
    "duration": 28897,
    "start_time": "2023-09-23T01:28:54.300Z"
   },
   {
    "duration": 2792,
    "start_time": "2023-09-23T01:29:23.201Z"
   },
   {
    "duration": 24,
    "start_time": "2023-09-23T01:29:25.996Z"
   },
   {
    "duration": 61,
    "start_time": "2023-09-23T01:29:26.022Z"
   },
   {
    "duration": 1166,
    "start_time": "2023-09-23T01:29:26.085Z"
   },
   {
    "duration": 16,
    "start_time": "2023-09-23T01:29:27.253Z"
   },
   {
    "duration": 44,
    "start_time": "2023-09-23T01:29:27.271Z"
   },
   {
    "duration": 22,
    "start_time": "2023-09-23T01:29:27.317Z"
   },
   {
    "duration": 454,
    "start_time": "2023-09-23T01:29:27.341Z"
   },
   {
    "duration": 11,
    "start_time": "2023-09-23T01:29:27.803Z"
   },
   {
    "duration": 29,
    "start_time": "2023-09-23T01:29:27.815Z"
   },
   {
    "duration": 4913,
    "start_time": "2023-09-23T01:29:27.847Z"
   },
   {
    "duration": 3,
    "start_time": "2023-09-23T01:29:32.762Z"
   },
   {
    "duration": 1170282,
    "start_time": "2023-09-23T01:29:32.766Z"
   },
   {
    "duration": 8374,
    "start_time": "2023-09-23T01:49:03.050Z"
   },
   {
    "duration": 87,
    "start_time": "2023-09-23T01:49:11.426Z"
   },
   {
    "duration": 24,
    "start_time": "2023-09-23T01:49:11.522Z"
   },
   {
    "duration": 4,
    "start_time": "2023-09-23T01:49:11.547Z"
   },
   {
    "duration": 7,
    "start_time": "2023-09-23T01:49:11.553Z"
   },
   {
    "duration": 68879,
    "start_time": "2023-09-23T01:49:11.561Z"
   },
   {
    "duration": 141,
    "start_time": "2023-09-23T01:50:20.442Z"
   },
   {
    "duration": 34,
    "start_time": "2023-09-23T01:50:20.585Z"
   },
   {
    "duration": 0,
    "start_time": "2023-09-23T01:50:20.627Z"
   },
   {
    "duration": 0,
    "start_time": "2023-09-23T01:50:20.628Z"
   },
   {
    "duration": 0,
    "start_time": "2023-09-23T01:50:20.629Z"
   },
   {
    "duration": 0,
    "start_time": "2023-09-23T01:50:20.630Z"
   },
   {
    "duration": 0,
    "start_time": "2023-09-23T01:50:20.633Z"
   },
   {
    "duration": 0,
    "start_time": "2023-09-23T01:50:20.635Z"
   },
   {
    "duration": 0,
    "start_time": "2023-09-23T01:50:20.636Z"
   },
   {
    "duration": 584821,
    "start_time": "2023-09-23T01:51:03.394Z"
   },
   {
    "duration": 4,
    "start_time": "2023-09-23T02:02:10.320Z"
   },
   {
    "duration": 15,
    "start_time": "2023-09-23T02:02:56.969Z"
   },
   {
    "duration": 57,
    "start_time": "2023-09-23T02:03:49.243Z"
   },
   {
    "duration": 4,
    "start_time": "2023-09-23T02:03:49.311Z"
   },
   {
    "duration": 25576,
    "start_time": "2023-09-23T02:03:49.317Z"
   },
   {
    "duration": 2741,
    "start_time": "2023-09-23T02:04:14.895Z"
   },
   {
    "duration": 13,
    "start_time": "2023-09-23T02:04:17.638Z"
   },
   {
    "duration": 5,
    "start_time": "2023-09-23T02:04:17.653Z"
   },
   {
    "duration": 1179,
    "start_time": "2023-09-23T02:04:17.660Z"
   },
   {
    "duration": 16,
    "start_time": "2023-09-23T02:04:18.841Z"
   },
   {
    "duration": 52,
    "start_time": "2023-09-23T02:04:18.859Z"
   },
   {
    "duration": 22,
    "start_time": "2023-09-23T02:04:18.916Z"
   },
   {
    "duration": 441,
    "start_time": "2023-09-23T02:04:18.939Z"
   },
   {
    "duration": 3,
    "start_time": "2023-09-23T02:04:19.382Z"
   },
   {
    "duration": 28,
    "start_time": "2023-09-23T02:04:19.387Z"
   },
   {
    "duration": 55,
    "start_time": "2023-09-23T02:04:36.009Z"
   },
   {
    "duration": 45,
    "start_time": "2023-09-23T02:04:36.066Z"
   },
   {
    "duration": 23455,
    "start_time": "2023-09-23T02:04:36.114Z"
   },
   {
    "duration": 1039,
    "start_time": "2023-09-23T02:04:59.571Z"
   },
   {
    "duration": 16,
    "start_time": "2023-09-23T02:05:00.612Z"
   },
   {
    "duration": 37,
    "start_time": "2023-09-23T02:05:00.630Z"
   },
   {
    "duration": 1484,
    "start_time": "2023-09-23T02:05:00.669Z"
   },
   {
    "duration": 15,
    "start_time": "2023-09-23T02:05:02.155Z"
   },
   {
    "duration": 65,
    "start_time": "2023-09-23T02:05:02.172Z"
   },
   {
    "duration": 59,
    "start_time": "2023-09-23T02:05:02.241Z"
   },
   {
    "duration": 648,
    "start_time": "2023-09-23T02:05:02.304Z"
   },
   {
    "duration": 2,
    "start_time": "2023-09-23T02:05:02.954Z"
   },
   {
    "duration": 92,
    "start_time": "2023-09-23T02:05:02.958Z"
   },
   {
    "duration": 5229,
    "start_time": "2023-09-23T02:05:03.053Z"
   },
   {
    "duration": 3,
    "start_time": "2023-09-23T02:05:08.284Z"
   },
   {
    "duration": 1166893,
    "start_time": "2023-09-23T02:05:08.309Z"
   },
   {
    "duration": 7608,
    "start_time": "2023-09-23T02:24:35.208Z"
   },
   {
    "duration": 72,
    "start_time": "2023-09-23T02:24:42.818Z"
   },
   {
    "duration": 31,
    "start_time": "2023-09-23T02:24:42.892Z"
   },
   {
    "duration": 5,
    "start_time": "2023-09-23T02:24:42.925Z"
   },
   {
    "duration": 11,
    "start_time": "2023-09-23T02:24:42.931Z"
   },
   {
    "duration": 2087742,
    "start_time": "2023-09-23T02:24:42.944Z"
   },
   {
    "duration": 74519,
    "start_time": "2023-09-23T02:59:30.687Z"
   },
   {
    "duration": 5,
    "start_time": "2023-09-23T03:00:45.207Z"
   },
   {
    "duration": 190,
    "start_time": "2023-09-23T05:21:03.718Z"
   },
   {
    "duration": 59,
    "start_time": "2023-09-23T05:21:13.168Z"
   },
   {
    "duration": 2,
    "start_time": "2023-09-23T05:21:13.230Z"
   },
   {
    "duration": 29902,
    "start_time": "2023-09-23T05:21:13.234Z"
   },
   {
    "duration": 3322,
    "start_time": "2023-09-23T05:21:43.139Z"
   },
   {
    "duration": 13,
    "start_time": "2023-09-23T05:21:46.463Z"
   },
   {
    "duration": 14,
    "start_time": "2023-09-23T05:21:46.477Z"
   },
   {
    "duration": 1253,
    "start_time": "2023-09-23T05:21:46.493Z"
   },
   {
    "duration": 15,
    "start_time": "2023-09-23T05:21:47.747Z"
   },
   {
    "duration": 33,
    "start_time": "2023-09-23T05:21:47.764Z"
   },
   {
    "duration": 45,
    "start_time": "2023-09-23T05:21:47.807Z"
   },
   {
    "duration": 500,
    "start_time": "2023-09-23T05:21:47.854Z"
   },
   {
    "duration": 3,
    "start_time": "2023-09-23T05:21:48.356Z"
   },
   {
    "duration": 33,
    "start_time": "2023-09-23T05:21:48.361Z"
   },
   {
    "duration": 5699,
    "start_time": "2023-09-23T05:21:48.396Z"
   },
   {
    "duration": 9,
    "start_time": "2023-09-23T05:21:54.100Z"
   },
   {
    "duration": 1188489,
    "start_time": "2023-09-23T05:21:54.111Z"
   },
   {
    "duration": 8652,
    "start_time": "2023-09-23T05:41:42.606Z"
   },
   {
    "duration": 87,
    "start_time": "2023-09-23T05:41:51.260Z"
   },
   {
    "duration": 19,
    "start_time": "2023-09-23T05:41:51.349Z"
   },
   {
    "duration": 13,
    "start_time": "2023-09-23T05:41:51.370Z"
   },
   {
    "duration": 41,
    "start_time": "2023-09-23T05:41:51.408Z"
   },
   {
    "duration": 2058882,
    "start_time": "2023-09-23T05:41:51.451Z"
   },
   {
    "duration": 80419,
    "start_time": "2023-09-23T06:16:10.335Z"
   },
   {
    "duration": 5,
    "start_time": "2023-09-23T06:17:30.757Z"
   },
   {
    "duration": 968444,
    "start_time": "2023-09-23T06:17:30.764Z"
   },
   {
    "duration": 54717,
    "start_time": "2023-09-23T06:33:39.210Z"
   },
   {
    "duration": 8,
    "start_time": "2023-09-23T06:34:34.011Z"
   },
   {
    "duration": 1560618,
    "start_time": "2023-09-23T06:34:34.029Z"
   },
   {
    "duration": 62,
    "start_time": "2023-09-23T07:15:46.725Z"
   },
   {
    "duration": 3,
    "start_time": "2023-09-23T07:15:46.789Z"
   },
   {
    "duration": 32699,
    "start_time": "2023-09-23T07:15:46.795Z"
   },
   {
    "duration": 3458,
    "start_time": "2023-09-23T07:16:19.497Z"
   },
   {
    "duration": 18,
    "start_time": "2023-09-23T07:16:22.957Z"
   },
   {
    "duration": 5,
    "start_time": "2023-09-23T07:16:22.979Z"
   },
   {
    "duration": 1260,
    "start_time": "2023-09-23T07:16:22.987Z"
   },
   {
    "duration": 21,
    "start_time": "2023-09-23T07:16:24.249Z"
   },
   {
    "duration": 38,
    "start_time": "2023-09-23T07:16:24.272Z"
   },
   {
    "duration": 51,
    "start_time": "2023-09-23T07:16:24.314Z"
   },
   {
    "duration": 588,
    "start_time": "2023-09-23T07:16:24.367Z"
   },
   {
    "duration": 3,
    "start_time": "2023-09-23T07:16:24.958Z"
   },
   {
    "duration": 25,
    "start_time": "2023-09-23T07:16:24.963Z"
   },
   {
    "duration": 6126,
    "start_time": "2023-09-23T07:16:24.991Z"
   },
   {
    "duration": 4,
    "start_time": "2023-09-23T07:16:31.119Z"
   },
   {
    "duration": 1303046,
    "start_time": "2023-09-23T07:16:31.125Z"
   },
   {
    "duration": 8589,
    "start_time": "2023-09-23T07:38:14.173Z"
   },
   {
    "duration": 79,
    "start_time": "2023-09-23T07:38:22.764Z"
   },
   {
    "duration": 18,
    "start_time": "2023-09-23T07:38:22.845Z"
   },
   {
    "duration": 55,
    "start_time": "2023-09-23T07:38:22.865Z"
   },
   {
    "duration": 28,
    "start_time": "2023-09-23T07:38:22.923Z"
   },
   {
    "duration": 2327161,
    "start_time": "2023-09-23T07:38:22.953Z"
   },
   {
    "duration": 87007,
    "start_time": "2023-09-23T08:17:10.122Z"
   },
   {
    "duration": 4,
    "start_time": "2023-09-23T08:18:37.134Z"
   },
   {
    "duration": 1024708,
    "start_time": "2023-09-23T08:18:37.139Z"
   },
   {
    "duration": 58122,
    "start_time": "2023-09-23T08:35:41.901Z"
   },
   {
    "duration": 5,
    "start_time": "2023-09-23T08:36:40.025Z"
   },
   {
    "duration": 209776,
    "start_time": "2023-09-23T08:36:40.034Z"
   },
   {
    "duration": 3,
    "start_time": "2023-09-23T08:40:09.817Z"
   },
   {
    "duration": 27,
    "start_time": "2023-09-23T08:40:09.823Z"
   },
   {
    "duration": 0,
    "start_time": "2023-09-23T08:40:09.852Z"
   },
   {
    "duration": 508157,
    "start_time": "2023-09-23T08:49:13.876Z"
   },
   {
    "duration": 116,
    "start_time": "2023-09-23T09:19:24.175Z"
   },
   {
    "duration": 3,
    "start_time": "2023-09-23T09:19:24.293Z"
   },
   {
    "duration": 30130,
    "start_time": "2023-09-23T09:19:24.300Z"
   },
   {
    "duration": 2911,
    "start_time": "2023-09-23T09:19:54.433Z"
   },
   {
    "duration": 17,
    "start_time": "2023-09-23T09:19:57.347Z"
   },
   {
    "duration": 11,
    "start_time": "2023-09-23T09:19:57.367Z"
   },
   {
    "duration": 1273,
    "start_time": "2023-09-23T09:19:57.380Z"
   },
   {
    "duration": 18,
    "start_time": "2023-09-23T09:19:58.656Z"
   },
   {
    "duration": 53,
    "start_time": "2023-09-23T09:19:58.675Z"
   },
   {
    "duration": 32,
    "start_time": "2023-09-23T09:19:58.732Z"
   },
   {
    "duration": 504,
    "start_time": "2023-09-23T09:19:58.766Z"
   },
   {
    "duration": 3,
    "start_time": "2023-09-23T09:19:59.272Z"
   },
   {
    "duration": 84,
    "start_time": "2023-09-23T09:19:59.278Z"
   },
   {
    "duration": 5304,
    "start_time": "2023-09-23T09:19:59.364Z"
   },
   {
    "duration": 4,
    "start_time": "2023-09-23T09:20:04.671Z"
   },
   {
    "duration": 1243212,
    "start_time": "2023-09-23T09:20:04.677Z"
   },
   {
    "duration": 8709,
    "start_time": "2023-09-23T09:40:47.891Z"
   },
   {
    "duration": 100,
    "start_time": "2023-09-23T09:40:56.608Z"
   },
   {
    "duration": 24,
    "start_time": "2023-09-23T09:40:56.710Z"
   },
   {
    "duration": 14,
    "start_time": "2023-09-23T09:40:56.736Z"
   },
   {
    "duration": 11,
    "start_time": "2023-09-23T09:40:56.752Z"
   },
   {
    "duration": 2063497,
    "start_time": "2023-09-23T09:40:56.765Z"
   },
   {
    "duration": 74643,
    "start_time": "2023-09-23T10:15:20.264Z"
   },
   {
    "duration": 4,
    "start_time": "2023-09-23T10:16:34.909Z"
   },
   {
    "duration": 1026789,
    "start_time": "2023-09-23T10:16:34.914Z"
   },
   {
    "duration": 55500,
    "start_time": "2023-09-23T10:33:41.706Z"
   },
   {
    "duration": 4,
    "start_time": "2023-09-23T10:34:37.208Z"
   },
   {
    "duration": 167,
    "start_time": "2023-09-23T10:34:37.213Z"
   },
   {
    "duration": 535029,
    "start_time": "2023-09-23T10:34:37.382Z"
   },
   {
    "duration": 414,
    "start_time": "2023-09-23T10:43:32.413Z"
   },
   {
    "duration": 0,
    "start_time": "2023-09-23T10:43:32.828Z"
   },
   {
    "duration": 5,
    "start_time": "2023-09-23T10:45:13.322Z"
   },
   {
    "duration": 2066,
    "start_time": "2023-09-23T10:45:22.530Z"
   },
   {
    "duration": 30,
    "start_time": "2023-09-23T11:22:50.255Z"
   },
   {
    "duration": 6174,
    "start_time": "2023-09-23T11:32:16.512Z"
   },
   {
    "duration": 5932,
    "start_time": "2023-09-23T11:33:34.369Z"
   },
   {
    "duration": 4,
    "start_time": "2023-09-23T11:35:04.263Z"
   },
   {
    "duration": 189,
    "start_time": "2023-09-23T11:39:52.365Z"
   },
   {
    "duration": 21,
    "start_time": "2023-09-23T11:48:38.827Z"
   },
   {
    "duration": 21,
    "start_time": "2023-09-23T11:49:23.845Z"
   },
   {
    "duration": 6161,
    "start_time": "2023-09-23T11:52:28.459Z"
   },
   {
    "duration": 22,
    "start_time": "2023-09-23T11:52:46.703Z"
   },
   {
    "duration": 5,
    "start_time": "2023-09-23T11:57:58.596Z"
   },
   {
    "duration": 5364,
    "start_time": "2023-09-23T12:01:27.407Z"
   },
   {
    "duration": 120,
    "start_time": "2023-09-23T12:06:27.497Z"
   },
   {
    "duration": 4,
    "start_time": "2023-09-23T12:07:28.738Z"
   },
   {
    "duration": 137,
    "start_time": "2023-09-23T12:12:03.221Z"
   },
   {
    "duration": 9,
    "start_time": "2023-09-23T12:13:00.077Z"
   },
   {
    "duration": 5,
    "start_time": "2023-09-23T12:15:54.175Z"
   },
   {
    "duration": 6,
    "start_time": "2023-09-23T12:16:50.767Z"
   },
   {
    "duration": 6,
    "start_time": "2023-09-23T12:17:46.763Z"
   },
   {
    "duration": 6,
    "start_time": "2023-09-23T12:22:58.326Z"
   },
   {
    "duration": 4,
    "start_time": "2023-09-23T12:23:23.200Z"
   },
   {
    "duration": 4,
    "start_time": "2023-09-23T12:23:39.263Z"
   },
   {
    "duration": 98,
    "start_time": "2023-09-23T12:24:28.506Z"
   },
   {
    "duration": 68,
    "start_time": "2023-09-23T13:00:42.096Z"
   },
   {
    "duration": 2,
    "start_time": "2023-09-23T13:00:42.167Z"
   },
   {
    "duration": 30220,
    "start_time": "2023-09-23T13:00:42.171Z"
   },
   {
    "duration": 2724,
    "start_time": "2023-09-23T13:01:12.395Z"
   },
   {
    "duration": 15,
    "start_time": "2023-09-23T13:01:15.121Z"
   },
   {
    "duration": 61,
    "start_time": "2023-09-23T13:01:15.139Z"
   },
   {
    "duration": 1154,
    "start_time": "2023-09-23T13:01:15.202Z"
   },
   {
    "duration": 18,
    "start_time": "2023-09-23T13:01:16.358Z"
   },
   {
    "duration": 42,
    "start_time": "2023-09-23T13:01:16.378Z"
   },
   {
    "duration": 56,
    "start_time": "2023-09-23T13:01:16.424Z"
   },
   {
    "duration": 485,
    "start_time": "2023-09-23T13:01:16.482Z"
   },
   {
    "duration": 3,
    "start_time": "2023-09-23T13:01:16.969Z"
   },
   {
    "duration": 51,
    "start_time": "2023-09-23T13:01:16.974Z"
   },
   {
    "duration": 4921,
    "start_time": "2023-09-23T13:01:17.027Z"
   },
   {
    "duration": 4,
    "start_time": "2023-09-23T13:01:21.949Z"
   },
   {
    "duration": 1185900,
    "start_time": "2023-09-23T13:01:21.955Z"
   },
   {
    "duration": 8514,
    "start_time": "2023-09-23T13:21:07.857Z"
   },
   {
    "duration": 91,
    "start_time": "2023-09-23T13:21:16.373Z"
   },
   {
    "duration": 425,
    "start_time": "2023-09-23T13:21:16.466Z"
   },
   {
    "duration": 0,
    "start_time": "2023-09-23T13:21:16.893Z"
   },
   {
    "duration": 0,
    "start_time": "2023-09-23T13:21:16.895Z"
   },
   {
    "duration": 0,
    "start_time": "2023-09-23T13:21:16.903Z"
   },
   {
    "duration": 0,
    "start_time": "2023-09-23T13:21:16.904Z"
   },
   {
    "duration": 0,
    "start_time": "2023-09-23T13:21:16.905Z"
   },
   {
    "duration": 0,
    "start_time": "2023-09-23T13:21:16.905Z"
   },
   {
    "duration": 0,
    "start_time": "2023-09-23T13:21:16.906Z"
   },
   {
    "duration": 0,
    "start_time": "2023-09-23T13:21:16.907Z"
   },
   {
    "duration": 0,
    "start_time": "2023-09-23T13:21:16.908Z"
   },
   {
    "duration": 0,
    "start_time": "2023-09-23T13:21:16.908Z"
   },
   {
    "duration": 0,
    "start_time": "2023-09-23T13:21:16.910Z"
   },
   {
    "duration": 0,
    "start_time": "2023-09-23T13:21:16.911Z"
   },
   {
    "duration": 0,
    "start_time": "2023-09-23T13:21:16.912Z"
   },
   {
    "duration": 74,
    "start_time": "2023-09-23T13:24:09.693Z"
   },
   {
    "duration": 4,
    "start_time": "2023-09-23T13:24:23.993Z"
   },
   {
    "duration": 1944355,
    "start_time": "2023-09-23T13:24:28.610Z"
   },
   {
    "duration": 73267,
    "start_time": "2023-09-23T13:57:08.402Z"
   },
   {
    "duration": 4,
    "start_time": "2023-09-23T13:58:36.428Z"
   },
   {
    "duration": 1000922,
    "start_time": "2023-09-23T13:58:43.697Z"
   },
   {
    "duration": 46584,
    "start_time": "2023-09-23T14:16:27.305Z"
   },
   {
    "duration": 4,
    "start_time": "2023-09-23T14:17:47.455Z"
   },
   {
    "duration": 75,
    "start_time": "2023-09-23T14:19:45.762Z"
   },
   {
    "duration": 3,
    "start_time": "2023-09-23T14:19:45.838Z"
   },
   {
    "duration": 27129,
    "start_time": "2023-09-23T14:19:45.842Z"
   },
   {
    "duration": 2552,
    "start_time": "2023-09-23T14:20:12.973Z"
   },
   {
    "duration": 14,
    "start_time": "2023-09-23T14:20:15.527Z"
   },
   {
    "duration": 13,
    "start_time": "2023-09-23T14:20:15.543Z"
   },
   {
    "duration": 1150,
    "start_time": "2023-09-23T14:20:15.558Z"
   },
   {
    "duration": 16,
    "start_time": "2023-09-23T14:20:16.710Z"
   },
   {
    "duration": 19,
    "start_time": "2023-09-23T14:20:16.729Z"
   },
   {
    "duration": 51,
    "start_time": "2023-09-23T14:20:16.752Z"
   },
   {
    "duration": 441,
    "start_time": "2023-09-23T14:20:16.805Z"
   },
   {
    "duration": 3,
    "start_time": "2023-09-23T14:20:17.248Z"
   },
   {
    "duration": 50,
    "start_time": "2023-09-23T14:20:17.252Z"
   },
   {
    "duration": 4738,
    "start_time": "2023-09-23T14:20:17.304Z"
   },
   {
    "duration": 3,
    "start_time": "2023-09-23T14:20:22.044Z"
   },
   {
    "duration": 1107178,
    "start_time": "2023-09-23T14:20:22.049Z"
   },
   {
    "duration": 7404,
    "start_time": "2023-09-23T14:38:49.229Z"
   },
   {
    "duration": 79,
    "start_time": "2023-09-23T14:38:56.635Z"
   },
   {
    "duration": 71,
    "start_time": "2023-09-23T14:38:56.716Z"
   },
   {
    "duration": 4,
    "start_time": "2023-09-23T14:38:56.802Z"
   },
   {
    "duration": 59,
    "start_time": "2023-09-23T14:38:56.808Z"
   },
   {
    "duration": 1920961,
    "start_time": "2023-09-23T14:38:56.869Z"
   },
   {
    "duration": 73488,
    "start_time": "2023-09-23T15:10:57.832Z"
   },
   {
    "duration": 5,
    "start_time": "2023-09-23T15:12:11.321Z"
   },
   {
    "duration": 996848,
    "start_time": "2023-09-23T15:12:11.328Z"
   },
   {
    "duration": 46914,
    "start_time": "2023-09-23T15:28:48.178Z"
   },
   {
    "duration": 4,
    "start_time": "2023-09-23T15:29:35.102Z"
   },
   {
    "duration": 40,
    "start_time": "2023-09-23T15:29:35.110Z"
   },
   {
    "duration": 49,
    "start_time": "2023-09-23T15:36:24.729Z"
   },
   {
    "duration": 2,
    "start_time": "2023-09-23T15:36:24.781Z"
   },
   {
    "duration": 27910,
    "start_time": "2023-09-23T15:36:24.784Z"
   },
   {
    "duration": 2631,
    "start_time": "2023-09-23T15:36:52.696Z"
   },
   {
    "duration": 15,
    "start_time": "2023-09-23T15:36:55.328Z"
   },
   {
    "duration": 15,
    "start_time": "2023-09-23T15:36:55.345Z"
   },
   {
    "duration": 1160,
    "start_time": "2023-09-23T15:36:55.363Z"
   },
   {
    "duration": 20,
    "start_time": "2023-09-23T15:36:56.525Z"
   },
   {
    "duration": 23,
    "start_time": "2023-09-23T15:36:56.547Z"
   },
   {
    "duration": 47,
    "start_time": "2023-09-23T15:36:56.573Z"
   },
   {
    "duration": 443,
    "start_time": "2023-09-23T15:36:56.622Z"
   },
   {
    "duration": 3,
    "start_time": "2023-09-23T15:36:57.067Z"
   },
   {
    "duration": 7,
    "start_time": "2023-09-23T15:36:57.071Z"
   },
   {
    "duration": 4723,
    "start_time": "2023-09-23T15:36:57.079Z"
   },
   {
    "duration": 3,
    "start_time": "2023-09-23T15:37:01.804Z"
   },
   {
    "duration": 1129553,
    "start_time": "2023-09-23T15:37:01.809Z"
   },
   {
    "duration": 7502,
    "start_time": "2023-09-23T15:55:51.364Z"
   },
   {
    "duration": 80,
    "start_time": "2023-09-23T15:55:58.868Z"
   },
   {
    "duration": 12,
    "start_time": "2023-09-23T15:55:58.950Z"
   },
   {
    "duration": 24,
    "start_time": "2023-09-23T15:55:58.964Z"
   },
   {
    "duration": 8,
    "start_time": "2023-09-23T15:55:58.989Z"
   },
   {
    "duration": 57,
    "start_time": "2023-09-23T15:59:43.900Z"
   },
   {
    "duration": 3,
    "start_time": "2023-09-23T15:59:43.959Z"
   },
   {
    "duration": 24022,
    "start_time": "2023-09-23T15:59:43.964Z"
   },
   {
    "duration": 1057,
    "start_time": "2023-09-23T16:00:07.989Z"
   },
   {
    "duration": 13,
    "start_time": "2023-09-23T16:00:09.048Z"
   },
   {
    "duration": 69,
    "start_time": "2023-09-23T16:00:09.063Z"
   },
   {
    "duration": 1185,
    "start_time": "2023-09-23T16:00:09.134Z"
   },
   {
    "duration": 16,
    "start_time": "2023-09-23T16:00:10.321Z"
   },
   {
    "duration": 36,
    "start_time": "2023-09-23T16:00:10.339Z"
   },
   {
    "duration": 64,
    "start_time": "2023-09-23T16:00:10.378Z"
   },
   {
    "duration": 468,
    "start_time": "2023-09-23T16:00:10.443Z"
   },
   {
    "duration": 3,
    "start_time": "2023-09-23T16:00:10.913Z"
   },
   {
    "duration": 27,
    "start_time": "2023-09-23T16:00:10.918Z"
   },
   {
    "duration": 4692,
    "start_time": "2023-09-23T16:00:10.947Z"
   },
   {
    "duration": 3,
    "start_time": "2023-09-23T16:00:15.641Z"
   },
   {
    "duration": 1116540,
    "start_time": "2023-09-23T16:00:15.646Z"
   },
   {
    "duration": 7333,
    "start_time": "2023-09-23T16:18:52.187Z"
   },
   {
    "duration": 81,
    "start_time": "2023-09-23T16:18:59.522Z"
   },
   {
    "duration": 19,
    "start_time": "2023-09-23T16:18:59.605Z"
   },
   {
    "duration": 21,
    "start_time": "2023-09-23T16:18:59.627Z"
   },
   {
    "duration": 38,
    "start_time": "2023-09-23T16:18:59.650Z"
   },
   {
    "duration": 1867967,
    "start_time": "2023-09-23T16:18:59.690Z"
   },
   {
    "duration": 72078,
    "start_time": "2023-09-23T16:50:07.659Z"
   },
   {
    "duration": 4,
    "start_time": "2023-09-23T16:51:19.738Z"
   },
   {
    "duration": 984358,
    "start_time": "2023-09-23T16:51:19.744Z"
   },
   {
    "duration": 50710,
    "start_time": "2023-09-23T17:07:44.105Z"
   },
   {
    "duration": 4,
    "start_time": "2023-09-23T17:08:34.817Z"
   },
   {
    "duration": 77,
    "start_time": "2023-09-23T17:08:34.825Z"
   },
   {
    "duration": 472352,
    "start_time": "2023-09-23T17:08:34.904Z"
   },
   {
    "duration": 4,
    "start_time": "2023-09-23T17:16:27.258Z"
   },
   {
    "duration": 1926,
    "start_time": "2023-09-23T17:16:27.263Z"
   },
   {
    "duration": 50616,
    "start_time": "2023-09-23T17:16:29.192Z"
   },
   {
    "duration": 277,
    "start_time": "2023-09-23T17:17:19.810Z"
   },
   {
    "duration": 14,
    "start_time": "2023-09-23T17:24:52.117Z"
   },
   {
    "duration": 256,
    "start_time": "2023-09-23T20:31:30.633Z"
   },
   {
    "duration": 105,
    "start_time": "2023-09-23T20:44:23.102Z"
   },
   {
    "duration": 51191,
    "start_time": "2023-09-23T20:44:26.753Z"
   },
   {
    "duration": 6854,
    "start_time": "2023-09-23T20:45:27.914Z"
   },
   {
    "duration": 3482,
    "start_time": "2023-09-23T20:45:48.605Z"
   },
   {
    "duration": 15,
    "start_time": "2023-09-23T20:46:09.519Z"
   },
   {
    "duration": 6,
    "start_time": "2023-09-23T20:46:13.002Z"
   },
   {
    "duration": 1206,
    "start_time": "2023-09-23T20:46:17.042Z"
   },
   {
    "duration": 15,
    "start_time": "2023-09-23T20:46:24.977Z"
   },
   {
    "duration": 27,
    "start_time": "2023-09-23T20:46:27.717Z"
   },
   {
    "duration": 31,
    "start_time": "2023-09-23T20:46:37.205Z"
   },
   {
    "duration": 530,
    "start_time": "2023-09-23T20:47:02.261Z"
   },
   {
    "duration": 7,
    "start_time": "2023-09-23T20:47:28.043Z"
   },
   {
    "duration": 5681,
    "start_time": "2023-09-23T20:47:39.675Z"
   },
   {
    "duration": 10,
    "start_time": "2023-09-23T20:47:50.152Z"
   },
   {
    "duration": 1238489,
    "start_time": "2023-09-23T20:48:03.196Z"
   },
   {
    "duration": 477,
    "start_time": "2023-09-23T21:09:30.120Z"
   },
   {
    "duration": 55,
    "start_time": "2023-09-23T21:09:54.158Z"
   },
   {
    "duration": 6,
    "start_time": "2023-09-23T21:11:07.873Z"
   },
   {
    "duration": 27,
    "start_time": "2023-09-23T21:14:15.071Z"
   },
   {
    "duration": 132,
    "start_time": "2023-09-23T21:15:00.377Z"
   },
   {
    "duration": 6,
    "start_time": "2023-09-23T21:15:07.693Z"
   },
   {
    "duration": 106,
    "start_time": "2023-09-23T21:17:48.850Z"
   },
   {
    "duration": 7,
    "start_time": "2023-09-23T21:17:52.015Z"
   },
   {
    "duration": 41,
    "start_time": "2023-09-23T21:18:04.919Z"
   },
   {
    "duration": 6,
    "start_time": "2023-09-23T21:18:10.781Z"
   },
   {
    "duration": 202,
    "start_time": "2023-09-23T21:18:16.214Z"
   },
   {
    "duration": 1652198,
    "start_time": "2023-09-23T21:20:27.867Z"
   },
   {
    "duration": 11077,
    "start_time": "2023-09-23T21:48:12.160Z"
   },
   {
    "duration": 5,
    "start_time": "2023-09-23T21:48:30.181Z"
   },
   {
    "duration": 1116894,
    "start_time": "2023-09-23T21:48:33.885Z"
   },
   {
    "duration": 38955,
    "start_time": "2023-09-23T22:07:31.564Z"
   },
   {
    "duration": 11,
    "start_time": "2023-09-23T22:08:29.049Z"
   },
   {
    "duration": 44,
    "start_time": "2023-09-23T22:08:45.977Z"
   },
   {
    "duration": 75,
    "start_time": "2023-09-23T22:10:12.681Z"
   },
   {
    "duration": 50,
    "start_time": "2023-09-23T22:11:05.714Z"
   },
   {
    "duration": 83,
    "start_time": "2023-09-23T22:11:22.565Z"
   },
   {
    "duration": 18142,
    "start_time": "2023-09-23T22:16:03.181Z"
   },
   {
    "duration": 16005,
    "start_time": "2023-09-23T22:17:14.380Z"
   },
   {
    "duration": 15353,
    "start_time": "2023-09-23T22:20:19.854Z"
   },
   {
    "duration": 18211,
    "start_time": "2023-09-23T22:21:47.505Z"
   },
   {
    "duration": 8490,
    "start_time": "2023-09-23T22:26:46.850Z"
   },
   {
    "duration": 9575,
    "start_time": "2023-09-23T22:27:39.278Z"
   },
   {
    "duration": 9148,
    "start_time": "2023-09-23T22:30:21.952Z"
   },
   {
    "duration": 9075,
    "start_time": "2023-09-23T22:33:08.861Z"
   },
   {
    "duration": 9185,
    "start_time": "2023-09-23T22:39:27.757Z"
   },
   {
    "duration": 531734,
    "start_time": "2023-09-23T22:40:47.678Z"
   },
   {
    "duration": 504661,
    "start_time": "2023-09-23T22:52:56.040Z"
   },
   {
    "duration": 8,
    "start_time": "2023-09-23T23:14:45.658Z"
   },
   {
    "duration": 30,
    "start_time": "2023-09-23T23:14:55.453Z"
   },
   {
    "duration": 1009828,
    "start_time": "2023-09-23T23:17:32.882Z"
   },
   {
    "duration": 204,
    "start_time": "2023-09-23T23:34:31.593Z"
   },
   {
    "duration": 169,
    "start_time": "2023-09-23T23:35:52.053Z"
   },
   {
    "duration": 173,
    "start_time": "2023-09-23T23:36:22.247Z"
   },
   {
    "duration": 466070,
    "start_time": "2023-09-23T23:38:01.075Z"
   },
   {
    "duration": 197,
    "start_time": "2023-09-23T23:49:22.951Z"
   },
   {
    "duration": 7207,
    "start_time": "2023-09-23T23:49:46.370Z"
   },
   {
    "duration": 29,
    "start_time": "2023-09-23T23:52:13.093Z"
   },
   {
    "duration": 32,
    "start_time": "2023-09-24T00:00:13.471Z"
   },
   {
    "duration": 26,
    "start_time": "2023-09-24T00:00:42.279Z"
   },
   {
    "duration": 6304,
    "start_time": "2023-09-24T00:02:52.180Z"
   },
   {
    "duration": 9,
    "start_time": "2023-09-24T00:05:19.721Z"
   },
   {
    "duration": 3626,
    "start_time": "2023-09-24T00:05:29.120Z"
   },
   {
    "duration": 6645,
    "start_time": "2023-09-24T00:11:09.356Z"
   },
   {
    "duration": 6929,
    "start_time": "2023-09-24T00:22:23.863Z"
   },
   {
    "duration": 176,
    "start_time": "2023-09-24T00:26:16.899Z"
   },
   {
    "duration": 20,
    "start_time": "2023-09-24T00:28:49.274Z"
   },
   {
    "duration": 9,
    "start_time": "2023-09-24T00:29:22.207Z"
   },
   {
    "duration": 87,
    "start_time": "2023-09-24T00:30:08.986Z"
   },
   {
    "duration": 5,
    "start_time": "2023-09-24T00:30:09.078Z"
   },
   {
    "duration": 23330,
    "start_time": "2023-09-24T00:30:09.085Z"
   },
   {
    "duration": 7343,
    "start_time": "2023-09-24T00:30:32.418Z"
   },
   {
    "duration": 1133,
    "start_time": "2023-09-24T00:30:39.769Z"
   },
   {
    "duration": 12,
    "start_time": "2023-09-24T00:30:40.903Z"
   },
   {
    "duration": 81,
    "start_time": "2023-09-24T00:30:40.916Z"
   },
   {
    "duration": 1200,
    "start_time": "2023-09-24T00:30:40.999Z"
   },
   {
    "duration": 23,
    "start_time": "2023-09-24T00:30:42.202Z"
   },
   {
    "duration": 24,
    "start_time": "2023-09-24T00:30:42.227Z"
   },
   {
    "duration": 31,
    "start_time": "2023-09-24T00:30:42.253Z"
   },
   {
    "duration": 491,
    "start_time": "2023-09-24T00:30:42.286Z"
   },
   {
    "duration": 2,
    "start_time": "2023-09-24T00:30:42.779Z"
   },
   {
    "duration": 8,
    "start_time": "2023-09-24T00:30:42.782Z"
   },
   {
    "duration": 5530,
    "start_time": "2023-09-24T00:30:42.791Z"
   },
   {
    "duration": 7,
    "start_time": "2023-09-24T00:30:48.324Z"
   },
   {
    "duration": 62,
    "start_time": "2023-09-24T00:48:16.854Z"
   },
   {
    "duration": 2,
    "start_time": "2023-09-24T00:48:16.918Z"
   },
   {
    "duration": 21264,
    "start_time": "2023-09-24T00:48:16.921Z"
   },
   {
    "duration": 6545,
    "start_time": "2023-09-24T00:48:38.187Z"
   },
   {
    "duration": 1085,
    "start_time": "2023-09-24T00:48:44.737Z"
   },
   {
    "duration": 33,
    "start_time": "2023-09-24T00:48:45.828Z"
   },
   {
    "duration": 17,
    "start_time": "2023-09-24T00:48:45.864Z"
   },
   {
    "duration": 1230,
    "start_time": "2023-09-24T00:48:45.883Z"
   },
   {
    "duration": 41,
    "start_time": "2023-09-24T00:48:47.115Z"
   },
   {
    "duration": 23,
    "start_time": "2023-09-24T00:48:47.159Z"
   },
   {
    "duration": 21,
    "start_time": "2023-09-24T00:48:47.185Z"
   },
   {
    "duration": 471,
    "start_time": "2023-09-24T00:48:47.208Z"
   },
   {
    "duration": 2,
    "start_time": "2023-09-24T00:48:47.681Z"
   },
   {
    "duration": 7,
    "start_time": "2023-09-24T00:48:47.685Z"
   },
   {
    "duration": 5576,
    "start_time": "2023-09-24T00:48:47.694Z"
   },
   {
    "duration": 4,
    "start_time": "2023-09-24T00:48:53.273Z"
   },
   {
    "duration": 1158304,
    "start_time": "2023-09-24T00:48:53.279Z"
   },
   {
    "duration": 3,
    "start_time": "2023-09-24T01:08:11.584Z"
   },
   {
    "duration": 97,
    "start_time": "2023-09-24T01:08:11.589Z"
   },
   {
    "duration": 16,
    "start_time": "2023-09-24T01:08:11.688Z"
   },
   {
    "duration": 6754,
    "start_time": "2023-09-24T01:08:11.706Z"
   },
   {
    "duration": 0,
    "start_time": "2023-09-24T01:08:18.462Z"
   },
   {
    "duration": 0,
    "start_time": "2023-09-24T01:08:18.464Z"
   },
   {
    "duration": 0,
    "start_time": "2023-09-24T01:08:18.465Z"
   },
   {
    "duration": 0,
    "start_time": "2023-09-24T01:08:18.466Z"
   },
   {
    "duration": 0,
    "start_time": "2023-09-24T01:08:18.467Z"
   },
   {
    "duration": 0,
    "start_time": "2023-09-24T01:08:18.468Z"
   },
   {
    "duration": 0,
    "start_time": "2023-09-24T01:08:18.469Z"
   },
   {
    "duration": 0,
    "start_time": "2023-09-24T01:08:18.470Z"
   },
   {
    "duration": 0,
    "start_time": "2023-09-24T01:08:18.472Z"
   },
   {
    "duration": 0,
    "start_time": "2023-09-24T01:08:18.473Z"
   },
   {
    "duration": 0,
    "start_time": "2023-09-24T01:08:18.474Z"
   },
   {
    "duration": 0,
    "start_time": "2023-09-24T01:08:18.475Z"
   },
   {
    "duration": 0,
    "start_time": "2023-09-24T01:08:18.476Z"
   },
   {
    "duration": 1,
    "start_time": "2023-09-24T01:08:18.477Z"
   },
   {
    "duration": 0,
    "start_time": "2023-09-24T01:08:18.478Z"
   },
   {
    "duration": 51,
    "start_time": "2023-09-24T02:18:35.070Z"
   },
   {
    "duration": 5,
    "start_time": "2023-09-24T02:18:35.123Z"
   },
   {
    "duration": 18480,
    "start_time": "2023-09-24T02:18:35.129Z"
   },
   {
    "duration": 6136,
    "start_time": "2023-09-24T02:18:53.613Z"
   },
   {
    "duration": 994,
    "start_time": "2023-09-24T02:18:59.751Z"
   },
   {
    "duration": 12,
    "start_time": "2023-09-24T02:19:00.747Z"
   },
   {
    "duration": 51,
    "start_time": "2023-09-24T02:19:00.760Z"
   },
   {
    "duration": 1189,
    "start_time": "2023-09-24T02:19:00.812Z"
   },
   {
    "duration": 33,
    "start_time": "2023-09-24T02:19:02.003Z"
   },
   {
    "duration": 19,
    "start_time": "2023-09-24T02:19:02.040Z"
   },
   {
    "duration": 21,
    "start_time": "2023-09-24T02:19:02.061Z"
   },
   {
    "duration": 465,
    "start_time": "2023-09-24T02:19:02.084Z"
   },
   {
    "duration": 2,
    "start_time": "2023-09-24T02:19:02.551Z"
   },
   {
    "duration": 5,
    "start_time": "2023-09-24T02:19:02.555Z"
   },
   {
    "duration": 4543,
    "start_time": "2023-09-24T02:19:02.561Z"
   },
   {
    "duration": 3,
    "start_time": "2023-09-24T02:19:07.106Z"
   },
   {
    "duration": 1040243,
    "start_time": "2023-09-24T02:19:07.111Z"
   },
   {
    "duration": 2,
    "start_time": "2023-09-24T02:36:27.356Z"
   },
   {
    "duration": 72,
    "start_time": "2023-09-24T02:36:27.359Z"
   },
   {
    "duration": 20,
    "start_time": "2023-09-24T02:36:27.433Z"
   },
   {
    "duration": 5852,
    "start_time": "2023-09-24T02:36:27.455Z"
   },
   {
    "duration": 362,
    "start_time": "2023-09-24T02:36:33.309Z"
   },
   {
    "duration": 0,
    "start_time": "2023-09-24T02:36:33.673Z"
   },
   {
    "duration": 0,
    "start_time": "2023-09-24T02:36:33.674Z"
   },
   {
    "duration": 0,
    "start_time": "2023-09-24T02:36:33.675Z"
   },
   {
    "duration": 0,
    "start_time": "2023-09-24T02:36:33.676Z"
   },
   {
    "duration": 0,
    "start_time": "2023-09-24T02:36:33.677Z"
   },
   {
    "duration": 0,
    "start_time": "2023-09-24T02:36:33.678Z"
   },
   {
    "duration": 0,
    "start_time": "2023-09-24T02:36:33.679Z"
   },
   {
    "duration": 0,
    "start_time": "2023-09-24T02:36:33.680Z"
   },
   {
    "duration": 0,
    "start_time": "2023-09-24T02:36:33.681Z"
   },
   {
    "duration": 0,
    "start_time": "2023-09-24T02:36:33.682Z"
   },
   {
    "duration": 0,
    "start_time": "2023-09-24T02:36:33.683Z"
   },
   {
    "duration": 0,
    "start_time": "2023-09-24T02:36:33.684Z"
   },
   {
    "duration": 0,
    "start_time": "2023-09-24T02:36:33.685Z"
   },
   {
    "duration": 0,
    "start_time": "2023-09-24T02:36:33.686Z"
   },
   {
    "duration": 0,
    "start_time": "2023-09-24T02:36:33.687Z"
   },
   {
    "duration": 68,
    "start_time": "2023-09-24T03:22:50.180Z"
   },
   {
    "duration": 3,
    "start_time": "2023-09-24T03:22:50.250Z"
   },
   {
    "duration": 18898,
    "start_time": "2023-09-24T03:22:50.254Z"
   },
   {
    "duration": 5876,
    "start_time": "2023-09-24T03:23:09.154Z"
   },
   {
    "duration": 995,
    "start_time": "2023-09-24T03:23:15.037Z"
   },
   {
    "duration": 12,
    "start_time": "2023-09-24T03:23:16.043Z"
   },
   {
    "duration": 13,
    "start_time": "2023-09-24T03:23:16.057Z"
   },
   {
    "duration": 1073,
    "start_time": "2023-09-24T03:23:16.072Z"
   },
   {
    "duration": 14,
    "start_time": "2023-09-24T03:23:17.146Z"
   },
   {
    "duration": 37,
    "start_time": "2023-09-24T03:23:17.162Z"
   },
   {
    "duration": 20,
    "start_time": "2023-09-24T03:23:17.201Z"
   },
   {
    "duration": 422,
    "start_time": "2023-09-24T03:23:17.224Z"
   },
   {
    "duration": 3,
    "start_time": "2023-09-24T03:23:17.648Z"
   },
   {
    "duration": 85,
    "start_time": "2023-09-24T03:23:17.654Z"
   },
   {
    "duration": 4677,
    "start_time": "2023-09-24T03:23:17.742Z"
   },
   {
    "duration": 12,
    "start_time": "2023-09-24T03:23:22.423Z"
   },
   {
    "duration": 1031922,
    "start_time": "2023-09-24T03:23:22.436Z"
   },
   {
    "duration": 2,
    "start_time": "2023-09-24T03:40:34.360Z"
   },
   {
    "duration": 5994,
    "start_time": "2023-09-24T03:40:34.363Z"
   },
   {
    "duration": 1430,
    "start_time": "2023-09-24T03:40:40.359Z"
   },
   {
    "duration": 5,
    "start_time": "2023-09-24T03:40:41.791Z"
   },
   {
    "duration": 61,
    "start_time": "2023-09-24T03:40:41.798Z"
   },
   {
    "duration": 1116641,
    "start_time": "2023-09-24T03:40:41.861Z"
   },
   {
    "duration": 5180,
    "start_time": "2023-09-24T03:59:18.504Z"
   },
   {
    "duration": 3,
    "start_time": "2023-09-24T03:59:23.686Z"
   },
   {
    "duration": 907134,
    "start_time": "2023-09-24T03:59:23.691Z"
   },
   {
    "duration": 49302,
    "start_time": "2023-09-24T04:14:30.836Z"
   },
   {
    "duration": 4,
    "start_time": "2023-09-24T04:15:20.142Z"
   },
   {
    "duration": 25,
    "start_time": "2023-09-24T04:15:20.147Z"
   },
   {
    "duration": 531,
    "start_time": "2023-09-24T04:15:20.174Z"
   },
   {
    "duration": 27,
    "start_time": "2023-09-24T04:15:20.706Z"
   },
   {
    "duration": 0,
    "start_time": "2023-09-24T04:15:20.735Z"
   },
   {
    "duration": 0,
    "start_time": "2023-09-24T04:15:20.736Z"
   },
   {
    "duration": 0,
    "start_time": "2023-09-24T04:15:20.737Z"
   },
   {
    "duration": 0,
    "start_time": "2023-09-24T04:15:20.739Z"
   },
   {
    "duration": 52055,
    "start_time": "2023-09-24T04:17:47.269Z"
   },
   {
    "duration": 469398,
    "start_time": "2023-09-24T04:20:17.385Z"
   },
   {
    "duration": 4,
    "start_time": "2023-09-24T04:33:55.506Z"
   },
   {
    "duration": 1292,
    "start_time": "2023-09-24T04:33:59.699Z"
   },
   {
    "duration": 49359,
    "start_time": "2023-09-24T04:37:43.382Z"
   },
   {
    "duration": 251,
    "start_time": "2023-09-24T04:38:51.111Z"
   },
   {
    "duration": 15,
    "start_time": "2023-09-24T04:38:56.462Z"
   }
  ],
  "kernelspec": {
   "display_name": "Python 3 (ipykernel)",
   "language": "python",
   "name": "python3"
  },
  "language_info": {
   "codemirror_mode": {
    "name": "ipython",
    "version": 3
   },
   "file_extension": ".py",
   "mimetype": "text/x-python",
   "name": "python",
   "nbconvert_exporter": "python",
   "pygments_lexer": "ipython3",
   "version": "3.9.5"
  },
  "toc": {
   "base_numbering": 1,
   "nav_menu": {},
   "number_sections": true,
   "sideBar": true,
   "skip_h1_title": true,
   "title_cell": "Содержание",
   "title_sidebar": "Contents",
   "toc_cell": true,
   "toc_position": {
    "height": "calc(100% - 180px)",
    "left": "10px",
    "top": "150px",
    "width": "302.391px"
   },
   "toc_section_display": true,
   "toc_window_display": false
  }
 },
 "nbformat": 4,
 "nbformat_minor": 2
}
